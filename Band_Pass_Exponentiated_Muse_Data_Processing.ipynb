{
  "nbformat": 4,
  "nbformat_minor": 0,
  "metadata": {
    "colab": {
      "provenance": [],
      "authorship_tag": "ABX9TyN5YVNPv3nCfJNd+UckYl0l",
      "include_colab_link": true
    },
    "kernelspec": {
      "name": "python3",
      "display_name": "Python 3"
    },
    "language_info": {
      "name": "python"
    }
  },
  "cells": [
    {
      "cell_type": "markdown",
      "metadata": {
        "id": "view-in-github",
        "colab_type": "text"
      },
      "source": [
        "<a href=\"https://colab.research.google.com/github/khushee-g/EEG/blob/main/Band_Pass_Exponentiated_Muse_Data_Processing.ipynb\" target=\"_parent\"><img src=\"https://colab.research.google.com/assets/colab-badge.svg\" alt=\"Open In Colab\"/></a>"
      ]
    },
    {
      "cell_type": "code",
      "source": [
        "import numpy as np # Linear algebra\n",
        "import pandas as pd\n",
        "# ModelLing\n",
        "from sklearn.ensemble import RandomForestClassifier\n",
        "from sklearn.metrics import accuracy_score, confusion_matrix, precision_score, recall_score, ConfusionMatrixDisplay\n",
        "from sklearn.model_selection import RandomizedSearchCV, train_test_split\n",
        "from scipy.stats import randint\n",
        "\n",
        "# Tree Visualisation\n",
        "from sklearn.tree import export_graphviz\n",
        "from IPython.display import Image\n",
        "from sklearn.tree import DecisionTreeClassifier # Import Decision Tree Classifier\n",
        "from sklearn.model_selection import train_test_split # Import train_test_split function\n",
        "from sklearn import metrics"
      ],
      "metadata": {
        "id": "fjTzf4JaRN4z"
      },
      "execution_count": null,
      "outputs": []
    },
    {
      "cell_type": "code",
      "source": [
        "import numpy as np\n",
        "from scipy.signal import butter, filtfilt\n",
        "import pandas as pd\n",
        "\n",
        "def butter_bandpass(lowcut, highcut, fs, order=5):\n",
        "    nyq = 0.5 * fs\n",
        "    low = lowcut / nyq\n",
        "    high = highcut / nyq\n",
        "    b, a = butter(order, [low, high], btype='band')\n",
        "    return b, a\n",
        "\n",
        "def bandpass_filter(data, lowcut, highcut, fs, order=5):\n",
        "    b, a = butter_bandpass(lowcut, highcut, fs, order=order)\n",
        "    y = filtfilt(b, a, data)\n",
        "    return y\n",
        "\n",
        "fs = 256\n",
        "lowcut = 0.5\n",
        "highcut = 4\n",
        "\n",
        "data = pd.read_csv('/content/mindMonitor_2024-11-15--21-52-00.csv')\n",
        "\n",
        "num_nan_raw_AF8 = data['RAW_AF8'].isnull().sum()\n",
        "num_nan_raw_AF7 = data['RAW_AF7'].isnull().sum()\n",
        "num_nan_raw_TP9 = data['RAW_TP9'].isnull().sum()\n",
        "num_nan_raw_TP10 = data['RAW_TP10'].isnull().sum()\n",
        "\n",
        "if num_nan_raw_AF8 > 0:\n",
        "    data['RAW_AF8'] = data['RAW_AF8'].interpolate(method='linear')\n",
        "\n",
        "if num_nan_raw_AF7 > 0:\n",
        "    data['RAW_AF7'] = data['RAW_AF7'].interpolate(method='linear')\n",
        "\n",
        "if num_nan_raw_TP9 > 0:\n",
        "    data['RAW_TP9'] = data['RAW_TP9'].interpolate(method='linear')\n",
        "\n",
        "if num_nan_raw_TP10 > 0:\n",
        "    data['RAW_TP10'] = data['RAW_TP10'].interpolate(method='linear')\n",
        "\n",
        "\n",
        "filtered_delta_AF8 = bandpass_filter(data['RAW_AF8'].values, lowcut, highcut, fs, order=5)\n",
        "filtered_delta_AF7 = bandpass_filter(data['RAW_AF7'].values, lowcut, highcut, fs, order=5)\n",
        "filtered_delta_TP9 = bandpass_filter(data['RAW_TP9'].values, lowcut, highcut, fs, order=5)\n",
        "filtered_delta_TP10 = bandpass_filter(data['RAW_TP10'].values, lowcut, highcut, fs, order=5)\n",
        "\n",
        "print(filtered_delta_TP10)\n"
      ],
      "metadata": {
        "colab": {
          "base_uri": "https://localhost:8080/"
        },
        "id": "InkqqHLOqc1B",
        "outputId": "b7316a9d-1597-45f7-f92d-1b2386372d68"
      },
      "execution_count": null,
      "outputs": [
        {
          "output_type": "stream",
          "name": "stdout",
          "text": [
            "[ 2.00767501e+73  1.80000531e+73  1.59439966e+73 ... -1.46678676e+35\n",
            " -1.26937680e+35 -1.09212825e+35]\n"
          ]
        },
        {
          "output_type": "stream",
          "name": "stderr",
          "text": [
            "<ipython-input-3-6408df1d375e>:21: DtypeWarning: Columns (39) have mixed types. Specify dtype option on import or set low_memory=False.\n",
            "  data = pd.read_csv('/content/mindMonitor_2024-11-15--21-52-00.csv')\n"
          ]
        }
      ]
    },
    {
      "cell_type": "code",
      "source": [
        "fs = 256\n",
        "lowcut = 4\n",
        "highcut = 8\n",
        "\n",
        "num_nan_raw_AF7 = data['RAW_AF7'].isnull().sum()\n",
        "\n",
        "if num_nan_raw_TP10 > 0:\n",
        "    data['RAW_AF7'] = data['RAW_AF7'].interpolate(method='linear')\n",
        "\n",
        "\n",
        "filtered_theta_AF7 = bandpass_filter(data['RAW_AF7'].values, lowcut, highcut, fs, order=5)\n"
      ],
      "metadata": {
        "id": "TZP1RHdhvmLH"
      },
      "execution_count": null,
      "outputs": []
    },
    {
      "cell_type": "code",
      "execution_count": null,
      "metadata": {
        "colab": {
          "base_uri": "https://localhost:8080/"
        },
        "id": "vR96xsrbL5LV",
        "outputId": "41a846f7-27b6-484c-dada-edc99530fba2"
      },
      "outputs": [
        {
          "output_type": "stream",
          "name": "stdout",
          "text": [
            "50.97487654935996\n"
          ]
        },
        {
          "output_type": "stream",
          "name": "stderr",
          "text": [
            "<ipython-input-5-28087834e76c>:5: DtypeWarning: Columns (39) have mixed types. Specify dtype option on import or set low_memory=False.\n",
            "  data = pd.read_csv('/content/mindMonitor_2024-11-15--21-52-00.csv')\n"
          ]
        }
      ],
      "source": [
        "#Delta AF7-AF8 coherence - corresponds to COH.A.delta.a.FP1.b.FP2\n",
        "\n",
        "from scipy import signal\n",
        "\n",
        "data = pd.read_csv('/content/mindMonitor_2024-11-15--21-52-00.csv')\n",
        "\n",
        "channel_1 = filtered_delta_AF8\n",
        "channel_2 = filtered_delta_AF7\n",
        "\n",
        "#channel_1_mean = np.nanmean(channel_1)\n",
        "#channel_2_mean = np.nanmean(channel_2)\n",
        "\n",
        "#channel_1 = np.nan_to_num(channel_1, nan=np.nanmean(channel_1))\n",
        "#channel_2 = np.nan_to_num(channel_2, nan=np.nanmean(channel_2))\n",
        "\n",
        "fs = 256\n",
        "f, Cxy = signal.coherence(channel_1, channel_2, fs=fs, nperseg=1024)  # fs is sampling frequency\n",
        "\n",
        "coherence_data = pd.DataFrame({'Frequency': f, 'Coherence DeltaAF7DeltaAF8': Cxy})\n",
        "\n",
        "coherence_AF8_AF7 = coherence_data['Coherence DeltaAF7DeltaAF8'].mean()\n",
        "coherence_AF8_AF7 *=100\n",
        "print(coherence_AF8_AF7)\n"
      ]
    },
    {
      "cell_type": "code",
      "source": [
        "#Delta AF8-TP9 coherence - corresponds to COH.A.delta.f.F4.h.T3\n",
        "\n",
        "\n",
        "\n",
        "from scipy import signal\n",
        "\n",
        "data = pd.read_csv('/content/mindMonitor_2024-11-15--21-52-00.csv')\n",
        "\n",
        "channel_1 = filtered_delta_AF8\n",
        "channel_1 = filtered_delta_TP9\n",
        "\n",
        "channel_1_mean = np.nanmean(channel_1)\n",
        "channel_2_mean = np.nanmean(channel_2)\n",
        "\n",
        "channel_1 = np.nan_to_num(channel_1, nan=np.nanmean(channel_1))\n",
        "channel_2 = np.nan_to_num(channel_2, nan=np.nanmean(channel_2))\n",
        "\n",
        "fs = 256\n",
        "f, Cxy = signal.coherence(channel_1, channel_2, fs=fs, nperseg=1024)  # fs is sampling frequency\n",
        "\n",
        "coherence_data = pd.DataFrame({'Frequency': f, 'Coherence DeltaAF8DeltaTP9': Cxy})\n",
        "\n",
        "coherence_AF8_TP9 = coherence_data['Coherence DeltaAF8DeltaTP9'].mean()\n",
        "coherence_AF8_TP9 *=100\n",
        "print(coherence_AF8_TP9)"
      ],
      "metadata": {
        "colab": {
          "base_uri": "https://localhost:8080/"
        },
        "id": "pcmpB3JWRtI1",
        "outputId": "74de9c2e-1d6d-4960-9c41-fdb56f3f74d5"
      },
      "execution_count": null,
      "outputs": [
        {
          "output_type": "stream",
          "name": "stdout",
          "text": [
            "51.55583751588699\n"
          ]
        },
        {
          "output_type": "stream",
          "name": "stderr",
          "text": [
            "<ipython-input-6-d40f442128e9>:7: DtypeWarning: Columns (39) have mixed types. Specify dtype option on import or set low_memory=False.\n",
            "  data = pd.read_csv('/content/mindMonitor_2024-11-15--21-52-00.csv')\n"
          ]
        }
      ]
    },
    {
      "cell_type": "code",
      "source": [
        "risk = 0\n",
        "#coeff intercept + coeff channel val * (coherence*100)\n",
        "#e^x\n",
        "\n",
        "\n",
        "#COH.A.delta.a.FP1.b.FP2\n",
        "AF7_AF8 = 0.0246*(coherence_AF8_AF7) - 1.7527\n",
        "AF7_AF8 = np.exp(AF7_AF8)\n",
        "AF7_AF8 -=1\n",
        "risk += AF7_AF8\n",
        "\n",
        "\n",
        "\n",
        "#COH.A.delta.f.F4.h.T3\n",
        "AF8_TP9 = -0.0040*(coherence_AF8_TP9) + 0.1324\n",
        "AF8_TP9 = np.exp(AF8_TP9)\n",
        "AF8_TP9 -=1\n",
        "risk += AF8_TP9\n",
        "\n",
        "\n",
        "\n",
        "#AB.C.alpha.q.T6\n",
        "TP10 = 0.0097*filtered_delta_TP10.mean() - 0.1531\n",
        "TP10 = np.exp(TP10)\n",
        "TP10 -=1\n",
        "risk += TP10\n",
        "\n",
        "\n",
        "\n",
        "#AB.B.theta.c.F7\n",
        "AF7 = -0.0152 *filtered_theta_AF7.mean() + 0.2759\n",
        "AF7 = np.exp(AF7)\n",
        "AF7 -=1\n",
        "risk += AF7\n",
        "\n",
        "\n",
        "print(risk)\n",
        "\n",
        "if risk > 0:\n",
        "  prediction_val = (risk-1)*100\n",
        "  print(\"You are \" + str(prediction_val) + \"% more likely to have behavioral disorder\")\n",
        "\n",
        "else:\n",
        "  prediction_val = (risk+1)*-100\n",
        "  print(\"You are \" + str(prediction_val) + \" % less likely to have behavioral disorder\")\n",
        "\n",
        "\n"
      ],
      "metadata": {
        "colab": {
          "base_uri": "https://localhost:8080/"
        },
        "id": "cjGg_T81SHTn",
        "outputId": "2fb98f03-3153-4679-9602-03bb36e6564c"
      },
      "execution_count": null,
      "outputs": [
        {
          "output_type": "stream",
          "name": "stdout",
          "text": [
            "-1.1460808076429658\n",
            "You are 14.608080764296583 % less likely to have behavioral disorder\n"
          ]
        }
      ]
    },
    {
      "cell_type": "code",
      "source": [
        "!pip install marginaleffects\n",
        "\n",
        "import numpy as np\n",
        "import polars as pl\n",
        "from marginaleffects import *\n",
        "import statsmodels.formula.api as smf\n",
        "mtcars = pl.read_csv(\"/content/mindMonitor_2024-11-15--21-52-00.csv\")\n",
        "mod = smf.ols(\"mpg ~ hp * wt * am\", data = mtcars).fit()\n",
        "\n",
        "print(mod.summary().as_text())"
      ],
      "metadata": {
        "colab": {
          "base_uri": "https://localhost:8080/"
        },
        "collapsed": true,
        "id": "6-IrDkgkyhgi",
        "outputId": "bb220364-2911-4e85-c85d-1913e7cd0ae5"
      },
      "execution_count": null,
      "outputs": [
        {
          "output_type": "stream",
          "name": "stdout",
          "text": [
            "Requirement already satisfied: marginaleffects in /usr/local/lib/python3.10/dist-packages (0.0.14)\n",
            "Requirement already satisfied: narwhals>=1.10.0 in /usr/local/lib/python3.10/dist-packages (from marginaleffects) (1.16.0)\n",
            "Requirement already satisfied: numpy>=2.0.0 in /usr/local/lib/python3.10/dist-packages (from marginaleffects) (2.1.3)\n",
            "Requirement already satisfied: patsy>=0.5.6 in /usr/local/lib/python3.10/dist-packages (from marginaleffects) (1.0.1)\n",
            "Requirement already satisfied: polars>=1.7.0 in /usr/local/lib/python3.10/dist-packages (from marginaleffects) (1.9.0)\n",
            "Requirement already satisfied: plotnine>=0.13.6 in /usr/local/lib/python3.10/dist-packages (from marginaleffects) (0.14.3)\n",
            "Requirement already satisfied: scipy>=1.14.1 in /usr/local/lib/python3.10/dist-packages (from marginaleffects) (1.14.1)\n",
            "Requirement already satisfied: matplotlib>=3.8.0 in /usr/local/lib/python3.10/dist-packages (from plotnine>=0.13.6->marginaleffects) (3.9.3)\n",
            "Requirement already satisfied: pandas>=2.2.0 in /usr/local/lib/python3.10/dist-packages (from plotnine>=0.13.6->marginaleffects) (2.2.2)\n",
            "Requirement already satisfied: mizani~=0.13.0 in /usr/local/lib/python3.10/dist-packages (from plotnine>=0.13.6->marginaleffects) (0.13.0)\n",
            "Requirement already satisfied: statsmodels>=0.14.0 in /usr/local/lib/python3.10/dist-packages (from plotnine>=0.13.6->marginaleffects) (0.14.4)\n",
            "Requirement already satisfied: contourpy>=1.0.1 in /usr/local/lib/python3.10/dist-packages (from matplotlib>=3.8.0->plotnine>=0.13.6->marginaleffects) (1.3.1)\n",
            "Requirement already satisfied: cycler>=0.10 in /usr/local/lib/python3.10/dist-packages (from matplotlib>=3.8.0->plotnine>=0.13.6->marginaleffects) (0.12.1)\n",
            "Requirement already satisfied: fonttools>=4.22.0 in /usr/local/lib/python3.10/dist-packages (from matplotlib>=3.8.0->plotnine>=0.13.6->marginaleffects) (4.55.1)\n",
            "Requirement already satisfied: kiwisolver>=1.3.1 in /usr/local/lib/python3.10/dist-packages (from matplotlib>=3.8.0->plotnine>=0.13.6->marginaleffects) (1.4.7)\n",
            "Requirement already satisfied: packaging>=20.0 in /usr/local/lib/python3.10/dist-packages (from matplotlib>=3.8.0->plotnine>=0.13.6->marginaleffects) (24.2)\n",
            "Requirement already satisfied: pillow>=8 in /usr/local/lib/python3.10/dist-packages (from matplotlib>=3.8.0->plotnine>=0.13.6->marginaleffects) (11.0.0)\n",
            "Requirement already satisfied: pyparsing>=2.3.1 in /usr/local/lib/python3.10/dist-packages (from matplotlib>=3.8.0->plotnine>=0.13.6->marginaleffects) (3.2.0)\n",
            "Requirement already satisfied: python-dateutil>=2.7 in /usr/local/lib/python3.10/dist-packages (from matplotlib>=3.8.0->plotnine>=0.13.6->marginaleffects) (2.8.2)\n",
            "Requirement already satisfied: pytz>=2020.1 in /usr/local/lib/python3.10/dist-packages (from pandas>=2.2.0->plotnine>=0.13.6->marginaleffects) (2024.2)\n",
            "Requirement already satisfied: tzdata>=2022.7 in /usr/local/lib/python3.10/dist-packages (from pandas>=2.2.0->plotnine>=0.13.6->marginaleffects) (2024.2)\n",
            "Requirement already satisfied: six>=1.5 in /usr/local/lib/python3.10/dist-packages (from python-dateutil>=2.7->matplotlib>=3.8.0->plotnine>=0.13.6->marginaleffects) (1.16.0)\n"
          ]
        }
      ]
    }
  ]
}