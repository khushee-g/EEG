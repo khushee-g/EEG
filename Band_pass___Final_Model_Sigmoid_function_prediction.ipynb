{
  "nbformat": 4,
  "nbformat_minor": 0,
  "metadata": {
    "colab": {
      "provenance": [],
      "authorship_tag": "ABX9TyPXi42bo0A7jF1f+35RTqsP",
      "include_colab_link": true
    },
    "kernelspec": {
      "name": "python3",
      "display_name": "Python 3"
    },
    "language_info": {
      "name": "python"
    }
  },
  "cells": [
    {
      "cell_type": "markdown",
      "metadata": {
        "id": "view-in-github",
        "colab_type": "text"
      },
      "source": [
        "<a href=\"https://colab.research.google.com/github/khushee-g/EEG/blob/main/Band_pass___Final_Model_Sigmoid_function_prediction.ipynb\" target=\"_parent\"><img src=\"https://colab.research.google.com/assets/colab-badge.svg\" alt=\"Open In Colab\"/></a>"
      ]
    },
    {
      "cell_type": "code",
      "execution_count": 1,
      "metadata": {
        "id": "8q9tIujVut9p"
      },
      "outputs": [],
      "source": [
        "import numpy as np\n",
        "import pandas as pd\n",
        "import matplotlib.pyplot as plt\n",
        "import statsmodels.api as sm\n",
        "from statsmodels.sandbox.regression.predstd import wls_prediction_std\n",
        "\n",
        "import pandas as pd\n",
        "import numpy as np\n",
        "import matplotlib.pyplot as plt\n",
        "import matplotlib.axes as ax\n",
        "from matplotlib.animation import FuncAnimation"
      ]
    },
    {
      "cell_type": "code",
      "source": [
        "import numpy as np\n",
        "import pandas as pd\n",
        "from sklearn.linear_model import LogisticRegression\n",
        "import statsmodels.api as sm\n",
        "\n",
        "top_features = ['COH.A.delta.a.FP1.b.FP2', 'COH.A.delta.f.F4.h.T3',\n",
        "                   'AB.C.alpha.q.T6', 'AB.B.theta.c.F7']\n",
        "data1 = pd.read_csv('/content/numericBehaviorWithAgeOnly.csv')\n",
        "\n",
        "Y = data1['specific_disorder']\n",
        "X = data1[top_features]\n",
        "\n",
        "Y = data1['specific_disorder'] == 5\n",
        "\n",
        "X_with_const = sm.add_constant(X)\n",
        "logit_model = sm.Logit(Y, X_with_const)\n",
        "result = logit_model.fit()"
      ],
      "metadata": {
        "colab": {
          "base_uri": "https://localhost:8080/"
        },
        "id": "aVlO7dUauyio",
        "outputId": "c5240cf8-7b1e-4f08-8a31-bdb34c3b5683"
      },
      "execution_count": 3,
      "outputs": [
        {
          "output_type": "stream",
          "name": "stdout",
          "text": [
            "Optimization terminated successfully.\n",
            "         Current function value: 0.648650\n",
            "         Iterations 5\n"
          ]
        }
      ]
    },
    {
      "cell_type": "markdown",
      "source": [
        "# OVERALL MODEL ACCURACY"
      ],
      "metadata": {
        "id": "Bi4bcYje3TLi"
      }
    },
    {
      "cell_type": "code",
      "source": [
        "import random\n",
        "random.seed(16)\n",
        "# import the necessary libraries\n",
        "from sklearn.linear_model import LogisticRegression\n",
        "from sklearn.model_selection import train_test_split\n",
        "from sklearn.metrics import accuracy_score\n",
        "import pandas as pd\n",
        "\n",
        "df = pd.read_csv('/content/numericBehaviorWithAgeOnly.csv')\n",
        "\n",
        "\n",
        "X = df.drop(columns=['specific_disorder'])\n",
        "X = X[[col for col in X.columns if col in top_features]]\n",
        "\n",
        "y = df['specific_disorder']\n",
        "\n",
        "X_train, X_test, y_train, y_test = train_test_split(X, y, test_size=0.20)\n",
        "\n",
        "clf = LogisticRegression(random_state=0)\n",
        "clf.fit(X_train, y_train)\n",
        "\n",
        "y_pred = clf.predict(X_test)\n",
        "print(y_pred)\n",
        "\n",
        "acc = accuracy_score(y_test, y_pred)\n",
        "print(\"Logistic Regression model accuracy (in %):\", acc * 100)\n"
      ],
      "metadata": {
        "colab": {
          "base_uri": "https://localhost:8080/"
        },
        "id": "ApfokB-zwm5O",
        "outputId": "b47bb5a9-a82a-40c1-9032-47965f4087be"
      },
      "execution_count": 4,
      "outputs": [
        {
          "output_type": "stream",
          "name": "stdout",
          "text": [
            "[5 5 4 4 5 5 4 5 5 4 4 5 5 5 5 5 5 5 5 5 4 4 4 4 4 4 4 4 5 4 5 4 4 5 5 4 4\n",
            " 5]\n",
            "Logistic Regression model accuracy (in %): 68.42105263157895\n"
          ]
        }
      ]
    },
    {
      "cell_type": "markdown",
      "source": [
        "# Muse Integration"
      ],
      "metadata": {
        "id": "guvTn6rk3YCr"
      }
    },
    {
      "cell_type": "code",
      "source": [
        "user_data = pd.read_csv('/content/Khushee mindMonitor_2024-11-15--21-52-00.csv')\n",
        "data1 = pd.read_csv('/content/numericBehaviorWithAgeOnly.csv')\n"
      ],
      "metadata": {
        "colab": {
          "base_uri": "https://localhost:8080/"
        },
        "id": "267WaR7hX0xq",
        "outputId": "9226e246-346b-4ab1-933a-86b0c3ef6587"
      },
      "execution_count": 9,
      "outputs": [
        {
          "output_type": "stream",
          "name": "stderr",
          "text": [
            "<ipython-input-9-68862582fc80>:1: DtypeWarning: Columns (39) have mixed types. Specify dtype option on import or set low_memory=False.\n",
            "  user_data = pd.read_csv('/content/Khushee mindMonitor_2024-11-15--21-52-00.csv')\n"
          ]
        }
      ]
    },
    {
      "cell_type": "code",
      "source": [
        "import numpy as np\n",
        "from scipy.signal import butter, filtfilt\n",
        "import pandas as pd\n",
        "\n",
        "def butter_bandpass(lowcut, highcut, fs, order=5):\n",
        "    nyq = 0.5 * fs\n",
        "    low = lowcut / nyq\n",
        "    high = highcut / nyq\n",
        "    b, a = butter(order, [low, high], btype='band')\n",
        "    return b, a\n",
        "\n",
        "def bandpass_filter(data, lowcut, highcut, fs, order=5):\n",
        "    b, a = butter_bandpass(lowcut, highcut, fs, order=order)\n",
        "    y = filtfilt(b, a, data)\n",
        "    return y\n",
        "\n",
        "fs = 256\n",
        "lowcut = 0.5\n",
        "highcut = 4\n",
        "\n",
        "data = user_data\n",
        "num_nan_raw_AF8 = data['RAW_AF8'].isnull().sum()\n",
        "num_nan_raw_AF7 = data['RAW_AF7'].isnull().sum()\n",
        "num_nan_raw_TP9 = data['RAW_TP9'].isnull().sum()\n",
        "num_nan_raw_TP10 = data['RAW_TP10'].isnull().sum()\n",
        "\n",
        "if num_nan_raw_AF8 > 0:\n",
        "    data['RAW_AF8'] = data['RAW_AF8'].interpolate(method='linear')\n",
        "\n",
        "if num_nan_raw_AF7 > 0:\n",
        "    data['RAW_AF7'] = data['RAW_AF7'].interpolate(method='linear')\n",
        "\n",
        "if num_nan_raw_TP9 > 0:\n",
        "    data['RAW_TP9'] = data['RAW_TP9'].interpolate(method='linear')\n",
        "\n",
        "if num_nan_raw_TP10 > 0:\n",
        "    data['RAW_TP10'] = data['RAW_TP10'].interpolate(method='linear')\n",
        "\n",
        "\n",
        "filtered_delta_AF8 = bandpass_filter(data['RAW_AF8'].values, lowcut, highcut, fs, order=5)\n",
        "filtered_delta_AF7 = bandpass_filter(data['RAW_AF7'].values, lowcut, highcut, fs, order=5)\n",
        "filtered_delta_TP9 = bandpass_filter(data['RAW_TP9'].values, lowcut, highcut, fs, order=5)\n",
        "filtered_delta_TP10 = bandpass_filter(data['RAW_TP10'].values, lowcut, highcut, fs, order=5)\n",
        "\n",
        "\n",
        "\n",
        "fs = 256\n",
        "lowcut = 4\n",
        "highcut = 8\n",
        "\n",
        "num_nan_raw_AF7 = data['RAW_AF7'].isnull().sum()\n",
        "\n",
        "if num_nan_raw_TP10 > 0:\n",
        "    data['RAW_AF7'] = data['RAW_AF7'].interpolate(method='linear')\n",
        "\n",
        "\n",
        "filtered_theta_AF7 = bandpass_filter(data['RAW_AF7'].values, lowcut, highcut, fs, order=5)\n",
        "\n",
        ""
      ],
      "metadata": {
        "id": "zf1qAeDEdBnR"
      },
      "execution_count": 10,
      "outputs": []
    },
    {
      "cell_type": "code",
      "source": [
        "#Delta AF7-AF8 coherence - corresponds to COH.A.delta.a.FP1.b.FP2\n",
        "\n",
        "from scipy import signal\n",
        "\n",
        "\n",
        "channel_1 = filtered_delta_AF8\n",
        "channel_2 = filtered_delta_AF7\n",
        "\n",
        "channel_1_mean = np.nanmean(channel_1)\n",
        "channel_2_mean = np.nanmean(channel_2)\n",
        "\n",
        "channel_1 = np.nan_to_num(channel_1, nan=np.nanmean(channel_1))\n",
        "channel_2 = np.nan_to_num(channel_2, nan=np.nanmean(channel_2))\n",
        "\n",
        "fs = 256\n",
        "f, Cxy = signal.coherence(channel_1, channel_2, fs=fs, nperseg=1024)  # fs is sampling frequency\n",
        "\n",
        "coherence_data = pd.DataFrame({'Frequency': f, 'Coherence DeltaAF7DeltaAF8': Cxy})\n",
        "\n",
        "coherence_AF8_AF7 = coherence_data['Coherence DeltaAF7DeltaAF8'].mean()\n",
        "coherence_AF8_AF7 *=100\n",
        "print(coherence_AF8_AF7)\n",
        "\n",
        "\n",
        "\n",
        "\n",
        "#Delta AF8-TP9 coherence - corresponds to COH.A.delta.f.F4.h.T3\n",
        "\n",
        "from scipy import signal\n",
        "\n",
        "\n",
        "channel_1 = filtered_delta_AF8\n",
        "channel_1 = filtered_delta_TP9\n",
        "\n",
        "channel_1_mean = np.nanmean(channel_1)\n",
        "channel_2_mean = np.nanmean(channel_2)\n",
        "\n",
        "channel_1 = np.nan_to_num(channel_1, nan=np.nanmean(channel_1))\n",
        "channel_2 = np.nan_to_num(channel_2, nan=np.nanmean(channel_2))\n",
        "\n",
        "fs = 256\n",
        "f, Cxy = signal.coherence(channel_1, channel_2, fs=fs, nperseg=1024)  # fs is sampling frequency\n",
        "\n",
        "coherence_data = pd.DataFrame({'Frequency': f, 'Coherence DeltaAF8DeltaTP9': Cxy})\n",
        "\n",
        "coherence_AF8_TP9 = coherence_data['Coherence DeltaAF8DeltaTP9'].mean()\n",
        "coherence_AF8_TP9 *=100\n",
        "print(coherence_AF8_TP9)"
      ],
      "metadata": {
        "colab": {
          "base_uri": "https://localhost:8080/"
        },
        "id": "VBF7JRINu2QY",
        "outputId": "604c23f5-ac7c-4bbb-d315-11ff29ab3246"
      },
      "execution_count": 8,
      "outputs": [
        {
          "output_type": "stream",
          "name": "stdout",
          "text": [
            "50.97487654935996\n",
            "51.55583751588699\n"
          ]
        }
      ]
    },
    {
      "cell_type": "code",
      "source": [
        "#COH.A.delta.a.FP1.b.FP2\n",
        "X = data1['COH.A.delta.a.FP1.b.FP2']\n",
        "\n",
        "Y = data1['specific_disorder'].apply(lambda x: 1 if x == 5 else -1)\n",
        "\n",
        "X_with_const = sm.add_constant(X)\n",
        "logit_model = sm.OLS(Y, X_with_const)\n",
        "result = logit_model.fit()\n",
        "\n",
        "\n",
        "prediction_data = pd.DataFrame({'const': [1], 'COH.A.delta.a.FP1.b.FP2': [coherence_AF8_AF7]})\n",
        "\n",
        "pred = result.get_prediction(prediction_data)\n",
        "\n",
        "\n",
        "#risk1 = pred.predicted_mean[0]\n",
        "risk1 = 0.0246*(coherence_AF8_AF7) - 1.7527\n",
        "print(risk1)\n",
        "risk1_sigmoid = p = 1 / (1 + np.exp(-risk1))\n",
        "print(risk1_sigmoid)\n",
        "\n",
        "#Note: significant difference between equation-based prediction and pred.predicted_mean[0]"
      ],
      "metadata": {
        "colab": {
          "base_uri": "https://localhost:8080/"
        },
        "id": "UesGy9Q0SFis",
        "outputId": "87b195f2-3890-4af1-f995-ce83c2cd6bdf"
      },
      "execution_count": 11,
      "outputs": [
        {
          "output_type": "stream",
          "name": "stdout",
          "text": [
            "-0.4987180368857449\n",
            "0.37784198215032\n"
          ]
        }
      ]
    },
    {
      "cell_type": "code",
      "source": [
        "\n",
        "Y = data1['specific_disorder'] == 5\n",
        "X = data1['COH.A.delta.f.F4.h.T3']\n",
        "\n",
        "Y = data1['specific_disorder'].apply(lambda x: 1 if x == 5 else -1)\n",
        "\n",
        "X_with_const = sm.add_constant(X)\n",
        "logit_model = sm.OLS(Y, X_with_const)\n",
        "result = logit_model.fit()\n",
        "\n",
        "\n",
        "prediction_data = pd.DataFrame({'const': [1], 'COH.A.delta.f.F4.h.T3': [coherence_AF8_TP9]})\n",
        "\n",
        "pred = result.get_prediction(prediction_data)\n",
        "\n",
        "\n",
        "#risk2 = pred.predicted_mean[0]\n",
        "risk2 =  -0.0040*(coherence_AF8_TP9) + 0.1324\n",
        "print(risk2)\n",
        "risk2_sigmoid = p = 1 / (1 + np.exp(-risk2))\n",
        "print(risk2_sigmoid)"
      ],
      "metadata": {
        "colab": {
          "base_uri": "https://localhost:8080/"
        },
        "id": "2YcBC4qAWASU",
        "outputId": "0ffaf91a-4bc0-4f71-9be9-ea0812a24572"
      },
      "execution_count": 12,
      "outputs": [
        {
          "output_type": "stream",
          "name": "stdout",
          "text": [
            "-0.07382335006354798\n",
            "0.48155253977105095\n"
          ]
        }
      ]
    },
    {
      "cell_type": "code",
      "source": [
        "#AB.C.alpha.q.T6\n",
        "Y = data1['specific_disorder'] == 5\n",
        "X = data1['AB.C.alpha.q.T6']\n",
        "\n",
        "Y = data1['specific_disorder'].apply(lambda x: 1 if x == 5 else -1)\n",
        "\n",
        "X_with_const = sm.add_constant(X)\n",
        "logit_model = sm.OLS(Y, X_with_const)\n",
        "result = logit_model.fit()\n",
        "\n",
        "Delta_TP10 = filtered_delta_TP10\n",
        "Delta_TP10 = np.nan_to_num(channel_1, nan=np.nanmean(channel_1))\n",
        "Delta_TP10 = Delta_TP10.mean()\n",
        "\n",
        "prediction_data = pd.DataFrame({'const': [1], 'AB.C.alpha.q.T6': [Delta_TP10]})\n",
        "\n",
        "pred = result.get_prediction(prediction_data)\n",
        "\n",
        "\n",
        "#risk3 = pred.predicted_mean[0]\n",
        "risk3 = 0.0097*data['Delta_TP10'].mean() - 0.1531\n",
        "print(risk3)\n",
        "risk3_sigmoid = p = 1 / (1 + np.exp(-risk3))\n",
        "print(risk3_sigmoid)"
      ],
      "metadata": {
        "colab": {
          "base_uri": "https://localhost:8080/"
        },
        "id": "kH31BXPtWrkp",
        "outputId": "03449c92-adbc-4928-82fa-cc7603714481"
      },
      "execution_count": 13,
      "outputs": [
        {
          "output_type": "stream",
          "name": "stdout",
          "text": [
            "-0.14750334114591296\n",
            "0.4631908792513958\n"
          ]
        }
      ]
    },
    {
      "cell_type": "code",
      "source": [
        "#AB.B.theta.c.F7\n",
        "Y = data1['specific_disorder'] == 5\n",
        "X = data1['AB.B.theta.c.F7']\n",
        "\n",
        "Y = data1['specific_disorder'].apply(lambda x: 1 if x == 5 else -1)\n",
        "\n",
        "X_with_const = sm.add_constant(X)\n",
        "logit_model = sm.OLS(Y, X_with_const)\n",
        "result = logit_model.fit()\n",
        "\n",
        "Theta_AF7 = filtered_theta_AF7\n",
        "Theta_AF7 = np.nan_to_num(channel_1, nan=np.nanmean(channel_1))\n",
        "Theta_AF7 = Theta_AF7.mean()\n",
        "\n",
        "prediction_data = pd.DataFrame({'const': [1], 'AB.B.theta.c.F7': [Theta_AF7]})\n",
        "\n",
        "pred = result.get_prediction(prediction_data)\n",
        "\n",
        "\n",
        "#risk4 = pred.predicted_mean[0]\n",
        "risk4 = -0.0152 *data['Theta_AF7'].mean() + 0.2759\n",
        "print(risk4)\n",
        "risk4_sigmoid = p = 1 / (1 + np.exp(-risk4))\n",
        "print(risk4_sigmoid)"
      ],
      "metadata": {
        "colab": {
          "base_uri": "https://localhost:8080/"
        },
        "id": "bKo1g3whXuA0",
        "outputId": "676b3cc0-b3d2-4a70-a158-0bbf2e3612fe"
      },
      "execution_count": 14,
      "outputs": [
        {
          "output_type": "stream",
          "name": "stdout",
          "text": [
            "0.27346845326856967\n",
            "0.5679442062276707\n"
          ]
        }
      ]
    },
    {
      "cell_type": "code",
      "source": [
        "if risk4_sigmoid < 0.5:\n",
        "  risk4_sigmoid = -1*(0.5 - risk4_sigmoid)\n",
        "\n",
        "if risk3_sigmoid < 0.5:\n",
        "  risk3_sigmoid = -1*(0.5 - risk3_sigmoid)\n",
        "\n",
        "if risk2_sigmoid < 0.5:\n",
        "  risk2_sigmoid = -1*(0.5 - risk2_sigmoid)\n",
        "\n",
        "if risk1_sigmoid < 0.5:\n",
        "  risk1_sigmoid = -1*(0.5 - risk1_sigmoid)\n",
        "\n",
        "if risk4_sigmoid > 0.5:\n",
        "  risk4_sigmoid = (risk4_sigmoid-0.5)\n",
        "if risk3_sigmoid > 0.5:\n",
        "  risk3_sigmoid = (risk3_sigmoid-0.5)\n",
        "if risk2_sigmoid > 0.5:\n",
        "  risk2_sigmoid = (risk2_sigmoid-0.5)\n",
        "if risk1_sigmoid > 0.5:\n",
        "  risk1_sigmoid = (risk1_sigmoid-0.5)\n",
        "\n",
        "\n",
        "risk_sigmoid_total = risk4_sigmoid + risk3_sigmoid + risk2_sigmoid + risk1_sigmoid\n",
        "\n",
        "if risk_sigmoid_total<0:\n",
        "  print(\"You are \" + str(risk_sigmoid_total*-100) +\"% less likely to have IAD\")\n",
        "if risk_sigmoid_total>0:\n",
        "  print(\"You are \" + str(risk_sigmoid_total*100) +\"% more likely to have IAD\")\n",
        "if risk_sigmoid_total==0:\n",
        "  print(\"Prediction cannot be made.\")\n",
        "\n",
        "#equation based: 25.56406586142109% less likely\n",
        "#prediction fuction based: 15.022754660005367% more likely"
      ],
      "metadata": {
        "colab": {
          "base_uri": "https://localhost:8080/"
        },
        "id": "wHKnklCtfFaU",
        "outputId": "3186cc6f-576c-4ff0-e1bc-f42a2546bad5"
      },
      "execution_count": 15,
      "outputs": [
        {
          "output_type": "stream",
          "name": "stdout",
          "text": [
            "You are 10.947039259956254% less likely to have IAD\n"
          ]
        }
      ]
    },
    {
      "cell_type": "code",
      "source": [
        "import statsmodels.formula.api as smf\n",
        "import pandas as pd\n",
        "import numpy as np\n",
        "\n",
        "# Initialize the dictionary to store the odds ratios\n",
        "odds_ratios_dict = {}\n",
        "\n",
        "channel_num = 0\n",
        "\n",
        "# Assuming top_features is defined somewhere before the loop\n",
        "for i in top_features:\n",
        "    print(f\"channel {i}\")\n",
        "\n",
        "    # Rename the column for the current channel\n",
        "    data1.rename(columns={i: f'channel_{channel_num}'}, inplace=True)\n",
        "    print(data1[f'channel_{channel_num}'])\n",
        "\n",
        "    # Prepare the X matrix (only the current channel)\n",
        "    X = data1[[f'channel_{channel_num}']]\n",
        "\n",
        "    # Convert 'specific_disorder' to a binary variable (assuming '5' is the target class)\n",
        "    data1['specific_disorder_binary'] = (data1['specific_disorder'] == 5).astype(int)\n",
        "\n",
        "    # Define the formula for logistic regression\n",
        "    formula_str = f\"specific_disorder_binary ~ channel_{channel_num}\"  # Update formula with current channel\n",
        "    print(formula_str)\n",
        "\n",
        "    # Fit the logistic regression model\n",
        "    log_reg = smf.logit(formula_str, data=data1).fit()\n",
        "    print(log_reg.summary())\n",
        "\n",
        "    # Calculate the odds ratios and their confidence intervals\n",
        "    odds_ratios = pd.DataFrame(\n",
        "        {\n",
        "            \"OR\": log_reg.params,\n",
        "            \"Lower CI\": log_reg.conf_int()[0],\n",
        "            \"Upper CI\": log_reg.conf_int()[1],\n",
        "        }\n",
        "    )\n",
        "    odds_ratios = np.exp(odds_ratios)  # Exponentiate to get odds ratios\n",
        "\n",
        "    # Save each odds ratio as a separate variable in the dictionary\n",
        "    odds_ratios_dict[f'channel_{channel_num}_odds_ratio'] = odds_ratios\n",
        "\n",
        "    channel_num += 1\n",
        "    print(f\"ODDS RATIO for channel {i}:\")\n",
        "    print(odds_ratios)\n",
        "\n",
        "# Optionally, you can print out all the stored odds ratios\n",
        "print(\"\\nAll Odds Ratios saved in the dictionary:\")\n",
        "for key, value in odds_ratios_dict.items():\n",
        "    print(f\"{key}:\")\n",
        "    print(value)\n"
      ],
      "metadata": {
        "colab": {
          "base_uri": "https://localhost:8080/"
        },
        "id": "B73AOkVqLVHh",
        "outputId": "0ea50336-3adc-48f0-f66f-68319bf569cd"
      },
      "execution_count": 16,
      "outputs": [
        {
          "output_type": "stream",
          "name": "stdout",
          "text": [
            "channel COH.A.delta.a.FP1.b.FP2\n",
            "0      40.893243\n",
            "1      35.672185\n",
            "2      74.051341\n",
            "3      90.006558\n",
            "4      63.756704\n",
            "         ...    \n",
            "183    64.188787\n",
            "184    59.095639\n",
            "185    53.635964\n",
            "186    80.930246\n",
            "187    99.775084\n",
            "Name: channel_0, Length: 188, dtype: float64\n",
            "specific_disorder_binary ~ channel_0\n",
            "Optimization terminated successfully.\n",
            "         Current function value: 0.668620\n",
            "         Iterations 5\n",
            "                              Logit Regression Results                              \n",
            "====================================================================================\n",
            "Dep. Variable:     specific_disorder_binary   No. Observations:                  188\n",
            "Model:                                Logit   Df Residuals:                      186\n",
            "Method:                                 MLE   Df Model:                            1\n",
            "Date:                      Sun, 02 Feb 2025   Pseudo R-squ.:                 0.03531\n",
            "Time:                              21:02:51   Log-Likelihood:                -125.70\n",
            "converged:                             True   LL-Null:                       -130.30\n",
            "Covariance Type:                  nonrobust   LLR p-value:                  0.002419\n",
            "==============================================================================\n",
            "                 coef    std err          z      P>|z|      [0.025      0.975]\n",
            "------------------------------------------------------------------------------\n",
            "Intercept      1.7527      0.629      2.785      0.005       0.519       2.986\n",
            "channel_0     -0.0246      0.008     -2.917      0.004      -0.041      -0.008\n",
            "==============================================================================\n",
            "ODDS RATIO for channel COH.A.delta.a.FP1.b.FP2:\n",
            "                 OR  Lower CI   Upper CI\n",
            "Intercept  5.770110   1.68078  19.808764\n",
            "channel_0  0.975733   0.95976   0.991972\n",
            "channel COH.A.delta.f.F4.h.T3\n",
            "0      26.967555\n",
            "1      11.285941\n",
            "2      22.286958\n",
            "3      19.913471\n",
            "4      13.980454\n",
            "         ...    \n",
            "183    32.306444\n",
            "184     9.954589\n",
            "185    41.329746\n",
            "186    25.932027\n",
            "187     6.297033\n",
            "Name: channel_1, Length: 188, dtype: float64\n",
            "specific_disorder_binary ~ channel_1\n",
            "Optimization terminated successfully.\n",
            "         Current function value: 0.692651\n",
            "         Iterations 3\n",
            "                              Logit Regression Results                              \n",
            "====================================================================================\n",
            "Dep. Variable:     specific_disorder_binary   No. Observations:                  188\n",
            "Model:                                Logit   Df Residuals:                      186\n",
            "Method:                                 MLE   Df Model:                            1\n",
            "Date:                      Sun, 02 Feb 2025   Pseudo R-squ.:               0.0006338\n",
            "Time:                              21:02:51   Log-Likelihood:                -130.22\n",
            "converged:                             True   LL-Null:                       -130.30\n",
            "Covariance Type:                  nonrobust   LLR p-value:                    0.6844\n",
            "==============================================================================\n",
            "                 coef    std err          z      P>|z|      [0.025      0.975]\n",
            "------------------------------------------------------------------------------\n",
            "Intercept     -0.1324      0.310     -0.427      0.669      -0.740       0.475\n",
            "channel_1      0.0040      0.010      0.406      0.685      -0.015       0.023\n",
            "==============================================================================\n",
            "ODDS RATIO for channel COH.A.delta.f.F4.h.T3:\n",
            "                 OR  Lower CI  Upper CI\n",
            "Intercept  0.875999  0.477039   1.60862\n",
            "channel_1  1.003998  0.984848   1.02352\n",
            "channel AB.C.alpha.q.T6\n",
            "0      76.256849\n",
            "1       8.411437\n",
            "2      13.432912\n",
            "3       7.399344\n",
            "4      19.442971\n",
            "         ...    \n",
            "183     8.037181\n",
            "184     2.904588\n",
            "185     4.069226\n",
            "186    11.084057\n",
            "187     3.460022\n",
            "Name: channel_2, Length: 188, dtype: float64\n",
            "specific_disorder_binary ~ channel_2\n",
            "Optimization terminated successfully.\n",
            "         Current function value: 0.687085\n",
            "         Iterations 5\n",
            "                              Logit Regression Results                              \n",
            "====================================================================================\n",
            "Dep. Variable:     specific_disorder_binary   No. Observations:                  188\n",
            "Model:                                Logit   Df Residuals:                      186\n",
            "Method:                                 MLE   Df Model:                            1\n",
            "Date:                      Sun, 02 Feb 2025   Pseudo R-squ.:                0.008665\n",
            "Time:                              21:02:51   Log-Likelihood:                -129.17\n",
            "converged:                             True   LL-Null:                       -130.30\n",
            "Covariance Type:                  nonrobust   LLR p-value:                    0.1329\n",
            "==============================================================================\n",
            "                 coef    std err          z      P>|z|      [0.025      0.975]\n",
            "------------------------------------------------------------------------------\n",
            "Intercept      0.1531      0.188      0.814      0.416      -0.216       0.522\n",
            "channel_2     -0.0097      0.007     -1.435      0.151      -0.023       0.004\n",
            "==============================================================================\n",
            "ODDS RATIO for channel AB.C.alpha.q.T6:\n",
            "                 OR  Lower CI  Upper CI\n",
            "Intercept  1.165471  0.805968  1.685332\n",
            "channel_2  0.990378  0.977384  1.003546\n",
            "channel AB.B.theta.c.F7\n",
            "0      44.121736\n",
            "1      10.736641\n",
            "2       9.947847\n",
            "3       9.599054\n",
            "4      13.031955\n",
            "         ...    \n",
            "183     7.521464\n",
            "184     9.113048\n",
            "185     4.885519\n",
            "186     9.253807\n",
            "187     5.707940\n",
            "Name: channel_3, Length: 188, dtype: float64\n",
            "specific_disorder_binary ~ channel_3\n",
            "Optimization terminated successfully.\n",
            "         Current function value: 0.691951\n",
            "         Iterations 4\n",
            "                              Logit Regression Results                              \n",
            "====================================================================================\n",
            "Dep. Variable:     specific_disorder_binary   No. Observations:                  188\n",
            "Model:                                Logit   Df Residuals:                      186\n",
            "Method:                                 MLE   Df Model:                            1\n",
            "Date:                      Sun, 02 Feb 2025   Pseudo R-squ.:                0.001644\n",
            "Time:                              21:02:52   Log-Likelihood:                -130.09\n",
            "converged:                             True   LL-Null:                       -130.30\n",
            "Covariance Type:                  nonrobust   LLR p-value:                    0.5127\n",
            "==============================================================================\n",
            "                 coef    std err          z      P>|z|      [0.025      0.975]\n",
            "------------------------------------------------------------------------------\n",
            "Intercept     -0.1678      0.269     -0.625      0.532      -0.694       0.358\n",
            "channel_3      0.0153      0.024      0.649      0.517      -0.031       0.062\n",
            "==============================================================================\n",
            "ODDS RATIO for channel AB.B.theta.c.F7:\n",
            "                 OR  Lower CI  Upper CI\n",
            "Intercept  0.845503  0.499519  1.431130\n",
            "channel_3  1.015439  0.969495  1.063561\n",
            "\n",
            "All Odds Ratios saved in the dictionary:\n",
            "channel_0_odds_ratio:\n",
            "                 OR  Lower CI   Upper CI\n",
            "Intercept  5.770110   1.68078  19.808764\n",
            "channel_0  0.975733   0.95976   0.991972\n",
            "channel_1_odds_ratio:\n",
            "                 OR  Lower CI  Upper CI\n",
            "Intercept  0.875999  0.477039   1.60862\n",
            "channel_1  1.003998  0.984848   1.02352\n",
            "channel_2_odds_ratio:\n",
            "                 OR  Lower CI  Upper CI\n",
            "Intercept  1.165471  0.805968  1.685332\n",
            "channel_2  0.990378  0.977384  1.003546\n",
            "channel_3_odds_ratio:\n",
            "                 OR  Lower CI  Upper CI\n",
            "Intercept  0.845503  0.499519  1.431130\n",
            "channel_3  1.015439  0.969495  1.063561\n"
          ]
        }
      ]
    }
  ]
}