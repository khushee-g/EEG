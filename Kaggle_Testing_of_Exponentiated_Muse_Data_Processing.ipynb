{
  "nbformat": 4,
  "nbformat_minor": 0,
  "metadata": {
    "colab": {
      "provenance": [],
      "authorship_tag": "ABX9TyPrwmjidUmdtJzMHv0jh06i",
      "include_colab_link": true
    },
    "kernelspec": {
      "name": "python3",
      "display_name": "Python 3"
    },
    "language_info": {
      "name": "python"
    }
  },
  "cells": [
    {
      "cell_type": "markdown",
      "metadata": {
        "id": "view-in-github",
        "colab_type": "text"
      },
      "source": [
        "<a href=\"https://colab.research.google.com/github/khushee-g/EEG/blob/main/Kaggle_Testing_of_Exponentiated_Muse_Data_Processing.ipynb\" target=\"_parent\"><img src=\"https://colab.research.google.com/assets/colab-badge.svg\" alt=\"Open In Colab\"/></a>"
      ]
    },
    {
      "cell_type": "code",
      "source": [
        "import numpy as np # Linear algebra\n",
        "import pandas as pd\n",
        "# ModelLing\n",
        "from sklearn.ensemble import RandomForestClassifier\n",
        "from sklearn.metrics import accuracy_score, confusion_matrix, precision_score, recall_score, ConfusionMatrixDisplay\n",
        "from sklearn.model_selection import RandomizedSearchCV, train_test_split\n",
        "from scipy.stats import randint\n",
        "\n",
        "# Tree Visualisation\n",
        "from sklearn.tree import export_graphviz\n",
        "from IPython.display import Image\n",
        "from sklearn.tree import DecisionTreeClassifier # Import Decision Tree Classifier\n",
        "from sklearn.model_selection import train_test_split # Import train_test_split function\n",
        "from sklearn import metrics"
      ],
      "metadata": {
        "id": "fjTzf4JaRN4z"
      },
      "execution_count": 2,
      "outputs": []
    },
    {
      "cell_type": "code",
      "execution_count": null,
      "metadata": {
        "colab": {
          "base_uri": "https://localhost:8080/"
        },
        "id": "vR96xsrbL5LV",
        "outputId": "e05b938d-7d40-4b85-b06a-28a39df8edab"
      },
      "outputs": [
        {
          "output_type": "stream",
          "name": "stdout",
          "text": [
            "13.365575864956632\n"
          ]
        },
        {
          "output_type": "stream",
          "name": "stderr",
          "text": [
            "<ipython-input-7-ed74ef2684ad>:5: DtypeWarning: Columns (39) have mixed types. Specify dtype option on import or set low_memory=False.\n",
            "  data = pd.read_csv('/content/mindMonitor_2024-11-15--21-52-00.csv')\n"
          ]
        }
      ],
      "source": [
        "#Delta AF7-AF8 coherence - corresponds to COH.A.delta.a.FP1.b.FP2\n",
        "\n",
        "from scipy import signal\n",
        "\n",
        "data = pd.read_csv('/content/mindMonitor_2024-11-15--21-52-00.csv')\n",
        "\n",
        "channel_1 = data['Delta_AF8'].values\n",
        "channel_2 = data['Delta_AF7'].values\n",
        "\n",
        "channel_1 = np.nan_to_num(channel_1, nan=np.nanmean(channel_1))\n",
        "channel_2 = np.nan_to_num(channel_2, nan=np.nanmean(channel_2))\n",
        "\n",
        "fs = 256\n",
        "f, Cxy = signal.coherence(channel_1, channel_2, fs=fs, nperseg=1024)  # fs is sampling frequency\n",
        "\n",
        "coherence_data = pd.DataFrame({'Frequency': f, 'Coherence DeltaAF7DeltaAF8': Cxy})\n",
        "\n",
        "coherence_AF8_AF7 = coherence_data['Coherence DeltaAF7DeltaAF8'].mean()\n",
        "coherence_AF8_AF7 *=100\n",
        "print(coherence_AF8_AF7)\n"
      ]
    },
    {
      "cell_type": "code",
      "source": [
        "#Delta AF8-TP9 coherence - corresponds to COH.A.delta.f.F4.h.T3\n",
        "\n",
        "\n",
        "\n",
        "from scipy import signal\n",
        "\n",
        "data = pd.read_csv('/content/mindMonitor_2024-11-15--21-52-00.csv')\n",
        "\n",
        "channel_1 = data['Delta_AF8'].values\n",
        "channel_2 = data['Delta_TP9'].values\n",
        "\n",
        "channel_1 = np.nan_to_num(channel_1, nan=np.nanmean(channel_1))\n",
        "channel_2 = np.nan_to_num(channel_2, nan=np.nanmean(channel_2))\n",
        "\n",
        "fs = 256\n",
        "f, Cxy = signal.coherence(channel_1, channel_2, fs=fs, nperseg=1024)  # fs is sampling frequency\n",
        "\n",
        "coherence_data = pd.DataFrame({'Frequency': f, 'Coherence DeltaAF8DeltaTP9': Cxy})\n",
        "\n",
        "coherence_AF8_TP9 = coherence_data['Coherence DeltaAF8DeltaTP9'].mean()\n",
        "coherence_AF8_TP9 *=100\n",
        "print(coherence_AF8_TP9)"
      ],
      "metadata": {
        "colab": {
          "base_uri": "https://localhost:8080/"
        },
        "id": "pcmpB3JWRtI1",
        "outputId": "7ca7caa0-e3b4-4b69-9870-a11c4fad036f"
      },
      "execution_count": null,
      "outputs": [
        {
          "output_type": "stream",
          "name": "stdout",
          "text": [
            "13.916182133081339\n"
          ]
        },
        {
          "output_type": "stream",
          "name": "stderr",
          "text": [
            "<ipython-input-6-c0e952f15780>:7: DtypeWarning: Columns (39) have mixed types. Specify dtype option on import or set low_memory=False.\n",
            "  data = pd.read_csv('/content/mindMonitor_2024-11-15--21-52-00.csv')\n"
          ]
        }
      ]
    },
    {
      "cell_type": "code",
      "source": [
        "risk = 0\n",
        "#coeff intercept + coeff channel val * (coherence*100)\n",
        "#e^x\n",
        "import pandas as pd\n",
        "data = pd.read_csv('/content/EEG.machinelearing_data_BRMH 2.csv')\n",
        "data = data.iloc[256]\n",
        "print(data)\n",
        "\n",
        "#COH.A.delta.a.FP1.b.FP2\n",
        "AF7_AF8 = 0.0246*data['COH.A.delta.a.FP1.b.FP2'] - 1.7527\n",
        "AF7_AF8 = np.exp(AF7_AF8)\n",
        "AF7_AF8 -=1\n",
        "risk += AF7_AF8\n",
        "\n",
        "\n",
        "\n",
        "#COH.A.delta.f.F4.h.T3\n",
        "AF8_TP9 = -0.0040*data['COH.A.delta.f.F4.h.T3'] + 0.1324\n",
        "AF8_TP9 = np.exp(AF8_TP9)\n",
        "AF8_TP9 -=1\n",
        "risk += AF8_TP9\n",
        "\n",
        "\n",
        "\n",
        "#AB.C.alpha.q.T6\n",
        "TP10 = 0.0097*data['AB.C.alpha.q.T6'] - 0.1531\n",
        "TP10 = np.exp(TP10)\n",
        "TP10 -=1\n",
        "risk += TP10\n",
        "\n",
        "\n",
        "\n",
        "#AB.B.theta.c.F7\n",
        "AF7 = -0.0152 *data['AB.B.theta.c.F7'] + 0.2759\n",
        "AF7 = np.exp(AF7)\n",
        "AF7 -=1\n",
        "risk += AF7\n",
        "\n",
        "\n",
        "print(risk)\n",
        "\n",
        "if risk > 0:\n",
        "  print(\"You are \" + str(risk*100) + \"% more likely to have behavioral disorder\")\n",
        "\n",
        "else:\n",
        "  print(\"You are \" + str(risk*-100) + \" % less likely to have behavioral disorder\")\n",
        "\n",
        "\n"
      ],
      "metadata": {
        "colab": {
          "base_uri": "https://localhost:8080/"
        },
        "id": "cjGg_T81SHTn",
        "outputId": "021c7ea5-f43c-40f3-b93c-ce1df6294239"
      },
      "execution_count": 41,
      "outputs": [
        {
          "output_type": "stream",
          "name": "stdout",
          "text": [
            "no.                            257\n",
            "sex                              M\n",
            "age                           22.0\n",
            "eeg.date                  2019.3.7\n",
            "education                     14.0\n",
            "                           ...    \n",
            "COH.F.gamma.p.P4.r.O1    21.125383\n",
            "COH.F.gamma.p.P4.s.O2    70.472324\n",
            "COH.F.gamma.q.T6.r.O1    18.250968\n",
            "COH.F.gamma.q.T6.s.O2    77.941488\n",
            "COH.F.gamma.r.O1.s.O2    20.326815\n",
            "Name: 256, Length: 1149, dtype: object\n",
            "0.14973292247221237\n",
            "You are 14.973292247221238% more likely to have behavioral disorder\n"
          ]
        }
      ]
    }
  ]
}