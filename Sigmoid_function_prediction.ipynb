{
  "nbformat": 4,
  "nbformat_minor": 0,
  "metadata": {
    "colab": {
      "provenance": [],
      "authorship_tag": "ABX9TyMzag5Jr1T+5N7j/ZVxMAcd",
      "include_colab_link": true
    },
    "kernelspec": {
      "name": "python3",
      "display_name": "Python 3"
    },
    "language_info": {
      "name": "python"
    }
  },
  "cells": [
    {
      "cell_type": "markdown",
      "metadata": {
        "id": "view-in-github",
        "colab_type": "text"
      },
      "source": [
        "<a href=\"https://colab.research.google.com/github/khushee-g/EEG/blob/main/Sigmoid_function_prediction.ipynb\" target=\"_parent\"><img src=\"https://colab.research.google.com/assets/colab-badge.svg\" alt=\"Open In Colab\"/></a>"
      ]
    },
    {
      "cell_type": "code",
      "execution_count": 76,
      "metadata": {
        "id": "8q9tIujVut9p"
      },
      "outputs": [],
      "source": [
        "import numpy as np\n",
        "import pandas as pd\n",
        "import matplotlib.pyplot as plt\n",
        "import statsmodels.api as sm\n",
        "from statsmodels.sandbox.regression.predstd import wls_prediction_std\n",
        "\n",
        "import pandas as pd\n",
        "import numpy as np\n",
        "import matplotlib.pyplot as plt\n",
        "import matplotlib.axes as ax\n",
        "from matplotlib.animation import FuncAnimation"
      ]
    },
    {
      "cell_type": "code",
      "source": [
        "import numpy as np\n",
        "import pandas as pd\n",
        "from sklearn.linear_model import LogisticRegression\n",
        "import statsmodels.api as sm\n",
        "\n",
        "top_features = ['COH.A.delta.a.FP1.b.FP2', 'COH.A.delta.f.F4.h.T3',\n",
        "                   'AB.C.alpha.q.T6', 'AB.B.theta.c.F7']\n",
        "data1 = pd.read_csv('/content/Sheet 1-numericBehaviorWithAgeOnly.csv')\n",
        "\n",
        "Y = data1['specific_disorder']\n",
        "X = data1[top_features]\n",
        "\n",
        "Y = data1['specific_disorder'] == 5\n",
        "\n",
        "X_with_const = sm.add_constant(X)\n",
        "logit_model = sm.Logit(Y, X_with_const)\n",
        "result = logit_model.fit()"
      ],
      "metadata": {
        "colab": {
          "base_uri": "https://localhost:8080/"
        },
        "id": "aVlO7dUauyio",
        "outputId": "1079b809-3c3d-4e30-a487-20eab2e3845c"
      },
      "execution_count": 77,
      "outputs": [
        {
          "output_type": "stream",
          "name": "stdout",
          "text": [
            "Optimization terminated successfully.\n",
            "         Current function value: 0.647229\n",
            "         Iterations 5\n"
          ]
        }
      ]
    },
    {
      "cell_type": "markdown",
      "source": [
        "# OVERALL MODEL ACCURACY"
      ],
      "metadata": {
        "id": "Bi4bcYje3TLi"
      }
    },
    {
      "cell_type": "code",
      "source": [
        "import random\n",
        "random.seed(16)\n",
        "# import the necessary libraries\n",
        "from sklearn.linear_model import LogisticRegression\n",
        "from sklearn.model_selection import train_test_split\n",
        "from sklearn.metrics import accuracy_score\n",
        "import pandas as pd\n",
        "\n",
        "df = pd.read_csv('/content/numericBehaviorWithAgeOnly.csv')\n",
        "\n",
        "\n",
        "X = df.drop(columns=['specific_disorder'])\n",
        "X = X[[col for col in X.columns if col in top_features]]\n",
        "\n",
        "y = df['specific_disorder']\n",
        "\n",
        "X_train, X_test, y_train, y_test = train_test_split(X, y, test_size=0.20)\n",
        "\n",
        "clf = LogisticRegression(random_state=0)\n",
        "clf.fit(X_train, y_train)\n",
        "\n",
        "y_pred = clf.predict(X_test)\n",
        "print(y_pred)\n",
        "\n",
        "acc = accuracy_score(y_test, y_pred)\n",
        "print(\"Logistic Regression model accuracy (in %):\", acc * 100)\n"
      ],
      "metadata": {
        "colab": {
          "base_uri": "https://localhost:8080/"
        },
        "id": "ApfokB-zwm5O",
        "outputId": "b4909d50-02be-4026-bf25-c77b81f3e5d6"
      },
      "execution_count": 78,
      "outputs": [
        {
          "output_type": "stream",
          "name": "stdout",
          "text": [
            "[4 5 5 4 5 4 4 4 4 5 5 5 5 4 4 4 5 4 4 5 4 4 4 4 4 5 5 5 4 4 4 5 5 4 4 5 5\n",
            " 5]\n",
            "Logistic Regression model accuracy (in %): 78.94736842105263\n"
          ]
        }
      ]
    },
    {
      "cell_type": "markdown",
      "source": [
        "# Muse Integration"
      ],
      "metadata": {
        "id": "guvTn6rk3YCr"
      }
    },
    {
      "cell_type": "code",
      "source": [
        "user_data = pd.read_csv('/content/Anna mindMonitor_2025-01-18--11-37-00.csv')\n",
        "data1 = pd.read_csv('/content/numericBehaviorWithAgeOnly.csv')\n"
      ],
      "metadata": {
        "id": "267WaR7hX0xq"
      },
      "execution_count": 122,
      "outputs": []
    },
    {
      "cell_type": "code",
      "source": [
        "#Delta AF7-AF8 coherence - corresponds to COH.A.delta.a.FP1.b.FP2\n",
        "\n",
        "from scipy import signal\n",
        "\n",
        "\n",
        "channel_1 = user_data['Delta_AF8'].values\n",
        "channel_2 = user_data['Delta_AF7'].values\n",
        "\n",
        "channel_1 = np.nan_to_num(channel_1, nan=np.nanmean(channel_1))\n",
        "channel_2 = np.nan_to_num(channel_2, nan=np.nanmean(channel_2))\n",
        "\n",
        "fs = 256\n",
        "f, Cxy = signal.coherence(channel_1, channel_2, fs=fs, nperseg=1024)  # fs is sampling frequency\n",
        "\n",
        "coherence_data = pd.DataFrame({'Frequency': f, 'Coherence DeltaAF7DeltaAF8': Cxy})\n",
        "\n",
        "coherence_AF8_AF7 = coherence_data['Coherence DeltaAF7DeltaAF8'].mean()\n",
        "coherence_AF8_AF7 *=100\n",
        "print(coherence_AF8_AF7)\n",
        "\n",
        "\n",
        "\n",
        "\n",
        "#Delta AF8-TP9 coherence - corresponds to COH.A.delta.f.F4.h.T3\n",
        "\n",
        "from scipy import signal\n",
        "\n",
        "data = pd.read_csv('/content/Khushee mindMonitor_2024-11-15--21-52-00.csv')\n",
        "\n",
        "channel_1 = data['Delta_AF8'].values\n",
        "channel_2 = data['Delta_TP9'].values\n",
        "\n",
        "channel_1 = np.nan_to_num(channel_1, nan=np.nanmean(channel_1))\n",
        "channel_2 = np.nan_to_num(channel_2, nan=np.nanmean(channel_2))\n",
        "\n",
        "fs = 256\n",
        "f, Cxy = signal.coherence(channel_1, channel_2, fs=fs, nperseg=1024)  # fs is sampling frequency\n",
        "\n",
        "coherence_data = pd.DataFrame({'Frequency': f, 'Coherence DeltaAF8DeltaTP9': Cxy})\n",
        "\n",
        "coherence_AF8_TP9 = coherence_data['Coherence DeltaAF8DeltaTP9'].mean()\n",
        "coherence_AF8_TP9 *=100\n",
        "print(coherence_AF8_TP9)"
      ],
      "metadata": {
        "colab": {
          "base_uri": "https://localhost:8080/"
        },
        "id": "VBF7JRINu2QY",
        "outputId": "b9a4aa5c-f349-443e-ee8a-8b44e184f2c0"
      },
      "execution_count": 123,
      "outputs": [
        {
          "output_type": "stream",
          "name": "stdout",
          "text": [
            "5.834539802500738\n",
            "13.916182133081339\n"
          ]
        },
        {
          "output_type": "stream",
          "name": "stderr",
          "text": [
            "<ipython-input-123-fe1f7d8a0e02>:28: DtypeWarning: Columns (39) have mixed types. Specify dtype option on import or set low_memory=False.\n",
            "  data = pd.read_csv('/content/Khushee mindMonitor_2024-11-15--21-52-00.csv')\n"
          ]
        }
      ]
    },
    {
      "cell_type": "code",
      "source": [
        "#COH.A.delta.a.FP1.b.FP2\n",
        "X = data1['COH.A.delta.a.FP1.b.FP2']\n",
        "\n",
        "Y = data1['specific_disorder'].apply(lambda x: 1 if x == 5 else -1)\n",
        "\n",
        "X_with_const = sm.add_constant(X)\n",
        "logit_model = sm.OLS(Y, X_with_const)\n",
        "result = logit_model.fit()\n",
        "\n",
        "\n",
        "prediction_data = pd.DataFrame({'const': [1], 'COH.A.delta.a.FP1.b.FP2': [coherence_AF8_AF7]})\n",
        "\n",
        "pred = result.get_prediction(prediction_data)\n",
        "\n",
        "\n",
        "risk1 = pred.predicted_mean[0]\n",
        "print(risk1)\n",
        "risk1_sigmoid = p = 1 / (1 + np.exp(-risk1))\n",
        "print(risk1_sigmoid)"
      ],
      "metadata": {
        "colab": {
          "base_uri": "https://localhost:8080/"
        },
        "id": "UesGy9Q0SFis",
        "outputId": "96ee75c0-ab9e-4cf9-846a-61c516b738f2"
      },
      "execution_count": 131,
      "outputs": [
        {
          "output_type": "stream",
          "name": "stdout",
          "text": [
            "0.7607541443366402\n",
            "0.6815174442888609\n"
          ]
        }
      ]
    },
    {
      "cell_type": "code",
      "source": [
        "\n",
        "Y = data1['specific_disorder'] == 5\n",
        "X = data1['COH.A.delta.f.F4.h.T3']\n",
        "\n",
        "Y = data1['specific_disorder'].apply(lambda x: 1 if x == 5 else -1)\n",
        "\n",
        "X_with_const = sm.add_constant(X)\n",
        "logit_model = sm.OLS(Y, X_with_const)\n",
        "result = logit_model.fit()\n",
        "\n",
        "\n",
        "prediction_data = pd.DataFrame({'const': [1], 'COH.A.delta.f.F4.h.T3': [coherence_AF8_TP9]})\n",
        "\n",
        "pred = result.get_prediction(prediction_data)\n",
        "\n",
        "\n",
        "risk2 = pred.predicted_mean[0]\n",
        "print(risk2)\n",
        "risk2_sigmoid = p = 1 / (1 + np.exp(-risk2))\n",
        "print(risk2_sigmoid)"
      ],
      "metadata": {
        "colab": {
          "base_uri": "https://localhost:8080/"
        },
        "id": "2YcBC4qAWASU",
        "outputId": "54624999-7117-4aa7-9732-d06812adfbfe"
      },
      "execution_count": 125,
      "outputs": [
        {
          "output_type": "stream",
          "name": "stdout",
          "text": [
            "-0.03840281931303248\n",
            "0.4904004749056047\n"
          ]
        }
      ]
    },
    {
      "cell_type": "code",
      "source": [
        "#AB.C.alpha.q.T6\n",
        "Y = data1['specific_disorder'] == 5\n",
        "X = data1['AB.C.alpha.q.T6']\n",
        "\n",
        "Y = data1['specific_disorder'].apply(lambda x: 1 if x == 5 else -1)\n",
        "\n",
        "X_with_const = sm.add_constant(X)\n",
        "logit_model = sm.OLS(Y, X_with_const)\n",
        "result = logit_model.fit()\n",
        "\n",
        "Delta_TP10 = user_data['Delta_TP10'].values\n",
        "Delta_TP10 = np.nan_to_num(channel_1, nan=np.nanmean(channel_1))\n",
        "Delta_TP10 = Delta_TP10.mean()\n",
        "\n",
        "prediction_data = pd.DataFrame({'const': [1], 'AB.C.alpha.q.T6': [Delta_TP10]})\n",
        "\n",
        "pred = result.get_prediction(prediction_data)\n",
        "\n",
        "\n",
        "risk3 = pred.predicted_mean[0]\n",
        "print(risk3)\n",
        "risk3_sigmoid = p = 1 / (1 + np.exp(-risk3))\n",
        "print(risk3_sigmoid)"
      ],
      "metadata": {
        "colab": {
          "base_uri": "https://localhost:8080/"
        },
        "id": "kH31BXPtWrkp",
        "outputId": "eca6e6cc-b9dd-4c1f-a92e-977339fb9f48"
      },
      "execution_count": 126,
      "outputs": [
        {
          "output_type": "stream",
          "name": "stdout",
          "text": [
            "0.07003983157376709\n",
            "0.517502803364436\n"
          ]
        }
      ]
    },
    {
      "cell_type": "code",
      "source": [
        "#AB.B.theta.c.F7\n",
        "Y = data1['specific_disorder'] == 5\n",
        "X = data1['AB.B.theta.c.F7']\n",
        "\n",
        "Y = data1['specific_disorder'].apply(lambda x: 1 if x == 5 else -1)\n",
        "\n",
        "X_with_const = sm.add_constant(X)\n",
        "logit_model = sm.OLS(Y, X_with_const)\n",
        "result = logit_model.fit()\n",
        "\n",
        "Theta_AF7 = user_data['Theta_AF7'].values\n",
        "Theta_AF7 = np.nan_to_num(channel_1, nan=np.nanmean(channel_1))\n",
        "Theta_AF7 = Theta_AF7.mean()\n",
        "\n",
        "prediction_data = pd.DataFrame({'const': [1], 'AB.B.theta.c.F7': [Theta_AF7]})\n",
        "\n",
        "pred = result.get_prediction(prediction_data)\n",
        "\n",
        "\n",
        "risk4 = pred.predicted_mean[0]\n",
        "print(risk4)\n",
        "risk4_sigmoid = p = 1 / (1 + np.exp(-risk4))\n",
        "print(risk4_sigmoid)"
      ],
      "metadata": {
        "colab": {
          "base_uri": "https://localhost:8080/"
        },
        "id": "bKo1g3whXuA0",
        "outputId": "0d0afe00-70be-4619-9427-b8d541f37815"
      },
      "execution_count": 127,
      "outputs": [
        {
          "output_type": "stream",
          "name": "stdout",
          "text": [
            "-0.0794331433572137\n",
            "0.4801521491035363\n"
          ]
        }
      ]
    },
    {
      "cell_type": "code",
      "source": [
        "risk_sigmoid_total = risk4_sigmoid + risk3_sigmoid + risk2_sigmoid + risk1_sigmoid\n",
        "risk_sigmoid_total = risk_sigmoid_total/4\n",
        "print(\"You have a \" + str(risk_sigmoid_total*100) +\"% chance of IAD\")\n",
        "print(\"Predictions over 50% raise alarm\")\n",
        "\n"
      ],
      "metadata": {
        "colab": {
          "base_uri": "https://localhost:8080/"
        },
        "id": "wHKnklCtfFaU",
        "outputId": "e00e8ee1-a97c-40cf-d39f-6601273d7f64"
      },
      "execution_count": 129,
      "outputs": [
        {
          "output_type": "stream",
          "name": "stdout",
          "text": [
            "You have a 54.23932179156095% chance of IAD\n",
            "Predictions over 50% raise alarm\n"
          ]
        }
      ]
    },
    {
      "cell_type": "code",
      "source": [
        "import statsmodels.formula.api as smf\n",
        "import pandas as pd\n",
        "import numpy as np\n",
        "\n",
        "# Initialize the dictionary to store the odds ratios\n",
        "odds_ratios_dict = {}\n",
        "\n",
        "channel_num = 0\n",
        "\n",
        "# Assuming top_features is defined somewhere before the loop\n",
        "for i in top_features:\n",
        "    print(f\"channel {i}\")\n",
        "\n",
        "    # Rename the column for the current channel\n",
        "    data1.rename(columns={i: f'channel_{channel_num}'}, inplace=True)\n",
        "    print(data1[f'channel_{channel_num}'])\n",
        "\n",
        "    # Prepare the X matrix (only the current channel)\n",
        "    X = data1[[f'channel_{channel_num}']]\n",
        "\n",
        "    # Convert 'specific_disorder' to a binary variable (assuming '5' is the target class)\n",
        "    data1['specific_disorder_binary'] = (data1['specific_disorder'] == 5).astype(int)\n",
        "\n",
        "    # Define the formula for logistic regression\n",
        "    formula_str = f\"specific_disorder_binary ~ channel_{channel_num}\"  # Update formula with current channel\n",
        "    print(formula_str)\n",
        "\n",
        "    # Fit the logistic regression model\n",
        "    log_reg = smf.logit(formula_str, data=data1).fit()\n",
        "    print(log_reg.summary())\n",
        "\n",
        "    # Calculate the odds ratios and their confidence intervals\n",
        "    odds_ratios = pd.DataFrame(\n",
        "        {\n",
        "            \"OR\": log_reg.params,\n",
        "            \"Lower CI\": log_reg.conf_int()[0],\n",
        "            \"Upper CI\": log_reg.conf_int()[1],\n",
        "        }\n",
        "    )\n",
        "    odds_ratios = np.exp(odds_ratios)  # Exponentiate to get odds ratios\n",
        "\n",
        "    # Save each odds ratio as a separate variable in the dictionary\n",
        "    odds_ratios_dict[f'channel_{channel_num}_odds_ratio'] = odds_ratios\n",
        "\n",
        "    channel_num += 1\n",
        "    print(f\"ODDS RATIO for channel {i}:\")\n",
        "    print(odds_ratios)\n",
        "\n",
        "# Optionally, you can print out all the stored odds ratios\n",
        "print(\"\\nAll Odds Ratios saved in the dictionary:\")\n",
        "for key, value in odds_ratios_dict.items():\n",
        "    print(f\"{key}:\")\n",
        "    print(value)\n"
      ],
      "metadata": {
        "id": "B73AOkVqLVHh"
      },
      "execution_count": null,
      "outputs": []
    }
  ]
}