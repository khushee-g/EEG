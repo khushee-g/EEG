{
  "nbformat": 4,
  "nbformat_minor": 0,
  "metadata": {
    "colab": {
      "provenance": [],
      "authorship_tag": "ABX9TyPr9ywKbjfBNboOTctbBrVI",
      "include_colab_link": true
    },
    "kernelspec": {
      "name": "python3",
      "display_name": "Python 3"
    },
    "language_info": {
      "name": "python"
    }
  },
  "cells": [
    {
      "cell_type": "markdown",
      "metadata": {
        "id": "view-in-github",
        "colab_type": "text"
      },
      "source": [
        "<a href=\"https://colab.research.google.com/github/khushee-g/EEG/blob/main/Redone_With_Visualization_Final_Model_Sigmoid_function_prediction.ipynb\" target=\"_parent\"><img src=\"https://colab.research.google.com/assets/colab-badge.svg\" alt=\"Open In Colab\"/></a>"
      ]
    },
    {
      "cell_type": "markdown",
      "source": [
        "##Initialization"
      ],
      "metadata": {
        "id": "ukdP9nEybtcb"
      }
    },
    {
      "cell_type": "code",
      "execution_count": 28,
      "metadata": {
        "id": "8q9tIujVut9p"
      },
      "outputs": [],
      "source": [
        "import numpy as np\n",
        "import pandas as pd\n",
        "import matplotlib.pyplot as plt\n",
        "import statsmodels.api as sm\n",
        "from statsmodels.sandbox.regression.predstd import wls_prediction_std\n",
        "\n",
        "import pandas as pd\n",
        "import numpy as np\n",
        "import matplotlib.pyplot as plt\n",
        "import matplotlib.axes as ax\n",
        "from matplotlib.animation import FuncAnimation"
      ]
    },
    {
      "cell_type": "code",
      "source": [
        "import numpy as np\n",
        "import pandas as pd\n",
        "from sklearn.linear_model import LogisticRegression\n",
        "import statsmodels.api as sm\n",
        "\n",
        "top_features = ['AB.C.alpha.q.T6', 'COH.A.delta.a.FP1.h.T3', 'COH.A.delta.b.FP2.m.T5']\n",
        "data1 = pd.read_csv('/content/Sheet 1-numericBehaviorWithAgeOnly.csv')\n",
        "\n",
        "Y = data1['specific_disorder']\n",
        "X = data1[top_features]\n",
        "\n",
        "Y = data1['specific_disorder'] == 5\n",
        "\n",
        "X_with_const = sm.add_constant(X)\n",
        "logit_model = sm.Logit(Y, X_with_const)\n",
        "result = logit_model.fit()"
      ],
      "metadata": {
        "colab": {
          "base_uri": "https://localhost:8080/"
        },
        "id": "aVlO7dUauyio",
        "outputId": "8ffb1b2f-f66b-47d4-89cb-2debed0e087e"
      },
      "execution_count": 29,
      "outputs": [
        {
          "output_type": "stream",
          "name": "stdout",
          "text": [
            "Optimization terminated successfully.\n",
            "         Current function value: 0.664429\n",
            "         Iterations 5\n"
          ]
        }
      ]
    },
    {
      "cell_type": "markdown",
      "source": [
        "# OVERALL MODEL ACCURACY"
      ],
      "metadata": {
        "id": "Bi4bcYje3TLi"
      }
    },
    {
      "cell_type": "code",
      "source": [
        "import random\n",
        "random.seed(16)\n",
        "np.random.seed(16)\n",
        "# import the necessary libraries\n",
        "from sklearn.linear_model import LogisticRegression\n",
        "from sklearn.model_selection import train_test_split\n",
        "from sklearn.metrics import accuracy_score\n",
        "import pandas as pd\n",
        "\n",
        "df = pd.read_csv('/content/numericBehaviorWithAgeOnly.csv')\n",
        "\n",
        "y = df['specific_disorder']\n",
        "\n",
        "X = df.drop(columns=['specific_disorder'])\n",
        "X = X[[col for col in X.columns if col in top_features]]\n",
        "\n",
        "X_train, X_test, y_train, y_test = train_test_split(X, y, test_size=0.20)\n",
        "\n",
        "clf = LogisticRegression(random_state=0)\n",
        "clf.fit(X_train, y_train)\n",
        "\n",
        "y_pred = clf.predict(X_test)\n",
        "print(y_pred)\n",
        "\n",
        "acc = accuracy_score(y_test, y_pred)\n",
        "print(\"Logistic Regression model accuracy (in %):\", acc * 100)\n"
      ],
      "metadata": {
        "colab": {
          "base_uri": "https://localhost:8080/"
        },
        "id": "ApfokB-zwm5O",
        "outputId": "35737c28-1c10-4c03-f0a0-ee7a97596300"
      },
      "execution_count": 30,
      "outputs": [
        {
          "output_type": "stream",
          "name": "stdout",
          "text": [
            "[5 5 5 5 5 5 5 4 5 4 5 4 4 5 4 5 5 4 5 5 4 4 5 4 5 5 4 4 4 4 4 4 5 4 4 4 4\n",
            " 4]\n",
            "Logistic Regression model accuracy (in %): 52.63157894736842\n"
          ]
        }
      ]
    },
    {
      "cell_type": "markdown",
      "source": [
        "# Muse Integration"
      ],
      "metadata": {
        "id": "guvTn6rk3YCr"
      }
    },
    {
      "cell_type": "code",
      "source": [
        "user_data = pd.read_csv('/content/Khushee mindMonitor_2024-11-15--21-52-00.csv')\n",
        "data1 = pd.read_csv('/content/numericBehaviorWithAgeOnly.csv')\n"
      ],
      "metadata": {
        "id": "267WaR7hX0xq",
        "colab": {
          "base_uri": "https://localhost:8080/"
        },
        "outputId": "98e074a6-b43e-41a1-b521-b6939b9b5ff9"
      },
      "execution_count": 31,
      "outputs": [
        {
          "output_type": "stream",
          "name": "stderr",
          "text": [
            "<ipython-input-31-68862582fc80>:1: DtypeWarning: Columns (39) have mixed types. Specify dtype option on import or set low_memory=False.\n",
            "  user_data = pd.read_csv('/content/Khushee mindMonitor_2024-11-15--21-52-00.csv')\n"
          ]
        }
      ]
    },
    {
      "cell_type": "code",
      "source": [
        "row = 0"
      ],
      "metadata": {
        "id": "IailmtHRbjO0"
      },
      "execution_count": 32,
      "outputs": []
    },
    {
      "cell_type": "code",
      "source": [
        "#Delta AF7-AF8 coherence - corresponds to COH.A.delta.b.FP2.m.T5\n",
        "\n",
        "from scipy import signal\n",
        "\n",
        "\n",
        "channel_1 = user_data['Delta_AF8'].values\n",
        "channel_2 = user_data['Delta_AF7'].values\n",
        "\n",
        "channel_1 = np.nan_to_num(channel_1, nan=np.nanmean(channel_1))\n",
        "channel_2 = np.nan_to_num(channel_2, nan=np.nanmean(channel_2))\n",
        "\n",
        "fs = 256\n",
        "f, Cxy = signal.coherence(channel_1, channel_2, fs=fs, nperseg=1024)  # fs is sampling frequency\n",
        "\n",
        "coherence_data = pd.DataFrame({'Frequency': f, 'Coherence DeltaAF7DeltaAF8': Cxy})\n",
        "\n",
        "coherence_AF8_AF7 = coherence_data['Coherence DeltaAF7DeltaAF8'].mean()\n",
        "coherence_AF8_AF7 *=100\n",
        "print(coherence_AF8_AF7)\n",
        "\n",
        "\n",
        "\n",
        "\n",
        "#Delta AF7 - TP9 coherence - corresponds to COH.A.delta.a.FP1.h.T3\n",
        "\n",
        "from scipy import signal\n",
        "\n",
        "data = pd.read_csv('/content/Khushee mindMonitor_2024-11-15--21-52-00.csv')\n",
        "\n",
        "channel_1 = data['Delta_AF7'].values\n",
        "channel_2 = data['Delta_TP9'].values\n",
        "\n",
        "channel_1 = np.nan_to_num(channel_1, nan=np.nanmean(channel_1))\n",
        "channel_2 = np.nan_to_num(channel_2, nan=np.nanmean(channel_2))\n",
        "\n",
        "fs = 256\n",
        "f, Cxy = signal.coherence(channel_1, channel_2, fs=fs, nperseg=1024)  # fs is sampling frequency\n",
        "\n",
        "coherence_data = pd.DataFrame({'Frequency': f, 'Coherence DeltaAF7DeltaTP9': Cxy})\n",
        "\n",
        "coherence_AF7_TP9 = coherence_data['Coherence DeltaAF7DeltaTP9'].mean()\n",
        "coherence_AF7_TP9 *=100\n",
        "print(coherence_AF7_TP9)"
      ],
      "metadata": {
        "colab": {
          "base_uri": "https://localhost:8080/"
        },
        "id": "VBF7JRINu2QY",
        "outputId": "5aba4d4c-68ce-4a79-e193-3c626bcb338b"
      },
      "execution_count": 33,
      "outputs": [
        {
          "output_type": "stream",
          "name": "stdout",
          "text": [
            "13.365575864956632\n",
            "5.851293322892614\n"
          ]
        },
        {
          "output_type": "stream",
          "name": "stderr",
          "text": [
            "<ipython-input-33-2f2f240b2b59>:28: DtypeWarning: Columns (39) have mixed types. Specify dtype option on import or set low_memory=False.\n",
            "  data = pd.read_csv('/content/Khushee mindMonitor_2024-11-15--21-52-00.csv')\n"
          ]
        }
      ]
    },
    {
      "cell_type": "code",
      "source": [
        "#COH.A.delta.b.FP2.m.T5\n",
        "X = data1['COH.A.delta.b.FP2.m.T5']\n",
        "\n",
        "Y = data1['specific_disorder'].apply(lambda x: 1 if x == 5 else 0)\n",
        "\n",
        "X_with_const = sm.add_constant(X)\n",
        "logit_model = sm.Logit(Y, X_with_const)\n",
        "result = logit_model.fit()\n",
        "\n",
        "print(X.mean())\n",
        "\n",
        "\n",
        "prediction_data = pd.DataFrame({'const': [1], 'COH.A.delta.b.FP2.m.T5': [coherence_AF8_AF7]})\n",
        "print(result.summary())\n",
        "\n",
        "pred = result.get_prediction(prediction_data)\n",
        "print(pred)\n",
        "print(result.summary())\n",
        "\n",
        "\n",
        "print(pred.__dict__)\n",
        "risk1 = -0.0246*(coherence_AF8_AF7) + 1.7527\n",
        "print(risk1)\n",
        "risk1_sigmoid = p = 1 / (1 + np.exp(-risk1))\n",
        "print(risk1_sigmoid)\n",
        "\n",
        "#Note: significant difference between equation-based prediction and pred.predicted_mean[0]"
      ],
      "metadata": {
        "colab": {
          "base_uri": "https://localhost:8080/"
        },
        "id": "UesGy9Q0SFis",
        "outputId": "f5d0b404-7530-4bf8-eac5-642440d88282",
        "collapsed": true
      },
      "execution_count": 34,
      "outputs": [
        {
          "output_type": "stream",
          "name": "stdout",
          "text": [
            "Optimization terminated successfully.\n",
            "         Current function value: 0.688462\n",
            "         Iterations 4\n",
            "10.196074590425532\n",
            "                           Logit Regression Results                           \n",
            "==============================================================================\n",
            "Dep. Variable:      specific_disorder   No. Observations:                  188\n",
            "Model:                          Logit   Df Residuals:                      186\n",
            "Method:                           MLE   Df Model:                            1\n",
            "Date:                Thu, 27 Feb 2025   Pseudo R-squ.:                0.006679\n",
            "Time:                        06:34:15   Log-Likelihood:                -129.43\n",
            "converged:                       True   LL-Null:                       -130.30\n",
            "Covariance Type:            nonrobust   LLR p-value:                    0.1871\n",
            "==========================================================================================\n",
            "                             coef    std err          z      P>|z|      [0.025      0.975]\n",
            "------------------------------------------------------------------------------------------\n",
            "const                      0.1521      0.197      0.771      0.441      -0.234       0.539\n",
            "COH.A.delta.b.FP2.m.T5    -0.0172      0.013     -1.294      0.196      -0.043       0.009\n",
            "==========================================================================================\n",
            "<statsmodels.base._prediction_inference.PredictionResultsMonotonic object at 0x7c5a67142610>\n",
            "                           Logit Regression Results                           \n",
            "==============================================================================\n",
            "Dep. Variable:      specific_disorder   No. Observations:                  188\n",
            "Model:                          Logit   Df Residuals:                      186\n",
            "Method:                           MLE   Df Model:                            1\n",
            "Date:                Thu, 27 Feb 2025   Pseudo R-squ.:                0.006679\n",
            "Time:                        06:34:15   Log-Likelihood:                -129.43\n",
            "converged:                       True   LL-Null:                       -130.30\n",
            "Covariance Type:            nonrobust   LLR p-value:                    0.1871\n",
            "==========================================================================================\n",
            "                             coef    std err          z      P>|z|      [0.025      0.975]\n",
            "------------------------------------------------------------------------------------------\n",
            "const                      0.1521      0.197      0.771      0.441      -0.234       0.539\n",
            "COH.A.delta.b.FP2.m.T5    -0.0172      0.013     -1.294      0.196      -0.043       0.009\n",
            "==========================================================================================\n",
            "{'predicted': array([0.4807243]), 'var_pred': array([0.00146579]), 'linpred': array([-0.07714105]), 'linpred_se': array([0.15337023]), 'func': <bound method Logit.inverse of <statsmodels.genmod.families.links.Logit object at 0x7c5a67484e90>>, 'deriv': <bound method Logit.inverse_deriv of <statsmodels.genmod.families.links.Logit object at 0x7c5a67484e90>>, 'df': 186.0, 'row_labels': RangeIndex(start=0, stop=1, step=1), 'dist': <scipy.stats._continuous_distns.norm_gen object at 0x7c5a71bcfc90>, 'dist_args': ()}\n",
            "1.4239068337220668\n",
            "0.8059501541571764\n"
          ]
        }
      ]
    },
    {
      "cell_type": "code",
      "source": [
        "print(pred.predicted)"
      ],
      "metadata": {
        "colab": {
          "base_uri": "https://localhost:8080/"
        },
        "id": "i9ZOo_NqgcpZ",
        "outputId": "730cc992-1d0b-4695-c160-e7159eba66f8"
      },
      "execution_count": 35,
      "outputs": [
        {
          "output_type": "stream",
          "name": "stdout",
          "text": [
            "[0.4807243]\n"
          ]
        }
      ]
    },
    {
      "cell_type": "code",
      "source": [
        "#COH.A.delta.a.FP1.h.T3\n",
        "Y = data1['specific_disorder'] == 5\n",
        "X = data1['COH.A.delta.a.FP1.h.T3']\n",
        "\n",
        "Y = data1['specific_disorder'].apply(lambda x: 1 if x == 5 else 0)\n",
        "\n",
        "X_with_const = sm.add_constant(X)\n",
        "logit_model = sm.Logit(Y, X_with_const)\n",
        "result = logit_model.fit()\n",
        "\n",
        "\n",
        "\n",
        "prediction_data = pd.DataFrame({'const': [1], 'COH.A.delta.a.FP1.h.T3': [coherence_AF7_TP9]})\n",
        "\n",
        "pred = result.get_prediction(prediction_data)\n",
        "\n",
        "\n",
        "#risk2 = pred.predicted_mean[0]\n",
        "\n",
        "risk2 =  -0.0040*(coherence_AF7_TP9) + 0.1324\n",
        "print(risk2)\n",
        "risk2_sigmoid = p = 1 / (1 + np.exp(-risk2))\n",
        "print(risk2_sigmoid)"
      ],
      "metadata": {
        "id": "2YcBC4qAWASU",
        "colab": {
          "base_uri": "https://localhost:8080/"
        },
        "outputId": "34e511e4-69e8-4c11-dde8-7f73725b5737"
      },
      "execution_count": 36,
      "outputs": [
        {
          "output_type": "stream",
          "name": "stdout",
          "text": [
            "Optimization terminated successfully.\n",
            "         Current function value: 0.686978\n",
            "         Iterations 4\n",
            "0.10899482670842953\n",
            "0.5272217627561653\n"
          ]
        }
      ]
    },
    {
      "cell_type": "code",
      "source": [
        "#AB.C.alpha.q.T6\n",
        "Y = data1['specific_disorder'] == 5\n",
        "X = data1['AB.C.alpha.q.T6']\n",
        "\n",
        "Y = data1['specific_disorder'].apply(lambda x: 1 if x == 5 else 0)\n",
        "\n",
        "X_with_const = sm.add_constant(X)\n",
        "logit_model = sm.Logit(Y, X_with_const)\n",
        "result = logit_model.fit()\n",
        "\n",
        "Delta_TP10 = user_data['Delta_TP10'].values\n",
        "Delta_TP10 = np.nan_to_num(channel_1, nan=np.nanmean(channel_1))\n",
        "Delta_TP10 = Delta_TP10.mean()\n",
        "\n",
        "prediction_data = pd.DataFrame({'const': [1], 'AB.C.alpha.q.T6': [Delta_TP10]})\n",
        "\n",
        "pred = result.get_prediction(prediction_data)\n",
        "\n",
        "\n",
        "#risk3 = pred.predicted_mean[0]\n",
        "risk3 = 0.0097*data['Delta_TP10'].mean() - 0.1531\n",
        "print(risk3)\n",
        "risk3_sigmoid = p = 1 / (1 + np.exp(-risk3))\n",
        "print(risk3_sigmoid)"
      ],
      "metadata": {
        "id": "kH31BXPtWrkp",
        "colab": {
          "base_uri": "https://localhost:8080/"
        },
        "outputId": "042f107a-b1a3-4cd2-f5f2-07f6119cd4e9"
      },
      "execution_count": 37,
      "outputs": [
        {
          "output_type": "stream",
          "name": "stdout",
          "text": [
            "Optimization terminated successfully.\n",
            "         Current function value: 0.687085\n",
            "         Iterations 5\n",
            "-0.14750334114591296\n",
            "0.4631908792513958\n"
          ]
        }
      ]
    },
    {
      "cell_type": "markdown",
      "source": [
        "#Result\n"
      ],
      "metadata": {
        "id": "zvEZ5CB_cDFE"
      }
    },
    {
      "cell_type": "code",
      "source": [
        "\n",
        "\n",
        "if risk3_sigmoid < 0.5:\n",
        "  risk3_sigmoid = -1*(0.5 - risk3_sigmoid)\n",
        "\n",
        "if risk2_sigmoid < 0.5:\n",
        "  risk2_sigmoid = -1*(0.5 - risk2_sigmoid)\n",
        "\n",
        "if risk1_sigmoid < 0.5:\n",
        "  risk1_sigmoid = -1*(0.5 - risk1_sigmoid)\n",
        "\n",
        "\n",
        "if risk3_sigmoid > 0.5:\n",
        "  risk3_sigmoid = (risk3_sigmoid-0.5)\n",
        "if risk2_sigmoid > 0.5:\n",
        "  risk2_sigmoid = (risk2_sigmoid-0.5)\n",
        "if risk1_sigmoid > 0.5:\n",
        "  risk1_sigmoid = (risk1_sigmoid-0.5)\n",
        "\n",
        "\n",
        "risk_sigmoid_total =  risk3_sigmoid + risk1_sigmoid\n",
        "print(risk3_sigmoid)\n",
        "print(risk2_sigmoid)\n",
        "print(risk1_sigmoid)\n",
        "\n",
        "\n",
        "output = \"\";\n",
        "if risk_sigmoid_total<0:\n",
        "  output = \"You are \" + str(risk_sigmoid_total*-100) +\"% less likely to have IAD\"\n",
        "if risk_sigmoid_total>0:\n",
        "  output = \"You are \" + str(risk_sigmoid_total*100) +\"% more likely to have IAD\"\n",
        "if risk_sigmoid_total==0:\n",
        "  output = \"Prediction cannot be made.\"\n",
        "\n",
        "print(output)\n",
        "print(risk_sigmoid_total)\n",
        "\n",
        "#equation based: 25.56406586142109% less likely\n",
        "#prediction fuction based: 15.022754660005367% more likely\n"
      ],
      "metadata": {
        "id": "wHKnklCtfFaU",
        "colab": {
          "base_uri": "https://localhost:8080/"
        },
        "outputId": "3e82928a-8151-4bbb-d5b1-aae16d7d05a2"
      },
      "execution_count": 38,
      "outputs": [
        {
          "output_type": "stream",
          "name": "stdout",
          "text": [
            "-0.03680912074860421\n",
            "0.02722176275616528\n",
            "0.3059501541571764\n",
            "You are 26.91410334085722% more likely to have IAD\n",
            "0.2691410334085722\n"
          ]
        }
      ]
    },
    {
      "cell_type": "markdown",
      "source": [
        "#User Output"
      ],
      "metadata": {
        "id": "f73OxWqNc0_C"
      }
    },
    {
      "cell_type": "code",
      "source": [
        "print(output)\n",
        "\n",
        "\n",
        "# Sample data\n",
        "categories = ['coherence_AF8_AF7', 'coherence_AF7_TP9', 'Alpha_TP10']\n",
        "values = [risk1, risk2, risk3]\n",
        "colors = ['lightpink', 'palegreen', 'navajowhite', 'violet']\n",
        "\n",
        "\n",
        "# Create the bar chart\n",
        "plt.figure(figsize=(10, 6))  # Adjust figure size as needed\n",
        "bars = plt.bar(categories, values, color=colors)\n",
        "line = plt.axhline(y=0, color='r', linestyle='-', label='y=0')\n",
        "plt.legend(bars, categories)\n",
        "\n",
        "# Add labels and title\n",
        "plt.xlabel('Categories')\n",
        "plt.ylabel('Risk')\n",
        "plt.title('Channel-Specific Risk Bar Chart')\n",
        "\n",
        "# Show the plot\n",
        "plt.show()\n",
        "\n",
        "\n",
        "\n",
        "\n",
        "\n"
      ],
      "metadata": {
        "colab": {
          "base_uri": "https://localhost:8080/",
          "height": 568
        },
        "id": "5kKfNXVfcttW",
        "outputId": "379949fb-0a95-4e06-9721-9f51d93a140d"
      },
      "execution_count": 39,
      "outputs": [
        {
          "output_type": "stream",
          "name": "stdout",
          "text": [
            "You are 26.91410334085722% more likely to have IAD\n"
          ]
        },
        {
          "output_type": "display_data",
          "data": {
            "text/plain": [
              "<Figure size 1000x600 with 1 Axes>"
            ],
            "image/png": "[encoded data removed]"
          },
          "metadata": {}
        }
      ]
    },
    {
      "cell_type": "code",
      "source": [
        "#COH.A.delta.a.FP1.b.FP2\n",
        "#COH.A.delta.a.FP1.b.FP2\n",
        "import numpy as np\n",
        "import pandas as pd\n",
        "import matplotlib.pyplot as plt\n",
        "import seaborn as sns\n",
        "import statsmodels.api as sm\n",
        "from scipy.stats import norm\n",
        "\n",
        "X = data1[['COH.A.delta.a.FP1.b.FP2', 'COH.A.delta.f.F4.h.T3', 'AB.C.alpha.q.T6', 'AB.B.theta.c.F7']] # Changed tuple to a list\n",
        "\n",
        "Y = data1['specific_disorder'].apply(lambda x: 1 if x == 5 else 0)\n",
        "\n",
        "X_with_const = sm.add_constant(X)\n",
        "logit_model = sm.Logit(Y, X_with_const)\n",
        "result = logit_model.fit()\n",
        "\n",
        "\n",
        "\n",
        "prediction_data = pd.DataFrame({'const': [1], 'COH.A.delta.a.FP1.b.FP2': [coherence_AF8_AF7]})\n",
        "\n",
        "logit_values = result.fittedvalues\n",
        "\n",
        "x_vals = np.linspace(min(logit_values), max(logit_values), 100)\n",
        "\n",
        "mu, std = np.mean(logit_values), np.std(logit_values)\n",
        "\n",
        "gaussian_curve = norm.pdf(x_vals, mu, std)\n",
        "\n",
        "sns.histplot(logit_values, kde=False, bins=30, color='gainsboro', stat='density', label=\"Logit Values\")\n",
        "\n",
        "plt.plot(x_vals, gaussian_curve, color='darkviolet', label='Gaussian Curve')\n",
        "\n",
        "plt.xlabel('Logit Values')\n",
        "plt.ylabel('Density')\n",
        "plt.title('Logit Values and Gaussian Curve')\n",
        "plt.legend()\n",
        "\n",
        "plt.show()\n",
        "\n",
        "\n"
      ],
      "metadata": {
        "colab": {
          "base_uri": "https://localhost:8080/",
          "height": 523
        },
        "id": "jdwU4uurdya0",
        "outputId": "91b981e5-7242-4b21-da26-6108f34a3de5"
      },
      "execution_count": 40,
      "outputs": [
        {
          "output_type": "stream",
          "name": "stdout",
          "text": [
            "Optimization terminated successfully.\n",
            "         Current function value: 0.648650\n",
            "         Iterations 5\n"
          ]
        },
        {
          "output_type": "display_data",
          "data": {
            "text/plain": [
              "<Figure size 640x480 with 1 Axes>"
            ],
            "image/png": "[encoded data removed]"
          },
          "metadata": {}
        }
      ]
    },
    {
      "cell_type": "code",
      "source": [
        "import numpy as np\n",
        "import pandas as pd\n",
        "import matplotlib.pyplot as plt\n",
        "import seaborn as sns\n",
        "import statsmodels.api as sm\n",
        "from scipy.stats import norm\n",
        "\n",
        "X = data1[['COH.A.delta.a.FP1.b.FP2', 'COH.A.delta.f.F4.h.T3', 'AB.C.alpha.q.T6', 'AB.B.theta.c.F7']] # Changed tuple to a list\n",
        "\n",
        "Y = data1['specific_disorder'].apply(lambda x: 1 if x == 5 else 0)\n",
        "\n",
        "X_with_const = sm.add_constant(X)\n",
        "logit_model = sm.Logit(Y, X_with_const)\n",
        "result = logit_model.fit()\n",
        "\n",
        "prediction_data = pd.DataFrame({'const': [1], 'COH.A.delta.a.FP1.b.FP2': [coherence_AF8_AF7]})\n",
        "\n",
        "logit_values = result.fittedvalues\n",
        "\n",
        "# Create a range of values for the x-axis (logit space)\n",
        "x_vals = np.linspace(min(logit_values), max(logit_values), 100)\n",
        "\n",
        "# Get the mean and standard deviation of the logit values\n",
        "mu, std = np.mean(logit_values), np.std(logit_values)\n",
        "\n",
        "# Calculate the Gaussian curve\n",
        "gaussian_curve = norm.pdf(x_vals, mu, std)\n",
        "\n",
        "# Plot the histogram of the logit values\n",
        "sns.histplot(logit_values, kde=False, bins=30, color='blue', stat='density', label=\"Logit Values\")\n",
        "\n",
        "# Overlay the Gaussian curve\n",
        "plt.plot(x_vals, gaussian_curve, color='red', label='Gaussian Curve')\n",
        "\n",
        "# Plot the confidence intervals (shaded region)\n",
        "plt.fill_between(x_vals, norm.pdf(x_vals, mu - 1.96*std, std), norm.pdf(x_vals, mu + 1.96*std, std),\n",
        "                 color='gray', alpha=0.3, label=\"95% Confidence Interval\")\n",
        "\n",
        "# Add labels and title\n",
        "plt.xlabel('Logit Values')\n",
        "plt.ylabel('Density')\n",
        "plt.title('Logit Values with Gaussian Curve and Confidence Interval')\n",
        "plt.legend()\n",
        "\n",
        "plt.show()"
      ],
      "metadata": {
        "colab": {
          "base_uri": "https://localhost:8080/",
          "height": 523
        },
        "id": "JAg9LvsJg28T",
        "outputId": "ac3d1999-38ab-48a4-89aa-d942d48cb6d0"
      },
      "execution_count": 41,
      "outputs": [
        {
          "output_type": "stream",
          "name": "stdout",
          "text": [
            "Optimization terminated successfully.\n",
            "         Current function value: 0.648650\n",
            "         Iterations 5\n"
          ]
        },
        {
          "output_type": "display_data",
          "data": {
            "text/plain": [
              "<Figure size 640x480 with 1 Axes>"
            ],
            "image/png": "[encoded data removed]"
          },
          "metadata": {}
        }
      ]
    },
    {
      "cell_type": "code",
      "source": [
        "def plot_eeg(levels, positions, axes, fig, ch_names=None, cmap='viridis', cb_pos=None,\n",
        "             cb_width=0.1, cb_height=0.15, marker=None, marker_style=None,\n",
        "             vmin=None, vmax=None, **kwargs):\n",
        "\n",
        "    if marker is not None:\n",
        "        mask = np.array([ch in marker for ch in ch_names])\n",
        "    else:\n",
        "        mask = None\n",
        "\n",
        "    vlim = (vmin, vmax) if vmin is not None and vmax is not None else (None, None)\n",
        "\n",
        "    im, cm = mne.viz.plot_topomap(levels, positions, axes=axes, names=ch_names,\n",
        "                                  vlim=vlim,\n",
        "                                  cmap=cmap, mask=mask, mask_params=marker_style,\n",
        "                                  show=False, **kwargs)\n",
        "\n",
        "\n",
        "fig = plt.figure(constrained_layout=True, figsize=(6, 4))\n",
        "test2 = [\n",
        "    spec_mean.loc['Behavioral addiction disorder', 'delta'],\n",
        "    spec_mean.loc['Healthy control', 'delta'],\n",
        "]\n",
        "subfigs = fig.subfigures(2, 2)\n",
        "for subfig, test1 in zip(subfigs.flatten(), test2):\n",
        "    ax = subfig.subplots()\n",
        "    plot_eeg(test1, channels.to_numpy(), ax, subfig, marker_style={'markersize': 2, 'markerfacecolor': 'black'})\n",
        "subfigs[0, 0].suptitle('Behavioral addiction disorder', y=1.3)\n",
        "subfigs[0, 1].suptitle('Healthy control', y=1.3)\n",
        "subfigs[0, 0].axes[0].set_ylabel('delta')\n",
        "subfigs[0, 1].axes[0].set_ylabel('delta ')\n",
        "plt.show()"
      ],
      "metadata": {
        "colab": {
          "base_uri": "https://localhost:8080/",
          "height": 224
        },
        "id": "_mjCD78fke4i",
        "outputId": "e165d67a-eb9e-4684-bc02-5b3af1963fa4"
      },
      "execution_count": 42,
      "outputs": [
        {
          "output_type": "error",
          "ename": "NameError",
          "evalue": "name 'spec_mean' is not defined",
          "traceback": [
            "\u001b[0;31m---------------------------------------------------------------------------\u001b[0m",
            "\u001b[0;31mNameError\u001b[0m                                 Traceback (most recent call last)",
            "\u001b[0;32m<ipython-input-42-c0424feea99d>\u001b[0m in \u001b[0;36m<cell line: 0>\u001b[0;34m()\u001b[0m\n\u001b[1;32m     18\u001b[0m \u001b[0mfig\u001b[0m \u001b[0;34m=\u001b[0m \u001b[0mplt\u001b[0m\u001b[0;34m.\u001b[0m\u001b[0mfigure\u001b[0m\u001b[0;34m(\u001b[0m\u001b[0mconstrained_layout\u001b[0m\u001b[0;34m=\u001b[0m\u001b[0;32mTrue\u001b[0m\u001b[0;34m,\u001b[0m \u001b[0mfigsize\u001b[0m\u001b[0;34m=\u001b[0m\u001b[0;34m(\u001b[0m\u001b[0;36m6\u001b[0m\u001b[0;34m,\u001b[0m \u001b[0;36m4\u001b[0m\u001b[0;34m)\u001b[0m\u001b[0;34m)\u001b[0m\u001b[0;34m\u001b[0m\u001b[0;34m\u001b[0m\u001b[0m\n\u001b[1;32m     19\u001b[0m test2 = [\n\u001b[0;32m---> 20\u001b[0;31m     \u001b[0mspec_mean\u001b[0m\u001b[0;34m.\u001b[0m\u001b[0mloc\u001b[0m\u001b[0;34m[\u001b[0m\u001b[0;34m'Behavioral addiction disorder'\u001b[0m\u001b[0;34m,\u001b[0m \u001b[0;34m'delta'\u001b[0m\u001b[0;34m]\u001b[0m\u001b[0;34m,\u001b[0m\u001b[0;34m\u001b[0m\u001b[0;34m\u001b[0m\u001b[0m\n\u001b[0m\u001b[1;32m     21\u001b[0m     \u001b[0mspec_mean\u001b[0m\u001b[0;34m.\u001b[0m\u001b[0mloc\u001b[0m\u001b[0;34m[\u001b[0m\u001b[0;34m'Healthy control'\u001b[0m\u001b[0;34m,\u001b[0m \u001b[0;34m'delta'\u001b[0m\u001b[0;34m]\u001b[0m\u001b[0;34m,\u001b[0m\u001b[0;34m\u001b[0m\u001b[0;34m\u001b[0m\u001b[0m\n\u001b[1;32m     22\u001b[0m ]\n",
            "\u001b[0;31mNameError\u001b[0m: name 'spec_mean' is not defined"
          ]
        },
        {
          "output_type": "display_data",
          "data": {
            "text/plain": [
              "<Figure size 600x400 with 0 Axes>"
            ]
          },
          "metadata": {}
        }
      ]
    },
    {
      "cell_type": "markdown",
      "source": [],
      "metadata": {
        "id": "Oav3wISZjv8V"
      }
    },
    {
      "cell_type": "markdown",
      "source": [],
      "metadata": {
        "id": "OWetvKqEjrGO"
      }
    },
    {
      "cell_type": "markdown",
      "source": [],
      "metadata": {
        "id": "LvnwMdO6jr1d"
      }
    },
    {
      "cell_type": "markdown",
      "source": [],
      "metadata": {
        "id": "TQRfISpmjtSZ"
      }
    }
  ]
}