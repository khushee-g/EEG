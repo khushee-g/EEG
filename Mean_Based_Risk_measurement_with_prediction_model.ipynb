{
  "nbformat": 4,
  "nbformat_minor": 0,
  "metadata": {
    "colab": {
      "provenance": [],
      "authorship_tag": "ABX9TyMdmLdlSBEvIIMZsEeG4eNv",
      "include_colab_link": true
    },
    "kernelspec": {
      "name": "python3",
      "display_name": "Python 3"
    },
    "language_info": {
      "name": "python"
    }
  },
  "cells": [
    {
      "cell_type": "markdown",
      "metadata": {
        "id": "view-in-github",
        "colab_type": "text"
      },
      "source": [
        "<a href=\"https://colab.research.google.com/github/khushee-g/EEG/blob/main/Mean_Based_Risk_measurement_with_prediction_model.ipynb\" target=\"_parent\"><img src=\"https://colab.research.google.com/assets/colab-badge.svg\" alt=\"Open In Colab\"/></a>"
      ]
    },
    {
      "cell_type": "code",
      "source": [
        "row = 9"
      ],
      "metadata": {
        "id": "RAui-1MtEjk0"
      },
      "execution_count": 286,
      "outputs": []
    },
    {
      "cell_type": "code",
      "execution_count": 287,
      "metadata": {
        "id": "LE1nKEcCBZdR"
      },
      "outputs": [],
      "source": [
        "import numpy as np\n",
        "import pandas as pd\n",
        "import matplotlib.pyplot as plt\n",
        "import statsmodels.api as sm\n",
        "from statsmodels.sandbox.regression.predstd import wls_prediction_std\n",
        "\n",
        "import pandas as pd\n",
        "import numpy as np\n",
        "import matplotlib.pyplot as plt\n",
        "import matplotlib.axes as ax\n",
        "from matplotlib.animation import FuncAnimation\n",
        "\n"
      ]
    },
    {
      "cell_type": "code",
      "source": [
        "import numpy as np\n",
        "import pandas as pd\n",
        "from sklearn.linear_model import LogisticRegression\n",
        "import statsmodels.api as sm\n",
        "\n",
        "top_features = ['COH.A.delta.a.FP1.b.FP2', 'COH.A.delta.f.F4.h.T3',\n",
        "                   'AB.C.alpha.q.T6', 'AB.B.theta.c.F7']\n",
        "data1 = pd.read_csv('/content/Sheet 1-numericBehaviorWithAgeOnly.csv')\n",
        "\n",
        "Y = data1['specific_disorder']\n",
        "X = data1[top_features]\n",
        "\n",
        "Y = data1['specific_disorder'] == 5\n",
        "\n",
        "X_with_const = sm.add_constant(X)\n",
        "logit_model = sm.Logit(Y, X_with_const)\n",
        "result = logit_model.fit()"
      ],
      "metadata": {
        "colab": {
          "base_uri": "https://localhost:8080/"
        },
        "id": "5GnG7DfxCoyx",
        "outputId": "3c5c0f0b-347c-41f6-d09c-d287a422bd48"
      },
      "execution_count": 288,
      "outputs": [
        {
          "output_type": "stream",
          "name": "stdout",
          "text": [
            "Optimization terminated successfully.\n",
            "         Current function value: 0.647229\n",
            "         Iterations 5\n"
          ]
        }
      ]
    },
    {
      "cell_type": "code",
      "source": [
        "risk = 0"
      ],
      "metadata": {
        "id": "U2EawjKZIvNI"
      },
      "execution_count": 289,
      "outputs": []
    },
    {
      "cell_type": "code",
      "source": [
        "#COH.A.delta.a.FP1.b.FP2\n",
        "Y = data1['specific_disorder'] == 5\n",
        "X = data1['COH.A.delta.a.FP1.b.FP2']\n",
        "\n",
        "Y = data1['specific_disorder'].apply(lambda x: 1 if x == 5 else 0)\n",
        "\n",
        "X_with_const = sm.add_constant(X)\n",
        "logit_model = sm.OLS(Y, X_with_const)\n",
        "result = logit_model.fit()\n",
        "\n",
        "\n",
        "prediction_data = pd.read_csv('/content/10 test subjects.csv')\n",
        "first_row_value = prediction_data['COH.A.delta.a.FP1.b.FP2'].iloc[row]\n",
        "pred_df = pd.DataFrame({'const': [1], 'COH.A.delta.a.FP1.b.FP2': [first_row_value]})\n",
        "pred = result.get_prediction(pred_df)\n",
        "\n",
        "pred_summary = pred.summary_frame(alpha=0.05)  # 95% confidence intervals\n",
        "\n",
        "ci_lower = pred_summary['mean_ci_lower']\n",
        "ci_upper = pred_summary['mean_ci_upper']\n",
        "pi_lower = pred_summary['obs_ci_lower']\n",
        "pi_upper = pred_summary['obs_ci_upper']\n",
        "conf_intervals = result.conf_int()\n",
        "print(conf_intervals)\n",
        "\n",
        "\n",
        "# Plot the data\n",
        "#plt.scatter(X, Y, label='Data') #y changed to Y\n",
        "mean = pred_summary['mean']\n",
        "plt.plot(X=1,Y=mean)\n",
        "#plt.plot(X, result.fittedvalues, color='red', label='Fitted Line')\n",
        "#plt.plot(ci_lower, ci_upper, color='red', label='Fitted Line')\n",
        "mean = np.exp(pred_summary['mean'])\n",
        "plt.plot(X=1,Y=mean)\n",
        "plt.fill_between(mean, np.exp(ci_lower), np.exp(ci_upper), color='red', alpha=0.3, label='95% CI')\n",
        "plt.plot(mean, mean[0], 'ro', label='Mean')\n",
        "#plt.fill_between(X, pi_lower, pi_upper, color='blue', alpha=0.2, label='95% PI')\n",
        "\n",
        "plt.xlabel('X')\n",
        "plt.ylabel('Y')\n",
        "plt.legend()\n",
        "plt.show()\n",
        "\n",
        "print('exp CI_lower: ' + str(np.exp(ci_lower)))\n",
        "print('exp CI_upper: ' + str(np.exp(ci_upper)))\n",
        "\n",
        "\n",
        "risk1 = pred.predicted_mean[0]\n",
        "#will use risk1_1 when adding all the risk mean values to find the total CI\n",
        "risk1_1 = risk1\n",
        "\n",
        "print('mean: ' + str(risk1))\n",
        "risk1 = np.exp(risk1)\n",
        "print('exp mean:' + str(risk1))\n",
        "\n",
        "if risk1<1:\n",
        "  risk1 = 1-risk1\n",
        "else:\n",
        "  risk1 = risk1-1\n",
        "print(risk1)\n",
        "\n",
        "\n",
        "print('risk:' +  str(risk1))"
      ],
      "metadata": {
        "colab": {
          "base_uri": "https://localhost:8080/",
          "height": 636
        },
        "id": "__58blWDIuaY",
        "outputId": "1472db82-8ee0-4202-a828-16071e32359b"
      },
      "execution_count": 290,
      "outputs": [
        {
          "output_type": "stream",
          "name": "stdout",
          "text": [
            "                                0         1\n",
            "const                    0.599081  1.180958\n",
            "COH.A.delta.a.FP1.b.FP2 -0.009408 -0.001583\n"
          ]
        },
        {
          "output_type": "display_data",
          "data": {
            "text/plain": [
              "<Figure size 640x480 with 1 Axes>"
            ],
            "image/png": "[encoded data removed]"
          },
          "metadata": {}
        },
        {
          "output_type": "stream",
          "name": "stdout",
          "text": [
            "exp CI_lower: 0    1.727943\n",
            "Name: mean_ci_lower, dtype: float64\n",
            "exp CI_upper: 0    2.489112\n",
            "Name: mean_ci_upper, dtype: float64\n",
            "mean: 0.7294288951957859\n",
            "exp mean:2.073895857510405\n",
            "1.0738958575104052\n",
            "risk:1.0738958575104052\n"
          ]
        }
      ]
    },
    {
      "cell_type": "code",
      "source": [
        "#COH.A.delta.f.F4.h.T3\n",
        "Y = data1['specific_disorder']\n",
        "X = data1['COH.A.delta.f.F4.h.T3']\n",
        "\n",
        "y = data1['specific_disorder'].apply(lambda x: 1 if x == 5 else 0)\n",
        "\n",
        "X_with_const = sm.add_constant(X)\n",
        "logit_model = sm.OLS(y, X_with_const)\n",
        "result = logit_model.fit()\n",
        "\n",
        "prediction_data = pd.read_csv('/content/10 test subjects.csv')\n",
        "first_row_value = prediction_data['COH.A.delta.f.F4.h.T3'].iloc[row]\n",
        "pred_df = pd.DataFrame({'const': [1], 'COH.A.delta.f.F4.h.T3': [first_row_value]})\n",
        "pred = result.get_prediction(pred_df)\n",
        "\n",
        "pred_summary = pred.summary_frame(alpha=0.05)  # 95% confidence intervals\n",
        "\n",
        "ci_lower = pred_summary['mean_ci_lower']\n",
        "ci_upper = pred_summary['mean_ci_upper']\n",
        "pi_lower = pred_summary['obs_ci_lower']\n",
        "pi_upper = pred_summary['obs_ci_upper']\n",
        "conf_intervals = result.conf_int()\n",
        "print(conf_intervals)\n",
        "\n",
        "\n",
        "mean = pred_summary['mean']\n",
        "mean1 = mean\n",
        "plt.plot(X=1,Y=mean)\n",
        "\n",
        "mean = np.exp(pred_summary['mean'])\n",
        "plt.plot(X=1,Y=mean)\n",
        "plt.fill_between(mean, np.exp(ci_lower), np.exp(ci_upper), color='red', alpha=0.3, label='95% CI')\n",
        "plt.plot(mean, mean[0], 'ro', label='Mean')\n",
        "\n",
        "plt.xlabel('X')\n",
        "plt.ylabel('Y')\n",
        "plt.legend()\n",
        "plt.show()\n",
        "\n",
        "print('exp CI_lower: ' + str(np.exp(ci_lower)))\n",
        "print('exp CI_upper: ' + str(np.exp(ci_upper)))\n",
        "\n",
        "\n",
        "risk2 = pred.predicted_mean[0]\n",
        "#will use risk2_2 when adding all the risk mean values to find the total CI\n",
        "risk2_2 = risk2\n",
        "\n",
        "\n",
        "print('mean: ' + str(risk2))\n",
        "risk2 = np.exp(risk2)\n",
        "print('exp mean:' + str(risk2))\n",
        "\n",
        "print('risk:' +  str(risk2))"
      ],
      "metadata": {
        "colab": {
          "base_uri": "https://localhost:8080/",
          "height": 619
        },
        "id": "32yFTKW_W84z",
        "outputId": "a305291b-0962-4fba-de86-ae6bf81af84a"
      },
      "execution_count": 291,
      "outputs": [
        {
          "output_type": "stream",
          "name": "stdout",
          "text": [
            "                              0         1\n",
            "const                  0.298102  0.615066\n",
            "COH.A.delta.f.F4.h.T3 -0.003773  0.006565\n"
          ]
        },
        {
          "output_type": "display_data",
          "data": {
            "text/plain": [
              "<Figure size 640x480 with 1 Axes>"
            ],
            "image/png": "[encoded data removed]"
          },
          "metadata": {}
        },
        {
          "output_type": "stream",
          "name": "stdout",
          "text": [
            "exp CI_lower: 0    1.523063\n",
            "Name: mean_ci_lower, dtype: float64\n",
            "exp CI_upper: 0    1.803642\n",
            "Name: mean_ci_upper, dtype: float64\n",
            "mean: 0.5052658430913178\n",
            "exp mean:1.6574260771707632\n",
            "risk:1.6574260771707632\n"
          ]
        }
      ]
    },
    {
      "cell_type": "code",
      "source": [
        "#AB.C.alpha.q.T6\n",
        "Y = data1['specific_disorder']\n",
        "X = data1['AB.C.alpha.q.T6']\n",
        "\n",
        "y = data1['specific_disorder'].apply(lambda x: 1 if x == 5 else 0)\n",
        "\n",
        "X_with_const = sm.add_constant(X)\n",
        "logit_model = sm.OLS(y, X_with_const)\n",
        "result = logit_model.fit()\n",
        "\n",
        "prediction_data = pd.read_csv('/content/10 test subjects.csv')\n",
        "first_row_value = prediction_data['AB.C.alpha.q.T6'].iloc[row]\n",
        "pred_df = pd.DataFrame({'const': [1], 'AB.C.alpha.q.T6': [first_row_value]})\n",
        "pred = result.get_prediction(pred_df)\n",
        "\n",
        "pred_summary = pred.summary_frame(alpha=0.05)  # 95% confidence intervals\n",
        "\n",
        "ci_lower = pred_summary['mean_ci_lower']\n",
        "ci_upper = pred_summary['mean_ci_upper']\n",
        "pi_lower = pred_summary['obs_ci_lower']\n",
        "pi_upper = pred_summary['obs_ci_upper']\n",
        "conf_intervals = result.conf_int()\n",
        "print(conf_intervals)\n",
        "\n",
        "mean = pred_summary['mean']\n",
        "mean2 = mean\n",
        "plt.plot(X=1,Y=mean)\n",
        "\n",
        "mean = np.exp(pred_summary['mean'])\n",
        "mean3 = mean\n",
        "\n",
        "plt.plot(X=1,Y=mean)\n",
        "plt.fill_between(mean, np.exp(ci_lower), np.exp(ci_upper), color='red', alpha=0.3, label='95% CI')\n",
        "plt.plot(mean, mean[0], 'ro', label='Mean')\n",
        "\n",
        "plt.xlabel('X')\n",
        "plt.ylabel('Y')\n",
        "plt.legend()\n",
        "plt.show()\n",
        "\n",
        "print('exp CI_lower: ' + str(np.exp(ci_lower)))\n",
        "print('exp CI_upper: ' + str(np.exp(ci_upper)))\n",
        "\n",
        "\n",
        "risk3 = pred.predicted_mean[0]\n",
        "#will use risk3_3 when adding all the risk mean values to find the total CI\n",
        "risk3_3 = risk3\n",
        "\n",
        "print('mean: ' + str(risk3))\n",
        "risk3 = np.exp(risk3)\n",
        "print('exp mean:' + str(risk3))\n",
        "\n",
        "print('risk:' +  str(risk3))"
      ],
      "metadata": {
        "colab": {
          "base_uri": "https://localhost:8080/",
          "height": 619
        },
        "id": "A33noputXXWp",
        "outputId": "56512e48-226d-494e-bd79-4e1c20fb451d"
      },
      "execution_count": 293,
      "outputs": [
        {
          "output_type": "stream",
          "name": "stdout",
          "text": [
            "                        0         1\n",
            "const            0.441272  0.627323\n",
            "AB.C.alpha.q.T6 -0.005221  0.000894\n"
          ]
        },
        {
          "output_type": "display_data",
          "data": {
            "text/plain": [
              "<Figure size 640x480 with 1 Axes>"
            ],
            "image/png": "[encoded data removed]"
          },
          "metadata": {}
        },
        {
          "output_type": "stream",
          "name": "stdout",
          "text": [
            "exp CI_lower: 0    1.529792\n",
            "Name: mean_ci_lower, dtype: float64\n",
            "exp CI_upper: 0    1.774921\n",
            "Name: mean_ci_upper, dtype: float64\n",
            "mean: 0.49944370647186626\n",
            "exp mean:1.647804352788937\n",
            "risk:1.647804352788937\n"
          ]
        }
      ]
    },
    {
      "cell_type": "code",
      "source": [
        "#AB.B.theta.c.F7\n",
        "Y = data1['specific_disorder']\n",
        "X = data1['AB.B.theta.c.F7']\n",
        "\n",
        "y = data1['specific_disorder'].apply(lambda x: 1 if x == 5 else 0)\n",
        "\n",
        "X_with_const = sm.add_constant(X)\n",
        "logit_model = sm.OLS(y, X_with_const)\n",
        "result = logit_model.fit()\n",
        "\n",
        "prediction_data = pd.read_csv('/content/10 test subjects.csv')\n",
        "first_row_value = prediction_data['AB.B.theta.c.F7'].iloc[row]\n",
        "pred_df = pd.DataFrame({'const': [1], 'AB.B.theta.c.F7': [first_row_value]})\n",
        "pred = result.get_prediction(pred_df)\n",
        "\n",
        "pred_summary = pred.summary_frame(alpha=0.05)  # 95% confidence intervals\n",
        "\n",
        "ci_lower = pred_summary['mean_ci_lower']\n",
        "ci_upper = pred_summary['mean_ci_upper']\n",
        "pi_lower = pred_summary['obs_ci_lower']\n",
        "pi_upper = pred_summary['obs_ci_upper']\n",
        "conf_intervals = result.conf_int()\n",
        "print(conf_intervals)\n",
        "\n",
        "mean = pred_summary['mean']\n",
        "mean4 = mean\n",
        "plt.plot(X=1,Y=mean)\n",
        "\n",
        "mean = np.exp(pred_summary['mean'])\n",
        "plt.plot(X=1,Y=mean)\n",
        "plt.fill_between(mean, np.exp(ci_lower), np.exp(ci_upper), color='red', alpha=0.3, label='95% CI')\n",
        "plt.plot(mean, mean[0], 'ro', label='Mean')\n",
        "\n",
        "plt.xlabel('X')\n",
        "plt.ylabel('Y')\n",
        "plt.legend()\n",
        "plt.show()\n",
        "\n",
        "print('exp CI_lower: ' + str(np.exp(ci_lower)))\n",
        "print('exp CI_upper: ' + str(np.exp(ci_upper)))\n",
        "\n",
        "\n",
        "risk4 = pred.predicted_mean[0]\n",
        "#will use risk4_4 when adding all the risk mean values to find the total CI\n",
        "risk4_4 = risk4\n",
        "\n",
        "\n",
        "print('mean: ' + str(risk4))\n",
        "risk4 = np.exp(risk4)\n",
        "print('exp mean:' + str(risk4))\n",
        "\n",
        "print('risk:' +  str(risk4))"
      ],
      "metadata": {
        "colab": {
          "base_uri": "https://localhost:8080/",
          "height": 619
        },
        "id": "Ul5F2wy8ZaRz",
        "outputId": "eaa189ae-c5ea-407f-9b80-6cbe08be06c5"
      },
      "execution_count": 294,
      "outputs": [
        {
          "output_type": "stream",
          "name": "stdout",
          "text": [
            "                        0         1\n",
            "const            0.294033  0.563769\n",
            "AB.B.theta.c.F7 -0.004972  0.018764\n"
          ]
        },
        {
          "output_type": "display_data",
          "data": {
            "text/plain": [
              "<Figure size 640x480 with 1 Axes>"
            ],
            "image/png": "[encoded data removed]"
          },
          "metadata": {}
        },
        {
          "output_type": "stream",
          "name": "stdout",
          "text": [
            "exp CI_lower: 0    1.441576\n",
            "Name: mean_ci_lower, dtype: float64\n",
            "exp CI_upper: 0    1.741602\n",
            "Name: mean_ci_upper, dtype: float64\n",
            "mean: 0.46027126557026027\n",
            "exp mean:1.5845037480146758\n",
            "risk:1.5845037480146758\n"
          ]
        }
      ]
    },
    {
      "cell_type": "code",
      "source": [
        "risk = risk1 + risk2 + risk3 + risk4\n",
        "risk = risk/4\n",
        "print(risk)\n",
        "if risk > 1:\n",
        "  prediction_val = (risk-1)*100\n",
        "  print(\"You are \" + str(prediction_val) + \"% more likely to have behavioral disorder\")\n",
        "\n",
        "else:\n",
        "  prediction_val = (1-risk)*100\n",
        "  print(\"You are \" + str(prediction_val) + \" % less likely to have behavioral disorder\")\n",
        "\n",
        "\n",
        "'''test subject true condition - output\n",
        "healthy - 46% more likely\n",
        "healthy - 39% more likely\n",
        "healthy - 35% more likely\n",
        "healthy - 36% more likely\n",
        "healthy - 40% more likely\n",
        "disorder - 38% more likely\n",
        "disorder - 38% more likely\n",
        "disorder - 43% more likely\n",
        "disorder - 39% more likely\n",
        "disorder - 49% more likely\n",
        "\n",
        "'''\n",
        "std_dev = np.std([mean1.to_numpy(), mean2.to_numpy(), mean3.to_numpy(), mean4.to_numpy()])\n",
        "print('std_dev: ' + str(std_dev))\n"
      ],
      "metadata": {
        "colab": {
          "base_uri": "https://localhost:8080/"
        },
        "id": "iHp0h8Dxm-ry",
        "outputId": "adf2ae95-1a82-4466-beac-1ced616fe028"
      },
      "execution_count": 297,
      "outputs": [
        {
          "output_type": "stream",
          "name": "stdout",
          "text": [
            "1.4909075088711954\n",
            "You are 49.09075088711954% more likely to have behavioral disorder\n",
            "std_dev: 0.5023665334443469\n"
          ]
        }
      ]
    },
    {
      "cell_type": "markdown",
      "source": [],
      "metadata": {
        "id": "Ml1bWIyGiWCF"
      }
    },
    {
      "cell_type": "code",
      "source": [
        "risk = risk1_1 + risk2_2 + risk3_3 + risk4_4\n",
        "print(risk4_4)\n",
        "risk = risk/4\n",
        "print(risk)\n",
        "\n",
        "if risk<0.5:\n",
        "  print(\"you are not at risk of IAD\")\n",
        "\n",
        "if risk>0.5:\n",
        "  print(\"you are at risk of IAD\")\n",
        "\n",
        "#incorrect output row index 0, 5, 6, 7, 8, 9"
      ],
      "metadata": {
        "id": "v9dp4VBYKTeq"
      },
      "execution_count": null,
      "outputs": []
    },
    {
      "cell_type": "code",
      "source": [
        "#INCORRECT SHOULDN't SUBTRACT FROM 0.5 AGAIN\n",
        "\n",
        "risk = risk1 + risk2 + risk3 + risk4\n",
        "print(risk)\n",
        "if risk > 0.5:\n",
        "  prediction_val = (risk-0.5)*100\n",
        "  print(\"You are \" + str(prediction_val) + \"% more likely to have behavioral disorder\")\n",
        "\n",
        "else:\n",
        "  prediction_val = (0.5-(risk))*100\n",
        "  print(\"You are \" + str(prediction_val) + \" % less likely to have behavioral disorder\")"
      ],
      "metadata": {
        "id": "PFa_21IMZprX"
      },
      "execution_count": null,
      "outputs": []
    }
  ]
}