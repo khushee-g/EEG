{
  "nbformat": 4,
  "nbformat_minor": 0,
  "metadata": {
    "colab": {
      "provenance": [],
      "authorship_tag": "ABX9TyPyghdoZYMPjYZSkiF67TJu",
      "include_colab_link": true
    },
    "kernelspec": {
      "name": "python3",
      "display_name": "Python 3"
    },
    "language_info": {
      "name": "python"
    }
  },
  "cells": [
    {
      "cell_type": "markdown",
      "metadata": {
        "id": "view-in-github",
        "colab_type": "text"
      },
      "source": [
        "<a href=\"https://colab.research.google.com/github/khushee-g/EEG/blob/main/Final_Risk_Measurement_Algorithm.ipynb\" target=\"_parent\"><img src=\"https://colab.research.google.com/assets/colab-badge.svg\" alt=\"Open In Colab\"/></a>"
      ]
    },
    {
      "cell_type": "markdown",
      "source": [
        "##Initialization"
      ],
      "metadata": {
        "id": "ukdP9nEybtcb"
      }
    },
    {
      "cell_type": "code",
      "execution_count": 83,
      "metadata": {
        "id": "8q9tIujVut9p"
      },
      "outputs": [],
      "source": [
        "import numpy as np\n",
        "import pandas as pd\n",
        "import matplotlib.pyplot as plt\n",
        "import statsmodels.api as sm\n",
        "from statsmodels.sandbox.regression.predstd import wls_prediction_std\n",
        "\n",
        "import pandas as pd\n",
        "import numpy as np\n",
        "import matplotlib.pyplot as plt\n",
        "import matplotlib.axes as ax\n",
        "from matplotlib.animation import FuncAnimation"
      ]
    },
    {
      "cell_type": "code",
      "source": [
        "import numpy as np\n",
        "import pandas as pd\n",
        "from sklearn.linear_model import LogisticRegression\n",
        "import statsmodels.api as sm\n",
        "\n",
        "top_features = ['AB.C.alpha.q.T6', 'COH.A.delta.a.FP1.h.T3', 'COH.A.delta.b.FP2.m.T5']\n",
        "data1 = pd.read_csv('/content/Sheet 1-numericBehaviorWithAgeOnly.csv')\n",
        "\n",
        "Y = data1['specific_disorder']\n",
        "X = data1[top_features]\n",
        "\n",
        "Y = data1['specific_disorder'] == 5\n",
        "\n",
        "X_with_const = sm.add_constant(X)\n",
        "logit_model = sm.Logit(Y, X_with_const)\n",
        "result = logit_model.fit()"
      ],
      "metadata": {
        "colab": {
          "base_uri": "https://localhost:8080/"
        },
        "id": "aVlO7dUauyio",
        "outputId": "b5fb8eeb-0a13-44ee-9476-32c5f78e6e57"
      },
      "execution_count": 84,
      "outputs": [
        {
          "output_type": "stream",
          "name": "stdout",
          "text": [
            "Optimization terminated successfully.\n",
            "         Current function value: 0.664429\n",
            "         Iterations 5\n"
          ]
        }
      ]
    },
    {
      "cell_type": "markdown",
      "source": [
        "# OVERALL MODEL ACCURACY"
      ],
      "metadata": {
        "id": "Bi4bcYje3TLi"
      }
    },
    {
      "cell_type": "code",
      "source": [
        "import random\n",
        "random.seed(16)\n",
        "np.random.seed(16)\n",
        "# import the necessary libraries\n",
        "from sklearn.linear_model import LogisticRegression\n",
        "from sklearn.model_selection import train_test_split\n",
        "from sklearn.metrics import accuracy_score\n",
        "import pandas as pd\n",
        "\n",
        "df = pd.read_csv('/content/numericBehaviorWithAgeOnly.csv')\n",
        "\n",
        "y = df['specific_disorder']\n",
        "\n",
        "X = df.drop(columns=['specific_disorder'])\n",
        "X = X[[col for col in X.columns if col in top_features]]\n",
        "\n",
        "X_train, X_test, y_train, y_test = train_test_split(X, y, test_size=0.20)\n",
        "\n",
        "clf = LogisticRegression(random_state=0)\n",
        "clf.fit(X_train, y_train)\n",
        "\n",
        "y_pred = clf.predict(X_test)\n",
        "print(y_pred)\n",
        "\n",
        "acc = accuracy_score(y_test, y_pred)\n",
        "print(\"Logistic Regression model accuracy (in %):\", acc * 100)\n"
      ],
      "metadata": {
        "colab": {
          "base_uri": "https://localhost:8080/"
        },
        "id": "ApfokB-zwm5O",
        "outputId": "a9abb7df-fb71-4f7c-a9c8-cc7502f7d7e5"
      },
      "execution_count": 85,
      "outputs": [
        {
          "output_type": "stream",
          "name": "stdout",
          "text": [
            "[5 5 5 5 5 5 5 4 5 4 5 4 4 5 4 5 5 4 5 5 4 4 5 4 5 5 4 4 4 4 4 4 5 4 4 4 4\n",
            " 4]\n",
            "Logistic Regression model accuracy (in %): 52.63157894736842\n"
          ]
        }
      ]
    },
    {
      "cell_type": "markdown",
      "source": [
        "# Muse Integration"
      ],
      "metadata": {
        "id": "guvTn6rk3YCr"
      }
    },
    {
      "cell_type": "code",
      "source": [
        "user_data = pd.read_csv('/content/Khushee mindMonitor_2024-11-15--21-52-00.csv')\n",
        "data1 = pd.read_csv('/content/numericBehaviorWithAgeOnly.csv')\n"
      ],
      "metadata": {
        "id": "267WaR7hX0xq",
        "colab": {
          "base_uri": "https://localhost:8080/"
        },
        "outputId": "54b0205c-b527-4166-c82b-ebf224d276d7"
      },
      "execution_count": 86,
      "outputs": [
        {
          "output_type": "stream",
          "name": "stderr",
          "text": [
            "<ipython-input-86-68862582fc80>:1: DtypeWarning: Columns (39) have mixed types. Specify dtype option on import or set low_memory=False.\n",
            "  user_data = pd.read_csv('/content/Khushee mindMonitor_2024-11-15--21-52-00.csv')\n"
          ]
        }
      ]
    },
    {
      "cell_type": "code",
      "source": [
        "row = 0"
      ],
      "metadata": {
        "id": "IailmtHRbjO0"
      },
      "execution_count": 87,
      "outputs": []
    },
    {
      "cell_type": "code",
      "source": [
        "#Delta TP9-AF8 coherence - corresponds to COH.A.delta.b.FP2.m.T5\n",
        "\n",
        "from scipy import signal\n",
        "\n",
        "\n",
        "channel_1 = user_data['Delta_TP9'].values\n",
        "channel_2 = user_data['Delta_AF8'].values\n",
        "\n",
        "channel_1 = np.nan_to_num(channel_1, nan=np.nanmean(channel_1))\n",
        "channel_2 = np.nan_to_num(channel_2, nan=np.nanmean(channel_2))\n",
        "\n",
        "fs = 256\n",
        "f, Cxy = signal.coherence(channel_1, channel_2, fs=fs, nperseg=1024)  # fs is sampling frequency\n",
        "\n",
        "coherence_data = pd.DataFrame({'Frequency': f, 'Coherence DeltaTP9DeltaAF8': Cxy})\n",
        "\n",
        "coherence_AF8_TP9 = coherence_data['Coherence DeltaTP9DeltaAF8'].mean()\n",
        "coherence_AF8_TP9 *=100\n",
        "print(coherence_AF8_TP9)\n",
        "\n",
        "\n",
        "\n",
        "\n",
        "#Delta AF7 - TP9 coherence - corresponds to COH.A.delta.a.FP1.h.T3\n",
        "\n",
        "from scipy import signal\n",
        "\n",
        "data = pd.read_csv('/content/Khushee mindMonitor_2024-11-15--21-52-00.csv')\n",
        "\n",
        "channel_1 = data['Delta_AF7'].values\n",
        "channel_2 = data['Delta_TP9'].values\n",
        "\n",
        "channel_1 = np.nan_to_num(channel_1, nan=np.nanmean(channel_1))\n",
        "channel_2 = np.nan_to_num(channel_2, nan=np.nanmean(channel_2))\n",
        "\n",
        "fs = 256\n",
        "f, Cxy = signal.coherence(channel_1, channel_2, fs=fs, nperseg=1024)  # fs is sampling frequency\n",
        "\n",
        "coherence_data = pd.DataFrame({'Frequency': f, 'Coherence DeltaAF7DeltaTP9': Cxy})\n",
        "\n",
        "coherence_AF7_TP9 = coherence_data['Coherence DeltaAF7DeltaTP9'].mean()\n",
        "coherence_AF7_TP9 *=100\n",
        "print(coherence_AF7_TP9)"
      ],
      "metadata": {
        "colab": {
          "base_uri": "https://localhost:8080/"
        },
        "id": "VBF7JRINu2QY",
        "outputId": "f79ef5cc-6b5e-4751-f43e-4de8ab7c5435"
      },
      "execution_count": 88,
      "outputs": [
        {
          "output_type": "stream",
          "name": "stdout",
          "text": [
            "13.916182133081339\n",
            "5.851293322892614\n"
          ]
        },
        {
          "output_type": "stream",
          "name": "stderr",
          "text": [
            "<ipython-input-88-cecfc1d9f9cc>:28: DtypeWarning: Columns (39) have mixed types. Specify dtype option on import or set low_memory=False.\n",
            "  data = pd.read_csv('/content/Khushee mindMonitor_2024-11-15--21-52-00.csv')\n"
          ]
        }
      ]
    },
    {
      "cell_type": "code",
      "source": [
        "#COH.A.delta.b.FP2.m.T5\n",
        "X = data1['COH.A.delta.b.FP2.m.T5']\n",
        "\n",
        "Y = data1['specific_disorder'].apply(lambda x: 1 if x == 5 else 0)\n",
        "\n",
        "X_with_const = sm.add_constant(X)\n",
        "logit_model = sm.Logit(Y, X_with_const)\n",
        "result = logit_model.fit()\n",
        "\n",
        "print(X.mean())\n",
        "\n",
        "\n",
        "prediction_data = pd.DataFrame({'const': [1], 'COH.A.delta.b.FP2.m.T5': [coherence_AF8_TP9]})\n",
        "print(result.summary())\n",
        "\n",
        "pred = result.get_prediction(prediction_data)\n",
        "print(\"output\" + str(pred.predicted))\n",
        "\n",
        "\n",
        "risk1 = -0.0172*(coherence_AF8_TP9) + 0.1521\n",
        "risk1_sigmoid = p = 1 / (1 + np.exp(-risk1))\n",
        "print(risk1_sigmoid)\n",
        "\n",
        "#Note: significant difference between equation-based prediction and pred.predicted_mean[0]"
      ],
      "metadata": {
        "colab": {
          "base_uri": "https://localhost:8080/"
        },
        "id": "UesGy9Q0SFis",
        "outputId": "a7c97ff2-45e2-41c0-ce4c-5f266de0b327",
        "collapsed": true
      },
      "execution_count": 89,
      "outputs": [
        {
          "output_type": "stream",
          "name": "stdout",
          "text": [
            "Optimization terminated successfully.\n",
            "         Current function value: 0.688462\n",
            "         Iterations 4\n",
            "10.196074590425532\n",
            "                           Logit Regression Results                           \n",
            "==============================================================================\n",
            "Dep. Variable:      specific_disorder   No. Observations:                  188\n",
            "Model:                          Logit   Df Residuals:                      186\n",
            "Method:                           MLE   Df Model:                            1\n",
            "Date:                Sat, 01 Mar 2025   Pseudo R-squ.:                0.006679\n",
            "Time:                        04:08:39   Log-Likelihood:                -129.43\n",
            "converged:                       True   LL-Null:                       -130.30\n",
            "Covariance Type:            nonrobust   LLR p-value:                    0.1871\n",
            "==========================================================================================\n",
            "                             coef    std err          z      P>|z|      [0.025      0.975]\n",
            "------------------------------------------------------------------------------------------\n",
            "const                      0.1521      0.197      0.771      0.441      -0.234       0.539\n",
            "COH.A.delta.b.FP2.m.T5    -0.0172      0.013     -1.294      0.196      -0.043       0.009\n",
            "==========================================================================================\n",
            "output[0.47836709]\n",
            "0.47819924768025424\n"
          ]
        }
      ]
    },
    {
      "cell_type": "code",
      "source": [
        "print(pred.predicted)"
      ],
      "metadata": {
        "colab": {
          "base_uri": "https://localhost:8080/"
        },
        "id": "i9ZOo_NqgcpZ",
        "outputId": "eb3cb973-b74e-4613-d58b-f3c3f5dc8c6c"
      },
      "execution_count": 90,
      "outputs": [
        {
          "output_type": "stream",
          "name": "stdout",
          "text": [
            "[0.47836709]\n"
          ]
        }
      ]
    },
    {
      "cell_type": "code",
      "source": [
        "#COH.A.delta.a.FP1.h.T3\n",
        "Y = data1['specific_disorder'] == 5\n",
        "X = data1['COH.A.delta.a.FP1.h.T3']\n",
        "\n",
        "Y = data1['specific_disorder'].apply(lambda x: 1 if x == 5 else 0)\n",
        "\n",
        "X_with_const = sm.add_constant(X)\n",
        "logit_model = sm.Logit(Y, X_with_const)\n",
        "result = logit_model.fit()\n",
        "\n",
        "\n",
        "\n",
        "prediction_data = pd.DataFrame({'const': [1], 'COH.A.delta.a.FP1.h.T3': [coherence_AF7_TP9]})\n",
        "\n",
        "pred = result.get_prediction(prediction_data)\n",
        "print(result.summary())\n",
        "print(pred.predicted)\n",
        "#risk2 = pred.predicted_mean[0]\n",
        "\n",
        "risk2 =  0.0149*(coherence_AF7_TP9) - 0.5939\n",
        "risk2_sigmoid = p = 1 / (1 + np.exp(-risk2))\n",
        "print(risk2_sigmoid)\n",
        "\n",
        "\n"
      ],
      "metadata": {
        "id": "2YcBC4qAWASU",
        "colab": {
          "base_uri": "https://localhost:8080/"
        },
        "outputId": "d8a2872a-41df-43ca-fad1-1f0f98404b15"
      },
      "execution_count": 91,
      "outputs": [
        {
          "output_type": "stream",
          "name": "stdout",
          "text": [
            "Optimization terminated successfully.\n",
            "         Current function value: 0.686978\n",
            "         Iterations 4\n",
            "                           Logit Regression Results                           \n",
            "==============================================================================\n",
            "Dep. Variable:      specific_disorder   No. Observations:                  188\n",
            "Model:                          Logit   Df Residuals:                      186\n",
            "Method:                           MLE   Df Model:                            1\n",
            "Date:                Sat, 01 Mar 2025   Pseudo R-squ.:                0.008819\n",
            "Time:                        04:08:39   Log-Likelihood:                -129.15\n",
            "converged:                       True   LL-Null:                       -130.30\n",
            "Covariance Type:            nonrobust   LLR p-value:                    0.1295\n",
            "==========================================================================================\n",
            "                             coef    std err          z      P>|z|      [0.025      0.975]\n",
            "------------------------------------------------------------------------------------------\n",
            "const                     -0.5939      0.409     -1.454      0.146      -1.395       0.207\n",
            "COH.A.delta.a.FP1.h.T3     0.0149      0.010      1.501      0.133      -0.005       0.034\n",
            "==========================================================================================\n",
            "[0.37599952]\n",
            "0.3759637502285598\n"
          ]
        }
      ]
    },
    {
      "cell_type": "code",
      "source": [
        "#AB.C.alpha.q.T6\n",
        "Y = data1['specific_disorder'] == 5\n",
        "X = data1['AB.C.alpha.q.T6']\n",
        "\n",
        "Y = data1['specific_disorder'].apply(lambda x: 1 if x == 5 else 0)\n",
        "\n",
        "X_with_const = sm.add_constant(X)\n",
        "logit_model = sm.Logit(Y, X_with_const)\n",
        "result = logit_model.fit()\n",
        "print(result.summary())\n",
        "\n",
        "\n",
        "Delta_TP10 = user_data['Delta_TP10'].values\n",
        "Delta_TP10 = np.nan_to_num(channel_1, nan=np.nanmean(channel_1))\n",
        "Delta_TP10 = Delta_TP10.mean()\n",
        "\n",
        "prediction_data = pd.DataFrame({'const': [1], 'AB.C.alpha.q.T6': [Delta_TP10]})\n",
        "\n",
        "pred = result.get_prediction(prediction_data)\n",
        "print(pred.predicted)\n",
        "\n",
        "#risk3 = pred.predicted_mean[0]\n",
        "risk3 = -0.0097 *data['Delta_TP10'].mean() + 0.1531\n",
        "risk3_sigmoid = p = 1 / (1 + np.exp(-risk3))\n",
        "print(risk3_sigmoid)"
      ],
      "metadata": {
        "id": "kH31BXPtWrkp",
        "colab": {
          "base_uri": "https://localhost:8080/"
        },
        "outputId": "cfa4cd36-3884-45e1-8d7b-3f1138e6047d"
      },
      "execution_count": 92,
      "outputs": [
        {
          "output_type": "stream",
          "name": "stdout",
          "text": [
            "Optimization terminated successfully.\n",
            "         Current function value: 0.687085\n",
            "         Iterations 5\n",
            "                           Logit Regression Results                           \n",
            "==============================================================================\n",
            "Dep. Variable:      specific_disorder   No. Observations:                  188\n",
            "Model:                          Logit   Df Residuals:                      186\n",
            "Method:                           MLE   Df Model:                            1\n",
            "Date:                Sat, 01 Mar 2025   Pseudo R-squ.:                0.008665\n",
            "Time:                        04:08:39   Log-Likelihood:                -129.17\n",
            "converged:                       True   LL-Null:                       -130.30\n",
            "Covariance Type:            nonrobust   LLR p-value:                    0.1329\n",
            "===================================================================================\n",
            "                      coef    std err          z      P>|z|      [0.025      0.975]\n",
            "-----------------------------------------------------------------------------------\n",
            "const               0.1531      0.188      0.814      0.416      -0.216       0.522\n",
            "AB.C.alpha.q.T6    -0.0097      0.007     -1.435      0.151      -0.023       0.004\n",
            "===================================================================================\n",
            "[0.53743382]\n",
            "0.5368091207486042\n"
          ]
        }
      ]
    },
    {
      "cell_type": "markdown",
      "source": [
        "#Result\n"
      ],
      "metadata": {
        "id": "zvEZ5CB_cDFE"
      }
    },
    {
      "cell_type": "code",
      "source": [
        "risk_sigmoid_total =  (risk3_sigmoid + risk2_sigmoid + risk1_sigmoid)/3\n",
        "print(risk_sigmoid_total)\n",
        "\n",
        "\n",
        "output = \"\";\n",
        "if risk_sigmoid_total<0.5:\n",
        "  output = \"You are \" + str((0.5 - risk_sigmoid_total)*100) +\" percent points below the average risk for IAD. \"\n",
        "if risk_sigmoid_total>0.5:\n",
        "  output = \"You are \" + str((risk_sigmoid_total - 0.5)*100) +\"percent points above the average risk for IAD.\"\n",
        "if risk_sigmoid_total == 0.5:\n",
        "  output = \"You are at the average risk for IAD.\"\n",
        "\n",
        "print(output)\n",
        "print(risk_sigmoid_total)\n",
        "\n",
        "#equation based: 25.56406586142109% less likely\n",
        "#prediction fuction based: 15.022754660005367% more likely\n"
      ],
      "metadata": {
        "id": "wHKnklCtfFaU",
        "colab": {
          "base_uri": "https://localhost:8080/"
        },
        "outputId": "8ccfa0da-bbc2-428d-d001-95510f657430"
      },
      "execution_count": 93,
      "outputs": [
        {
          "output_type": "stream",
          "name": "stdout",
          "text": [
            "0.46365737288580605\n",
            "You are 3.634262711419395 percent points below the average risk for IAD. \n",
            "0.46365737288580605\n"
          ]
        }
      ]
    },
    {
      "cell_type": "markdown",
      "source": [
        "#User Output"
      ],
      "metadata": {
        "id": "f73OxWqNc0_C"
      }
    },
    {
      "cell_type": "code",
      "source": [
        "print(output)\n",
        "\n",
        "\n",
        "# Sample data\n",
        "categories = ['coherence_AF8_TP9', 'coherence_AF7_TP9', 'Alpha_TP10']\n",
        "values = [risk1_sigmoid, risk2_sigmoid, risk3_sigmoid]\n",
        "colors = ['lightpink', 'palegreen', 'navajowhite', 'violet']\n",
        "\n",
        "\n",
        "# Create the bar chart\n",
        "plt.figure(figsize=(10, 6))  # Adjust figure size as needed\n",
        "bars = plt.bar(categories, values, color=colors)\n",
        "line = plt.axhline(y=0.5, color='r', linestyle='-', label='y=average IAD risk')\n",
        "plt.legend(bars, categories)\n",
        "\n",
        "# Add labels and title\n",
        "plt.xlabel('Categories')\n",
        "plt.ylabel('Risk')\n",
        "plt.title('Channel-Specific Risk Bar Chart')\n",
        "\n",
        "# Show the plot\n",
        "plt.show()\n",
        "\n",
        "\n",
        "\n",
        "\n",
        "\n"
      ],
      "metadata": {
        "colab": {
          "base_uri": "https://localhost:8080/",
          "height": 581
        },
        "id": "5kKfNXVfcttW",
        "outputId": "d6945804-1b4b-4997-9ec4-1ae6d852e4dd"
      },
      "execution_count": 94,
      "outputs": [
        {
          "output_type": "stream",
          "name": "stdout",
          "text": [
            "You are 3.634262711419395 percent points below the average risk for IAD. \n"
          ]
        },
        {
          "output_type": "display_data",
          "data": {
            "text/plain": [
              "<Figure size 1000x600 with 1 Axes>"
            ],
            "image/png": "[encoded data removed]"
          },
          "metadata": {}
        }
      ]
    },
    {
      "cell_type": "code",
      "source": [
        "#COH.A.delta.a.FP1.b.FP2\n",
        "#COH.A.delta.a.FP1.b.FP2\n",
        "import numpy as np\n",
        "import pandas as pd\n",
        "import matplotlib.pyplot as plt\n",
        "import seaborn as sns\n",
        "import statsmodels.api as sm\n",
        "from scipy.stats import norm\n",
        "\n",
        "X = data1[['COH.A.delta.a.FP1.b.FP2', 'COH.A.delta.f.F4.h.T3', 'AB.C.alpha.q.T6', 'AB.B.theta.c.F7']] # Changed tuple to a list\n",
        "\n",
        "Y = data1['specific_disorder'].apply(lambda x: 1 if x == 5 else 0)\n",
        "\n",
        "X_with_const = sm.add_constant(X)\n",
        "logit_model = sm.Logit(Y, X_with_const)\n",
        "result = logit_model.fit()\n",
        "\n",
        "\n",
        "\n",
        "prediction_data = pd.DataFrame({'const': [1], 'COH.A.delta.a.FP1.b.FP2': [coherence_AF8_AF7]})\n",
        "\n",
        "logit_values = result.fittedvalues\n",
        "\n",
        "x_vals = np.linspace(min(logit_values), max(logit_values), 100)\n",
        "\n",
        "mu, std = np.mean(logit_values), np.std(logit_values)\n",
        "\n",
        "gaussian_curve = norm.pdf(x_vals, mu, std)\n",
        "\n",
        "sns.histplot(logit_values, kde=False, bins=30, color='gainsboro', stat='density', label=\"Logit Values\")\n",
        "\n",
        "plt.plot(x_vals, gaussian_curve, color='darkviolet', label='Gaussian Curve')\n",
        "\n",
        "plt.xlabel('Logit Values')\n",
        "plt.ylabel('Density')\n",
        "plt.title('Logit Values and Gaussian Curve')\n",
        "plt.legend()\n",
        "\n",
        "plt.show()\n",
        "\n",
        "\n"
      ],
      "metadata": {
        "colab": {
          "base_uri": "https://localhost:8080/",
          "height": 523
        },
        "id": "jdwU4uurdya0",
        "outputId": "efb98770-e57a-4d70-8ec1-9d1df482cbe1"
      },
      "execution_count": 95,
      "outputs": [
        {
          "output_type": "stream",
          "name": "stdout",
          "text": [
            "Optimization terminated successfully.\n",
            "         Current function value: 0.648650\n",
            "         Iterations 5\n"
          ]
        },
        {
          "output_type": "display_data",
          "data": {
            "text/plain": [
              "<Figure size 640x480 with 1 Axes>"
            ],
            "image/png": "[encoded data removed]"
          },
          "metadata": {}
        }
      ]
    }
  ]
}