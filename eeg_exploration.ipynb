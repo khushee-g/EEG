{
  "metadata": {
    "kernelspec": {
      "language": "python",
      "display_name": "Python 3",
      "name": "python3"
    },
    "language_info": {
      "name": "python",
      "version": "3.10.13",
      "mimetype": "text/x-python",
      "codemirror_mode": {
        "name": "ipython",
        "version": 3
      },
      "pygments_lexer": "ipython3",
      "nbconvert_exporter": "python",
      "file_extension": ".py"
    },
    "kaggle": {
      "accelerator": "none",
      "dataSources": [
        {
          "sourceId": 3233540,
          "sourceType": "datasetVersion",
          "datasetId": 1960298
        }
      ],
      "dockerImageVersionId": 30732,
      "isInternetEnabled": false,
      "language": "python",
      "sourceType": "notebook",
      "isGpuEnabled": false
    },
    "colab": {
      "name": "notebook8fbd27e9f6",
      "provenance": [],
      "include_colab_link": true
    }
  },
  "nbformat_minor": 0,
  "nbformat": 4,
  "cells": [
    {
      "cell_type": "markdown",
      "metadata": {
        "id": "view-in-github",
        "colab_type": "text"
      },
      "source": [
        "<a href=\"https://colab.research.google.com/github/khushee-g/EEG/blob/main/eeg_exploration.ipynb\" target=\"_parent\"><img src=\"https://colab.research.google.com/assets/colab-badge.svg\" alt=\"Open In Colab\"/></a>"
      ]
    },
    {
      "source": [
        "\n",
        "# IMPORTANT: RUN THIS CELL IN ORDER TO IMPORT YOUR KAGGLE DATA SOURCES\n",
        "# TO THE CORRECT LOCATION (/kaggle/input) IN YOUR NOTEBOOK,\n",
        "# THEN FEEL FREE TO DELETE THIS CELL.\n",
        "# NOTE: THIS NOTEBOOK ENVIRONMENT DIFFERS FROM KAGGLE'S PYTHON\n",
        "# ENVIRONMENT SO THERE MAY BE MISSING LIBRARIES USED BY YOUR\n",
        "# NOTEBOOK.\n",
        "\n",
        "import os\n",
        "import sys\n",
        "from tempfile import NamedTemporaryFile\n",
        "from urllib.request import urlopen\n",
        "from urllib.parse import unquote, urlparse\n",
        "from urllib.error import HTTPError\n",
        "from zipfile import ZipFile\n",
        "import tarfile\n",
        "import shutil\n",
        "\n",
        "CHUNK_SIZE = 40960\n",
        "DATA_SOURCE_MAPPING = 'eeg-psychiatric-disorders-dataset:https%3A%2F%2Fstorage.googleapis.com%2Fkaggle-data-sets%2F1960298%2F3233540%2Fbundle%2Farchive.zip%3FX-Goog-Algorithm%3DGOOG4-RSA-SHA256%26X-Goog-Credential%3Dgcp-kaggle-com%2540kaggle-161607.iam.gserviceaccount.com%252F20240909%252Fauto%252Fstorage%252Fgoog4_request%26X-Goog-Date%3D20240909T020246Z%26X-Goog-Expires%3D259200%26X-Goog-SignedHeaders%3Dhost%26X-Goog-Signature%3Dbc2ff16a9aacb02011a7573bc88f9987468c2a1ba5ce5c64a9986ddb5c95d74acc35027d74d1da756fcca4d97554bf42abf4184088adea590403ab0ae2b1e1b24c9f7c3507f142e13daf801bd3a2485bc1b96dc4418683371206998e77afbf50692043b5cbbe1a7ba690c04ea09613c341cc3b42d995ffb3fd5910e15f4483de6b9ecdd322c2a843cc7b6daa123d7dece6b5ad2e377f2328c575fad8268af9ed95f495240b43d88ce798cfd5faa9bf91b20453238c4ca27dcf317a0c587c6f8cd4419c10cbd7ad0b1b27a54d389514b60c44ec58a96191f21f002a4dbf783ffe1eff93afdc1121607c939d077314b02daa6e32a08eeb043ab847786fb02105f5'\n",
        "\n",
        "KAGGLE_INPUT_PATH='/kaggle/input'\n",
        "KAGGLE_WORKING_PATH='/kaggle/working'\n",
        "KAGGLE_SYMLINK='kaggle'\n",
        "\n",
        "!umount /kaggle/input/ 2> /dev/null\n",
        "shutil.rmtree('/kaggle/input', ignore_errors=True)\n",
        "os.makedirs(KAGGLE_INPUT_PATH, 0o777, exist_ok=True)\n",
        "os.makedirs(KAGGLE_WORKING_PATH, 0o777, exist_ok=True)\n",
        "\n",
        "try:\n",
        "  os.symlink(KAGGLE_INPUT_PATH, os.path.join(\"..\", 'input'), target_is_directory=True)\n",
        "except FileExistsError:\n",
        "  pass\n",
        "try:\n",
        "  os.symlink(KAGGLE_WORKING_PATH, os.path.join(\"..\", 'working'), target_is_directory=True)\n",
        "except FileExistsError:\n",
        "  pass\n",
        "\n",
        "for data_source_mapping in DATA_SOURCE_MAPPING.split(','):\n",
        "    directory, download_url_encoded = data_source_mapping.split(':')\n",
        "    download_url = unquote(download_url_encoded)\n",
        "    filename = urlparse(download_url).path\n",
        "    destination_path = os.path.join(KAGGLE_INPUT_PATH, directory)\n",
        "    try:\n",
        "        with urlopen(download_url) as fileres, NamedTemporaryFile() as tfile:\n",
        "            total_length = fileres.headers['content-length']\n",
        "            print(f'Downloading {directory}, {total_length} bytes compressed')\n",
        "            dl = 0\n",
        "            data = fileres.read(CHUNK_SIZE)\n",
        "            while len(data) > 0:\n",
        "                dl += len(data)\n",
        "                tfile.write(data)\n",
        "                done = int(50 * dl / int(total_length))\n",
        "                sys.stdout.write(f\"\\r[{'=' * done}{' ' * (50-done)}] {dl} bytes downloaded\")\n",
        "                sys.stdout.flush()\n",
        "                data = fileres.read(CHUNK_SIZE)\n",
        "            if filename.endswith('.zip'):\n",
        "              with ZipFile(tfile) as zfile:\n",
        "                zfile.extractall(destination_path)\n",
        "            else:\n",
        "              with tarfile.open(tfile.name) as tarfile:\n",
        "                tarfile.extractall(destination_path)\n",
        "            print(f'\\nDownloaded and uncompressed: {directory}')\n",
        "    except HTTPError as e:\n",
        "        print(f'Failed to load (likely expired) {download_url} to path {destination_path}')\n",
        "        continue\n",
        "    except OSError as e:\n",
        "        print(f'Failed to load {download_url} to path {destination_path}')\n",
        "        continue\n",
        "\n",
        "print('Data source import complete.')\n"
      ],
      "metadata": {
        "id": "HQ_6ZqsOj5Pj"
      },
      "cell_type": "code",
      "outputs": [],
      "execution_count": null
    },
    {
      "cell_type": "code",
      "source": [
        "# This Python 3 environment comes with many helpful analytics libraries installed\n",
        "# It is defined by the kaggle/python Docker image: https://github.com/kaggle/docker-python\n",
        "# For example, here's several helpful packages to load\n",
        "\n",
        "import numpy as np # linear algebra\n",
        "import pandas as pd # data processing, CSV file I/O (e.g. pd.read_csv)\n",
        "\n",
        "# Input data files are available in the read-only \"../input/\" directory\n",
        "# For example, running this (by clicking run or pressing Shift+Enter) will list all files under the input directory\n",
        "\n",
        "import os\n",
        "for dirname, _, filenames in os.walk('/kaggle/input'):\n",
        "    for filename in filenames:\n",
        "        print(os.path.join(dirname, filename))\n",
        "\n",
        "# You can write up to 20GB to the current directory (/kaggle/working/) that gets preserved as output when you create a version using \"Save & Run All\"\n",
        "# You can also write temporary files to /kaggle/temp/, but they won't be saved outside of the current session"
      ],
      "metadata": {
        "_uuid": "8f2839f25d086af736a60e9eeb907d3b93b6e0e5",
        "_cell_guid": "b1076dfc-b9ad-4769-8c92-a6c4dae69d19",
        "execution": {
          "iopub.status.busy": "2024-09-05T22:41:03.641616Z",
          "iopub.status.idle": "2024-09-05T22:41:03.64224Z",
          "shell.execute_reply.started": "2024-09-05T22:41:03.641946Z",
          "shell.execute_reply": "2024-09-05T22:41:03.641974Z"
        },
        "trusted": true,
        "id": "unLcetrjj5Pp"
      },
      "execution_count": null,
      "outputs": []
    },
    {
      "cell_type": "code",
      "source": [
        "data = pd.read_csv(\"/kaggle/input/eeg-psychiatric-disorders-dataset/EEG.machinelearing_data_BRMH.csv\")"
      ],
      "metadata": {
        "execution": {
          "iopub.status.busy": "2024-09-05T22:41:06.984919Z",
          "iopub.execute_input": "2024-09-05T22:41:06.985446Z",
          "iopub.status.idle": "2024-09-05T22:41:07.452446Z",
          "shell.execute_reply.started": "2024-09-05T22:41:06.985402Z",
          "shell.execute_reply": "2024-09-05T22:41:07.450929Z"
        },
        "trusted": true,
        "id": "ZTEcnU52j5Pq"
      },
      "execution_count": null,
      "outputs": []
    },
    {
      "cell_type": "code",
      "source": [
        "data.head()"
      ],
      "metadata": {
        "execution": {
          "iopub.status.busy": "2024-09-05T22:41:09.016483Z",
          "iopub.execute_input": "2024-09-05T22:41:09.017018Z",
          "iopub.status.idle": "2024-09-05T22:41:09.075343Z",
          "shell.execute_reply.started": "2024-09-05T22:41:09.016975Z",
          "shell.execute_reply": "2024-09-05T22:41:09.07408Z"
        },
        "trusted": true,
        "id": "QIVQh8koj5Pr",
        "outputId": "0674494a-94f6-490d-b7b1-c74cf854df97"
      },
      "execution_count": null,
      "outputs": [
        {
          "execution_count": 4,
          "output_type": "execute_result",
          "data": {
            "text/plain": "   no. sex   age    eeg.date  education     IQ       main.disorder  \\\n0    1   M  57.0   2012.8.30        NaN    NaN  Addictive disorder   \n1    2   M  37.0    2012.9.6        6.0  120.0  Addictive disorder   \n2    3   M  32.0   2012.9.10       16.0  113.0  Addictive disorder   \n3    4   M  35.0   2012.10.8       18.0  126.0  Addictive disorder   \n4    5   M  36.0  2012.10.18       16.0  112.0  Addictive disorder   \n\n      specific.disorder  AB.A.delta.a.FP1  AB.A.delta.b.FP2  ...  \\\n0  Alcohol use disorder         35.998557         21.717375  ...   \n1  Alcohol use disorder         13.425118         11.002916  ...   \n2  Alcohol use disorder         29.941780         27.544684  ...   \n3  Alcohol use disorder         21.496226         21.846832  ...   \n4  Alcohol use disorder         37.775667         33.607679  ...   \n\n   COH.F.gamma.o.Pz.p.P4  COH.F.gamma.o.Pz.q.T6  COH.F.gamma.o.Pz.r.O1  \\\n0              55.989192              16.739679              23.452271   \n1              45.595619              17.510824              26.777368   \n2              99.475453              70.654171              39.131547   \n3              59.986561              63.822201              36.478254   \n4              61.462720              59.166097              51.465531   \n\n   COH.F.gamma.o.Pz.s.O2  COH.F.gamma.p.P4.q.T6  COH.F.gamma.p.P4.r.O1  \\\n0              45.678820              30.167520              16.918761   \n1              28.201062              57.108861              32.375401   \n2              69.920996              71.063644              38.534505   \n3              47.117006              84.658376              24.724096   \n4              58.635415              80.685608              62.138436   \n\n   COH.F.gamma.p.P4.s.O2  COH.F.gamma.q.T6.r.O1  COH.F.gamma.q.T6.s.O2  \\\n0              48.850427               9.422630              34.507082   \n1              60.351749              13.900981              57.831848   \n2              69.908764              27.180532              64.803155   \n3              50.299349              35.319695              79.822944   \n4              75.888749              61.003944              87.455509   \n\n   COH.F.gamma.r.O1.s.O2  \n0              28.613029  \n1              43.463261  \n2              31.485799  \n3              41.141873  \n4              70.531662  \n\n[5 rows x 1149 columns]",
            "text/html": "<div>\n<style scoped>\n    .dataframe tbody tr th:only-of-type {\n        vertical-align: middle;\n    }\n\n    .dataframe tbody tr th {\n        vertical-align: top;\n    }\n\n    .dataframe thead th {\n        text-align: right;\n    }\n</style>\n<table border=\"1\" class=\"dataframe\">\n  <thead>\n    <tr style=\"text-align: right;\">\n      <th></th>\n      <th>no.</th>\n      <th>sex</th>\n      <th>age</th>\n      <th>eeg.date</th>\n      <th>education</th>\n      <th>IQ</th>\n      <th>main.disorder</th>\n      <th>specific.disorder</th>\n      <th>AB.A.delta.a.FP1</th>\n      <th>AB.A.delta.b.FP2</th>\n      <th>...</th>\n      <th>COH.F.gamma.o.Pz.p.P4</th>\n      <th>COH.F.gamma.o.Pz.q.T6</th>\n      <th>COH.F.gamma.o.Pz.r.O1</th>\n      <th>COH.F.gamma.o.Pz.s.O2</th>\n      <th>COH.F.gamma.p.P4.q.T6</th>\n      <th>COH.F.gamma.p.P4.r.O1</th>\n      <th>COH.F.gamma.p.P4.s.O2</th>\n      <th>COH.F.gamma.q.T6.r.O1</th>\n      <th>COH.F.gamma.q.T6.s.O2</th>\n      <th>COH.F.gamma.r.O1.s.O2</th>\n    </tr>\n  </thead>\n  <tbody>\n    <tr>\n      <th>0</th>\n      <td>1</td>\n      <td>M</td>\n      <td>57.0</td>\n      <td>2012.8.30</td>\n      <td>NaN</td>\n      <td>NaN</td>\n      <td>Addictive disorder</td>\n      <td>Alcohol use disorder</td>\n      <td>35.998557</td>\n      <td>21.717375</td>\n      <td>...</td>\n      <td>55.989192</td>\n      <td>16.739679</td>\n      <td>23.452271</td>\n      <td>45.678820</td>\n      <td>30.167520</td>\n      <td>16.918761</td>\n      <td>48.850427</td>\n      <td>9.422630</td>\n      <td>34.507082</td>\n      <td>28.613029</td>\n    </tr>\n    <tr>\n      <th>1</th>\n      <td>2</td>\n      <td>M</td>\n      <td>37.0</td>\n      <td>2012.9.6</td>\n      <td>6.0</td>\n      <td>120.0</td>\n      <td>Addictive disorder</td>\n      <td>Alcohol use disorder</td>\n      <td>13.425118</td>\n      <td>11.002916</td>\n      <td>...</td>\n      <td>45.595619</td>\n      <td>17.510824</td>\n      <td>26.777368</td>\n      <td>28.201062</td>\n      <td>57.108861</td>\n      <td>32.375401</td>\n      <td>60.351749</td>\n      <td>13.900981</td>\n      <td>57.831848</td>\n      <td>43.463261</td>\n    </tr>\n    <tr>\n      <th>2</th>\n      <td>3</td>\n      <td>M</td>\n      <td>32.0</td>\n      <td>2012.9.10</td>\n      <td>16.0</td>\n      <td>113.0</td>\n      <td>Addictive disorder</td>\n      <td>Alcohol use disorder</td>\n      <td>29.941780</td>\n      <td>27.544684</td>\n      <td>...</td>\n      <td>99.475453</td>\n      <td>70.654171</td>\n      <td>39.131547</td>\n      <td>69.920996</td>\n      <td>71.063644</td>\n      <td>38.534505</td>\n      <td>69.908764</td>\n      <td>27.180532</td>\n      <td>64.803155</td>\n      <td>31.485799</td>\n    </tr>\n    <tr>\n      <th>3</th>\n      <td>4</td>\n      <td>M</td>\n      <td>35.0</td>\n      <td>2012.10.8</td>\n      <td>18.0</td>\n      <td>126.0</td>\n      <td>Addictive disorder</td>\n      <td>Alcohol use disorder</td>\n      <td>21.496226</td>\n      <td>21.846832</td>\n      <td>...</td>\n      <td>59.986561</td>\n      <td>63.822201</td>\n      <td>36.478254</td>\n      <td>47.117006</td>\n      <td>84.658376</td>\n      <td>24.724096</td>\n      <td>50.299349</td>\n      <td>35.319695</td>\n      <td>79.822944</td>\n      <td>41.141873</td>\n    </tr>\n    <tr>\n      <th>4</th>\n      <td>5</td>\n      <td>M</td>\n      <td>36.0</td>\n      <td>2012.10.18</td>\n      <td>16.0</td>\n      <td>112.0</td>\n      <td>Addictive disorder</td>\n      <td>Alcohol use disorder</td>\n      <td>37.775667</td>\n      <td>33.607679</td>\n      <td>...</td>\n      <td>61.462720</td>\n      <td>59.166097</td>\n      <td>51.465531</td>\n      <td>58.635415</td>\n      <td>80.685608</td>\n      <td>62.138436</td>\n      <td>75.888749</td>\n      <td>61.003944</td>\n      <td>87.455509</td>\n      <td>70.531662</td>\n    </tr>\n  </tbody>\n</table>\n<p>5 rows × 1149 columns</p>\n</div>"
          },
          "metadata": {}
        }
      ]
    },
    {
      "cell_type": "code",
      "source": [
        "data.tail()"
      ],
      "metadata": {
        "execution": {
          "iopub.status.busy": "2024-09-03T23:46:56.067145Z",
          "iopub.execute_input": "2024-09-03T23:46:56.067515Z",
          "iopub.status.idle": "2024-09-03T23:46:56.103408Z",
          "shell.execute_reply.started": "2024-09-03T23:46:56.067483Z",
          "shell.execute_reply": "2024-09-03T23:46:56.101822Z"
        },
        "trusted": true,
        "id": "YBIUVhFlj5Ps",
        "outputId": "7dce20cc-d312-4819-c506-53d86fed06e4"
      },
      "execution_count": null,
      "outputs": [
        {
          "execution_count": 6,
          "output_type": "execute_result",
          "data": {
            "text/plain": "     no. sex   age    eeg.date  education     IQ    main.disorder  \\\n940  941   M  22.0   2014.8.28       13.0  116.0  Healthy control   \n941  942   M  26.0   2014.9.19       13.0  118.0  Healthy control   \n942  943   M  26.0   2014.9.27       16.0  113.0  Healthy control   \n943  944   M  24.0   2014.9.20       13.0  107.0  Healthy control   \n944  945   M  21.0  2015.10.23       13.0  105.0  Healthy control   \n\n    specific.disorder  AB.A.delta.a.FP1  AB.A.delta.b.FP2  ...  \\\n940   Healthy control         41.851823         36.771496  ...   \n941   Healthy control         18.986856         19.401387  ...   \n942   Healthy control         28.781317         32.369230  ...   \n943   Healthy control         19.929100         25.196375  ...   \n944   Healthy control         65.195346         69.241972  ...   \n\n     COH.F.gamma.o.Pz.p.P4  COH.F.gamma.o.Pz.q.T6  COH.F.gamma.o.Pz.r.O1  \\\n940              82.905657              34.850706              63.970519   \n941              65.917918              66.700117              44.756285   \n942              61.040959              27.632209              45.552852   \n943              99.113664              48.328934              41.248470   \n944              78.600293              68.255430              70.687410   \n\n     COH.F.gamma.o.Pz.s.O2  COH.F.gamma.p.P4.q.T6  COH.F.gamma.p.P4.r.O1  \\\n940              63.982003              51.244725              62.203684   \n941              49.787513              98.905995              54.021304   \n942              33.638817              46.690983              19.382928   \n943              28.192238              48.665743              42.007147   \n944              74.433908              74.294750              53.254681   \n\n     COH.F.gamma.p.P4.s.O2  COH.F.gamma.q.T6.r.O1  COH.F.gamma.q.T6.s.O2  \\\n940              62.062237              31.013031              31.183413   \n941              93.902401              52.740396              92.807331   \n942              41.050717               7.045821              41.962451   \n943              28.735945              27.176500              27.529522   \n944              72.755265              47.810386              80.166825   \n\n     COH.F.gamma.r.O1.s.O2  \n940              98.325230  \n941              56.320868  \n942              19.092111  \n943              20.028446  \n944              64.380273  \n\n[5 rows x 1149 columns]",
            "text/html": "<div>\n<style scoped>\n    .dataframe tbody tr th:only-of-type {\n        vertical-align: middle;\n    }\n\n    .dataframe tbody tr th {\n        vertical-align: top;\n    }\n\n    .dataframe thead th {\n        text-align: right;\n    }\n</style>\n<table border=\"1\" class=\"dataframe\">\n  <thead>\n    <tr style=\"text-align: right;\">\n      <th></th>\n      <th>no.</th>\n      <th>sex</th>\n      <th>age</th>\n      <th>eeg.date</th>\n      <th>education</th>\n      <th>IQ</th>\n      <th>main.disorder</th>\n      <th>specific.disorder</th>\n      <th>AB.A.delta.a.FP1</th>\n      <th>AB.A.delta.b.FP2</th>\n      <th>...</th>\n      <th>COH.F.gamma.o.Pz.p.P4</th>\n      <th>COH.F.gamma.o.Pz.q.T6</th>\n      <th>COH.F.gamma.o.Pz.r.O1</th>\n      <th>COH.F.gamma.o.Pz.s.O2</th>\n      <th>COH.F.gamma.p.P4.q.T6</th>\n      <th>COH.F.gamma.p.P4.r.O1</th>\n      <th>COH.F.gamma.p.P4.s.O2</th>\n      <th>COH.F.gamma.q.T6.r.O1</th>\n      <th>COH.F.gamma.q.T6.s.O2</th>\n      <th>COH.F.gamma.r.O1.s.O2</th>\n    </tr>\n  </thead>\n  <tbody>\n    <tr>\n      <th>940</th>\n      <td>941</td>\n      <td>M</td>\n      <td>22.0</td>\n      <td>2014.8.28</td>\n      <td>13.0</td>\n      <td>116.0</td>\n      <td>Healthy control</td>\n      <td>Healthy control</td>\n      <td>41.851823</td>\n      <td>36.771496</td>\n      <td>...</td>\n      <td>82.905657</td>\n      <td>34.850706</td>\n      <td>63.970519</td>\n      <td>63.982003</td>\n      <td>51.244725</td>\n      <td>62.203684</td>\n      <td>62.062237</td>\n      <td>31.013031</td>\n      <td>31.183413</td>\n      <td>98.325230</td>\n    </tr>\n    <tr>\n      <th>941</th>\n      <td>942</td>\n      <td>M</td>\n      <td>26.0</td>\n      <td>2014.9.19</td>\n      <td>13.0</td>\n      <td>118.0</td>\n      <td>Healthy control</td>\n      <td>Healthy control</td>\n      <td>18.986856</td>\n      <td>19.401387</td>\n      <td>...</td>\n      <td>65.917918</td>\n      <td>66.700117</td>\n      <td>44.756285</td>\n      <td>49.787513</td>\n      <td>98.905995</td>\n      <td>54.021304</td>\n      <td>93.902401</td>\n      <td>52.740396</td>\n      <td>92.807331</td>\n      <td>56.320868</td>\n    </tr>\n    <tr>\n      <th>942</th>\n      <td>943</td>\n      <td>M</td>\n      <td>26.0</td>\n      <td>2014.9.27</td>\n      <td>16.0</td>\n      <td>113.0</td>\n      <td>Healthy control</td>\n      <td>Healthy control</td>\n      <td>28.781317</td>\n      <td>32.369230</td>\n      <td>...</td>\n      <td>61.040959</td>\n      <td>27.632209</td>\n      <td>45.552852</td>\n      <td>33.638817</td>\n      <td>46.690983</td>\n      <td>19.382928</td>\n      <td>41.050717</td>\n      <td>7.045821</td>\n      <td>41.962451</td>\n      <td>19.092111</td>\n    </tr>\n    <tr>\n      <th>943</th>\n      <td>944</td>\n      <td>M</td>\n      <td>24.0</td>\n      <td>2014.9.20</td>\n      <td>13.0</td>\n      <td>107.0</td>\n      <td>Healthy control</td>\n      <td>Healthy control</td>\n      <td>19.929100</td>\n      <td>25.196375</td>\n      <td>...</td>\n      <td>99.113664</td>\n      <td>48.328934</td>\n      <td>41.248470</td>\n      <td>28.192238</td>\n      <td>48.665743</td>\n      <td>42.007147</td>\n      <td>28.735945</td>\n      <td>27.176500</td>\n      <td>27.529522</td>\n      <td>20.028446</td>\n    </tr>\n    <tr>\n      <th>944</th>\n      <td>945</td>\n      <td>M</td>\n      <td>21.0</td>\n      <td>2015.10.23</td>\n      <td>13.0</td>\n      <td>105.0</td>\n      <td>Healthy control</td>\n      <td>Healthy control</td>\n      <td>65.195346</td>\n      <td>69.241972</td>\n      <td>...</td>\n      <td>78.600293</td>\n      <td>68.255430</td>\n      <td>70.687410</td>\n      <td>74.433908</td>\n      <td>74.294750</td>\n      <td>53.254681</td>\n      <td>72.755265</td>\n      <td>47.810386</td>\n      <td>80.166825</td>\n      <td>64.380273</td>\n    </tr>\n  </tbody>\n</table>\n<p>5 rows × 1149 columns</p>\n</div>"
          },
          "metadata": {}
        }
      ]
    },
    {
      "cell_type": "code",
      "source": [
        "data['education'].value_counts()"
      ],
      "metadata": {
        "execution": {
          "iopub.status.busy": "2024-09-03T23:48:27.583378Z",
          "iopub.execute_input": "2024-09-03T23:48:27.584313Z",
          "iopub.status.idle": "2024-09-03T23:48:27.597475Z",
          "shell.execute_reply.started": "2024-09-03T23:48:27.584274Z",
          "shell.execute_reply": "2024-09-03T23:48:27.596142Z"
        },
        "trusted": true,
        "id": "4H4HDYpcj5Pt",
        "outputId": "1a9ad6e8-ec4c-4db6-8260-d2d9d82c24a0"
      },
      "execution_count": null,
      "outputs": [
        {
          "execution_count": 13,
          "output_type": "execute_result",
          "data": {
            "text/plain": "education\n12.0    239\n13.0    226\n16.0    225\n14.0     83\n9.0      27\n18.0     26\n17.0     25\n15.0     20\n10.0     19\n6.0      15\n11.0      6\n7.0       6\n20.0      3\n1.0       3\n8.0       2\n0.0       2\n19.0      1\n3.0       1\n5.0       1\nName: count, dtype: int64"
          },
          "metadata": {}
        }
      ]
    },
    {
      "cell_type": "code",
      "source": [
        "data['education'].value_counts()/len(data)"
      ],
      "metadata": {
        "execution": {
          "iopub.status.busy": "2024-09-05T22:41:15.483967Z",
          "iopub.execute_input": "2024-09-05T22:41:15.484351Z",
          "iopub.status.idle": "2024-09-05T22:41:15.503937Z",
          "shell.execute_reply.started": "2024-09-05T22:41:15.484321Z",
          "shell.execute_reply": "2024-09-05T22:41:15.502548Z"
        },
        "trusted": true,
        "id": "lVHfhnOIj5Pt",
        "outputId": "8cbb8331-32fb-457e-8778-66b02814e639"
      },
      "execution_count": null,
      "outputs": [
        {
          "execution_count": 5,
          "output_type": "execute_result",
          "data": {
            "text/plain": "education\n12.0    0.252910\n13.0    0.239153\n16.0    0.238095\n14.0    0.087831\n9.0     0.028571\n18.0    0.027513\n17.0    0.026455\n15.0    0.021164\n10.0    0.020106\n6.0     0.015873\n11.0    0.006349\n7.0     0.006349\n20.0    0.003175\n1.0     0.003175\n8.0     0.002116\n0.0     0.002116\n19.0    0.001058\n3.0     0.001058\n5.0     0.001058\nName: count, dtype: float64"
          },
          "metadata": {}
        }
      ]
    },
    {
      "cell_type": "code",
      "source": [
        "data['main.disorder'].value_counts()\n",
        "data['main.disorder',\"Mood disorder\"].value_counts()\n"
      ],
      "metadata": {
        "execution": {
          "iopub.status.busy": "2024-09-05T23:06:45.951892Z",
          "iopub.execute_input": "2024-09-05T23:06:45.952944Z",
          "iopub.status.idle": "2024-09-05T23:06:46.058297Z",
          "shell.execute_reply.started": "2024-09-05T23:06:45.952904Z",
          "shell.execute_reply": "2024-09-05T23:06:46.056697Z"
        },
        "trusted": true,
        "id": "fwJMJHTxj5Pu",
        "outputId": "663574e4-d7de-41d7-9f6d-cb0c58dc5792"
      },
      "execution_count": null,
      "outputs": [
        {
          "traceback": [
            "\u001b[0;31m---------------------------------------------------------------------------\u001b[0m",
            "\u001b[0;31mKeyError\u001b[0m                                  Traceback (most recent call last)",
            "File \u001b[0;32m/opt/conda/lib/python3.10/site-packages/pandas/core/indexes/base.py:3805\u001b[0m, in \u001b[0;36mIndex.get_loc\u001b[0;34m(self, key)\u001b[0m\n\u001b[1;32m   3804\u001b[0m \u001b[38;5;28;01mtry\u001b[39;00m:\n\u001b[0;32m-> 3805\u001b[0m     \u001b[38;5;28;01mreturn\u001b[39;00m \u001b[38;5;28;43mself\u001b[39;49m\u001b[38;5;241;43m.\u001b[39;49m\u001b[43m_engine\u001b[49m\u001b[38;5;241;43m.\u001b[39;49m\u001b[43mget_loc\u001b[49m\u001b[43m(\u001b[49m\u001b[43mcasted_key\u001b[49m\u001b[43m)\u001b[49m\n\u001b[1;32m   3806\u001b[0m \u001b[38;5;28;01mexcept\u001b[39;00m \u001b[38;5;167;01mKeyError\u001b[39;00m \u001b[38;5;28;01mas\u001b[39;00m err:\n",
            "File \u001b[0;32mindex.pyx:167\u001b[0m, in \u001b[0;36mpandas._libs.index.IndexEngine.get_loc\u001b[0;34m()\u001b[0m\n",
            "File \u001b[0;32mindex.pyx:196\u001b[0m, in \u001b[0;36mpandas._libs.index.IndexEngine.get_loc\u001b[0;34m()\u001b[0m\n",
            "File \u001b[0;32mpandas/_libs/hashtable_class_helper.pxi:7081\u001b[0m, in \u001b[0;36mpandas._libs.hashtable.PyObjectHashTable.get_item\u001b[0;34m()\u001b[0m\n",
            "File \u001b[0;32mpandas/_libs/hashtable_class_helper.pxi:7089\u001b[0m, in \u001b[0;36mpandas._libs.hashtable.PyObjectHashTable.get_item\u001b[0;34m()\u001b[0m\n",
            "\u001b[0;31mKeyError\u001b[0m: ('main.disorder', 'Mood disorder')",
            "\nThe above exception was the direct cause of the following exception:\n",
            "\u001b[0;31mKeyError\u001b[0m                                  Traceback (most recent call last)",
            "Cell \u001b[0;32mIn[22], line 2\u001b[0m\n\u001b[1;32m      1\u001b[0m data[\u001b[38;5;124m'\u001b[39m\u001b[38;5;124mmain.disorder\u001b[39m\u001b[38;5;124m'\u001b[39m]\u001b[38;5;241m.\u001b[39mvalue_counts()\n\u001b[0;32m----> 2\u001b[0m \u001b[43mdata\u001b[49m\u001b[43m[\u001b[49m\u001b[38;5;124;43m'\u001b[39;49m\u001b[38;5;124;43mmain.disorder\u001b[39;49m\u001b[38;5;124;43m'\u001b[39;49m\u001b[43m,\u001b[49m\u001b[38;5;124;43m\"\u001b[39;49m\u001b[38;5;124;43mMood disorder\u001b[39;49m\u001b[38;5;124;43m\"\u001b[39;49m\u001b[43m]\u001b[49m\u001b[38;5;241m.\u001b[39mvalue_counts()\n",
            "File \u001b[0;32m/opt/conda/lib/python3.10/site-packages/pandas/core/frame.py:4102\u001b[0m, in \u001b[0;36mDataFrame.__getitem__\u001b[0;34m(self, key)\u001b[0m\n\u001b[1;32m   4100\u001b[0m \u001b[38;5;28;01mif\u001b[39;00m \u001b[38;5;28mself\u001b[39m\u001b[38;5;241m.\u001b[39mcolumns\u001b[38;5;241m.\u001b[39mnlevels \u001b[38;5;241m>\u001b[39m \u001b[38;5;241m1\u001b[39m:\n\u001b[1;32m   4101\u001b[0m     \u001b[38;5;28;01mreturn\u001b[39;00m \u001b[38;5;28mself\u001b[39m\u001b[38;5;241m.\u001b[39m_getitem_multilevel(key)\n\u001b[0;32m-> 4102\u001b[0m indexer \u001b[38;5;241m=\u001b[39m \u001b[38;5;28;43mself\u001b[39;49m\u001b[38;5;241;43m.\u001b[39;49m\u001b[43mcolumns\u001b[49m\u001b[38;5;241;43m.\u001b[39;49m\u001b[43mget_loc\u001b[49m\u001b[43m(\u001b[49m\u001b[43mkey\u001b[49m\u001b[43m)\u001b[49m\n\u001b[1;32m   4103\u001b[0m \u001b[38;5;28;01mif\u001b[39;00m is_integer(indexer):\n\u001b[1;32m   4104\u001b[0m     indexer \u001b[38;5;241m=\u001b[39m [indexer]\n",
            "File \u001b[0;32m/opt/conda/lib/python3.10/site-packages/pandas/core/indexes/base.py:3812\u001b[0m, in \u001b[0;36mIndex.get_loc\u001b[0;34m(self, key)\u001b[0m\n\u001b[1;32m   3807\u001b[0m     \u001b[38;5;28;01mif\u001b[39;00m \u001b[38;5;28misinstance\u001b[39m(casted_key, \u001b[38;5;28mslice\u001b[39m) \u001b[38;5;129;01mor\u001b[39;00m (\n\u001b[1;32m   3808\u001b[0m         \u001b[38;5;28misinstance\u001b[39m(casted_key, abc\u001b[38;5;241m.\u001b[39mIterable)\n\u001b[1;32m   3809\u001b[0m         \u001b[38;5;129;01mand\u001b[39;00m \u001b[38;5;28many\u001b[39m(\u001b[38;5;28misinstance\u001b[39m(x, \u001b[38;5;28mslice\u001b[39m) \u001b[38;5;28;01mfor\u001b[39;00m x \u001b[38;5;129;01min\u001b[39;00m casted_key)\n\u001b[1;32m   3810\u001b[0m     ):\n\u001b[1;32m   3811\u001b[0m         \u001b[38;5;28;01mraise\u001b[39;00m InvalidIndexError(key)\n\u001b[0;32m-> 3812\u001b[0m     \u001b[38;5;28;01mraise\u001b[39;00m \u001b[38;5;167;01mKeyError\u001b[39;00m(key) \u001b[38;5;28;01mfrom\u001b[39;00m \u001b[38;5;21;01merr\u001b[39;00m\n\u001b[1;32m   3813\u001b[0m \u001b[38;5;28;01mexcept\u001b[39;00m \u001b[38;5;167;01mTypeError\u001b[39;00m:\n\u001b[1;32m   3814\u001b[0m     \u001b[38;5;66;03m# If we have a listlike key, _check_indexing_error will raise\u001b[39;00m\n\u001b[1;32m   3815\u001b[0m     \u001b[38;5;66;03m#  InvalidIndexError. Otherwise we fall through and re-raise\u001b[39;00m\n\u001b[1;32m   3816\u001b[0m     \u001b[38;5;66;03m#  the TypeError.\u001b[39;00m\n\u001b[1;32m   3817\u001b[0m     \u001b[38;5;28mself\u001b[39m\u001b[38;5;241m.\u001b[39m_check_indexing_error(key)\n",
            "\u001b[0;31mKeyError\u001b[0m: ('main.disorder', 'Mood disorder')"
          ],
          "ename": "KeyError",
          "evalue": "('main.disorder', 'Mood disorder')",
          "output_type": "error"
        }
      ]
    },
    {
      "cell_type": "code",
      "source": [
        "data['main.disorder'].value_counts()\n"
      ],
      "metadata": {
        "execution": {
          "iopub.status.busy": "2024-09-05T23:20:59.396481Z",
          "iopub.execute_input": "2024-09-05T23:20:59.396899Z",
          "iopub.status.idle": "2024-09-05T23:20:59.407055Z",
          "shell.execute_reply.started": "2024-09-05T23:20:59.396864Z",
          "shell.execute_reply": "2024-09-05T23:20:59.405749Z"
        },
        "trusted": true,
        "id": "5k9_rICDj5Pv",
        "outputId": "67e8f2af-ab92-4b24-8b72-4ae6f53ed6af"
      },
      "execution_count": null,
      "outputs": [
        {
          "execution_count": 28,
          "output_type": "execute_result",
          "data": {
            "text/plain": "main.disorder\nMood disorder                         266\nAddictive disorder                    186\nTrauma and stress related disorder    128\nSchizophrenia                         117\nAnxiety disorder                      107\nHealthy control                        95\nObsessive compulsive disorder          46\nName: count, dtype: int64"
          },
          "metadata": {}
        }
      ]
    },
    {
      "cell_type": "code",
      "source": [
        "pd.crosstab(data['main.disorder'], data['specific.disorder'])/len(data)"
      ],
      "metadata": {
        "execution": {
          "iopub.status.busy": "2024-09-05T23:20:39.85838Z",
          "iopub.execute_input": "2024-09-05T23:20:39.859341Z",
          "iopub.status.idle": "2024-09-05T23:20:39.895049Z",
          "shell.execute_reply.started": "2024-09-05T23:20:39.859294Z",
          "shell.execute_reply": "2024-09-05T23:20:39.893288Z"
        },
        "trusted": true,
        "collapsed": true,
        "id": "2f1GThNTj5Pv",
        "outputId": "36f14db1-3bba-4148-9882-d4d5b22bd25f"
      },
      "execution_count": null,
      "outputs": [
        {
          "traceback": [
            "\u001b[0;31m---------------------------------------------------------------------------\u001b[0m",
            "\u001b[0;31mTypeError\u001b[0m                                 Traceback (most recent call last)",
            "Cell \u001b[0;32mIn[27], line 1\u001b[0m\n\u001b[0;32m----> 1\u001b[0m \u001b[43mpd\u001b[49m\u001b[38;5;241;43m.\u001b[39;49m\u001b[43mcrosstab\u001b[49m\u001b[43m(\u001b[49m\u001b[43mdata\u001b[49m\u001b[43m[\u001b[49m\u001b[38;5;124;43m'\u001b[39;49m\u001b[38;5;124;43mmain.disorder\u001b[39;49m\u001b[38;5;124;43m'\u001b[39;49m\u001b[43m]\u001b[49m\u001b[43m,\u001b[49m\u001b[43m)\u001b[49m\u001b[38;5;241m/\u001b[39m\u001b[38;5;28mlen\u001b[39m(data)\n",
            "\u001b[0;31mTypeError\u001b[0m: crosstab() missing 1 required positional argument: 'columns'"
          ],
          "ename": "TypeError",
          "evalue": "crosstab() missing 1 required positional argument: 'columns'",
          "output_type": "error"
        }
      ]
    },
    {
      "cell_type": "code",
      "source": [
        "data['main.disorder']/len(data)"
      ],
      "metadata": {
        "execution": {
          "iopub.status.busy": "2024-09-05T23:18:31.137499Z",
          "iopub.execute_input": "2024-09-05T23:18:31.137943Z",
          "iopub.status.idle": "2024-09-05T23:18:31.313371Z",
          "shell.execute_reply.started": "2024-09-05T23:18:31.137909Z",
          "shell.execute_reply": "2024-09-05T23:18:31.311865Z"
        },
        "trusted": true,
        "collapsed": true,
        "id": "-naj8Ym3j5Pw",
        "outputId": "52bcfc32-e1a5-4831-f8d0-a7248b6bae96"
      },
      "execution_count": null,
      "outputs": [
        {
          "traceback": [
            "\u001b[0;31m---------------------------------------------------------------------------\u001b[0m",
            "\u001b[0;31mTypeError\u001b[0m                                 Traceback (most recent call last)",
            "File \u001b[0;32m/opt/conda/lib/python3.10/site-packages/pandas/core/ops/array_ops.py:218\u001b[0m, in \u001b[0;36m_na_arithmetic_op\u001b[0;34m(left, right, op, is_cmp)\u001b[0m\n\u001b[1;32m    217\u001b[0m \u001b[38;5;28;01mtry\u001b[39;00m:\n\u001b[0;32m--> 218\u001b[0m     result \u001b[38;5;241m=\u001b[39m \u001b[43mfunc\u001b[49m\u001b[43m(\u001b[49m\u001b[43mleft\u001b[49m\u001b[43m,\u001b[49m\u001b[43m \u001b[49m\u001b[43mright\u001b[49m\u001b[43m)\u001b[49m\n\u001b[1;32m    219\u001b[0m \u001b[38;5;28;01mexcept\u001b[39;00m \u001b[38;5;167;01mTypeError\u001b[39;00m:\n",
            "File \u001b[0;32m/opt/conda/lib/python3.10/site-packages/pandas/core/computation/expressions.py:242\u001b[0m, in \u001b[0;36mevaluate\u001b[0;34m(op, a, b, use_numexpr)\u001b[0m\n\u001b[1;32m    240\u001b[0m     \u001b[38;5;28;01mif\u001b[39;00m use_numexpr:\n\u001b[1;32m    241\u001b[0m         \u001b[38;5;66;03m# error: \"None\" not callable\u001b[39;00m\n\u001b[0;32m--> 242\u001b[0m         \u001b[38;5;28;01mreturn\u001b[39;00m \u001b[43m_evaluate\u001b[49m\u001b[43m(\u001b[49m\u001b[43mop\u001b[49m\u001b[43m,\u001b[49m\u001b[43m \u001b[49m\u001b[43mop_str\u001b[49m\u001b[43m,\u001b[49m\u001b[43m \u001b[49m\u001b[43ma\u001b[49m\u001b[43m,\u001b[49m\u001b[43m \u001b[49m\u001b[43mb\u001b[49m\u001b[43m)\u001b[49m  \u001b[38;5;66;03m# type: ignore[misc]\u001b[39;00m\n\u001b[1;32m    243\u001b[0m \u001b[38;5;28;01mreturn\u001b[39;00m _evaluate_standard(op, op_str, a, b)\n",
            "File \u001b[0;32m/opt/conda/lib/python3.10/site-packages/pandas/core/computation/expressions.py:131\u001b[0m, in \u001b[0;36m_evaluate_numexpr\u001b[0;34m(op, op_str, a, b)\u001b[0m\n\u001b[1;32m    130\u001b[0m \u001b[38;5;28;01mif\u001b[39;00m result \u001b[38;5;129;01mis\u001b[39;00m \u001b[38;5;28;01mNone\u001b[39;00m:\n\u001b[0;32m--> 131\u001b[0m     result \u001b[38;5;241m=\u001b[39m \u001b[43m_evaluate_standard\u001b[49m\u001b[43m(\u001b[49m\u001b[43mop\u001b[49m\u001b[43m,\u001b[49m\u001b[43m \u001b[49m\u001b[43mop_str\u001b[49m\u001b[43m,\u001b[49m\u001b[43m \u001b[49m\u001b[43ma\u001b[49m\u001b[43m,\u001b[49m\u001b[43m \u001b[49m\u001b[43mb\u001b[49m\u001b[43m)\u001b[49m\n\u001b[1;32m    133\u001b[0m \u001b[38;5;28;01mreturn\u001b[39;00m result\n",
            "File \u001b[0;32m/opt/conda/lib/python3.10/site-packages/pandas/core/computation/expressions.py:73\u001b[0m, in \u001b[0;36m_evaluate_standard\u001b[0;34m(op, op_str, a, b)\u001b[0m\n\u001b[1;32m     72\u001b[0m     _store_test_result(\u001b[38;5;28;01mFalse\u001b[39;00m)\n\u001b[0;32m---> 73\u001b[0m \u001b[38;5;28;01mreturn\u001b[39;00m \u001b[43mop\u001b[49m\u001b[43m(\u001b[49m\u001b[43ma\u001b[49m\u001b[43m,\u001b[49m\u001b[43m \u001b[49m\u001b[43mb\u001b[49m\u001b[43m)\u001b[49m\n",
            "\u001b[0;31mTypeError\u001b[0m: unsupported operand type(s) for /: 'str' and 'int'",
            "\nDuring handling of the above exception, another exception occurred:\n",
            "\u001b[0;31mTypeError\u001b[0m                                 Traceback (most recent call last)",
            "Cell \u001b[0;32mIn[25], line 1\u001b[0m\n\u001b[0;32m----> 1\u001b[0m \u001b[43mdata\u001b[49m\u001b[43m[\u001b[49m\u001b[38;5;124;43m'\u001b[39;49m\u001b[38;5;124;43mmain.disorder\u001b[39;49m\u001b[38;5;124;43m'\u001b[39;49m\u001b[43m]\u001b[49m\u001b[38;5;241;43m/\u001b[39;49m\u001b[38;5;28;43mlen\u001b[39;49m\u001b[43m(\u001b[49m\u001b[43mdata\u001b[49m\u001b[43m)\u001b[49m\n",
            "File \u001b[0;32m/opt/conda/lib/python3.10/site-packages/pandas/core/ops/common.py:76\u001b[0m, in \u001b[0;36m_unpack_zerodim_and_defer.<locals>.new_method\u001b[0;34m(self, other)\u001b[0m\n\u001b[1;32m     72\u001b[0m             \u001b[38;5;28;01mreturn\u001b[39;00m \u001b[38;5;28mNotImplemented\u001b[39m\n\u001b[1;32m     74\u001b[0m other \u001b[38;5;241m=\u001b[39m item_from_zerodim(other)\n\u001b[0;32m---> 76\u001b[0m \u001b[38;5;28;01mreturn\u001b[39;00m \u001b[43mmethod\u001b[49m\u001b[43m(\u001b[49m\u001b[38;5;28;43mself\u001b[39;49m\u001b[43m,\u001b[49m\u001b[43m \u001b[49m\u001b[43mother\u001b[49m\u001b[43m)\u001b[49m\n",
            "File \u001b[0;32m/opt/conda/lib/python3.10/site-packages/pandas/core/arraylike.py:210\u001b[0m, in \u001b[0;36mOpsMixin.__truediv__\u001b[0;34m(self, other)\u001b[0m\n\u001b[1;32m    208\u001b[0m \u001b[38;5;129m@unpack_zerodim_and_defer\u001b[39m(\u001b[38;5;124m\"\u001b[39m\u001b[38;5;124m__truediv__\u001b[39m\u001b[38;5;124m\"\u001b[39m)\n\u001b[1;32m    209\u001b[0m \u001b[38;5;28;01mdef\u001b[39;00m \u001b[38;5;21m__truediv__\u001b[39m(\u001b[38;5;28mself\u001b[39m, other):\n\u001b[0;32m--> 210\u001b[0m     \u001b[38;5;28;01mreturn\u001b[39;00m \u001b[38;5;28;43mself\u001b[39;49m\u001b[38;5;241;43m.\u001b[39;49m\u001b[43m_arith_method\u001b[49m\u001b[43m(\u001b[49m\u001b[43mother\u001b[49m\u001b[43m,\u001b[49m\u001b[43m \u001b[49m\u001b[43moperator\u001b[49m\u001b[38;5;241;43m.\u001b[39;49m\u001b[43mtruediv\u001b[49m\u001b[43m)\u001b[49m\n",
            "File \u001b[0;32m/opt/conda/lib/python3.10/site-packages/pandas/core/series.py:6135\u001b[0m, in \u001b[0;36mSeries._arith_method\u001b[0;34m(self, other, op)\u001b[0m\n\u001b[1;32m   6133\u001b[0m \u001b[38;5;28;01mdef\u001b[39;00m \u001b[38;5;21m_arith_method\u001b[39m(\u001b[38;5;28mself\u001b[39m, other, op):\n\u001b[1;32m   6134\u001b[0m     \u001b[38;5;28mself\u001b[39m, other \u001b[38;5;241m=\u001b[39m \u001b[38;5;28mself\u001b[39m\u001b[38;5;241m.\u001b[39m_align_for_op(other)\n\u001b[0;32m-> 6135\u001b[0m     \u001b[38;5;28;01mreturn\u001b[39;00m \u001b[43mbase\u001b[49m\u001b[38;5;241;43m.\u001b[39;49m\u001b[43mIndexOpsMixin\u001b[49m\u001b[38;5;241;43m.\u001b[39;49m\u001b[43m_arith_method\u001b[49m\u001b[43m(\u001b[49m\u001b[38;5;28;43mself\u001b[39;49m\u001b[43m,\u001b[49m\u001b[43m \u001b[49m\u001b[43mother\u001b[49m\u001b[43m,\u001b[49m\u001b[43m \u001b[49m\u001b[43mop\u001b[49m\u001b[43m)\u001b[49m\n",
            "File \u001b[0;32m/opt/conda/lib/python3.10/site-packages/pandas/core/base.py:1382\u001b[0m, in \u001b[0;36mIndexOpsMixin._arith_method\u001b[0;34m(self, other, op)\u001b[0m\n\u001b[1;32m   1379\u001b[0m     rvalues \u001b[38;5;241m=\u001b[39m np\u001b[38;5;241m.\u001b[39marange(rvalues\u001b[38;5;241m.\u001b[39mstart, rvalues\u001b[38;5;241m.\u001b[39mstop, rvalues\u001b[38;5;241m.\u001b[39mstep)\n\u001b[1;32m   1381\u001b[0m \u001b[38;5;28;01mwith\u001b[39;00m np\u001b[38;5;241m.\u001b[39merrstate(\u001b[38;5;28mall\u001b[39m\u001b[38;5;241m=\u001b[39m\u001b[38;5;124m\"\u001b[39m\u001b[38;5;124mignore\u001b[39m\u001b[38;5;124m\"\u001b[39m):\n\u001b[0;32m-> 1382\u001b[0m     result \u001b[38;5;241m=\u001b[39m \u001b[43mops\u001b[49m\u001b[38;5;241;43m.\u001b[39;49m\u001b[43marithmetic_op\u001b[49m\u001b[43m(\u001b[49m\u001b[43mlvalues\u001b[49m\u001b[43m,\u001b[49m\u001b[43m \u001b[49m\u001b[43mrvalues\u001b[49m\u001b[43m,\u001b[49m\u001b[43m \u001b[49m\u001b[43mop\u001b[49m\u001b[43m)\u001b[49m\n\u001b[1;32m   1384\u001b[0m \u001b[38;5;28;01mreturn\u001b[39;00m \u001b[38;5;28mself\u001b[39m\u001b[38;5;241m.\u001b[39m_construct_result(result, name\u001b[38;5;241m=\u001b[39mres_name)\n",
            "File \u001b[0;32m/opt/conda/lib/python3.10/site-packages/pandas/core/ops/array_ops.py:283\u001b[0m, in \u001b[0;36marithmetic_op\u001b[0;34m(left, right, op)\u001b[0m\n\u001b[1;32m    279\u001b[0m     _bool_arith_check(op, left, right)  \u001b[38;5;66;03m# type: ignore[arg-type]\u001b[39;00m\n\u001b[1;32m    281\u001b[0m     \u001b[38;5;66;03m# error: Argument 1 to \"_na_arithmetic_op\" has incompatible type\u001b[39;00m\n\u001b[1;32m    282\u001b[0m     \u001b[38;5;66;03m# \"Union[ExtensionArray, ndarray[Any, Any]]\"; expected \"ndarray[Any, Any]\"\u001b[39;00m\n\u001b[0;32m--> 283\u001b[0m     res_values \u001b[38;5;241m=\u001b[39m \u001b[43m_na_arithmetic_op\u001b[49m\u001b[43m(\u001b[49m\u001b[43mleft\u001b[49m\u001b[43m,\u001b[49m\u001b[43m \u001b[49m\u001b[43mright\u001b[49m\u001b[43m,\u001b[49m\u001b[43m \u001b[49m\u001b[43mop\u001b[49m\u001b[43m)\u001b[49m  \u001b[38;5;66;03m# type: ignore[arg-type]\u001b[39;00m\n\u001b[1;32m    285\u001b[0m \u001b[38;5;28;01mreturn\u001b[39;00m res_values\n",
            "File \u001b[0;32m/opt/conda/lib/python3.10/site-packages/pandas/core/ops/array_ops.py:227\u001b[0m, in \u001b[0;36m_na_arithmetic_op\u001b[0;34m(left, right, op, is_cmp)\u001b[0m\n\u001b[1;32m    219\u001b[0m \u001b[38;5;28;01mexcept\u001b[39;00m \u001b[38;5;167;01mTypeError\u001b[39;00m:\n\u001b[1;32m    220\u001b[0m     \u001b[38;5;28;01mif\u001b[39;00m \u001b[38;5;129;01mnot\u001b[39;00m is_cmp \u001b[38;5;129;01mand\u001b[39;00m (\n\u001b[1;32m    221\u001b[0m         left\u001b[38;5;241m.\u001b[39mdtype \u001b[38;5;241m==\u001b[39m \u001b[38;5;28mobject\u001b[39m \u001b[38;5;129;01mor\u001b[39;00m \u001b[38;5;28mgetattr\u001b[39m(right, \u001b[38;5;124m\"\u001b[39m\u001b[38;5;124mdtype\u001b[39m\u001b[38;5;124m\"\u001b[39m, \u001b[38;5;28;01mNone\u001b[39;00m) \u001b[38;5;241m==\u001b[39m \u001b[38;5;28mobject\u001b[39m\n\u001b[1;32m    222\u001b[0m     ):\n\u001b[0;32m   (...)\u001b[0m\n\u001b[1;32m    225\u001b[0m         \u001b[38;5;66;03m# Don't do this for comparisons, as that will handle complex numbers\u001b[39;00m\n\u001b[1;32m    226\u001b[0m         \u001b[38;5;66;03m#  incorrectly, see GH#32047\u001b[39;00m\n\u001b[0;32m--> 227\u001b[0m         result \u001b[38;5;241m=\u001b[39m \u001b[43m_masked_arith_op\u001b[49m\u001b[43m(\u001b[49m\u001b[43mleft\u001b[49m\u001b[43m,\u001b[49m\u001b[43m \u001b[49m\u001b[43mright\u001b[49m\u001b[43m,\u001b[49m\u001b[43m \u001b[49m\u001b[43mop\u001b[49m\u001b[43m)\u001b[49m\n\u001b[1;32m    228\u001b[0m     \u001b[38;5;28;01melse\u001b[39;00m:\n\u001b[1;32m    229\u001b[0m         \u001b[38;5;28;01mraise\u001b[39;00m\n",
            "File \u001b[0;32m/opt/conda/lib/python3.10/site-packages/pandas/core/ops/array_ops.py:182\u001b[0m, in \u001b[0;36m_masked_arith_op\u001b[0;34m(x, y, op)\u001b[0m\n\u001b[1;32m    179\u001b[0m         mask \u001b[38;5;241m=\u001b[39m np\u001b[38;5;241m.\u001b[39mwhere(y \u001b[38;5;241m==\u001b[39m \u001b[38;5;241m1\u001b[39m, \u001b[38;5;28;01mFalse\u001b[39;00m, mask)\n\u001b[1;32m    181\u001b[0m     \u001b[38;5;28;01mif\u001b[39;00m mask\u001b[38;5;241m.\u001b[39many():\n\u001b[0;32m--> 182\u001b[0m         result[mask] \u001b[38;5;241m=\u001b[39m \u001b[43mop\u001b[49m\u001b[43m(\u001b[49m\u001b[43mxrav\u001b[49m\u001b[43m[\u001b[49m\u001b[43mmask\u001b[49m\u001b[43m]\u001b[49m\u001b[43m,\u001b[49m\u001b[43m \u001b[49m\u001b[43my\u001b[49m\u001b[43m)\u001b[49m\n\u001b[1;32m    184\u001b[0m np\u001b[38;5;241m.\u001b[39mputmask(result, \u001b[38;5;241m~\u001b[39mmask, np\u001b[38;5;241m.\u001b[39mnan)\n\u001b[1;32m    185\u001b[0m result \u001b[38;5;241m=\u001b[39m result\u001b[38;5;241m.\u001b[39mreshape(x\u001b[38;5;241m.\u001b[39mshape)  \u001b[38;5;66;03m# 2D compat\u001b[39;00m\n",
            "\u001b[0;31mTypeError\u001b[0m: unsupported operand type(s) for /: 'str' and 'int'"
          ],
          "ename": "TypeError",
          "evalue": "unsupported operand type(s) for /: 'str' and 'int'",
          "output_type": "error"
        }
      ]
    },
    {
      "cell_type": "code",
      "source": [
        "data.info()"
      ],
      "metadata": {
        "execution": {
          "iopub.status.busy": "2024-09-03T23:46:56.108244Z",
          "iopub.execute_input": "2024-09-03T23:46:56.108782Z",
          "iopub.status.idle": "2024-09-03T23:46:56.192214Z",
          "shell.execute_reply.started": "2024-09-03T23:46:56.108737Z",
          "shell.execute_reply": "2024-09-03T23:46:56.190776Z"
        },
        "trusted": true,
        "id": "gGaJ6N_tj5Pw",
        "outputId": "5cfc4b16-6de2-409d-8763-f307dd3f706e"
      },
      "execution_count": null,
      "outputs": [
        {
          "name": "stdout",
          "text": "<class 'pandas.core.frame.DataFrame'>\nRangeIndex: 945 entries, 0 to 944\nColumns: 1149 entries, no. to COH.F.gamma.r.O1.s.O2\ndtypes: float64(1144), int64(1), object(4)\nmemory usage: 8.3+ MB\n",
          "output_type": "stream"
        }
      ]
    },
    {
      "cell_type": "code",
      "source": [
        "data.nunique()"
      ],
      "metadata": {
        "execution": {
          "iopub.status.busy": "2024-09-03T23:46:56.194327Z",
          "iopub.execute_input": "2024-09-03T23:46:56.194794Z",
          "iopub.status.idle": "2024-09-03T23:46:56.362292Z",
          "shell.execute_reply.started": "2024-09-03T23:46:56.19475Z",
          "shell.execute_reply": "2024-09-03T23:46:56.360762Z"
        },
        "trusted": true,
        "id": "JBk7OHxxj5Px",
        "outputId": "4169e13c-ad8f-4af1-c4ac-8f95d4990c1b"
      },
      "execution_count": null,
      "outputs": [
        {
          "execution_count": 8,
          "output_type": "execute_result",
          "data": {
            "text/plain": "no.                      945\nsex                        2\nage                      654\neeg.date                 722\neducation                 19\n                        ... \nCOH.F.gamma.p.P4.r.O1    942\nCOH.F.gamma.p.P4.s.O2    942\nCOH.F.gamma.q.T6.r.O1    942\nCOH.F.gamma.q.T6.s.O2    942\nCOH.F.gamma.r.O1.s.O2    942\nLength: 1149, dtype: int64"
          },
          "metadata": {}
        }
      ]
    },
    {
      "cell_type": "code",
      "source": [
        "data.isnull().sum()"
      ],
      "metadata": {
        "execution": {
          "iopub.status.busy": "2024-09-03T23:46:56.363904Z",
          "iopub.execute_input": "2024-09-03T23:46:56.364273Z",
          "iopub.status.idle": "2024-09-03T23:46:56.379131Z",
          "shell.execute_reply.started": "2024-09-03T23:46:56.364242Z",
          "shell.execute_reply": "2024-09-03T23:46:56.37746Z"
        },
        "trusted": true,
        "id": "cylH94oGj5Px",
        "outputId": "6bfc30fe-54dc-4e82-820f-d9c65e700536"
      },
      "execution_count": null,
      "outputs": [
        {
          "execution_count": 9,
          "output_type": "execute_result",
          "data": {
            "text/plain": "no.                       0\nsex                       0\nage                       0\neeg.date                  0\neducation                15\n                         ..\nCOH.F.gamma.p.P4.r.O1     0\nCOH.F.gamma.p.P4.s.O2     0\nCOH.F.gamma.q.T6.r.O1     0\nCOH.F.gamma.q.T6.s.O2     0\nCOH.F.gamma.r.O1.s.O2     0\nLength: 1149, dtype: int64"
          },
          "metadata": {}
        }
      ]
    },
    {
      "cell_type": "code",
      "source": [
        "(data.isnull().sum()/(len(data)))*100"
      ],
      "metadata": {
        "execution": {
          "iopub.status.busy": "2024-09-03T23:46:56.381357Z",
          "iopub.execute_input": "2024-09-03T23:46:56.381833Z",
          "iopub.status.idle": "2024-09-03T23:46:56.399685Z",
          "shell.execute_reply.started": "2024-09-03T23:46:56.381792Z",
          "shell.execute_reply": "2024-09-03T23:46:56.398241Z"
        },
        "trusted": true,
        "id": "4lWcMt30j5Py",
        "outputId": "80106b3c-96f7-4a42-8205-06a9030a61ae"
      },
      "execution_count": null,
      "outputs": [
        {
          "execution_count": 10,
          "output_type": "execute_result",
          "data": {
            "text/plain": "no.                      0.000000\nsex                      0.000000\nage                      0.000000\neeg.date                 0.000000\neducation                1.587302\n                           ...   \nCOH.F.gamma.p.P4.r.O1    0.000000\nCOH.F.gamma.p.P4.s.O2    0.000000\nCOH.F.gamma.q.T6.r.O1    0.000000\nCOH.F.gamma.q.T6.s.O2    0.000000\nCOH.F.gamma.r.O1.s.O2    0.000000\nLength: 1149, dtype: float64"
          },
          "metadata": {}
        }
      ]
    },
    {
      "cell_type": "code",
      "source": [
        "# Remove S.No. column from data\n",
        "data = data.drop(['no.'], axis = 1)\n",
        "data.info()"
      ],
      "metadata": {
        "execution": {
          "iopub.status.busy": "2024-09-03T23:46:56.401412Z",
          "iopub.execute_input": "2024-09-03T23:46:56.40191Z",
          "iopub.status.idle": "2024-09-03T23:46:56.476347Z",
          "shell.execute_reply.started": "2024-09-03T23:46:56.401868Z",
          "shell.execute_reply": "2024-09-03T23:46:56.473812Z"
        },
        "trusted": true,
        "id": "AFzfPlJZj5Py",
        "outputId": "df6ffab3-aff4-4434-b9cf-827b8a91e400"
      },
      "execution_count": null,
      "outputs": [
        {
          "name": "stdout",
          "text": "<class 'pandas.core.frame.DataFrame'>\nRangeIndex: 945 entries, 0 to 944\nColumns: 1148 entries, sex to COH.F.gamma.r.O1.s.O2\ndtypes: float64(1144), object(4)\nmemory usage: 8.3+ MB\n",
          "output_type": "stream"
        }
      ]
    },
    {
      "cell_type": "code",
      "source": [
        "print(data.Brand.unique())\n",
        "print(data.Brand.nunique())\n"
      ],
      "metadata": {
        "execution": {
          "iopub.status.busy": "2024-09-03T23:46:56.478382Z",
          "iopub.execute_input": "2024-09-03T23:46:56.478892Z",
          "iopub.status.idle": "2024-09-03T23:46:56.561547Z",
          "shell.execute_reply.started": "2024-09-03T23:46:56.478847Z",
          "shell.execute_reply": "2024-09-03T23:46:56.559073Z"
        },
        "trusted": true,
        "id": "N3hQZ_9yj5Pz",
        "outputId": "c7c679aa-15c2-4ac2-f6a8-1f2be40284da"
      },
      "execution_count": null,
      "outputs": [
        {
          "traceback": [
            "\u001b[0;31m---------------------------------------------------------------------------\u001b[0m",
            "\u001b[0;31mAttributeError\u001b[0m                            Traceback (most recent call last)",
            "\u001b[0;32m/tmp/ipykernel_33/1141146092.py\u001b[0m in \u001b[0;36m?\u001b[0;34m()\u001b[0m\n\u001b[0;32m----> 1\u001b[0;31m \u001b[0mprint\u001b[0m\u001b[0;34m(\u001b[0m\u001b[0mdata\u001b[0m\u001b[0;34m.\u001b[0m\u001b[0mBrand\u001b[0m\u001b[0;34m.\u001b[0m\u001b[0munique\u001b[0m\u001b[0;34m(\u001b[0m\u001b[0;34m)\u001b[0m\u001b[0;34m)\u001b[0m\u001b[0;34m\u001b[0m\u001b[0;34m\u001b[0m\u001b[0m\n\u001b[0m\u001b[1;32m      2\u001b[0m \u001b[0mprint\u001b[0m\u001b[0;34m(\u001b[0m\u001b[0mdata\u001b[0m\u001b[0;34m.\u001b[0m\u001b[0mBrand\u001b[0m\u001b[0;34m.\u001b[0m\u001b[0mnunique\u001b[0m\u001b[0;34m(\u001b[0m\u001b[0;34m)\u001b[0m\u001b[0;34m)\u001b[0m\u001b[0;34m\u001b[0m\u001b[0;34m\u001b[0m\u001b[0m\n",
            "\u001b[0;32m/opt/conda/lib/python3.10/site-packages/pandas/core/generic.py\u001b[0m in \u001b[0;36m?\u001b[0;34m(self, name)\u001b[0m\n\u001b[1;32m   6295\u001b[0m             \u001b[0;32mand\u001b[0m \u001b[0mname\u001b[0m \u001b[0;32mnot\u001b[0m \u001b[0;32min\u001b[0m \u001b[0mself\u001b[0m\u001b[0;34m.\u001b[0m\u001b[0m_accessors\u001b[0m\u001b[0;34m\u001b[0m\u001b[0;34m\u001b[0m\u001b[0m\n\u001b[1;32m   6296\u001b[0m             \u001b[0;32mand\u001b[0m \u001b[0mself\u001b[0m\u001b[0;34m.\u001b[0m\u001b[0m_info_axis\u001b[0m\u001b[0;34m.\u001b[0m\u001b[0m_can_hold_identifiers_and_holds_name\u001b[0m\u001b[0;34m(\u001b[0m\u001b[0mname\u001b[0m\u001b[0;34m)\u001b[0m\u001b[0;34m\u001b[0m\u001b[0;34m\u001b[0m\u001b[0m\n\u001b[1;32m   6297\u001b[0m         ):\n\u001b[1;32m   6298\u001b[0m             \u001b[0;32mreturn\u001b[0m \u001b[0mself\u001b[0m\u001b[0;34m[\u001b[0m\u001b[0mname\u001b[0m\u001b[0;34m]\u001b[0m\u001b[0;34m\u001b[0m\u001b[0;34m\u001b[0m\u001b[0m\n\u001b[0;32m-> 6299\u001b[0;31m         \u001b[0;32mreturn\u001b[0m \u001b[0mobject\u001b[0m\u001b[0;34m.\u001b[0m\u001b[0m__getattribute__\u001b[0m\u001b[0;34m(\u001b[0m\u001b[0mself\u001b[0m\u001b[0;34m,\u001b[0m \u001b[0mname\u001b[0m\u001b[0;34m)\u001b[0m\u001b[0;34m\u001b[0m\u001b[0;34m\u001b[0m\u001b[0m\n\u001b[0m",
            "\u001b[0;31mAttributeError\u001b[0m: 'DataFrame' object has no attribute 'Brand'"
          ],
          "ename": "AttributeError",
          "evalue": "'DataFrame' object has no attribute 'Brand'",
          "output_type": "error"
        }
      ]
    },
    {
      "cell_type": "code",
      "source": [
        "import numpy as np\n",
        "import matplotlib.pyplot as plt\n",
        "\n",
        "print(data['main.disorder'].value_counts())\n",
        "\n",
        "# data to plot\n",
        "index = 7\n",
        "\n",
        "mood_f_line = data[(data['main.disorder'] == 'Mood disorder') & (data['sex'] == 'F')]['main.disorder'].value_counts()\n",
        "mood_m_line = data[(data['main.disorder'] == 'Mood disorder')& (data['sex'] == 'M')]['main.disorder'].value_counts()\n",
        "\n",
        "addiction_f_line = data[(data['main.disorder'] == 'Addictive disorder')& (data['sex'] == 'F')]['main.disorder'].value_counts()\n",
        "addiction_m_line = data[(data['main.disorder'] == 'Addictive disorder')& (data['sex'] == 'M')]['main.disorder'].value_counts()\n",
        "\n",
        "trauma_stress_f_line = data[(data['main.disorder'] == 'Trauma and stress related disorder')& (data['sex'] == 'F')]['main.disorder'].value_counts()\n",
        "trauma_stress_m_line = data[(data['main.disorder'] == 'Trauma and stress related disorder')& (data['sex'] == 'M')]['main.disorder'].value_counts()\n",
        "\n",
        "schizophrenia_f_line = data[(data['main.disorder'] == 'Schizophrenia')& (data['sex'] == 'F')]['main.disorder'].value_counts()\n",
        "schizophrenia_m_line = data[(data['main.disorder'] == 'Schizophrenia')& (data['sex'] == 'M')]['main.disorder'].value_counts()\n",
        "\n",
        "anxiety_f_line = data[(data['main.disorder'] == 'Anxiety disorder')& (data['sex'] == 'F')]['main.disorder'].value_counts()\n",
        "anxiety_m_line = data[(data['main.disorder'] == 'Anxiety disorder')& (data['sex'] == 'M')]['main.disorder'].value_counts()\n",
        "\n",
        "control_f_line = data[(data['main.disorder'] == 'Healthy control')& (data['sex'] == 'F')]['main.disorder'].value_counts()\n",
        "control_m_line = data[(data['main.disorder'] == 'Healthy control')& (data['sex'] == 'M')]['main.disorder'].value_counts()\n",
        "\n",
        "ocd_f_line = data[(data['main.disorder'] == 'Obsessive compulsive disorder')& (data['sex'] == 'F')]['main.disorder'].value_counts()\n",
        "ocd_m_line = data[(data['main.disorder'] == 'Obsessive compulsive disorder')& (data['sex'] == 'M')]['main.disorder'].value_counts()\n",
        "\n",
        "\n",
        "\n",
        "\n",
        "# create plot\n",
        "fig, ax = plt.subplots()\n",
        "index = np.arange(14)\n",
        "bar_width = 0.35\n",
        "opacity = 0.8\n",
        "\n",
        "rects1 = plt.bar(1, mood_m_line, bar_width,\n",
        "alpha=opacity,\n",
        "color='g',\n",
        "label='Mood Male')\n",
        "rects2 = plt.bar(2, mood_f_line, bar_width,\n",
        "alpha=opacity,\n",
        "color='g',\n",
        "label='Mood Female')\n",
        "\n",
        "rects3 = plt.bar(3, addiction_m_line, bar_width,\n",
        "alpha=opacity,\n",
        "color='r',\n",
        "label='Addiction Male')\n",
        "rects4 = plt.bar(4, addiction_f_line, bar_width,\n",
        "alpha=opacity,\n",
        "color='r',\n",
        "label='Addiction Female')\n",
        "\n",
        "rects5 = plt.bar(5, trauma_stress_m_line, bar_width,\n",
        "alpha=opacity,\n",
        "color='b',\n",
        "label='Trauma & Stress Male')\n",
        "rects6 = plt.bar(6, trauma_stress_f_line, bar_width,\n",
        "alpha=opacity,\n",
        "color='b',\n",
        "label='Trauma & Stress Female')\n",
        "\n",
        "rects7 = plt.bar(7, schizophrenia_m_line, bar_width,\n",
        "alpha=opacity,\n",
        "color='orange',\n",
        "label='Schizophrenia Male')\n",
        "rects8 = plt.bar(8, schizophrenia_f_line, bar_width,\n",
        "alpha=opacity,\n",
        "color='orange',\n",
        "label='Schizophrenia Female')\n",
        "\n",
        "rects9 = plt.bar(9, anxiety_m_line, bar_width,\n",
        "alpha=opacity,\n",
        "color='purple',\n",
        "label='Anxiety Male')\n",
        "rects10 = plt.bar(10, anxiety_f_line, bar_width,\n",
        "alpha=opacity,\n",
        "color='purple',\n",
        "label='Anxiety Female')\n",
        "\n",
        "rects11 = plt.bar(11, control_m_line, bar_width,\n",
        "alpha=opacity,\n",
        "color='yellow',\n",
        "label='Control Male')\n",
        "rects12 = plt.bar(12, control_f_line, bar_width,\n",
        "alpha=opacity,\n",
        "color='yellow',\n",
        "label='Control Female')\n",
        "\n",
        "rects13 = plt.bar(13, ocd_m_line, bar_width,\n",
        "alpha=opacity,\n",
        "color='pink',\n",
        "label='OCD Male')\n",
        "rects14 = plt.bar(14, ocd_f_line, bar_width,\n",
        "alpha=opacity,\n",
        "color='pink',\n",
        "label='OCD Female')\n",
        "\n",
        "\n",
        "plt.xlabel('Condition')\n",
        "plt.ylabel('Subject Count')\n",
        "plt.title('Condition')\n",
        "\n",
        "plt.legend(bbox_to_anchor=(-0.73,0), loc='lower right')\n",
        "\n",
        "\n",
        "plt.tight_layout()\n",
        "plt.show()"
      ],
      "metadata": {
        "execution": {
          "iopub.status.busy": "2024-09-06T01:15:43.411054Z",
          "iopub.execute_input": "2024-09-06T01:15:43.411471Z",
          "iopub.status.idle": "2024-09-06T01:15:43.947903Z",
          "shell.execute_reply.started": "2024-09-06T01:15:43.411438Z",
          "shell.execute_reply": "2024-09-06T01:15:43.946542Z"
        },
        "trusted": true,
        "id": "vMxml2gLj5Pz",
        "outputId": "c915d57c-d9e3-4201-8d37-c5ced010a056",
        "colab": {
          "base_uri": "https://localhost:8080/",
          "height": 640
        }
      },
      "execution_count": 34,
      "outputs": [
        {
          "output_type": "stream",
          "name": "stdout",
          "text": [
            "main.disorder\n",
            "Mood disorder                         266\n",
            "Addictive disorder                    186\n",
            "Trauma and stress related disorder    128\n",
            "Schizophrenia                         117\n",
            "Anxiety disorder                      107\n",
            "Healthy control                        95\n",
            "Obsessive compulsive disorder          46\n",
            "Name: count, dtype: int64\n"
          ]
        },
        {
          "output_type": "display_data",
          "data": {
            "text/plain": [
              "<Figure size 640x480 with 1 Axes>"
            ],
            "image/png": "[encoded data removed]"
          },
          "metadata": {}
        }
      ]
    },
    {
      "cell_type": "code",
      "source": [
        "print(data[data['main.disorder'] == 'Mood disorder']['main.disorder'].value_counts()\n",
        ")\n"
      ],
      "metadata": {
        "execution": {
          "iopub.status.busy": "2024-09-05T23:40:21.972472Z",
          "iopub.execute_input": "2024-09-05T23:40:21.972936Z",
          "iopub.status.idle": "2024-09-05T23:40:21.982698Z",
          "shell.execute_reply.started": "2024-09-05T23:40:21.972895Z",
          "shell.execute_reply": "2024-09-05T23:40:21.981262Z"
        },
        "trusted": true,
        "id": "TU7pUFjuj5P0",
        "outputId": "915a1222-0f15-454a-ba1e-2af57a76a114"
      },
      "execution_count": null,
      "outputs": [
        {
          "name": "stdout",
          "text": "main.disorder\nMood disorder    266\nName: count, dtype: int64\n",
          "output_type": "stream"
        }
      ]
    },
    {
      "cell_type": "code",
      "source": [
        "data.describe().T"
      ],
      "metadata": {
        "execution": {
          "iopub.status.busy": "2024-09-03T23:46:56.563027Z",
          "iopub.status.idle": "2024-09-03T23:46:56.56429Z",
          "shell.execute_reply.started": "2024-09-03T23:46:56.563937Z",
          "shell.execute_reply": "2024-09-03T23:46:56.563968Z"
        },
        "trusted": true,
        "id": "7t0hziafj5P0"
      },
      "execution_count": null,
      "outputs": []
    },
    {
      "cell_type": "code",
      "source": [
        "data.describe(include='all').T"
      ],
      "metadata": {
        "execution": {
          "iopub.status.busy": "2024-09-03T23:46:56.56691Z",
          "iopub.status.idle": "2024-09-03T23:46:56.567532Z",
          "shell.execute_reply.started": "2024-09-03T23:46:56.567225Z",
          "shell.execute_reply": "2024-09-03T23:46:56.567252Z"
        },
        "trusted": true,
        "id": "LBB9_tcqj5P1"
      },
      "execution_count": null,
      "outputs": []
    },
    {
      "cell_type": "code",
      "source": [
        "cat_cols=data.select_dtypes(include=['object']).columns\n",
        "num_cols = data.select_dtypes(include=np.number).columns.tolist()\n",
        "print(\"Categorical Variables:\")\n",
        "print(cat_cols)\n",
        "print(\"Numerical Variables:\")\n",
        "print(num_cols)\n"
      ],
      "metadata": {
        "execution": {
          "iopub.status.busy": "2024-09-03T23:46:56.569118Z",
          "iopub.status.idle": "2024-09-03T23:46:56.569753Z",
          "shell.execute_reply.started": "2024-09-03T23:46:56.569435Z",
          "shell.execute_reply": "2024-09-03T23:46:56.56946Z"
        },
        "trusted": true,
        "id": "9JskWJRKj5P1"
      },
      "execution_count": null,
      "outputs": []
    },
    {
      "cell_type": "code",
      "source": [
        "for col in num_cols:\n",
        "    print(col)\n",
        "    print('Skew :', round(data[col].skew(), 2))\n",
        "    plot.figure(figsize = (15, 4))\n",
        "    plot.subplot(1, 2, 1)\n",
        "    data[col].hist(grid=False)\n",
        "    plot.ylabel('count')\n",
        "    plot.subplot(1, 2, 2)\n",
        "    sns.boxplot(x=data[col])\n",
        "    plot.show()"
      ],
      "metadata": {
        "execution": {
          "iopub.status.busy": "2024-09-03T23:46:56.571372Z",
          "iopub.status.idle": "2024-09-03T23:46:56.57199Z",
          "shell.execute_reply.started": "2024-09-03T23:46:56.571667Z",
          "shell.execute_reply": "2024-09-03T23:46:56.571692Z"
        },
        "trusted": true,
        "id": "rZWu1g1Nj5P2"
      },
      "execution_count": null,
      "outputs": []
    },
    {
      "cell_type": "code",
      "source": [
        "import pandas as pd\n",
        "import numpy as np\n",
        "import matplotlib.pyplot as plt\n",
        "import seaborn as sns\n",
        "#to ignore warnings\n",
        "import warnings\n",
        "warnings.filterwarnings('ignore')"
      ],
      "metadata": {
        "execution": {
          "iopub.status.busy": "2024-09-03T23:46:56.574856Z",
          "iopub.status.idle": "2024-09-03T23:46:56.575607Z",
          "shell.execute_reply.started": "2024-09-03T23:46:56.575175Z",
          "shell.execute_reply": "2024-09-03T23:46:56.5752Z"
        },
        "trusted": true,
        "id": "OD9JqC-6j5P2"
      },
      "execution_count": null,
      "outputs": []
    },
    {
      "cell_type": "code",
      "source": [
        "for col in num_cols:\n",
        "    print(col)\n",
        "    print('Skew :', round(data[col].skew(), 2))\n",
        "    plt.figure(figsize = (15, 4))\n",
        "    plt.subplot(1, 2, 1)\n",
        "    data[col].hist(grid=False)\n",
        "    plt.ylabel('count')\n",
        "    plt.subplot(1, 2, 2)\n",
        "    sns.boxplot(x=data[col])\n",
        "    plt.show()"
      ],
      "metadata": {
        "execution": {
          "iopub.status.busy": "2024-09-03T23:46:56.578336Z",
          "iopub.status.idle": "2024-09-03T23:46:56.579009Z",
          "shell.execute_reply.started": "2024-09-03T23:46:56.578669Z",
          "shell.execute_reply": "2024-09-03T23:46:56.578698Z"
        },
        "trusted": true,
        "id": "q5yN368kj5P2"
      },
      "execution_count": null,
      "outputs": []
    },
    {
      "cell_type": "code",
      "source": [],
      "metadata": {
        "id": "8yav1Qiuj5P3"
      },
      "execution_count": null,
      "outputs": []
    }
  ]
}