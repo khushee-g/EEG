{
  "metadata": {
    "kernelspec": {
      "language": "python",
      "display_name": "Python 3",
      "name": "python3"
    },
    "language_info": {
      "name": "python",
      "version": "3.10.13",
      "mimetype": "text/x-python",
      "codemirror_mode": {
        "name": "ipython",
        "version": 3
      },
      "pygments_lexer": "ipython3",
      "nbconvert_exporter": "python",
      "file_extension": ".py"
    },
    "kaggle": {
      "accelerator": "none",
      "dataSources": [
        {
          "sourceId": 3233540,
          "sourceType": "datasetVersion",
          "datasetId": 1960298
        }
      ],
      "dockerImageVersionId": 30732,
      "isInternetEnabled": false,
      "language": "python",
      "sourceType": "notebook",
      "isGpuEnabled": false
    },
    "colab": {
      "name": "notebook8fbd27e9f6",
      "provenance": [],
      "include_colab_link": true
    }
  },
  "nbformat_minor": 0,
  "nbformat": 4,
  "cells": [
    {
      "cell_type": "markdown",
      "metadata": {
        "id": "view-in-github",
        "colab_type": "text"
      },
      "source": [
        "<a href=\"https://colab.research.google.com/github/khushee-g/EEG/blob/main/eeg_exploration.ipynb\" target=\"_parent\"><img src=\"https://colab.research.google.com/assets/colab-badge.svg\" alt=\"Open In Colab\"/></a>"
      ]
    },
    {
      "source": [
        "\n",
        "# IMPORTANT: RUN THIS CELL IN ORDER TO IMPORT YOUR KAGGLE DATA SOURCES\n",
        "# TO THE CORRECT LOCATION (/kaggle/input) IN YOUR NOTEBOOK,\n",
        "# THEN FEEL FREE TO DELETE THIS CELL.\n",
        "# NOTE: THIS NOTEBOOK ENVIRONMENT DIFFERS FROM KAGGLE'S PYTHON\n",
        "# ENVIRONMENT SO THERE MAY BE MISSING LIBRARIES USED BY YOUR\n",
        "# NOTEBOOK.\n",
        "\n",
        "import os\n",
        "import sys\n",
        "from tempfile import NamedTemporaryFile\n",
        "from urllib.request import urlopen\n",
        "from urllib.parse import unquote, urlparse\n",
        "from urllib.error import HTTPError\n",
        "from zipfile import ZipFile\n",
        "import tarfile\n",
        "import shutil\n",
        "\n",
        "CHUNK_SIZE = 40960\n",
        "DATA_SOURCE_MAPPING = 'eeg-psychiatric-disorders-dataset:https%3A%2F%2Fstorage.googleapis.com%2Fkaggle-data-sets%2F1960298%2F3233540%2Fbundle%2Farchive.zip%3FX-Goog-Algorithm%3DGOOG4-RSA-SHA256%26X-Goog-Credential%3Dgcp-kaggle-com%2540kaggle-161607.iam.gserviceaccount.com%252F20240909%252Fauto%252Fstorage%252Fgoog4_request%26X-Goog-Date%3D20240909T020246Z%26X-Goog-Expires%3D259200%26X-Goog-SignedHeaders%3Dhost%26X-Goog-Signature%3Dbc2ff16a9aacb02011a7573bc88f9987468c2a1ba5ce5c64a9986ddb5c95d74acc35027d74d1da756fcca4d97554bf42abf4184088adea590403ab0ae2b1e1b24c9f7c3507f142e13daf801bd3a2485bc1b96dc4418683371206998e77afbf50692043b5cbbe1a7ba690c04ea09613c341cc3b42d995ffb3fd5910e15f4483de6b9ecdd322c2a843cc7b6daa123d7dece6b5ad2e377f2328c575fad8268af9ed95f495240b43d88ce798cfd5faa9bf91b20453238c4ca27dcf317a0c587c6f8cd4419c10cbd7ad0b1b27a54d389514b60c44ec58a96191f21f002a4dbf783ffe1eff93afdc1121607c939d077314b02daa6e32a08eeb043ab847786fb02105f5'\n",
        "\n",
        "KAGGLE_INPUT_PATH='/kaggle/input'\n",
        "KAGGLE_WORKING_PATH='/kaggle/working'\n",
        "KAGGLE_SYMLINK='kaggle'\n",
        "\n",
        "!umount /kaggle/input/ 2> /dev/null\n",
        "shutil.rmtree('/kaggle/input', ignore_errors=True)\n",
        "os.makedirs(KAGGLE_INPUT_PATH, 0o777, exist_ok=True)\n",
        "os.makedirs(KAGGLE_WORKING_PATH, 0o777, exist_ok=True)\n",
        "\n",
        "try:\n",
        "  os.symlink(KAGGLE_INPUT_PATH, os.path.join(\"..\", 'input'), target_is_directory=True)\n",
        "except FileExistsError:\n",
        "  pass\n",
        "try:\n",
        "  os.symlink(KAGGLE_WORKING_PATH, os.path.join(\"..\", 'working'), target_is_directory=True)\n",
        "except FileExistsError:\n",
        "  pass\n",
        "\n",
        "for data_source_mapping in DATA_SOURCE_MAPPING.split(','):\n",
        "    directory, download_url_encoded = data_source_mapping.split(':')\n",
        "    download_url = unquote(download_url_encoded)\n",
        "    filename = urlparse(download_url).path\n",
        "    destination_path = os.path.join(KAGGLE_INPUT_PATH, directory)\n",
        "    try:\n",
        "        with urlopen(download_url) as fileres, NamedTemporaryFile() as tfile:\n",
        "            total_length = fileres.headers['content-length']\n",
        "            print(f'Downloading {directory}, {total_length} bytes compressed')\n",
        "            dl = 0\n",
        "            data = fileres.read(CHUNK_SIZE)\n",
        "            while len(data) > 0:\n",
        "                dl += len(data)\n",
        "                tfile.write(data)\n",
        "                done = int(50 * dl / int(total_length))\n",
        "                sys.stdout.write(f\"\\r[{'=' * done}{' ' * (50-done)}] {dl} bytes downloaded\")\n",
        "                sys.stdout.flush()\n",
        "                data = fileres.read(CHUNK_SIZE)\n",
        "            if filename.endswith('.zip'):\n",
        "              with ZipFile(tfile) as zfile:\n",
        "                zfile.extractall(destination_path)\n",
        "            else:\n",
        "              with tarfile.open(tfile.name) as tarfile:\n",
        "                tarfile.extractall(destination_path)\n",
        "            print(f'\\nDownloaded and uncompressed: {directory}')\n",
        "    except HTTPError as e:\n",
        "        print(f'Failed to load (likely expired) {download_url} to path {destination_path}')\n",
        "        continue\n",
        "    except OSError as e:\n",
        "        print(f'Failed to load {download_url} to path {destination_path}')\n",
        "        continue\n",
        "\n",
        "print('Data source import complete.')\n"
      ],
      "metadata": {
        "id": "HQ_6ZqsOj5Pj"
      },
      "cell_type": "code",
      "outputs": [],
      "execution_count": null
    },
    {
      "cell_type": "code",
      "source": [
        "# This Python 3 environment comes with many helpful analytics libraries installed\n",
        "# It is defined by the kaggle/python Docker image: https://github.com/kaggle/docker-python\n",
        "# For example, here's several helpful packages to load\n",
        "\n",
        "import numpy as np # linear algebra\n",
        "import pandas as pd # data processing, CSV file I/O (e.g. pd.read_csv)\n",
        "\n",
        "# Input data files are available in the read-only \"../input/\" directory\n",
        "# For example, running this (by clicking run or pressing Shift+Enter) will list all files under the input directory\n",
        "\n",
        "import os\n",
        "for dirname, _, filenames in os.walk('/kaggle/input'):\n",
        "    for filename in filenames:\n",
        "        print(os.path.join(dirname, filename))\n",
        "\n",
        "# You can write up to 20GB to the current directory (/kaggle/working/) that gets preserved as output when you create a version using \"Save & Run All\"\n",
        "# You can also write temporary files to /kaggle/temp/, but they won't be saved outside of the current session"
      ],
      "metadata": {
        "_uuid": "8f2839f25d086af736a60e9eeb907d3b93b6e0e5",
        "_cell_guid": "b1076dfc-b9ad-4769-8c92-a6c4dae69d19",
        "execution": {
          "iopub.status.busy": "2024-09-05T22:41:03.641616Z",
          "iopub.status.idle": "2024-09-05T22:41:03.64224Z",
          "shell.execute_reply.started": "2024-09-05T22:41:03.641946Z",
          "shell.execute_reply": "2024-09-05T22:41:03.641974Z"
        },
        "trusted": true,
        "id": "unLcetrjj5Pp"
      },
      "execution_count": null,
      "outputs": []
    },
    {
      "cell_type": "code",
      "source": [
        "data = pd.read_csv(\"/kaggle/input/eeg-psychiatric-disorders-dataset/EEG.machinelearing_data_BRMH.csv\")"
      ],
      "metadata": {
        "execution": {
          "iopub.status.busy": "2024-09-05T22:41:06.984919Z",
          "iopub.execute_input": "2024-09-05T22:41:06.985446Z",
          "iopub.status.idle": "2024-09-05T22:41:07.452446Z",
          "shell.execute_reply.started": "2024-09-05T22:41:06.985402Z",
          "shell.execute_reply": "2024-09-05T22:41:07.450929Z"
        },
        "trusted": true,
        "id": "ZTEcnU52j5Pq"
      },
      "execution_count": null,
      "outputs": []
    },
    {
      "cell_type": "code",
      "source": [
        "data.head()"
      ],
      "metadata": {
        "execution": {
          "iopub.status.busy": "2024-09-05T22:41:09.016483Z",
          "iopub.execute_input": "2024-09-05T22:41:09.017018Z",
          "iopub.status.idle": "2024-09-05T22:41:09.075343Z",
          "shell.execute_reply.started": "2024-09-05T22:41:09.016975Z",
          "shell.execute_reply": "2024-09-05T22:41:09.07408Z"
        },
        "trusted": true,
        "id": "QIVQh8koj5Pr",
        "outputId": "0674494a-94f6-490d-b7b1-c74cf854df97"
      },
      "execution_count": null,
      "outputs": [
        {
          "execution_count": 4,
          "output_type": "execute_result",
          "data": {
            "text/plain": "   no. sex   age    eeg.date  education     IQ       main.disorder  \\\n0    1   M  57.0   2012.8.30        NaN    NaN  Addictive disorder   \n1    2   M  37.0    2012.9.6        6.0  120.0  Addictive disorder   \n2    3   M  32.0   2012.9.10       16.0  113.0  Addictive disorder   \n3    4   M  35.0   2012.10.8       18.0  126.0  Addictive disorder   \n4    5   M  36.0  2012.10.18       16.0  112.0  Addictive disorder   \n\n      specific.disorder  AB.A.delta.a.FP1  AB.A.delta.b.FP2  ...  \\\n0  Alcohol use disorder         35.998557         21.717375  ...   \n1  Alcohol use disorder         13.425118         11.002916  ...   \n2  Alcohol use disorder         29.941780         27.544684  ...   \n3  Alcohol use disorder         21.496226         21.846832  ...   \n4  Alcohol use disorder         37.775667         33.607679  ...   \n\n   COH.F.gamma.o.Pz.p.P4  COH.F.gamma.o.Pz.q.T6  COH.F.gamma.o.Pz.r.O1  \\\n0              55.989192              16.739679              23.452271   \n1              45.595619              17.510824              26.777368   \n2              99.475453              70.654171              39.131547   \n3              59.986561              63.822201              36.478254   \n4              61.462720              59.166097              51.465531   \n\n   COH.F.gamma.o.Pz.s.O2  COH.F.gamma.p.P4.q.T6  COH.F.gamma.p.P4.r.O1  \\\n0              45.678820              30.167520              16.918761   \n1              28.201062              57.108861              32.375401   \n2              69.920996              71.063644              38.534505   \n3              47.117006              84.658376              24.724096   \n4              58.635415              80.685608              62.138436   \n\n   COH.F.gamma.p.P4.s.O2  COH.F.gamma.q.T6.r.O1  COH.F.gamma.q.T6.s.O2  \\\n0              48.850427               9.422630              34.507082   \n1              60.351749              13.900981              57.831848   \n2              69.908764              27.180532              64.803155   \n3              50.299349              35.319695              79.822944   \n4              75.888749              61.003944              87.455509   \n\n   COH.F.gamma.r.O1.s.O2  \n0              28.613029  \n1              43.463261  \n2              31.485799  \n3              41.141873  \n4              70.531662  \n\n[5 rows x 1149 columns]",
            "text/html": "<div>\n<style scoped>\n    .dataframe tbody tr th:only-of-type {\n        vertical-align: middle;\n    }\n\n    .dataframe tbody tr th {\n        vertical-align: top;\n    }\n\n    .dataframe thead th {\n        text-align: right;\n    }\n</style>\n<table border=\"1\" class=\"dataframe\">\n  <thead>\n    <tr style=\"text-align: right;\">\n      <th></th>\n      <th>no.</th>\n      <th>sex</th>\n      <th>age</th>\n      <th>eeg.date</th>\n      <th>education</th>\n      <th>IQ</th>\n      <th>main.disorder</th>\n      <th>specific.disorder</th>\n      <th>AB.A.delta.a.FP1</th>\n      <th>AB.A.delta.b.FP2</th>\n      <th>...</th>\n      <th>COH.F.gamma.o.Pz.p.P4</th>\n      <th>COH.F.gamma.o.Pz.q.T6</th>\n      <th>COH.F.gamma.o.Pz.r.O1</th>\n      <th>COH.F.gamma.o.Pz.s.O2</th>\n      <th>COH.F.gamma.p.P4.q.T6</th>\n      <th>COH.F.gamma.p.P4.r.O1</th>\n      <th>COH.F.gamma.p.P4.s.O2</th>\n      <th>COH.F.gamma.q.T6.r.O1</th>\n      <th>COH.F.gamma.q.T6.s.O2</th>\n      <th>COH.F.gamma.r.O1.s.O2</th>\n    </tr>\n  </thead>\n  <tbody>\n    <tr>\n      <th>0</th>\n      <td>1</td>\n      <td>M</td>\n      <td>57.0</td>\n      <td>2012.8.30</td>\n      <td>NaN</td>\n      <td>NaN</td>\n      <td>Addictive disorder</td>\n      <td>Alcohol use disorder</td>\n      <td>35.998557</td>\n      <td>21.717375</td>\n      <td>...</td>\n      <td>55.989192</td>\n      <td>16.739679</td>\n      <td>23.452271</td>\n      <td>45.678820</td>\n      <td>30.167520</td>\n      <td>16.918761</td>\n      <td>48.850427</td>\n      <td>9.422630</td>\n      <td>34.507082</td>\n      <td>28.613029</td>\n    </tr>\n    <tr>\n      <th>1</th>\n      <td>2</td>\n      <td>M</td>\n      <td>37.0</td>\n      <td>2012.9.6</td>\n      <td>6.0</td>\n      <td>120.0</td>\n      <td>Addictive disorder</td>\n      <td>Alcohol use disorder</td>\n      <td>13.425118</td>\n      <td>11.002916</td>\n      <td>...</td>\n      <td>45.595619</td>\n      <td>17.510824</td>\n      <td>26.777368</td>\n      <td>28.201062</td>\n      <td>57.108861</td>\n      <td>32.375401</td>\n      <td>60.351749</td>\n      <td>13.900981</td>\n      <td>57.831848</td>\n      <td>43.463261</td>\n    </tr>\n    <tr>\n      <th>2</th>\n      <td>3</td>\n      <td>M</td>\n      <td>32.0</td>\n      <td>2012.9.10</td>\n      <td>16.0</td>\n      <td>113.0</td>\n      <td>Addictive disorder</td>\n      <td>Alcohol use disorder</td>\n      <td>29.941780</td>\n      <td>27.544684</td>\n      <td>...</td>\n      <td>99.475453</td>\n      <td>70.654171</td>\n      <td>39.131547</td>\n      <td>69.920996</td>\n      <td>71.063644</td>\n      <td>38.534505</td>\n      <td>69.908764</td>\n      <td>27.180532</td>\n      <td>64.803155</td>\n      <td>31.485799</td>\n    </tr>\n    <tr>\n      <th>3</th>\n      <td>4</td>\n      <td>M</td>\n      <td>35.0</td>\n      <td>2012.10.8</td>\n      <td>18.0</td>\n      <td>126.0</td>\n      <td>Addictive disorder</td>\n      <td>Alcohol use disorder</td>\n      <td>21.496226</td>\n      <td>21.846832</td>\n      <td>...</td>\n      <td>59.986561</td>\n      <td>63.822201</td>\n      <td>36.478254</td>\n      <td>47.117006</td>\n      <td>84.658376</td>\n      <td>24.724096</td>\n      <td>50.299349</td>\n      <td>35.319695</td>\n      <td>79.822944</td>\n      <td>41.141873</td>\n    </tr>\n    <tr>\n      <th>4</th>\n      <td>5</td>\n      <td>M</td>\n      <td>36.0</td>\n      <td>2012.10.18</td>\n      <td>16.0</td>\n      <td>112.0</td>\n      <td>Addictive disorder</td>\n      <td>Alcohol use disorder</td>\n      <td>37.775667</td>\n      <td>33.607679</td>\n      <td>...</td>\n      <td>61.462720</td>\n      <td>59.166097</td>\n      <td>51.465531</td>\n      <td>58.635415</td>\n      <td>80.685608</td>\n      <td>62.138436</td>\n      <td>75.888749</td>\n      <td>61.003944</td>\n      <td>87.455509</td>\n      <td>70.531662</td>\n    </tr>\n  </tbody>\n</table>\n<p>5 rows × 1149 columns</p>\n</div>"
          },
          "metadata": {}
        }
      ]
    },
    {
      "cell_type": "code",
      "source": [
        "data.tail()"
      ],
      "metadata": {
        "execution": {
          "iopub.status.busy": "2024-09-03T23:46:56.067145Z",
          "iopub.execute_input": "2024-09-03T23:46:56.067515Z",
          "iopub.status.idle": "2024-09-03T23:46:56.103408Z",
          "shell.execute_reply.started": "2024-09-03T23:46:56.067483Z",
          "shell.execute_reply": "2024-09-03T23:46:56.101822Z"
        },
        "trusted": true,
        "id": "YBIUVhFlj5Ps",
        "outputId": "7dce20cc-d312-4819-c506-53d86fed06e4"
      },
      "execution_count": null,
      "outputs": [
        {
          "execution_count": 6,
          "output_type": "execute_result",
          "data": {
            "text/plain": "     no. sex   age    eeg.date  education     IQ    main.disorder  \\\n940  941   M  22.0   2014.8.28       13.0  116.0  Healthy control   \n941  942   M  26.0   2014.9.19       13.0  118.0  Healthy control   \n942  943   M  26.0   2014.9.27       16.0  113.0  Healthy control   \n943  944   M  24.0   2014.9.20       13.0  107.0  Healthy control   \n944  945   M  21.0  2015.10.23       13.0  105.0  Healthy control   \n\n    specific.disorder  AB.A.delta.a.FP1  AB.A.delta.b.FP2  ...  \\\n940   Healthy control         41.851823         36.771496  ...   \n941   Healthy control         18.986856         19.401387  ...   \n942   Healthy control         28.781317         32.369230  ...   \n943   Healthy control         19.929100         25.196375  ...   \n944   Healthy control         65.195346         69.241972  ...   \n\n     COH.F.gamma.o.Pz.p.P4  COH.F.gamma.o.Pz.q.T6  COH.F.gamma.o.Pz.r.O1  \\\n940              82.905657              34.850706              63.970519   \n941              65.917918              66.700117              44.756285   \n942              61.040959              27.632209              45.552852   \n943              99.113664              48.328934              41.248470   \n944              78.600293              68.255430              70.687410   \n\n     COH.F.gamma.o.Pz.s.O2  COH.F.gamma.p.P4.q.T6  COH.F.gamma.p.P4.r.O1  \\\n940              63.982003              51.244725              62.203684   \n941              49.787513              98.905995              54.021304   \n942              33.638817              46.690983              19.382928   \n943              28.192238              48.665743              42.007147   \n944              74.433908              74.294750              53.254681   \n\n     COH.F.gamma.p.P4.s.O2  COH.F.gamma.q.T6.r.O1  COH.F.gamma.q.T6.s.O2  \\\n940              62.062237              31.013031              31.183413   \n941              93.902401              52.740396              92.807331   \n942              41.050717               7.045821              41.962451   \n943              28.735945              27.176500              27.529522   \n944              72.755265              47.810386              80.166825   \n\n     COH.F.gamma.r.O1.s.O2  \n940              98.325230  \n941              56.320868  \n942              19.092111  \n943              20.028446  \n944              64.380273  \n\n[5 rows x 1149 columns]",
            "text/html": "<div>\n<style scoped>\n    .dataframe tbody tr th:only-of-type {\n        vertical-align: middle;\n    }\n\n    .dataframe tbody tr th {\n        vertical-align: top;\n    }\n\n    .dataframe thead th {\n        text-align: right;\n    }\n</style>\n<table border=\"1\" class=\"dataframe\">\n  <thead>\n    <tr style=\"text-align: right;\">\n      <th></th>\n      <th>no.</th>\n      <th>sex</th>\n      <th>age</th>\n      <th>eeg.date</th>\n      <th>education</th>\n      <th>IQ</th>\n      <th>main.disorder</th>\n      <th>specific.disorder</th>\n      <th>AB.A.delta.a.FP1</th>\n      <th>AB.A.delta.b.FP2</th>\n      <th>...</th>\n      <th>COH.F.gamma.o.Pz.p.P4</th>\n      <th>COH.F.gamma.o.Pz.q.T6</th>\n      <th>COH.F.gamma.o.Pz.r.O1</th>\n      <th>COH.F.gamma.o.Pz.s.O2</th>\n      <th>COH.F.gamma.p.P4.q.T6</th>\n      <th>COH.F.gamma.p.P4.r.O1</th>\n      <th>COH.F.gamma.p.P4.s.O2</th>\n      <th>COH.F.gamma.q.T6.r.O1</th>\n      <th>COH.F.gamma.q.T6.s.O2</th>\n      <th>COH.F.gamma.r.O1.s.O2</th>\n    </tr>\n  </thead>\n  <tbody>\n    <tr>\n      <th>940</th>\n      <td>941</td>\n      <td>M</td>\n      <td>22.0</td>\n      <td>2014.8.28</td>\n      <td>13.0</td>\n      <td>116.0</td>\n      <td>Healthy control</td>\n      <td>Healthy control</td>\n      <td>41.851823</td>\n      <td>36.771496</td>\n      <td>...</td>\n      <td>82.905657</td>\n      <td>34.850706</td>\n      <td>63.970519</td>\n      <td>63.982003</td>\n      <td>51.244725</td>\n      <td>62.203684</td>\n      <td>62.062237</td>\n      <td>31.013031</td>\n      <td>31.183413</td>\n      <td>98.325230</td>\n    </tr>\n    <tr>\n      <th>941</th>\n      <td>942</td>\n      <td>M</td>\n      <td>26.0</td>\n      <td>2014.9.19</td>\n      <td>13.0</td>\n      <td>118.0</td>\n      <td>Healthy control</td>\n      <td>Healthy control</td>\n      <td>18.986856</td>\n      <td>19.401387</td>\n      <td>...</td>\n      <td>65.917918</td>\n      <td>66.700117</td>\n      <td>44.756285</td>\n      <td>49.787513</td>\n      <td>98.905995</td>\n      <td>54.021304</td>\n      <td>93.902401</td>\n      <td>52.740396</td>\n      <td>92.807331</td>\n      <td>56.320868</td>\n    </tr>\n    <tr>\n      <th>942</th>\n      <td>943</td>\n      <td>M</td>\n      <td>26.0</td>\n      <td>2014.9.27</td>\n      <td>16.0</td>\n      <td>113.0</td>\n      <td>Healthy control</td>\n      <td>Healthy control</td>\n      <td>28.781317</td>\n      <td>32.369230</td>\n      <td>...</td>\n      <td>61.040959</td>\n      <td>27.632209</td>\n      <td>45.552852</td>\n      <td>33.638817</td>\n      <td>46.690983</td>\n      <td>19.382928</td>\n      <td>41.050717</td>\n      <td>7.045821</td>\n      <td>41.962451</td>\n      <td>19.092111</td>\n    </tr>\n    <tr>\n      <th>943</th>\n      <td>944</td>\n      <td>M</td>\n      <td>24.0</td>\n      <td>2014.9.20</td>\n      <td>13.0</td>\n      <td>107.0</td>\n      <td>Healthy control</td>\n      <td>Healthy control</td>\n      <td>19.929100</td>\n      <td>25.196375</td>\n      <td>...</td>\n      <td>99.113664</td>\n      <td>48.328934</td>\n      <td>41.248470</td>\n      <td>28.192238</td>\n      <td>48.665743</td>\n      <td>42.007147</td>\n      <td>28.735945</td>\n      <td>27.176500</td>\n      <td>27.529522</td>\n      <td>20.028446</td>\n    </tr>\n    <tr>\n      <th>944</th>\n      <td>945</td>\n      <td>M</td>\n      <td>21.0</td>\n      <td>2015.10.23</td>\n      <td>13.0</td>\n      <td>105.0</td>\n      <td>Healthy control</td>\n      <td>Healthy control</td>\n      <td>65.195346</td>\n      <td>69.241972</td>\n      <td>...</td>\n      <td>78.600293</td>\n      <td>68.255430</td>\n      <td>70.687410</td>\n      <td>74.433908</td>\n      <td>74.294750</td>\n      <td>53.254681</td>\n      <td>72.755265</td>\n      <td>47.810386</td>\n      <td>80.166825</td>\n      <td>64.380273</td>\n    </tr>\n  </tbody>\n</table>\n<p>5 rows × 1149 columns</p>\n</div>"
          },
          "metadata": {}
        }
      ]
    },
    {
      "cell_type": "code",
      "source": [
        "data['education'].value_counts()"
      ],
      "metadata": {
        "execution": {
          "iopub.status.busy": "2024-09-03T23:48:27.583378Z",
          "iopub.execute_input": "2024-09-03T23:48:27.584313Z",
          "iopub.status.idle": "2024-09-03T23:48:27.597475Z",
          "shell.execute_reply.started": "2024-09-03T23:48:27.584274Z",
          "shell.execute_reply": "2024-09-03T23:48:27.596142Z"
        },
        "trusted": true,
        "id": "4H4HDYpcj5Pt",
        "outputId": "1a9ad6e8-ec4c-4db6-8260-d2d9d82c24a0"
      },
      "execution_count": null,
      "outputs": [
        {
          "execution_count": 13,
          "output_type": "execute_result",
          "data": {
            "text/plain": "education\n12.0    239\n13.0    226\n16.0    225\n14.0     83\n9.0      27\n18.0     26\n17.0     25\n15.0     20\n10.0     19\n6.0      15\n11.0      6\n7.0       6\n20.0      3\n1.0       3\n8.0       2\n0.0       2\n19.0      1\n3.0       1\n5.0       1\nName: count, dtype: int64"
          },
          "metadata": {}
        }
      ]
    },
    {
      "cell_type": "code",
      "source": [
        "data['education'].value_counts()/len(data)"
      ],
      "metadata": {
        "execution": {
          "iopub.status.busy": "2024-09-05T22:41:15.483967Z",
          "iopub.execute_input": "2024-09-05T22:41:15.484351Z",
          "iopub.status.idle": "2024-09-05T22:41:15.503937Z",
          "shell.execute_reply.started": "2024-09-05T22:41:15.484321Z",
          "shell.execute_reply": "2024-09-05T22:41:15.502548Z"
        },
        "trusted": true,
        "id": "lVHfhnOIj5Pt",
        "outputId": "8cbb8331-32fb-457e-8778-66b02814e639"
      },
      "execution_count": null,
      "outputs": [
        {
          "execution_count": 5,
          "output_type": "execute_result",
          "data": {
            "text/plain": "education\n12.0    0.252910\n13.0    0.239153\n16.0    0.238095\n14.0    0.087831\n9.0     0.028571\n18.0    0.027513\n17.0    0.026455\n15.0    0.021164\n10.0    0.020106\n6.0     0.015873\n11.0    0.006349\n7.0     0.006349\n20.0    0.003175\n1.0     0.003175\n8.0     0.002116\n0.0     0.002116\n19.0    0.001058\n3.0     0.001058\n5.0     0.001058\nName: count, dtype: float64"
          },
          "metadata": {}
        }
      ]
    },
    {
      "cell_type": "code",
      "source": [
        "data['main.disorder'].value_counts()\n"
      ],
      "metadata": {
        "execution": {
          "iopub.status.busy": "2024-09-05T23:06:45.951892Z",
          "iopub.execute_input": "2024-09-05T23:06:45.952944Z",
          "iopub.status.idle": "2024-09-05T23:06:46.058297Z",
          "shell.execute_reply.started": "2024-09-05T23:06:45.952904Z",
          "shell.execute_reply": "2024-09-05T23:06:46.056697Z"
        },
        "trusted": true,
        "colab": {
          "base_uri": "https://localhost:8080/",
          "height": 331
        },
        "id": "fwJMJHTxj5Pu",
        "outputId": "561340f0-b5d2-4d8c-f35a-d8b634717f6f"
      },
      "execution_count": 43,
      "outputs": [
        {
          "output_type": "execute_result",
          "data": {
            "text/plain": [
              "main.disorder\n",
              "Mood disorder                         266\n",
              "Addictive disorder                    186\n",
              "Trauma and stress related disorder    128\n",
              "Schizophrenia                         117\n",
              "Anxiety disorder                      107\n",
              "Healthy control                        95\n",
              "Obsessive compulsive disorder          46\n",
              "Name: count, dtype: int64"
            ],
            "text/html": [
              "<div>\n",
              "<style scoped>\n",
              "    .dataframe tbody tr th:only-of-type {\n",
              "        vertical-align: middle;\n",
              "    }\n",
              "\n",
              "    .dataframe tbody tr th {\n",
              "        vertical-align: top;\n",
              "    }\n",
              "\n",
              "    .dataframe thead th {\n",
              "        text-align: right;\n",
              "    }\n",
              "</style>\n",
              "<table border=\"1\" class=\"dataframe\">\n",
              "  <thead>\n",
              "    <tr style=\"text-align: right;\">\n",
              "      <th></th>\n",
              "      <th>count</th>\n",
              "    </tr>\n",
              "    <tr>\n",
              "      <th>main.disorder</th>\n",
              "      <th></th>\n",
              "    </tr>\n",
              "  </thead>\n",
              "  <tbody>\n",
              "    <tr>\n",
              "      <th>Mood disorder</th>\n",
              "      <td>266</td>\n",
              "    </tr>\n",
              "    <tr>\n",
              "      <th>Addictive disorder</th>\n",
              "      <td>186</td>\n",
              "    </tr>\n",
              "    <tr>\n",
              "      <th>Trauma and stress related disorder</th>\n",
              "      <td>128</td>\n",
              "    </tr>\n",
              "    <tr>\n",
              "      <th>Schizophrenia</th>\n",
              "      <td>117</td>\n",
              "    </tr>\n",
              "    <tr>\n",
              "      <th>Anxiety disorder</th>\n",
              "      <td>107</td>\n",
              "    </tr>\n",
              "    <tr>\n",
              "      <th>Healthy control</th>\n",
              "      <td>95</td>\n",
              "    </tr>\n",
              "    <tr>\n",
              "      <th>Obsessive compulsive disorder</th>\n",
              "      <td>46</td>\n",
              "    </tr>\n",
              "  </tbody>\n",
              "</table>\n",
              "</div><br><label><b>dtype:</b> int64</label>"
            ]
          },
          "metadata": {},
          "execution_count": 43
        }
      ]
    },
    {
      "cell_type": "code",
      "source": [
        "data['main.disorder'].value_counts()\n"
      ],
      "metadata": {
        "execution": {
          "iopub.status.busy": "2024-09-05T23:20:59.396481Z",
          "iopub.execute_input": "2024-09-05T23:20:59.396899Z",
          "iopub.status.idle": "2024-09-05T23:20:59.407055Z",
          "shell.execute_reply.started": "2024-09-05T23:20:59.396864Z",
          "shell.execute_reply": "2024-09-05T23:20:59.405749Z"
        },
        "trusted": true,
        "id": "5k9_rICDj5Pv",
        "outputId": "67e8f2af-ab92-4b24-8b72-4ae6f53ed6af"
      },
      "execution_count": null,
      "outputs": [
        {
          "execution_count": 28,
          "output_type": "execute_result",
          "data": {
            "text/plain": "main.disorder\nMood disorder                         266\nAddictive disorder                    186\nTrauma and stress related disorder    128\nSchizophrenia                         117\nAnxiety disorder                      107\nHealthy control                        95\nObsessive compulsive disorder          46\nName: count, dtype: int64"
          },
          "metadata": {}
        }
      ]
    },
    {
      "cell_type": "code",
      "source": [
        "#pd.crosstab(data['main.disorder'], data['specific.disorder'])/len(data)"
      ],
      "metadata": {
        "execution": {
          "iopub.status.busy": "2024-09-05T23:20:39.85838Z",
          "iopub.execute_input": "2024-09-05T23:20:39.859341Z",
          "iopub.status.idle": "2024-09-05T23:20:39.895049Z",
          "shell.execute_reply.started": "2024-09-05T23:20:39.859294Z",
          "shell.execute_reply": "2024-09-05T23:20:39.893288Z"
        },
        "trusted": true,
        "collapsed": true,
        "id": "2f1GThNTj5Pv"
      },
      "execution_count": 44,
      "outputs": []
    },
    {
      "cell_type": "code",
      "source": [
        "#data['main.disorder']/len(data)"
      ],
      "metadata": {
        "execution": {
          "iopub.status.busy": "2024-09-05T23:18:31.137499Z",
          "iopub.execute_input": "2024-09-05T23:18:31.137943Z",
          "iopub.status.idle": "2024-09-05T23:18:31.313371Z",
          "shell.execute_reply.started": "2024-09-05T23:18:31.137909Z",
          "shell.execute_reply": "2024-09-05T23:18:31.311865Z"
        },
        "trusted": true,
        "collapsed": true,
        "id": "-naj8Ym3j5Pw"
      },
      "execution_count": 45,
      "outputs": []
    },
    {
      "cell_type": "code",
      "source": [
        "data.info()"
      ],
      "metadata": {
        "execution": {
          "iopub.status.busy": "2024-09-03T23:46:56.108244Z",
          "iopub.execute_input": "2024-09-03T23:46:56.108782Z",
          "iopub.status.idle": "2024-09-03T23:46:56.192214Z",
          "shell.execute_reply.started": "2024-09-03T23:46:56.108737Z",
          "shell.execute_reply": "2024-09-03T23:46:56.190776Z"
        },
        "trusted": true,
        "id": "gGaJ6N_tj5Pw",
        "outputId": "5cfc4b16-6de2-409d-8763-f307dd3f706e"
      },
      "execution_count": null,
      "outputs": [
        {
          "name": "stdout",
          "text": "<class 'pandas.core.frame.DataFrame'>\nRangeIndex: 945 entries, 0 to 944\nColumns: 1149 entries, no. to COH.F.gamma.r.O1.s.O2\ndtypes: float64(1144), int64(1), object(4)\nmemory usage: 8.3+ MB\n",
          "output_type": "stream"
        }
      ]
    },
    {
      "cell_type": "code",
      "source": [
        "data.nunique()"
      ],
      "metadata": {
        "execution": {
          "iopub.status.busy": "2024-09-03T23:46:56.194327Z",
          "iopub.execute_input": "2024-09-03T23:46:56.194794Z",
          "iopub.status.idle": "2024-09-03T23:46:56.362292Z",
          "shell.execute_reply.started": "2024-09-03T23:46:56.19475Z",
          "shell.execute_reply": "2024-09-03T23:46:56.360762Z"
        },
        "trusted": true,
        "id": "JBk7OHxxj5Px",
        "outputId": "4169e13c-ad8f-4af1-c4ac-8f95d4990c1b"
      },
      "execution_count": null,
      "outputs": [
        {
          "execution_count": 8,
          "output_type": "execute_result",
          "data": {
            "text/plain": "no.                      945\nsex                        2\nage                      654\neeg.date                 722\neducation                 19\n                        ... \nCOH.F.gamma.p.P4.r.O1    942\nCOH.F.gamma.p.P4.s.O2    942\nCOH.F.gamma.q.T6.r.O1    942\nCOH.F.gamma.q.T6.s.O2    942\nCOH.F.gamma.r.O1.s.O2    942\nLength: 1149, dtype: int64"
          },
          "metadata": {}
        }
      ]
    },
    {
      "cell_type": "code",
      "source": [
        "data.isnull().sum()"
      ],
      "metadata": {
        "execution": {
          "iopub.status.busy": "2024-09-03T23:46:56.363904Z",
          "iopub.execute_input": "2024-09-03T23:46:56.364273Z",
          "iopub.status.idle": "2024-09-03T23:46:56.379131Z",
          "shell.execute_reply.started": "2024-09-03T23:46:56.364242Z",
          "shell.execute_reply": "2024-09-03T23:46:56.37746Z"
        },
        "trusted": true,
        "id": "cylH94oGj5Px",
        "outputId": "6bfc30fe-54dc-4e82-820f-d9c65e700536"
      },
      "execution_count": null,
      "outputs": [
        {
          "execution_count": 9,
          "output_type": "execute_result",
          "data": {
            "text/plain": "no.                       0\nsex                       0\nage                       0\neeg.date                  0\neducation                15\n                         ..\nCOH.F.gamma.p.P4.r.O1     0\nCOH.F.gamma.p.P4.s.O2     0\nCOH.F.gamma.q.T6.r.O1     0\nCOH.F.gamma.q.T6.s.O2     0\nCOH.F.gamma.r.O1.s.O2     0\nLength: 1149, dtype: int64"
          },
          "metadata": {}
        }
      ]
    },
    {
      "cell_type": "code",
      "source": [
        "(data.isnull().sum()/(len(data)))*100"
      ],
      "metadata": {
        "execution": {
          "iopub.status.busy": "2024-09-03T23:46:56.381357Z",
          "iopub.execute_input": "2024-09-03T23:46:56.381833Z",
          "iopub.status.idle": "2024-09-03T23:46:56.399685Z",
          "shell.execute_reply.started": "2024-09-03T23:46:56.381792Z",
          "shell.execute_reply": "2024-09-03T23:46:56.398241Z"
        },
        "trusted": true,
        "id": "4lWcMt30j5Py",
        "outputId": "80106b3c-96f7-4a42-8205-06a9030a61ae"
      },
      "execution_count": null,
      "outputs": [
        {
          "execution_count": 10,
          "output_type": "execute_result",
          "data": {
            "text/plain": "no.                      0.000000\nsex                      0.000000\nage                      0.000000\neeg.date                 0.000000\neducation                1.587302\n                           ...   \nCOH.F.gamma.p.P4.r.O1    0.000000\nCOH.F.gamma.p.P4.s.O2    0.000000\nCOH.F.gamma.q.T6.r.O1    0.000000\nCOH.F.gamma.q.T6.s.O2    0.000000\nCOH.F.gamma.r.O1.s.O2    0.000000\nLength: 1149, dtype: float64"
          },
          "metadata": {}
        }
      ]
    },
    {
      "cell_type": "code",
      "source": [
        "# Remove S.No. column from data\n",
        "data = data.drop(['no.'], axis = 1)\n",
        "data.info()"
      ],
      "metadata": {
        "execution": {
          "iopub.status.busy": "2024-09-03T23:46:56.401412Z",
          "iopub.execute_input": "2024-09-03T23:46:56.40191Z",
          "iopub.status.idle": "2024-09-03T23:46:56.476347Z",
          "shell.execute_reply.started": "2024-09-03T23:46:56.401868Z",
          "shell.execute_reply": "2024-09-03T23:46:56.473812Z"
        },
        "trusted": true,
        "id": "AFzfPlJZj5Py",
        "outputId": "df6ffab3-aff4-4434-b9cf-827b8a91e400"
      },
      "execution_count": null,
      "outputs": [
        {
          "name": "stdout",
          "text": "<class 'pandas.core.frame.DataFrame'>\nRangeIndex: 945 entries, 0 to 944\nColumns: 1148 entries, sex to COH.F.gamma.r.O1.s.O2\ndtypes: float64(1144), object(4)\nmemory usage: 8.3+ MB\n",
          "output_type": "stream"
        }
      ]
    },
    {
      "cell_type": "code",
      "source": [
        "print(data.Brand.unique())\n",
        "print(data.Brand.nunique())\n"
      ],
      "metadata": {
        "execution": {
          "iopub.status.busy": "2024-09-03T23:46:56.478382Z",
          "iopub.execute_input": "2024-09-03T23:46:56.478892Z",
          "iopub.status.idle": "2024-09-03T23:46:56.561547Z",
          "shell.execute_reply.started": "2024-09-03T23:46:56.478847Z",
          "shell.execute_reply": "2024-09-03T23:46:56.559073Z"
        },
        "trusted": true,
        "id": "N3hQZ_9yj5Pz",
        "outputId": "c7c679aa-15c2-4ac2-f6a8-1f2be40284da"
      },
      "execution_count": null,
      "outputs": [
        {
          "traceback": [
            "\u001b[0;31m---------------------------------------------------------------------------\u001b[0m",
            "\u001b[0;31mAttributeError\u001b[0m                            Traceback (most recent call last)",
            "\u001b[0;32m/tmp/ipykernel_33/1141146092.py\u001b[0m in \u001b[0;36m?\u001b[0;34m()\u001b[0m\n\u001b[0;32m----> 1\u001b[0;31m \u001b[0mprint\u001b[0m\u001b[0;34m(\u001b[0m\u001b[0mdata\u001b[0m\u001b[0;34m.\u001b[0m\u001b[0mBrand\u001b[0m\u001b[0;34m.\u001b[0m\u001b[0munique\u001b[0m\u001b[0;34m(\u001b[0m\u001b[0;34m)\u001b[0m\u001b[0;34m)\u001b[0m\u001b[0;34m\u001b[0m\u001b[0;34m\u001b[0m\u001b[0m\n\u001b[0m\u001b[1;32m      2\u001b[0m \u001b[0mprint\u001b[0m\u001b[0;34m(\u001b[0m\u001b[0mdata\u001b[0m\u001b[0;34m.\u001b[0m\u001b[0mBrand\u001b[0m\u001b[0;34m.\u001b[0m\u001b[0mnunique\u001b[0m\u001b[0;34m(\u001b[0m\u001b[0;34m)\u001b[0m\u001b[0;34m)\u001b[0m\u001b[0;34m\u001b[0m\u001b[0;34m\u001b[0m\u001b[0m\n",
            "\u001b[0;32m/opt/conda/lib/python3.10/site-packages/pandas/core/generic.py\u001b[0m in \u001b[0;36m?\u001b[0;34m(self, name)\u001b[0m\n\u001b[1;32m   6295\u001b[0m             \u001b[0;32mand\u001b[0m \u001b[0mname\u001b[0m \u001b[0;32mnot\u001b[0m \u001b[0;32min\u001b[0m \u001b[0mself\u001b[0m\u001b[0;34m.\u001b[0m\u001b[0m_accessors\u001b[0m\u001b[0;34m\u001b[0m\u001b[0;34m\u001b[0m\u001b[0m\n\u001b[1;32m   6296\u001b[0m             \u001b[0;32mand\u001b[0m \u001b[0mself\u001b[0m\u001b[0;34m.\u001b[0m\u001b[0m_info_axis\u001b[0m\u001b[0;34m.\u001b[0m\u001b[0m_can_hold_identifiers_and_holds_name\u001b[0m\u001b[0;34m(\u001b[0m\u001b[0mname\u001b[0m\u001b[0;34m)\u001b[0m\u001b[0;34m\u001b[0m\u001b[0;34m\u001b[0m\u001b[0m\n\u001b[1;32m   6297\u001b[0m         ):\n\u001b[1;32m   6298\u001b[0m             \u001b[0;32mreturn\u001b[0m \u001b[0mself\u001b[0m\u001b[0;34m[\u001b[0m\u001b[0mname\u001b[0m\u001b[0;34m]\u001b[0m\u001b[0;34m\u001b[0m\u001b[0;34m\u001b[0m\u001b[0m\n\u001b[0;32m-> 6299\u001b[0;31m         \u001b[0;32mreturn\u001b[0m \u001b[0mobject\u001b[0m\u001b[0;34m.\u001b[0m\u001b[0m__getattribute__\u001b[0m\u001b[0;34m(\u001b[0m\u001b[0mself\u001b[0m\u001b[0;34m,\u001b[0m \u001b[0mname\u001b[0m\u001b[0;34m)\u001b[0m\u001b[0;34m\u001b[0m\u001b[0;34m\u001b[0m\u001b[0m\n\u001b[0m",
            "\u001b[0;31mAttributeError\u001b[0m: 'DataFrame' object has no attribute 'Brand'"
          ],
          "ename": "AttributeError",
          "evalue": "'DataFrame' object has no attribute 'Brand'",
          "output_type": "error"
        }
      ]
    },
    {
      "cell_type": "code",
      "source": [
        "import numpy as np\n",
        "import matplotlib.pyplot as plt\n",
        "\n",
        "print(data['main.disorder'].value_counts())\n",
        "\n",
        "# data to plot\n",
        "index = 7\n",
        "\n",
        "mood_f_line = data[(data['main.disorder'] == 'Mood disorder') & (data['sex'] == 'F')]['main.disorder'].value_counts()\n",
        "mood_m_line = data[(data['main.disorder'] == 'Mood disorder')& (data['sex'] == 'M')]['main.disorder'].value_counts()\n",
        "\n",
        "addiction_f_line = data[(data['main.disorder'] == 'Addictive disorder')& (data['sex'] == 'F')]['main.disorder'].value_counts()\n",
        "addiction_m_line = data[(data['main.disorder'] == 'Addictive disorder')& (data['sex'] == 'M')]['main.disorder'].value_counts()\n",
        "\n",
        "trauma_stress_f_line = data[(data['main.disorder'] == 'Trauma and stress related disorder')& (data['sex'] == 'F')]['main.disorder'].value_counts()\n",
        "trauma_stress_m_line = data[(data['main.disorder'] == 'Trauma and stress related disorder')& (data['sex'] == 'M')]['main.disorder'].value_counts()\n",
        "\n",
        "schizophrenia_f_line = data[(data['main.disorder'] == 'Schizophrenia')& (data['sex'] == 'F')]['main.disorder'].value_counts()\n",
        "schizophrenia_m_line = data[(data['main.disorder'] == 'Schizophrenia')& (data['sex'] == 'M')]['main.disorder'].value_counts()\n",
        "\n",
        "anxiety_f_line = data[(data['main.disorder'] == 'Anxiety disorder')& (data['sex'] == 'F')]['main.disorder'].value_counts()\n",
        "anxiety_m_line = data[(data['main.disorder'] == 'Anxiety disorder')& (data['sex'] == 'M')]['main.disorder'].value_counts()\n",
        "\n",
        "control_f_line = data[(data['main.disorder'] == 'Healthy control')& (data['sex'] == 'F')]['main.disorder'].value_counts()\n",
        "control_m_line = data[(data['main.disorder'] == 'Healthy control')& (data['sex'] == 'M')]['main.disorder'].value_counts()\n",
        "\n",
        "ocd_f_line = data[(data['main.disorder'] == 'Obsessive compulsive disorder')& (data['sex'] == 'F')]['main.disorder'].value_counts()\n",
        "ocd_m_line = data[(data['main.disorder'] == 'Obsessive compulsive disorder')& (data['sex'] == 'M')]['main.disorder'].value_counts()\n",
        "\n",
        "\n",
        "\n",
        "\n",
        "# create plot\n",
        "fig, ax = plt.subplots()\n",
        "index = np.arange(14)\n",
        "bar_width = 0.35\n",
        "opacity = 0.8\n",
        "\n",
        "rects1 = plt.bar(1, mood_m_line, bar_width,\n",
        "alpha=opacity,\n",
        "color='g',\n",
        "label='Mood Male')\n",
        "rects2 = plt.bar(2, mood_f_line, bar_width,\n",
        "alpha=opacity,\n",
        "color='g',\n",
        "label='Mood Female')\n",
        "\n",
        "rects3 = plt.bar(3, addiction_m_line, bar_width,\n",
        "alpha=opacity,\n",
        "color='r',\n",
        "label='Addiction Male')\n",
        "rects4 = plt.bar(4, addiction_f_line, bar_width,\n",
        "alpha=opacity,\n",
        "color='r',\n",
        "label='Addiction Female')\n",
        "\n",
        "rects5 = plt.bar(5, trauma_stress_m_line, bar_width,\n",
        "alpha=opacity,\n",
        "color='b',\n",
        "label='Trauma & Stress Male')\n",
        "rects6 = plt.bar(6, trauma_stress_f_line, bar_width,\n",
        "alpha=opacity,\n",
        "color='b',\n",
        "label='Trauma & Stress Female')\n",
        "\n",
        "rects7 = plt.bar(7, schizophrenia_m_line, bar_width,\n",
        "alpha=opacity,\n",
        "color='orange',\n",
        "label='Schizophrenia Male')\n",
        "rects8 = plt.bar(8, schizophrenia_f_line, bar_width,\n",
        "alpha=opacity,\n",
        "color='orange',\n",
        "label='Schizophrenia Female')\n",
        "\n",
        "rects9 = plt.bar(9, anxiety_m_line, bar_width,\n",
        "alpha=opacity,\n",
        "color='purple',\n",
        "label='Anxiety Male')\n",
        "rects10 = plt.bar(10, anxiety_f_line, bar_width,\n",
        "alpha=opacity,\n",
        "color='purple',\n",
        "label='Anxiety Female')\n",
        "\n",
        "rects11 = plt.bar(11, control_m_line, bar_width,\n",
        "alpha=opacity,\n",
        "color='yellow',\n",
        "label='Control Male')\n",
        "rects12 = plt.bar(12, control_f_line, bar_width,\n",
        "alpha=opacity,\n",
        "color='yellow',\n",
        "label='Control Female')\n",
        "\n",
        "rects13 = plt.bar(13, ocd_m_line, bar_width,\n",
        "alpha=opacity,\n",
        "color='pink',\n",
        "label='OCD Male')\n",
        "rects14 = plt.bar(14, ocd_f_line, bar_width,\n",
        "alpha=opacity,\n",
        "color='pink',\n",
        "label='OCD Female')\n",
        "\n",
        "\n",
        "plt.xlabel('Condition')\n",
        "plt.ylabel('Subject Count')\n",
        "plt.title('Condition')\n",
        "\n",
        "plt.legend(bbox_to_anchor=(-0.2,0), loc='lower right')\n",
        "\n",
        "\n",
        "plt.tight_layout()\n",
        "plt.show()"
      ],
      "metadata": {
        "execution": {
          "iopub.status.busy": "2024-09-06T01:15:43.411054Z",
          "iopub.execute_input": "2024-09-06T01:15:43.411471Z",
          "iopub.status.idle": "2024-09-06T01:15:43.947903Z",
          "shell.execute_reply.started": "2024-09-06T01:15:43.411438Z",
          "shell.execute_reply": "2024-09-06T01:15:43.946542Z"
        },
        "trusted": true,
        "colab": {
          "base_uri": "https://localhost:8080/",
          "height": 640
        },
        "id": "vMxml2gLj5Pz",
        "outputId": "4fb7d4b6-a07d-47da-80d5-60d79a2a38dc"
      },
      "execution_count": 35,
      "outputs": [
        {
          "output_type": "stream",
          "name": "stdout",
          "text": [
            "main.disorder\n",
            "Mood disorder                         266\n",
            "Addictive disorder                    186\n",
            "Trauma and stress related disorder    128\n",
            "Schizophrenia                         117\n",
            "Anxiety disorder                      107\n",
            "Healthy control                        95\n",
            "Obsessive compulsive disorder          46\n",
            "Name: count, dtype: int64\n"
          ]
        },
        {
          "output_type": "display_data",
          "data": {
            "text/plain": [
              "<Figure size 640x480 with 1 Axes>"
            ],
            "image/png": "[encoded data removed]"
          },
          "metadata": {}
        }
      ]
    },
    {
      "cell_type": "code",
      "source": [
        "print(data[data['main.disorder'] == 'Mood disorder']['main.disorder'].value_counts()\n",
        ")\n"
      ],
      "metadata": {
        "execution": {
          "iopub.status.busy": "2024-09-05T23:40:21.972472Z",
          "iopub.execute_input": "2024-09-05T23:40:21.972936Z",
          "iopub.status.idle": "2024-09-05T23:40:21.982698Z",
          "shell.execute_reply.started": "2024-09-05T23:40:21.972895Z",
          "shell.execute_reply": "2024-09-05T23:40:21.981262Z"
        },
        "trusted": true,
        "colab": {
          "base_uri": "https://localhost:8080/"
        },
        "id": "TU7pUFjuj5P0",
        "outputId": "f6433556-f10a-4d27-fcea-8c53ceaacac9"
      },
      "execution_count": 36,
      "outputs": [
        {
          "output_type": "stream",
          "name": "stdout",
          "text": [
            "main.disorder\n",
            "Mood disorder    266\n",
            "Name: count, dtype: int64\n"
          ]
        }
      ]
    },
    {
      "cell_type": "code",
      "source": [
        "data.describe().T"
      ],
      "metadata": {
        "execution": {
          "iopub.status.busy": "2024-09-03T23:46:56.563027Z",
          "iopub.status.idle": "2024-09-03T23:46:56.56429Z",
          "shell.execute_reply.started": "2024-09-03T23:46:56.563937Z",
          "shell.execute_reply": "2024-09-03T23:46:56.563968Z"
        },
        "trusted": true,
        "colab": {
          "base_uri": "https://localhost:8080/",
          "height": 419
        },
        "id": "7t0hziafj5P0",
        "outputId": "c86cca63-8f75-4373-8a05-e4f5571320ff"
      },
      "execution_count": 37,
      "outputs": [
        {
          "output_type": "execute_result",
          "data": {
            "text/plain": [
              "                       count        mean        std        min        25%  \\\n",
              "age                    945.0   30.594804  11.781592  18.000000  21.730000   \n",
              "education              930.0   13.438710   2.550461   0.000000  12.000000   \n",
              "IQ                     932.0  101.580472  17.022414  49.000000  91.000000   \n",
              "AB.A.delta.a.FP1       945.0   20.182936  11.282022   3.272260  12.784872   \n",
              "AB.A.delta.b.FP2       945.0   21.177584  12.230662   3.244199  13.019269   \n",
              "...                      ...         ...        ...        ...        ...   \n",
              "COH.F.gamma.p.P4.r.O1  945.0   47.862489  19.685722   0.036664  32.581046   \n",
              "COH.F.gamma.p.P4.s.O2  945.0   66.832798  17.028701   1.032207  55.872070   \n",
              "COH.F.gamma.q.T6.r.O1  945.0   39.301406  20.790933   1.228502  22.049743   \n",
              "COH.F.gamma.q.T6.s.O2  945.0   66.153213  18.088548   0.363268  54.710605   \n",
              "COH.F.gamma.r.O1.s.O2  945.0   57.056207  19.600107   3.988805  43.955229   \n",
              "\n",
              "                              50%         75%         max  \n",
              "age                     26.150000   35.450000   71.880000  \n",
              "education               13.000000   16.000000   20.000000  \n",
              "IQ                     102.000000  114.000000  145.000000  \n",
              "AB.A.delta.a.FP1        17.065286   24.492760   92.826192  \n",
              "AB.A.delta.b.FP2        17.838251   25.654394  101.515687  \n",
              "...                           ...         ...         ...  \n",
              "COH.F.gamma.p.P4.r.O1   45.719426   62.081839   98.720067  \n",
              "COH.F.gamma.p.P4.s.O2   68.238375   79.192418   99.650154  \n",
              "COH.F.gamma.q.T6.r.O1   36.549938   54.169209   98.413320  \n",
              "COH.F.gamma.q.T6.s.O2   67.988937   79.527764  100.000000  \n",
              "COH.F.gamma.r.O1.s.O2   57.515871   71.626382   99.287092  \n",
              "\n",
              "[1144 rows x 8 columns]"
            ],
            "text/html": [
              "\n",
              "  <div id=\"df-471e4b97-040d-41f7-803d-06ba455c6484\" class=\"colab-df-container\">\n",
              "    <div>\n",
              "<style scoped>\n",
              "    .dataframe tbody tr th:only-of-type {\n",
              "        vertical-align: middle;\n",
              "    }\n",
              "\n",
              "    .dataframe tbody tr th {\n",
              "        vertical-align: top;\n",
              "    }\n",
              "\n",
              "    .dataframe thead th {\n",
              "        text-align: right;\n",
              "    }\n",
              "</style>\n",
              "<table border=\"1\" class=\"dataframe\">\n",
              "  <thead>\n",
              "    <tr style=\"text-align: right;\">\n",
              "      <th></th>\n",
              "      <th>count</th>\n",
              "      <th>mean</th>\n",
              "      <th>std</th>\n",
              "      <th>min</th>\n",
              "      <th>25%</th>\n",
              "      <th>50%</th>\n",
              "      <th>75%</th>\n",
              "      <th>max</th>\n",
              "    </tr>\n",
              "  </thead>\n",
              "  <tbody>\n",
              "    <tr>\n",
              "      <th>age</th>\n",
              "      <td>945.0</td>\n",
              "      <td>30.594804</td>\n",
              "      <td>11.781592</td>\n",
              "      <td>18.000000</td>\n",
              "      <td>21.730000</td>\n",
              "      <td>26.150000</td>\n",
              "      <td>35.450000</td>\n",
              "      <td>71.880000</td>\n",
              "    </tr>\n",
              "    <tr>\n",
              "      <th>education</th>\n",
              "      <td>930.0</td>\n",
              "      <td>13.438710</td>\n",
              "      <td>2.550461</td>\n",
              "      <td>0.000000</td>\n",
              "      <td>12.000000</td>\n",
              "      <td>13.000000</td>\n",
              "      <td>16.000000</td>\n",
              "      <td>20.000000</td>\n",
              "    </tr>\n",
              "    <tr>\n",
              "      <th>IQ</th>\n",
              "      <td>932.0</td>\n",
              "      <td>101.580472</td>\n",
              "      <td>17.022414</td>\n",
              "      <td>49.000000</td>\n",
              "      <td>91.000000</td>\n",
              "      <td>102.000000</td>\n",
              "      <td>114.000000</td>\n",
              "      <td>145.000000</td>\n",
              "    </tr>\n",
              "    <tr>\n",
              "      <th>AB.A.delta.a.FP1</th>\n",
              "      <td>945.0</td>\n",
              "      <td>20.182936</td>\n",
              "      <td>11.282022</td>\n",
              "      <td>3.272260</td>\n",
              "      <td>12.784872</td>\n",
              "      <td>17.065286</td>\n",
              "      <td>24.492760</td>\n",
              "      <td>92.826192</td>\n",
              "    </tr>\n",
              "    <tr>\n",
              "      <th>AB.A.delta.b.FP2</th>\n",
              "      <td>945.0</td>\n",
              "      <td>21.177584</td>\n",
              "      <td>12.230662</td>\n",
              "      <td>3.244199</td>\n",
              "      <td>13.019269</td>\n",
              "      <td>17.838251</td>\n",
              "      <td>25.654394</td>\n",
              "      <td>101.515687</td>\n",
              "    </tr>\n",
              "    <tr>\n",
              "      <th>...</th>\n",
              "      <td>...</td>\n",
              "      <td>...</td>\n",
              "      <td>...</td>\n",
              "      <td>...</td>\n",
              "      <td>...</td>\n",
              "      <td>...</td>\n",
              "      <td>...</td>\n",
              "      <td>...</td>\n",
              "    </tr>\n",
              "    <tr>\n",
              "      <th>COH.F.gamma.p.P4.r.O1</th>\n",
              "      <td>945.0</td>\n",
              "      <td>47.862489</td>\n",
              "      <td>19.685722</td>\n",
              "      <td>0.036664</td>\n",
              "      <td>32.581046</td>\n",
              "      <td>45.719426</td>\n",
              "      <td>62.081839</td>\n",
              "      <td>98.720067</td>\n",
              "    </tr>\n",
              "    <tr>\n",
              "      <th>COH.F.gamma.p.P4.s.O2</th>\n",
              "      <td>945.0</td>\n",
              "      <td>66.832798</td>\n",
              "      <td>17.028701</td>\n",
              "      <td>1.032207</td>\n",
              "      <td>55.872070</td>\n",
              "      <td>68.238375</td>\n",
              "      <td>79.192418</td>\n",
              "      <td>99.650154</td>\n",
              "    </tr>\n",
              "    <tr>\n",
              "      <th>COH.F.gamma.q.T6.r.O1</th>\n",
              "      <td>945.0</td>\n",
              "      <td>39.301406</td>\n",
              "      <td>20.790933</td>\n",
              "      <td>1.228502</td>\n",
              "      <td>22.049743</td>\n",
              "      <td>36.549938</td>\n",
              "      <td>54.169209</td>\n",
              "      <td>98.413320</td>\n",
              "    </tr>\n",
              "    <tr>\n",
              "      <th>COH.F.gamma.q.T6.s.O2</th>\n",
              "      <td>945.0</td>\n",
              "      <td>66.153213</td>\n",
              "      <td>18.088548</td>\n",
              "      <td>0.363268</td>\n",
              "      <td>54.710605</td>\n",
              "      <td>67.988937</td>\n",
              "      <td>79.527764</td>\n",
              "      <td>100.000000</td>\n",
              "    </tr>\n",
              "    <tr>\n",
              "      <th>COH.F.gamma.r.O1.s.O2</th>\n",
              "      <td>945.0</td>\n",
              "      <td>57.056207</td>\n",
              "      <td>19.600107</td>\n",
              "      <td>3.988805</td>\n",
              "      <td>43.955229</td>\n",
              "      <td>57.515871</td>\n",
              "      <td>71.626382</td>\n",
              "      <td>99.287092</td>\n",
              "    </tr>\n",
              "  </tbody>\n",
              "</table>\n",
              "<p>1144 rows × 8 columns</p>\n",
              "</div>\n",
              "    <div class=\"colab-df-buttons\">\n",
              "\n",
              "  <div class=\"colab-df-container\">\n",
              "    <button class=\"colab-df-convert\" onclick=\"convertToInteractive('df-471e4b97-040d-41f7-803d-06ba455c6484')\"\n",
              "            title=\"Convert this dataframe to an interactive table.\"\n",
              "            style=\"display:none;\">\n",
              "\n",
              "  <svg xmlns=\"http://www.w3.org/2000/svg\" height=\"24px\" viewBox=\"0 -960 960 960\">\n",
              "    <path d=\"M120-120v-720h720v720H120Zm60-500h600v-160H180v160Zm220 220h160v-160H400v160Zm0 220h160v-160H400v160ZM180-400h160v-160H180v160Zm440 0h160v-160H620v160ZM180-180h160v-160H180v160Zm440 0h160v-160H620v160Z\"/>\n",
              "  </svg>\n",
              "    </button>\n",
              "\n",
              "  <style>\n",
              "    .colab-df-container {\n",
              "      display:flex;\n",
              "      gap: 12px;\n",
              "    }\n",
              "\n",
              "    .colab-df-convert {\n",
              "      background-color: #E8F0FE;\n",
              "      border: none;\n",
              "      border-radius: 50%;\n",
              "      cursor: pointer;\n",
              "      display: none;\n",
              "      fill: #1967D2;\n",
              "      height: 32px;\n",
              "      padding: 0 0 0 0;\n",
              "      width: 32px;\n",
              "    }\n",
              "\n",
              "    .colab-df-convert:hover {\n",
              "      background-color: #E2EBFA;\n",
              "      box-shadow: 0px 1px 2px rgba(60, 64, 67, 0.3), 0px 1px 3px 1px rgba(60, 64, 67, 0.15);\n",
              "      fill: #174EA6;\n",
              "    }\n",
              "\n",
              "    .colab-df-buttons div {\n",
              "      margin-bottom: 4px;\n",
              "    }\n",
              "\n",
              "    [theme=dark] .colab-df-convert {\n",
              "      background-color: #3B4455;\n",
              "      fill: #D2E3FC;\n",
              "    }\n",
              "\n",
              "    [theme=dark] .colab-df-convert:hover {\n",
              "      background-color: #434B5C;\n",
              "      box-shadow: 0px 1px 3px 1px rgba(0, 0, 0, 0.15);\n",
              "      filter: drop-shadow(0px 1px 2px rgba(0, 0, 0, 0.3));\n",
              "      fill: #FFFFFF;\n",
              "    }\n",
              "  </style>\n",
              "\n",
              "    <script>\n",
              "      const buttonEl =\n",
              "        document.querySelector('#df-471e4b97-040d-41f7-803d-06ba455c6484 button.colab-df-convert');\n",
              "      buttonEl.style.display =\n",
              "        google.colab.kernel.accessAllowed ? 'block' : 'none';\n",
              "\n",
              "      async function convertToInteractive(key) {\n",
              "        const element = document.querySelector('#df-471e4b97-040d-41f7-803d-06ba455c6484');\n",
              "        const dataTable =\n",
              "          await google.colab.kernel.invokeFunction('convertToInteractive',\n",
              "                                                    [key], {});\n",
              "        if (!dataTable) return;\n",
              "\n",
              "        const docLinkHtml = 'Like what you see? Visit the ' +\n",
              "          '<a target=\"_blank\" href=https://colab.research.google.com/notebooks/data_table.ipynb>data table notebook</a>'\n",
              "          + ' to learn more about interactive tables.';\n",
              "        element.innerHTML = '';\n",
              "        dataTable['output_type'] = 'display_data';\n",
              "        await google.colab.output.renderOutput(dataTable, element);\n",
              "        const docLink = document.createElement('div');\n",
              "        docLink.innerHTML = docLinkHtml;\n",
              "        element.appendChild(docLink);\n",
              "      }\n",
              "    </script>\n",
              "  </div>\n",
              "\n",
              "\n",
              "<div id=\"df-3aaebba1-70a2-4c9b-b8eb-0da014696b7d\">\n",
              "  <button class=\"colab-df-quickchart\" onclick=\"quickchart('df-3aaebba1-70a2-4c9b-b8eb-0da014696b7d')\"\n",
              "            title=\"Suggest charts\"\n",
              "            style=\"display:none;\">\n",
              "\n",
              "<svg xmlns=\"http://www.w3.org/2000/svg\" height=\"24px\"viewBox=\"0 0 24 24\"\n",
              "     width=\"24px\">\n",
              "    <g>\n",
              "        <path d=\"M19 3H5c-1.1 0-2 .9-2 2v14c0 1.1.9 2 2 2h14c1.1 0 2-.9 2-2V5c0-1.1-.9-2-2-2zM9 17H7v-7h2v7zm4 0h-2V7h2v10zm4 0h-2v-4h2v4z\"/>\n",
              "    </g>\n",
              "</svg>\n",
              "  </button>\n",
              "\n",
              "<style>\n",
              "  .colab-df-quickchart {\n",
              "      --bg-color: #E8F0FE;\n",
              "      --fill-color: #1967D2;\n",
              "      --hover-bg-color: #E2EBFA;\n",
              "      --hover-fill-color: #174EA6;\n",
              "      --disabled-fill-color: #AAA;\n",
              "      --disabled-bg-color: #DDD;\n",
              "  }\n",
              "\n",
              "  [theme=dark] .colab-df-quickchart {\n",
              "      --bg-color: #3B4455;\n",
              "      --fill-color: #D2E3FC;\n",
              "      --hover-bg-color: #434B5C;\n",
              "      --hover-fill-color: #FFFFFF;\n",
              "      --disabled-bg-color: #3B4455;\n",
              "      --disabled-fill-color: #666;\n",
              "  }\n",
              "\n",
              "  .colab-df-quickchart {\n",
              "    background-color: var(--bg-color);\n",
              "    border: none;\n",
              "    border-radius: 50%;\n",
              "    cursor: pointer;\n",
              "    display: none;\n",
              "    fill: var(--fill-color);\n",
              "    height: 32px;\n",
              "    padding: 0;\n",
              "    width: 32px;\n",
              "  }\n",
              "\n",
              "  .colab-df-quickchart:hover {\n",
              "    background-color: var(--hover-bg-color);\n",
              "    box-shadow: 0 1px 2px rgba(60, 64, 67, 0.3), 0 1px 3px 1px rgba(60, 64, 67, 0.15);\n",
              "    fill: var(--button-hover-fill-color);\n",
              "  }\n",
              "\n",
              "  .colab-df-quickchart-complete:disabled,\n",
              "  .colab-df-quickchart-complete:disabled:hover {\n",
              "    background-color: var(--disabled-bg-color);\n",
              "    fill: var(--disabled-fill-color);\n",
              "    box-shadow: none;\n",
              "  }\n",
              "\n",
              "  .colab-df-spinner {\n",
              "    border: 2px solid var(--fill-color);\n",
              "    border-color: transparent;\n",
              "    border-bottom-color: var(--fill-color);\n",
              "    animation:\n",
              "      spin 1s steps(1) infinite;\n",
              "  }\n",
              "\n",
              "  @keyframes spin {\n",
              "    0% {\n",
              "      border-color: transparent;\n",
              "      border-bottom-color: var(--fill-color);\n",
              "      border-left-color: var(--fill-color);\n",
              "    }\n",
              "    20% {\n",
              "      border-color: transparent;\n",
              "      border-left-color: var(--fill-color);\n",
              "      border-top-color: var(--fill-color);\n",
              "    }\n",
              "    30% {\n",
              "      border-color: transparent;\n",
              "      border-left-color: var(--fill-color);\n",
              "      border-top-color: var(--fill-color);\n",
              "      border-right-color: var(--fill-color);\n",
              "    }\n",
              "    40% {\n",
              "      border-color: transparent;\n",
              "      border-right-color: var(--fill-color);\n",
              "      border-top-color: var(--fill-color);\n",
              "    }\n",
              "    60% {\n",
              "      border-color: transparent;\n",
              "      border-right-color: var(--fill-color);\n",
              "    }\n",
              "    80% {\n",
              "      border-color: transparent;\n",
              "      border-right-color: var(--fill-color);\n",
              "      border-bottom-color: var(--fill-color);\n",
              "    }\n",
              "    90% {\n",
              "      border-color: transparent;\n",
              "      border-bottom-color: var(--fill-color);\n",
              "    }\n",
              "  }\n",
              "</style>\n",
              "\n",
              "  <script>\n",
              "    async function quickchart(key) {\n",
              "      const quickchartButtonEl =\n",
              "        document.querySelector('#' + key + ' button');\n",
              "      quickchartButtonEl.disabled = true;  // To prevent multiple clicks.\n",
              "      quickchartButtonEl.classList.add('colab-df-spinner');\n",
              "      try {\n",
              "        const charts = await google.colab.kernel.invokeFunction(\n",
              "            'suggestCharts', [key], {});\n",
              "      } catch (error) {\n",
              "        console.error('Error during call to suggestCharts:', error);\n",
              "      }\n",
              "      quickchartButtonEl.classList.remove('colab-df-spinner');\n",
              "      quickchartButtonEl.classList.add('colab-df-quickchart-complete');\n",
              "    }\n",
              "    (() => {\n",
              "      let quickchartButtonEl =\n",
              "        document.querySelector('#df-3aaebba1-70a2-4c9b-b8eb-0da014696b7d button');\n",
              "      quickchartButtonEl.style.display =\n",
              "        google.colab.kernel.accessAllowed ? 'block' : 'none';\n",
              "    })();\n",
              "  </script>\n",
              "</div>\n",
              "\n",
              "    </div>\n",
              "  </div>\n"
            ],
            "application/vnd.google.colaboratory.intrinsic+json": {
              "type": "dataframe",
              "summary": "{\n  \"name\": \"data\",\n  \"rows\": 1144,\n  \"fields\": [\n    {\n      \"column\": \"count\",\n      \"properties\": {\n        \"dtype\": \"number\",\n        \"std\": 27.944943992389895,\n        \"min\": 0.0,\n        \"max\": 945.0,\n        \"num_unique_values\": 4,\n        \"samples\": [\n          930.0,\n          0.0,\n          945.0\n        ],\n        \"semantic_type\": \"\",\n        \"description\": \"\"\n      }\n    },\n    {\n      \"column\": \"mean\",\n      \"properties\": {\n        \"dtype\": \"number\",\n        \"std\": 20.439262262288455,\n        \"min\": 1.5575417068783068,\n        \"max\": 101.5804721030043,\n        \"num_unique_values\": 1143,\n        \"samples\": [\n          30.633249977777776,\n          45.407778372486774,\n          72.32804262433864\n        ],\n        \"semantic_type\": \"\",\n        \"description\": \"\"\n      }\n    },\n    {\n      \"column\": \"std\",\n      \"properties\": {\n        \"dtype\": \"number\",\n        \"std\": 4.3744701830733,\n        \"min\": 1.3569208518429055,\n        \"max\": 41.06476148529535,\n        \"num_unique_values\": 1143,\n        \"samples\": [\n          16.67349093256136,\n          22.510827477421707,\n          12.80457318754139\n        ],\n        \"semantic_type\": \"\",\n        \"description\": \"\"\n      }\n    },\n    {\n      \"column\": \"min\",\n      \"properties\": {\n        \"dtype\": \"number\",\n        \"std\": 5.206967347039176,\n        \"min\": 0.0,\n        \"max\": 49.0,\n        \"num_unique_values\": 1134,\n        \"samples\": [\n          0.457167,\n          0.002647,\n          12.680665\n        ],\n        \"semantic_type\": \"\",\n        \"description\": \"\"\n      }\n    },\n    {\n      \"column\": \"25%\",\n      \"properties\": {\n        \"dtype\": \"number\",\n        \"std\": 20.382057519352447,\n        \"min\": 0.785847,\n        \"max\": 91.0,\n        \"num_unique_values\": 1143,\n        \"samples\": [\n          18.250484,\n          27.768666,\n          64.521787\n        ],\n        \"semantic_type\": \"\",\n        \"description\": \"\"\n      }\n    },\n    {\n      \"column\": \"50%\",\n      \"properties\": {\n        \"dtype\": \"number\",\n        \"std\": 22.439205184762855,\n        \"min\": 1.159039,\n        \"max\": 102.0,\n        \"num_unique_values\": 1143,\n        \"samples\": [\n          28.294045,\n          44.663917,\n          73.317269\n        ],\n        \"semantic_type\": \"\",\n        \"description\": \"\"\n      }\n    },\n    {\n      \"column\": \"75%\",\n      \"properties\": {\n        \"dtype\": \"number\",\n        \"std\": 23.027739063518275,\n        \"min\": 1.878481,\n        \"max\": 114.0,\n        \"num_unique_values\": 1143,\n        \"samples\": [\n          38.394216,\n          61.402593,\n          81.039864\n        ],\n        \"semantic_type\": \"\",\n        \"description\": \"\"\n      }\n    },\n    {\n      \"column\": \"max\",\n      \"properties\": {\n        \"dtype\": \"number\",\n        \"std\": 36.45489756058433,\n        \"min\": 10.048472,\n        \"max\": 531.806786,\n        \"num_unique_values\": 1088,\n        \"samples\": [\n          99.960203,\n          421.98265,\n          99.785282\n        ],\n        \"semantic_type\": \"\",\n        \"description\": \"\"\n      }\n    }\n  ]\n}"
            }
          },
          "metadata": {},
          "execution_count": 37
        }
      ]
    },
    {
      "cell_type": "code",
      "source": [
        "data.describe(include='all').T"
      ],
      "metadata": {
        "execution": {
          "iopub.status.busy": "2024-09-03T23:46:56.56691Z",
          "iopub.status.idle": "2024-09-03T23:46:56.567532Z",
          "shell.execute_reply.started": "2024-09-03T23:46:56.567225Z",
          "shell.execute_reply": "2024-09-03T23:46:56.567252Z"
        },
        "trusted": true,
        "colab": {
          "base_uri": "https://localhost:8080/",
          "height": 419
        },
        "id": "LBB9_tcqj5P1",
        "outputId": "b731bd53-78e9-49c5-f3c0-5102fc7fc120"
      },
      "execution_count": 38,
      "outputs": [
        {
          "output_type": "execute_result",
          "data": {
            "text/plain": [
              "                       count unique        top freq        mean        std  \\\n",
              "sex                      945      2          M  601         NaN        NaN   \n",
              "age                    945.0    NaN        NaN  NaN   30.594804  11.781592   \n",
              "eeg.date                 945    722  2018.7.17    5         NaN        NaN   \n",
              "education              930.0    NaN        NaN  NaN    13.43871   2.550461   \n",
              "IQ                     932.0    NaN        NaN  NaN  101.580472  17.022414   \n",
              "...                      ...    ...        ...  ...         ...        ...   \n",
              "COH.F.gamma.p.P4.r.O1  945.0    NaN        NaN  NaN   47.862489  19.685722   \n",
              "COH.F.gamma.p.P4.s.O2  945.0    NaN        NaN  NaN   66.832798  17.028701   \n",
              "COH.F.gamma.q.T6.r.O1  945.0    NaN        NaN  NaN   39.301406  20.790933   \n",
              "COH.F.gamma.q.T6.s.O2  945.0    NaN        NaN  NaN   66.153213  18.088548   \n",
              "COH.F.gamma.r.O1.s.O2  945.0    NaN        NaN  NaN   57.056207  19.600107   \n",
              "\n",
              "                            min        25%        50%        75%        max  \n",
              "sex                         NaN        NaN        NaN        NaN        NaN  \n",
              "age                        18.0      21.73      26.15      35.45      71.88  \n",
              "eeg.date                    NaN        NaN        NaN        NaN        NaN  \n",
              "education                   0.0       12.0       13.0       16.0       20.0  \n",
              "IQ                         49.0       91.0      102.0      114.0      145.0  \n",
              "...                         ...        ...        ...        ...        ...  \n",
              "COH.F.gamma.p.P4.r.O1  0.036664  32.581046  45.719426  62.081839  98.720067  \n",
              "COH.F.gamma.p.P4.s.O2  1.032207   55.87207  68.238375  79.192418  99.650154  \n",
              "COH.F.gamma.q.T6.r.O1  1.228502  22.049743  36.549938  54.169209   98.41332  \n",
              "COH.F.gamma.q.T6.s.O2  0.363268  54.710605  67.988937  79.527764      100.0  \n",
              "COH.F.gamma.r.O1.s.O2  3.988805  43.955229  57.515871  71.626382  99.287092  \n",
              "\n",
              "[1148 rows x 11 columns]"
            ],
            "text/html": [
              "\n",
              "  <div id=\"df-f17a7802-814a-48fc-a586-ef7cd309211a\" class=\"colab-df-container\">\n",
              "    <div>\n",
              "<style scoped>\n",
              "    .dataframe tbody tr th:only-of-type {\n",
              "        vertical-align: middle;\n",
              "    }\n",
              "\n",
              "    .dataframe tbody tr th {\n",
              "        vertical-align: top;\n",
              "    }\n",
              "\n",
              "    .dataframe thead th {\n",
              "        text-align: right;\n",
              "    }\n",
              "</style>\n",
              "<table border=\"1\" class=\"dataframe\">\n",
              "  <thead>\n",
              "    <tr style=\"text-align: right;\">\n",
              "      <th></th>\n",
              "      <th>count</th>\n",
              "      <th>unique</th>\n",
              "      <th>top</th>\n",
              "      <th>freq</th>\n",
              "      <th>mean</th>\n",
              "      <th>std</th>\n",
              "      <th>min</th>\n",
              "      <th>25%</th>\n",
              "      <th>50%</th>\n",
              "      <th>75%</th>\n",
              "      <th>max</th>\n",
              "    </tr>\n",
              "  </thead>\n",
              "  <tbody>\n",
              "    <tr>\n",
              "      <th>sex</th>\n",
              "      <td>945</td>\n",
              "      <td>2</td>\n",
              "      <td>M</td>\n",
              "      <td>601</td>\n",
              "      <td>NaN</td>\n",
              "      <td>NaN</td>\n",
              "      <td>NaN</td>\n",
              "      <td>NaN</td>\n",
              "      <td>NaN</td>\n",
              "      <td>NaN</td>\n",
              "      <td>NaN</td>\n",
              "    </tr>\n",
              "    <tr>\n",
              "      <th>age</th>\n",
              "      <td>945.0</td>\n",
              "      <td>NaN</td>\n",
              "      <td>NaN</td>\n",
              "      <td>NaN</td>\n",
              "      <td>30.594804</td>\n",
              "      <td>11.781592</td>\n",
              "      <td>18.0</td>\n",
              "      <td>21.73</td>\n",
              "      <td>26.15</td>\n",
              "      <td>35.45</td>\n",
              "      <td>71.88</td>\n",
              "    </tr>\n",
              "    <tr>\n",
              "      <th>eeg.date</th>\n",
              "      <td>945</td>\n",
              "      <td>722</td>\n",
              "      <td>2018.7.17</td>\n",
              "      <td>5</td>\n",
              "      <td>NaN</td>\n",
              "      <td>NaN</td>\n",
              "      <td>NaN</td>\n",
              "      <td>NaN</td>\n",
              "      <td>NaN</td>\n",
              "      <td>NaN</td>\n",
              "      <td>NaN</td>\n",
              "    </tr>\n",
              "    <tr>\n",
              "      <th>education</th>\n",
              "      <td>930.0</td>\n",
              "      <td>NaN</td>\n",
              "      <td>NaN</td>\n",
              "      <td>NaN</td>\n",
              "      <td>13.43871</td>\n",
              "      <td>2.550461</td>\n",
              "      <td>0.0</td>\n",
              "      <td>12.0</td>\n",
              "      <td>13.0</td>\n",
              "      <td>16.0</td>\n",
              "      <td>20.0</td>\n",
              "    </tr>\n",
              "    <tr>\n",
              "      <th>IQ</th>\n",
              "      <td>932.0</td>\n",
              "      <td>NaN</td>\n",
              "      <td>NaN</td>\n",
              "      <td>NaN</td>\n",
              "      <td>101.580472</td>\n",
              "      <td>17.022414</td>\n",
              "      <td>49.0</td>\n",
              "      <td>91.0</td>\n",
              "      <td>102.0</td>\n",
              "      <td>114.0</td>\n",
              "      <td>145.0</td>\n",
              "    </tr>\n",
              "    <tr>\n",
              "      <th>...</th>\n",
              "      <td>...</td>\n",
              "      <td>...</td>\n",
              "      <td>...</td>\n",
              "      <td>...</td>\n",
              "      <td>...</td>\n",
              "      <td>...</td>\n",
              "      <td>...</td>\n",
              "      <td>...</td>\n",
              "      <td>...</td>\n",
              "      <td>...</td>\n",
              "      <td>...</td>\n",
              "    </tr>\n",
              "    <tr>\n",
              "      <th>COH.F.gamma.p.P4.r.O1</th>\n",
              "      <td>945.0</td>\n",
              "      <td>NaN</td>\n",
              "      <td>NaN</td>\n",
              "      <td>NaN</td>\n",
              "      <td>47.862489</td>\n",
              "      <td>19.685722</td>\n",
              "      <td>0.036664</td>\n",
              "      <td>32.581046</td>\n",
              "      <td>45.719426</td>\n",
              "      <td>62.081839</td>\n",
              "      <td>98.720067</td>\n",
              "    </tr>\n",
              "    <tr>\n",
              "      <th>COH.F.gamma.p.P4.s.O2</th>\n",
              "      <td>945.0</td>\n",
              "      <td>NaN</td>\n",
              "      <td>NaN</td>\n",
              "      <td>NaN</td>\n",
              "      <td>66.832798</td>\n",
              "      <td>17.028701</td>\n",
              "      <td>1.032207</td>\n",
              "      <td>55.87207</td>\n",
              "      <td>68.238375</td>\n",
              "      <td>79.192418</td>\n",
              "      <td>99.650154</td>\n",
              "    </tr>\n",
              "    <tr>\n",
              "      <th>COH.F.gamma.q.T6.r.O1</th>\n",
              "      <td>945.0</td>\n",
              "      <td>NaN</td>\n",
              "      <td>NaN</td>\n",
              "      <td>NaN</td>\n",
              "      <td>39.301406</td>\n",
              "      <td>20.790933</td>\n",
              "      <td>1.228502</td>\n",
              "      <td>22.049743</td>\n",
              "      <td>36.549938</td>\n",
              "      <td>54.169209</td>\n",
              "      <td>98.41332</td>\n",
              "    </tr>\n",
              "    <tr>\n",
              "      <th>COH.F.gamma.q.T6.s.O2</th>\n",
              "      <td>945.0</td>\n",
              "      <td>NaN</td>\n",
              "      <td>NaN</td>\n",
              "      <td>NaN</td>\n",
              "      <td>66.153213</td>\n",
              "      <td>18.088548</td>\n",
              "      <td>0.363268</td>\n",
              "      <td>54.710605</td>\n",
              "      <td>67.988937</td>\n",
              "      <td>79.527764</td>\n",
              "      <td>100.0</td>\n",
              "    </tr>\n",
              "    <tr>\n",
              "      <th>COH.F.gamma.r.O1.s.O2</th>\n",
              "      <td>945.0</td>\n",
              "      <td>NaN</td>\n",
              "      <td>NaN</td>\n",
              "      <td>NaN</td>\n",
              "      <td>57.056207</td>\n",
              "      <td>19.600107</td>\n",
              "      <td>3.988805</td>\n",
              "      <td>43.955229</td>\n",
              "      <td>57.515871</td>\n",
              "      <td>71.626382</td>\n",
              "      <td>99.287092</td>\n",
              "    </tr>\n",
              "  </tbody>\n",
              "</table>\n",
              "<p>1148 rows × 11 columns</p>\n",
              "</div>\n",
              "    <div class=\"colab-df-buttons\">\n",
              "\n",
              "  <div class=\"colab-df-container\">\n",
              "    <button class=\"colab-df-convert\" onclick=\"convertToInteractive('df-f17a7802-814a-48fc-a586-ef7cd309211a')\"\n",
              "            title=\"Convert this dataframe to an interactive table.\"\n",
              "            style=\"display:none;\">\n",
              "\n",
              "  <svg xmlns=\"http://www.w3.org/2000/svg\" height=\"24px\" viewBox=\"0 -960 960 960\">\n",
              "    <path d=\"M120-120v-720h720v720H120Zm60-500h600v-160H180v160Zm220 220h160v-160H400v160Zm0 220h160v-160H400v160ZM180-400h160v-160H180v160Zm440 0h160v-160H620v160ZM180-180h160v-160H180v160Zm440 0h160v-160H620v160Z\"/>\n",
              "  </svg>\n",
              "    </button>\n",
              "\n",
              "  <style>\n",
              "    .colab-df-container {\n",
              "      display:flex;\n",
              "      gap: 12px;\n",
              "    }\n",
              "\n",
              "    .colab-df-convert {\n",
              "      background-color: #E8F0FE;\n",
              "      border: none;\n",
              "      border-radius: 50%;\n",
              "      cursor: pointer;\n",
              "      display: none;\n",
              "      fill: #1967D2;\n",
              "      height: 32px;\n",
              "      padding: 0 0 0 0;\n",
              "      width: 32px;\n",
              "    }\n",
              "\n",
              "    .colab-df-convert:hover {\n",
              "      background-color: #E2EBFA;\n",
              "      box-shadow: 0px 1px 2px rgba(60, 64, 67, 0.3), 0px 1px 3px 1px rgba(60, 64, 67, 0.15);\n",
              "      fill: #174EA6;\n",
              "    }\n",
              "\n",
              "    .colab-df-buttons div {\n",
              "      margin-bottom: 4px;\n",
              "    }\n",
              "\n",
              "    [theme=dark] .colab-df-convert {\n",
              "      background-color: #3B4455;\n",
              "      fill: #D2E3FC;\n",
              "    }\n",
              "\n",
              "    [theme=dark] .colab-df-convert:hover {\n",
              "      background-color: #434B5C;\n",
              "      box-shadow: 0px 1px 3px 1px rgba(0, 0, 0, 0.15);\n",
              "      filter: drop-shadow(0px 1px 2px rgba(0, 0, 0, 0.3));\n",
              "      fill: #FFFFFF;\n",
              "    }\n",
              "  </style>\n",
              "\n",
              "    <script>\n",
              "      const buttonEl =\n",
              "        document.querySelector('#df-f17a7802-814a-48fc-a586-ef7cd309211a button.colab-df-convert');\n",
              "      buttonEl.style.display =\n",
              "        google.colab.kernel.accessAllowed ? 'block' : 'none';\n",
              "\n",
              "      async function convertToInteractive(key) {\n",
              "        const element = document.querySelector('#df-f17a7802-814a-48fc-a586-ef7cd309211a');\n",
              "        const dataTable =\n",
              "          await google.colab.kernel.invokeFunction('convertToInteractive',\n",
              "                                                    [key], {});\n",
              "        if (!dataTable) return;\n",
              "\n",
              "        const docLinkHtml = 'Like what you see? Visit the ' +\n",
              "          '<a target=\"_blank\" href=https://colab.research.google.com/notebooks/data_table.ipynb>data table notebook</a>'\n",
              "          + ' to learn more about interactive tables.';\n",
              "        element.innerHTML = '';\n",
              "        dataTable['output_type'] = 'display_data';\n",
              "        await google.colab.output.renderOutput(dataTable, element);\n",
              "        const docLink = document.createElement('div');\n",
              "        docLink.innerHTML = docLinkHtml;\n",
              "        element.appendChild(docLink);\n",
              "      }\n",
              "    </script>\n",
              "  </div>\n",
              "\n",
              "\n",
              "<div id=\"df-d6f16385-ff49-4e74-b6fb-7250b1439892\">\n",
              "  <button class=\"colab-df-quickchart\" onclick=\"quickchart('df-d6f16385-ff49-4e74-b6fb-7250b1439892')\"\n",
              "            title=\"Suggest charts\"\n",
              "            style=\"display:none;\">\n",
              "\n",
              "<svg xmlns=\"http://www.w3.org/2000/svg\" height=\"24px\"viewBox=\"0 0 24 24\"\n",
              "     width=\"24px\">\n",
              "    <g>\n",
              "        <path d=\"M19 3H5c-1.1 0-2 .9-2 2v14c0 1.1.9 2 2 2h14c1.1 0 2-.9 2-2V5c0-1.1-.9-2-2-2zM9 17H7v-7h2v7zm4 0h-2V7h2v10zm4 0h-2v-4h2v4z\"/>\n",
              "    </g>\n",
              "</svg>\n",
              "  </button>\n",
              "\n",
              "<style>\n",
              "  .colab-df-quickchart {\n",
              "      --bg-color: #E8F0FE;\n",
              "      --fill-color: #1967D2;\n",
              "      --hover-bg-color: #E2EBFA;\n",
              "      --hover-fill-color: #174EA6;\n",
              "      --disabled-fill-color: #AAA;\n",
              "      --disabled-bg-color: #DDD;\n",
              "  }\n",
              "\n",
              "  [theme=dark] .colab-df-quickchart {\n",
              "      --bg-color: #3B4455;\n",
              "      --fill-color: #D2E3FC;\n",
              "      --hover-bg-color: #434B5C;\n",
              "      --hover-fill-color: #FFFFFF;\n",
              "      --disabled-bg-color: #3B4455;\n",
              "      --disabled-fill-color: #666;\n",
              "  }\n",
              "\n",
              "  .colab-df-quickchart {\n",
              "    background-color: var(--bg-color);\n",
              "    border: none;\n",
              "    border-radius: 50%;\n",
              "    cursor: pointer;\n",
              "    display: none;\n",
              "    fill: var(--fill-color);\n",
              "    height: 32px;\n",
              "    padding: 0;\n",
              "    width: 32px;\n",
              "  }\n",
              "\n",
              "  .colab-df-quickchart:hover {\n",
              "    background-color: var(--hover-bg-color);\n",
              "    box-shadow: 0 1px 2px rgba(60, 64, 67, 0.3), 0 1px 3px 1px rgba(60, 64, 67, 0.15);\n",
              "    fill: var(--button-hover-fill-color);\n",
              "  }\n",
              "\n",
              "  .colab-df-quickchart-complete:disabled,\n",
              "  .colab-df-quickchart-complete:disabled:hover {\n",
              "    background-color: var(--disabled-bg-color);\n",
              "    fill: var(--disabled-fill-color);\n",
              "    box-shadow: none;\n",
              "  }\n",
              "\n",
              "  .colab-df-spinner {\n",
              "    border: 2px solid var(--fill-color);\n",
              "    border-color: transparent;\n",
              "    border-bottom-color: var(--fill-color);\n",
              "    animation:\n",
              "      spin 1s steps(1) infinite;\n",
              "  }\n",
              "\n",
              "  @keyframes spin {\n",
              "    0% {\n",
              "      border-color: transparent;\n",
              "      border-bottom-color: var(--fill-color);\n",
              "      border-left-color: var(--fill-color);\n",
              "    }\n",
              "    20% {\n",
              "      border-color: transparent;\n",
              "      border-left-color: var(--fill-color);\n",
              "      border-top-color: var(--fill-color);\n",
              "    }\n",
              "    30% {\n",
              "      border-color: transparent;\n",
              "      border-left-color: var(--fill-color);\n",
              "      border-top-color: var(--fill-color);\n",
              "      border-right-color: var(--fill-color);\n",
              "    }\n",
              "    40% {\n",
              "      border-color: transparent;\n",
              "      border-right-color: var(--fill-color);\n",
              "      border-top-color: var(--fill-color);\n",
              "    }\n",
              "    60% {\n",
              "      border-color: transparent;\n",
              "      border-right-color: var(--fill-color);\n",
              "    }\n",
              "    80% {\n",
              "      border-color: transparent;\n",
              "      border-right-color: var(--fill-color);\n",
              "      border-bottom-color: var(--fill-color);\n",
              "    }\n",
              "    90% {\n",
              "      border-color: transparent;\n",
              "      border-bottom-color: var(--fill-color);\n",
              "    }\n",
              "  }\n",
              "</style>\n",
              "\n",
              "  <script>\n",
              "    async function quickchart(key) {\n",
              "      const quickchartButtonEl =\n",
              "        document.querySelector('#' + key + ' button');\n",
              "      quickchartButtonEl.disabled = true;  // To prevent multiple clicks.\n",
              "      quickchartButtonEl.classList.add('colab-df-spinner');\n",
              "      try {\n",
              "        const charts = await google.colab.kernel.invokeFunction(\n",
              "            'suggestCharts', [key], {});\n",
              "      } catch (error) {\n",
              "        console.error('Error during call to suggestCharts:', error);\n",
              "      }\n",
              "      quickchartButtonEl.classList.remove('colab-df-spinner');\n",
              "      quickchartButtonEl.classList.add('colab-df-quickchart-complete');\n",
              "    }\n",
              "    (() => {\n",
              "      let quickchartButtonEl =\n",
              "        document.querySelector('#df-d6f16385-ff49-4e74-b6fb-7250b1439892 button');\n",
              "      quickchartButtonEl.style.display =\n",
              "        google.colab.kernel.accessAllowed ? 'block' : 'none';\n",
              "    })();\n",
              "  </script>\n",
              "</div>\n",
              "\n",
              "    </div>\n",
              "  </div>\n"
            ],
            "application/vnd.google.colaboratory.intrinsic+json": {
              "type": "dataframe",
              "summary": "{\n  \"name\": \"data\",\n  \"rows\": 1148,\n  \"fields\": [\n    {\n      \"column\": \"count\",\n      \"properties\": {\n        \"dtype\": \"date\",\n        \"min\": 0.0,\n        \"max\": \"945\",\n        \"num_unique_values\": 4,\n        \"samples\": [\n          930.0,\n          0.0,\n          \"945\"\n        ],\n        \"semantic_type\": \"\",\n        \"description\": \"\"\n      }\n    },\n    {\n      \"column\": \"unique\",\n      \"properties\": {\n        \"dtype\": \"date\",\n        \"min\": 2,\n        \"max\": 722,\n        \"num_unique_values\": 4,\n        \"samples\": [\n          722,\n          12,\n          2\n        ],\n        \"semantic_type\": \"\",\n        \"description\": \"\"\n      }\n    },\n    {\n      \"column\": \"top\",\n      \"properties\": {\n        \"dtype\": \"category\",\n        \"num_unique_values\": 4,\n        \"samples\": [\n          \"2018.7.17\",\n          \"Depressive disorder\",\n          \"M\"\n        ],\n        \"semantic_type\": \"\",\n        \"description\": \"\"\n      }\n    },\n    {\n      \"column\": \"freq\",\n      \"properties\": {\n        \"dtype\": \"date\",\n        \"min\": \"5\",\n        \"max\": \"601\",\n        \"num_unique_values\": 4,\n        \"samples\": [\n          \"5\",\n          \"199\",\n          \"601\"\n        ],\n        \"semantic_type\": \"\",\n        \"description\": \"\"\n      }\n    },\n    {\n      \"column\": \"mean\",\n      \"properties\": {\n        \"dtype\": \"date\",\n        \"min\": 1.5575417068783068,\n        \"max\": 101.5804721030043,\n        \"num_unique_values\": 1143,\n        \"samples\": [\n          30.633249977777776,\n          45.407778372486774,\n          72.32804262433864\n        ],\n        \"semantic_type\": \"\",\n        \"description\": \"\"\n      }\n    },\n    {\n      \"column\": \"std\",\n      \"properties\": {\n        \"dtype\": \"date\",\n        \"min\": 1.3569208518429055,\n        \"max\": 41.06476148529535,\n        \"num_unique_values\": 1143,\n        \"samples\": [\n          16.67349093256136,\n          22.510827477421707,\n          12.80457318754139\n        ],\n        \"semantic_type\": \"\",\n        \"description\": \"\"\n      }\n    },\n    {\n      \"column\": \"min\",\n      \"properties\": {\n        \"dtype\": \"date\",\n        \"min\": 0.0,\n        \"max\": 49.0,\n        \"num_unique_values\": 1134,\n        \"samples\": [\n          0.457167,\n          0.002647,\n          12.680665\n        ],\n        \"semantic_type\": \"\",\n        \"description\": \"\"\n      }\n    },\n    {\n      \"column\": \"25%\",\n      \"properties\": {\n        \"dtype\": \"date\",\n        \"min\": 0.785847,\n        \"max\": 91.0,\n        \"num_unique_values\": 1143,\n        \"samples\": [\n          18.250484,\n          27.768666,\n          64.521787\n        ],\n        \"semantic_type\": \"\",\n        \"description\": \"\"\n      }\n    },\n    {\n      \"column\": \"50%\",\n      \"properties\": {\n        \"dtype\": \"date\",\n        \"min\": 1.159039,\n        \"max\": 102.0,\n        \"num_unique_values\": 1143,\n        \"samples\": [\n          28.294045,\n          44.663917,\n          73.317269\n        ],\n        \"semantic_type\": \"\",\n        \"description\": \"\"\n      }\n    },\n    {\n      \"column\": \"75%\",\n      \"properties\": {\n        \"dtype\": \"date\",\n        \"min\": 1.878481,\n        \"max\": 114.0,\n        \"num_unique_values\": 1143,\n        \"samples\": [\n          38.394216,\n          61.402593,\n          81.039864\n        ],\n        \"semantic_type\": \"\",\n        \"description\": \"\"\n      }\n    },\n    {\n      \"column\": \"max\",\n      \"properties\": {\n        \"dtype\": \"date\",\n        \"min\": 10.048472,\n        \"max\": 531.806786,\n        \"num_unique_values\": 1088,\n        \"samples\": [\n          99.960203,\n          421.98265,\n          99.785282\n        ],\n        \"semantic_type\": \"\",\n        \"description\": \"\"\n      }\n    }\n  ]\n}"
            }
          },
          "metadata": {},
          "execution_count": 38
        }
      ]
    },
    {
      "cell_type": "code",
      "source": [
        "cat_cols=data.select_dtypes(include=['object']).columns\n",
        "num_cols = data.select_dtypes(include=np.number).columns.tolist()\n",
        "print(\"Categorical Variables:\")\n",
        "print(cat_cols)\n",
        "print(\"Numerical Variables:\")\n",
        "print(num_cols)\n"
      ],
      "metadata": {
        "execution": {
          "iopub.status.busy": "2024-09-03T23:46:56.569118Z",
          "iopub.status.idle": "2024-09-03T23:46:56.569753Z",
          "shell.execute_reply.started": "2024-09-03T23:46:56.569435Z",
          "shell.execute_reply": "2024-09-03T23:46:56.56946Z"
        },
        "trusted": true,
        "colab": {
          "base_uri": "https://localhost:8080/"
        },
        "id": "9JskWJRKj5P1",
        "outputId": "40d546a0-b2a6-485f-a3ae-999f8ec3158f"
      },
      "execution_count": 39,
      "outputs": [
        {
          "output_type": "stream",
          "name": "stdout",
          "text": [
            "Categorical Variables:\n",
            "Index(['sex', 'eeg.date', 'main.disorder', 'specific.disorder'], dtype='object')\n",
            "Numerical Variables:\n",
            "['age', 'education', 'IQ', 'AB.A.delta.a.FP1', 'AB.A.delta.b.FP2', 'AB.A.delta.c.F7', 'AB.A.delta.d.F3', 'AB.A.delta.e.Fz', 'AB.A.delta.f.F4', 'AB.A.delta.g.F8', 'AB.A.delta.h.T3', 'AB.A.delta.i.C3', 'AB.A.delta.j.Cz', 'AB.A.delta.k.C4', 'AB.A.delta.l.T4', 'AB.A.delta.m.T5', 'AB.A.delta.n.P3', 'AB.A.delta.o.Pz', 'AB.A.delta.p.P4', 'AB.A.delta.q.T6', 'AB.A.delta.r.O1', 'AB.A.delta.s.O2', 'AB.B.theta.a.FP1', 'AB.B.theta.b.FP2', 'AB.B.theta.c.F7', 'AB.B.theta.d.F3', 'AB.B.theta.e.Fz', 'AB.B.theta.f.F4', 'AB.B.theta.g.F8', 'AB.B.theta.h.T3', 'AB.B.theta.i.C3', 'AB.B.theta.j.Cz', 'AB.B.theta.k.C4', 'AB.B.theta.l.T4', 'AB.B.theta.m.T5', 'AB.B.theta.n.P3', 'AB.B.theta.o.Pz', 'AB.B.theta.p.P4', 'AB.B.theta.q.T6', 'AB.B.theta.r.O1', 'AB.B.theta.s.O2', 'AB.C.alpha.a.FP1', 'AB.C.alpha.b.FP2', 'AB.C.alpha.c.F7', 'AB.C.alpha.d.F3', 'AB.C.alpha.e.Fz', 'AB.C.alpha.f.F4', 'AB.C.alpha.g.F8', 'AB.C.alpha.h.T3', 'AB.C.alpha.i.C3', 'AB.C.alpha.j.Cz', 'AB.C.alpha.k.C4', 'AB.C.alpha.l.T4', 'AB.C.alpha.m.T5', 'AB.C.alpha.n.P3', 'AB.C.alpha.o.Pz', 'AB.C.alpha.p.P4', 'AB.C.alpha.q.T6', 'AB.C.alpha.r.O1', 'AB.C.alpha.s.O2', 'AB.D.beta.a.FP1', 'AB.D.beta.b.FP2', 'AB.D.beta.c.F7', 'AB.D.beta.d.F3', 'AB.D.beta.e.Fz', 'AB.D.beta.f.F4', 'AB.D.beta.g.F8', 'AB.D.beta.h.T3', 'AB.D.beta.i.C3', 'AB.D.beta.j.Cz', 'AB.D.beta.k.C4', 'AB.D.beta.l.T4', 'AB.D.beta.m.T5', 'AB.D.beta.n.P3', 'AB.D.beta.o.Pz', 'AB.D.beta.p.P4', 'AB.D.beta.q.T6', 'AB.D.beta.r.O1', 'AB.D.beta.s.O2', 'AB.E.highbeta.a.FP1', 'AB.E.highbeta.b.FP2', 'AB.E.highbeta.c.F7', 'AB.E.highbeta.d.F3', 'AB.E.highbeta.e.Fz', 'AB.E.highbeta.f.F4', 'AB.E.highbeta.g.F8', 'AB.E.highbeta.h.T3', 'AB.E.highbeta.i.C3', 'AB.E.highbeta.j.Cz', 'AB.E.highbeta.k.C4', 'AB.E.highbeta.l.T4', 'AB.E.highbeta.m.T5', 'AB.E.highbeta.n.P3', 'AB.E.highbeta.o.Pz', 'AB.E.highbeta.p.P4', 'AB.E.highbeta.q.T6', 'AB.E.highbeta.r.O1', 'AB.E.highbeta.s.O2', 'AB.F.gamma.a.FP1', 'AB.F.gamma.b.FP2', 'AB.F.gamma.c.F7', 'AB.F.gamma.d.F3', 'AB.F.gamma.e.Fz', 'AB.F.gamma.f.F4', 'AB.F.gamma.g.F8', 'AB.F.gamma.h.T3', 'AB.F.gamma.i.C3', 'AB.F.gamma.j.Cz', 'AB.F.gamma.k.C4', 'AB.F.gamma.l.T4', 'AB.F.gamma.m.T5', 'AB.F.gamma.n.P3', 'AB.F.gamma.o.Pz', 'AB.F.gamma.p.P4', 'AB.F.gamma.q.T6', 'AB.F.gamma.r.O1', 'AB.F.gamma.s.O2', 'Unnamed: 122', 'COH.A.delta.a.FP1.b.FP2', 'COH.A.delta.a.FP1.c.F7', 'COH.A.delta.a.FP1.d.F3', 'COH.A.delta.a.FP1.e.Fz', 'COH.A.delta.a.FP1.f.F4', 'COH.A.delta.a.FP1.g.F8', 'COH.A.delta.a.FP1.h.T3', 'COH.A.delta.a.FP1.i.C3', 'COH.A.delta.a.FP1.j.Cz', 'COH.A.delta.a.FP1.k.C4', 'COH.A.delta.a.FP1.l.T4', 'COH.A.delta.a.FP1.m.T5', 'COH.A.delta.a.FP1.n.P3', 'COH.A.delta.a.FP1.o.Pz', 'COH.A.delta.a.FP1.p.P4', 'COH.A.delta.a.FP1.q.T6', 'COH.A.delta.a.FP1.r.O1', 'COH.A.delta.a.FP1.s.O2', 'COH.A.delta.b.FP2.c.F7', 'COH.A.delta.b.FP2.d.F3', 'COH.A.delta.b.FP2.e.Fz', 'COH.A.delta.b.FP2.f.F4', 'COH.A.delta.b.FP2.g.F8', 'COH.A.delta.b.FP2.h.T3', 'COH.A.delta.b.FP2.i.C3', 'COH.A.delta.b.FP2.j.Cz', 'COH.A.delta.b.FP2.k.C4', 'COH.A.delta.b.FP2.l.T4', 'COH.A.delta.b.FP2.m.T5', 'COH.A.delta.b.FP2.n.P3', 'COH.A.delta.b.FP2.o.Pz', 'COH.A.delta.b.FP2.p.P4', 'COH.A.delta.b.FP2.q.T6', 'COH.A.delta.b.FP2.r.O1', 'COH.A.delta.b.FP2.s.O2', 'COH.A.delta.c.F7.d.F3', 'COH.A.delta.c.F7.e.Fz', 'COH.A.delta.c.F7.f.F4', 'COH.A.delta.c.F7.g.F8', 'COH.A.delta.c.F7.h.T3', 'COH.A.delta.c.F7.i.C3', 'COH.A.delta.c.F7.j.Cz', 'COH.A.delta.c.F7.k.C4', 'COH.A.delta.c.F7.l.T4', 'COH.A.delta.c.F7.m.T5', 'COH.A.delta.c.F7.n.P3', 'COH.A.delta.c.F7.o.Pz', 'COH.A.delta.c.F7.p.P4', 'COH.A.delta.c.F7.q.T6', 'COH.A.delta.c.F7.r.O1', 'COH.A.delta.c.F7.s.O2', 'COH.A.delta.d.F3.e.Fz', 'COH.A.delta.d.F3.f.F4', 'COH.A.delta.d.F3.g.F8', 'COH.A.delta.d.F3.h.T3', 'COH.A.delta.d.F3.i.C3', 'COH.A.delta.d.F3.j.Cz', 'COH.A.delta.d.F3.k.C4', 'COH.A.delta.d.F3.l.T4', 'COH.A.delta.d.F3.m.T5', 'COH.A.delta.d.F3.n.P3', 'COH.A.delta.d.F3.o.Pz', 'COH.A.delta.d.F3.p.P4', 'COH.A.delta.d.F3.q.T6', 'COH.A.delta.d.F3.r.O1', 'COH.A.delta.d.F3.s.O2', 'COH.A.delta.e.Fz.f.F4', 'COH.A.delta.e.Fz.g.F8', 'COH.A.delta.e.Fz.h.T3', 'COH.A.delta.e.Fz.i.C3', 'COH.A.delta.e.Fz.j.Cz', 'COH.A.delta.e.Fz.k.C4', 'COH.A.delta.e.Fz.l.T4', 'COH.A.delta.e.Fz.m.T5', 'COH.A.delta.e.Fz.n.P3', 'COH.A.delta.e.Fz.o.Pz', 'COH.A.delta.e.Fz.p.P4', 'COH.A.delta.e.Fz.q.T6', 'COH.A.delta.e.Fz.r.O1', 'COH.A.delta.e.Fz.s.O2', 'COH.A.delta.f.F4.g.F8', 'COH.A.delta.f.F4.h.T3', 'COH.A.delta.f.F4.i.C3', 'COH.A.delta.f.F4.j.Cz', 'COH.A.delta.f.F4.k.C4', 'COH.A.delta.f.F4.l.T4', 'COH.A.delta.f.F4.m.T5', 'COH.A.delta.f.F4.n.P3', 'COH.A.delta.f.F4.o.Pz', 'COH.A.delta.f.F4.p.P4', 'COH.A.delta.f.F4.q.T6', 'COH.A.delta.f.F4.r.O1', 'COH.A.delta.f.F4.s.O2', 'COH.A.delta.g.F8.h.T3', 'COH.A.delta.g.F8.i.C3', 'COH.A.delta.g.F8.j.Cz', 'COH.A.delta.g.F8.k.C4', 'COH.A.delta.g.F8.l.T4', 'COH.A.delta.g.F8.m.T5', 'COH.A.delta.g.F8.n.P3', 'COH.A.delta.g.F8.o.Pz', 'COH.A.delta.g.F8.p.P4', 'COH.A.delta.g.F8.q.T6', 'COH.A.delta.g.F8.r.O1', 'COH.A.delta.g.F8.s.O2', 'COH.A.delta.h.T3.i.C3', 'COH.A.delta.h.T3.j.Cz', 'COH.A.delta.h.T3.k.C4', 'COH.A.delta.h.T3.l.T4', 'COH.A.delta.h.T3.m.T5', 'COH.A.delta.h.T3.n.P3', 'COH.A.delta.h.T3.o.Pz', 'COH.A.delta.h.T3.p.P4', 'COH.A.delta.h.T3.q.T6', 'COH.A.delta.h.T3.r.O1', 'COH.A.delta.h.T3.s.O2', 'COH.A.delta.i.C3.j.Cz', 'COH.A.delta.i.C3.k.C4', 'COH.A.delta.i.C3.l.T4', 'COH.A.delta.i.C3.m.T5', 'COH.A.delta.i.C3.n.P3', 'COH.A.delta.i.C3.o.Pz', 'COH.A.delta.i.C3.p.P4', 'COH.A.delta.i.C3.q.T6', 'COH.A.delta.i.C3.r.O1', 'COH.A.delta.i.C3.s.O2', 'COH.A.delta.j.Cz.k.C4', 'COH.A.delta.j.Cz.l.T4', 'COH.A.delta.j.Cz.m.T5', 'COH.A.delta.j.Cz.n.P3', 'COH.A.delta.j.Cz.o.Pz', 'COH.A.delta.j.Cz.p.P4', 'COH.A.delta.j.Cz.q.T6', 'COH.A.delta.j.Cz.r.O1', 'COH.A.delta.j.Cz.s.O2', 'COH.A.delta.k.C4.l.T4', 'COH.A.delta.k.C4.m.T5', 'COH.A.delta.k.C4.n.P3', 'COH.A.delta.k.C4.o.Pz', 'COH.A.delta.k.C4.p.P4', 'COH.A.delta.k.C4.q.T6', 'COH.A.delta.k.C4.r.O1', 'COH.A.delta.k.C4.s.O2', 'COH.A.delta.l.T4.m.T5', 'COH.A.delta.l.T4.n.P3', 'COH.A.delta.l.T4.o.Pz', 'COH.A.delta.l.T4.p.P4', 'COH.A.delta.l.T4.q.T6', 'COH.A.delta.l.T4.r.O1', 'COH.A.delta.l.T4.s.O2', 'COH.A.delta.m.T5.n.P3', 'COH.A.delta.m.T5.o.Pz', 'COH.A.delta.m.T5.p.P4', 'COH.A.delta.m.T5.q.T6', 'COH.A.delta.m.T5.r.O1', 'COH.A.delta.m.T5.s.O2', 'COH.A.delta.n.P3.o.Pz', 'COH.A.delta.n.P3.p.P4', 'COH.A.delta.n.P3.q.T6', 'COH.A.delta.n.P3.r.O1', 'COH.A.delta.n.P3.s.O2', 'COH.A.delta.o.Pz.p.P4', 'COH.A.delta.o.Pz.q.T6', 'COH.A.delta.o.Pz.r.O1', 'COH.A.delta.o.Pz.s.O2', 'COH.A.delta.p.P4.q.T6', 'COH.A.delta.p.P4.r.O1', 'COH.A.delta.p.P4.s.O2', 'COH.A.delta.q.T6.r.O1', 'COH.A.delta.q.T6.s.O2', 'COH.A.delta.r.O1.s.O2', 'COH.B.theta.a.FP1.b.FP2', 'COH.B.theta.a.FP1.c.F7', 'COH.B.theta.a.FP1.d.F3', 'COH.B.theta.a.FP1.e.Fz', 'COH.B.theta.a.FP1.f.F4', 'COH.B.theta.a.FP1.g.F8', 'COH.B.theta.a.FP1.h.T3', 'COH.B.theta.a.FP1.i.C3', 'COH.B.theta.a.FP1.j.Cz', 'COH.B.theta.a.FP1.k.C4', 'COH.B.theta.a.FP1.l.T4', 'COH.B.theta.a.FP1.m.T5', 'COH.B.theta.a.FP1.n.P3', 'COH.B.theta.a.FP1.o.Pz', 'COH.B.theta.a.FP1.p.P4', 'COH.B.theta.a.FP1.q.T6', 'COH.B.theta.a.FP1.r.O1', 'COH.B.theta.a.FP1.s.O2', 'COH.B.theta.b.FP2.c.F7', 'COH.B.theta.b.FP2.d.F3', 'COH.B.theta.b.FP2.e.Fz', 'COH.B.theta.b.FP2.f.F4', 'COH.B.theta.b.FP2.g.F8', 'COH.B.theta.b.FP2.h.T3', 'COH.B.theta.b.FP2.i.C3', 'COH.B.theta.b.FP2.j.Cz', 'COH.B.theta.b.FP2.k.C4', 'COH.B.theta.b.FP2.l.T4', 'COH.B.theta.b.FP2.m.T5', 'COH.B.theta.b.FP2.n.P3', 'COH.B.theta.b.FP2.o.Pz', 'COH.B.theta.b.FP2.p.P4', 'COH.B.theta.b.FP2.q.T6', 'COH.B.theta.b.FP2.r.O1', 'COH.B.theta.b.FP2.s.O2', 'COH.B.theta.c.F7.d.F3', 'COH.B.theta.c.F7.e.Fz', 'COH.B.theta.c.F7.f.F4', 'COH.B.theta.c.F7.g.F8', 'COH.B.theta.c.F7.h.T3', 'COH.B.theta.c.F7.i.C3', 'COH.B.theta.c.F7.j.Cz', 'COH.B.theta.c.F7.k.C4', 'COH.B.theta.c.F7.l.T4', 'COH.B.theta.c.F7.m.T5', 'COH.B.theta.c.F7.n.P3', 'COH.B.theta.c.F7.o.Pz', 'COH.B.theta.c.F7.p.P4', 'COH.B.theta.c.F7.q.T6', 'COH.B.theta.c.F7.r.O1', 'COH.B.theta.c.F7.s.O2', 'COH.B.theta.d.F3.e.Fz', 'COH.B.theta.d.F3.f.F4', 'COH.B.theta.d.F3.g.F8', 'COH.B.theta.d.F3.h.T3', 'COH.B.theta.d.F3.i.C3', 'COH.B.theta.d.F3.j.Cz', 'COH.B.theta.d.F3.k.C4', 'COH.B.theta.d.F3.l.T4', 'COH.B.theta.d.F3.m.T5', 'COH.B.theta.d.F3.n.P3', 'COH.B.theta.d.F3.o.Pz', 'COH.B.theta.d.F3.p.P4', 'COH.B.theta.d.F3.q.T6', 'COH.B.theta.d.F3.r.O1', 'COH.B.theta.d.F3.s.O2', 'COH.B.theta.e.Fz.f.F4', 'COH.B.theta.e.Fz.g.F8', 'COH.B.theta.e.Fz.h.T3', 'COH.B.theta.e.Fz.i.C3', 'COH.B.theta.e.Fz.j.Cz', 'COH.B.theta.e.Fz.k.C4', 'COH.B.theta.e.Fz.l.T4', 'COH.B.theta.e.Fz.m.T5', 'COH.B.theta.e.Fz.n.P3', 'COH.B.theta.e.Fz.o.Pz', 'COH.B.theta.e.Fz.p.P4', 'COH.B.theta.e.Fz.q.T6', 'COH.B.theta.e.Fz.r.O1', 'COH.B.theta.e.Fz.s.O2', 'COH.B.theta.f.F4.g.F8', 'COH.B.theta.f.F4.h.T3', 'COH.B.theta.f.F4.i.C3', 'COH.B.theta.f.F4.j.Cz', 'COH.B.theta.f.F4.k.C4', 'COH.B.theta.f.F4.l.T4', 'COH.B.theta.f.F4.m.T5', 'COH.B.theta.f.F4.n.P3', 'COH.B.theta.f.F4.o.Pz', 'COH.B.theta.f.F4.p.P4', 'COH.B.theta.f.F4.q.T6', 'COH.B.theta.f.F4.r.O1', 'COH.B.theta.f.F4.s.O2', 'COH.B.theta.g.F8.h.T3', 'COH.B.theta.g.F8.i.C3', 'COH.B.theta.g.F8.j.Cz', 'COH.B.theta.g.F8.k.C4', 'COH.B.theta.g.F8.l.T4', 'COH.B.theta.g.F8.m.T5', 'COH.B.theta.g.F8.n.P3', 'COH.B.theta.g.F8.o.Pz', 'COH.B.theta.g.F8.p.P4', 'COH.B.theta.g.F8.q.T6', 'COH.B.theta.g.F8.r.O1', 'COH.B.theta.g.F8.s.O2', 'COH.B.theta.h.T3.i.C3', 'COH.B.theta.h.T3.j.Cz', 'COH.B.theta.h.T3.k.C4', 'COH.B.theta.h.T3.l.T4', 'COH.B.theta.h.T3.m.T5', 'COH.B.theta.h.T3.n.P3', 'COH.B.theta.h.T3.o.Pz', 'COH.B.theta.h.T3.p.P4', 'COH.B.theta.h.T3.q.T6', 'COH.B.theta.h.T3.r.O1', 'COH.B.theta.h.T3.s.O2', 'COH.B.theta.i.C3.j.Cz', 'COH.B.theta.i.C3.k.C4', 'COH.B.theta.i.C3.l.T4', 'COH.B.theta.i.C3.m.T5', 'COH.B.theta.i.C3.n.P3', 'COH.B.theta.i.C3.o.Pz', 'COH.B.theta.i.C3.p.P4', 'COH.B.theta.i.C3.q.T6', 'COH.B.theta.i.C3.r.O1', 'COH.B.theta.i.C3.s.O2', 'COH.B.theta.j.Cz.k.C4', 'COH.B.theta.j.Cz.l.T4', 'COH.B.theta.j.Cz.m.T5', 'COH.B.theta.j.Cz.n.P3', 'COH.B.theta.j.Cz.o.Pz', 'COH.B.theta.j.Cz.p.P4', 'COH.B.theta.j.Cz.q.T6', 'COH.B.theta.j.Cz.r.O1', 'COH.B.theta.j.Cz.s.O2', 'COH.B.theta.k.C4.l.T4', 'COH.B.theta.k.C4.m.T5', 'COH.B.theta.k.C4.n.P3', 'COH.B.theta.k.C4.o.Pz', 'COH.B.theta.k.C4.p.P4', 'COH.B.theta.k.C4.q.T6', 'COH.B.theta.k.C4.r.O1', 'COH.B.theta.k.C4.s.O2', 'COH.B.theta.l.T4.m.T5', 'COH.B.theta.l.T4.n.P3', 'COH.B.theta.l.T4.o.Pz', 'COH.B.theta.l.T4.p.P4', 'COH.B.theta.l.T4.q.T6', 'COH.B.theta.l.T4.r.O1', 'COH.B.theta.l.T4.s.O2', 'COH.B.theta.m.T5.n.P3', 'COH.B.theta.m.T5.o.Pz', 'COH.B.theta.m.T5.p.P4', 'COH.B.theta.m.T5.q.T6', 'COH.B.theta.m.T5.r.O1', 'COH.B.theta.m.T5.s.O2', 'COH.B.theta.n.P3.o.Pz', 'COH.B.theta.n.P3.p.P4', 'COH.B.theta.n.P3.q.T6', 'COH.B.theta.n.P3.r.O1', 'COH.B.theta.n.P3.s.O2', 'COH.B.theta.o.Pz.p.P4', 'COH.B.theta.o.Pz.q.T6', 'COH.B.theta.o.Pz.r.O1', 'COH.B.theta.o.Pz.s.O2', 'COH.B.theta.p.P4.q.T6', 'COH.B.theta.p.P4.r.O1', 'COH.B.theta.p.P4.s.O2', 'COH.B.theta.q.T6.r.O1', 'COH.B.theta.q.T6.s.O2', 'COH.B.theta.r.O1.s.O2', 'COH.C.alpha.a.FP1.b.FP2', 'COH.C.alpha.a.FP1.c.F7', 'COH.C.alpha.a.FP1.d.F3', 'COH.C.alpha.a.FP1.e.Fz', 'COH.C.alpha.a.FP1.f.F4', 'COH.C.alpha.a.FP1.g.F8', 'COH.C.alpha.a.FP1.h.T3', 'COH.C.alpha.a.FP1.i.C3', 'COH.C.alpha.a.FP1.j.Cz', 'COH.C.alpha.a.FP1.k.C4', 'COH.C.alpha.a.FP1.l.T4', 'COH.C.alpha.a.FP1.m.T5', 'COH.C.alpha.a.FP1.n.P3', 'COH.C.alpha.a.FP1.o.Pz', 'COH.C.alpha.a.FP1.p.P4', 'COH.C.alpha.a.FP1.q.T6', 'COH.C.alpha.a.FP1.r.O1', 'COH.C.alpha.a.FP1.s.O2', 'COH.C.alpha.b.FP2.c.F7', 'COH.C.alpha.b.FP2.d.F3', 'COH.C.alpha.b.FP2.e.Fz', 'COH.C.alpha.b.FP2.f.F4', 'COH.C.alpha.b.FP2.g.F8', 'COH.C.alpha.b.FP2.h.T3', 'COH.C.alpha.b.FP2.i.C3', 'COH.C.alpha.b.FP2.j.Cz', 'COH.C.alpha.b.FP2.k.C4', 'COH.C.alpha.b.FP2.l.T4', 'COH.C.alpha.b.FP2.m.T5', 'COH.C.alpha.b.FP2.n.P3', 'COH.C.alpha.b.FP2.o.Pz', 'COH.C.alpha.b.FP2.p.P4', 'COH.C.alpha.b.FP2.q.T6', 'COH.C.alpha.b.FP2.r.O1', 'COH.C.alpha.b.FP2.s.O2', 'COH.C.alpha.c.F7.d.F3', 'COH.C.alpha.c.F7.e.Fz', 'COH.C.alpha.c.F7.f.F4', 'COH.C.alpha.c.F7.g.F8', 'COH.C.alpha.c.F7.h.T3', 'COH.C.alpha.c.F7.i.C3', 'COH.C.alpha.c.F7.j.Cz', 'COH.C.alpha.c.F7.k.C4', 'COH.C.alpha.c.F7.l.T4', 'COH.C.alpha.c.F7.m.T5', 'COH.C.alpha.c.F7.n.P3', 'COH.C.alpha.c.F7.o.Pz', 'COH.C.alpha.c.F7.p.P4', 'COH.C.alpha.c.F7.q.T6', 'COH.C.alpha.c.F7.r.O1', 'COH.C.alpha.c.F7.s.O2', 'COH.C.alpha.d.F3.e.Fz', 'COH.C.alpha.d.F3.f.F4', 'COH.C.alpha.d.F3.g.F8', 'COH.C.alpha.d.F3.h.T3', 'COH.C.alpha.d.F3.i.C3', 'COH.C.alpha.d.F3.j.Cz', 'COH.C.alpha.d.F3.k.C4', 'COH.C.alpha.d.F3.l.T4', 'COH.C.alpha.d.F3.m.T5', 'COH.C.alpha.d.F3.n.P3', 'COH.C.alpha.d.F3.o.Pz', 'COH.C.alpha.d.F3.p.P4', 'COH.C.alpha.d.F3.q.T6', 'COH.C.alpha.d.F3.r.O1', 'COH.C.alpha.d.F3.s.O2', 'COH.C.alpha.e.Fz.f.F4', 'COH.C.alpha.e.Fz.g.F8', 'COH.C.alpha.e.Fz.h.T3', 'COH.C.alpha.e.Fz.i.C3', 'COH.C.alpha.e.Fz.j.Cz', 'COH.C.alpha.e.Fz.k.C4', 'COH.C.alpha.e.Fz.l.T4', 'COH.C.alpha.e.Fz.m.T5', 'COH.C.alpha.e.Fz.n.P3', 'COH.C.alpha.e.Fz.o.Pz', 'COH.C.alpha.e.Fz.p.P4', 'COH.C.alpha.e.Fz.q.T6', 'COH.C.alpha.e.Fz.r.O1', 'COH.C.alpha.e.Fz.s.O2', 'COH.C.alpha.f.F4.g.F8', 'COH.C.alpha.f.F4.h.T3', 'COH.C.alpha.f.F4.i.C3', 'COH.C.alpha.f.F4.j.Cz', 'COH.C.alpha.f.F4.k.C4', 'COH.C.alpha.f.F4.l.T4', 'COH.C.alpha.f.F4.m.T5', 'COH.C.alpha.f.F4.n.P3', 'COH.C.alpha.f.F4.o.Pz', 'COH.C.alpha.f.F4.p.P4', 'COH.C.alpha.f.F4.q.T6', 'COH.C.alpha.f.F4.r.O1', 'COH.C.alpha.f.F4.s.O2', 'COH.C.alpha.g.F8.h.T3', 'COH.C.alpha.g.F8.i.C3', 'COH.C.alpha.g.F8.j.Cz', 'COH.C.alpha.g.F8.k.C4', 'COH.C.alpha.g.F8.l.T4', 'COH.C.alpha.g.F8.m.T5', 'COH.C.alpha.g.F8.n.P3', 'COH.C.alpha.g.F8.o.Pz', 'COH.C.alpha.g.F8.p.P4', 'COH.C.alpha.g.F8.q.T6', 'COH.C.alpha.g.F8.r.O1', 'COH.C.alpha.g.F8.s.O2', 'COH.C.alpha.h.T3.i.C3', 'COH.C.alpha.h.T3.j.Cz', 'COH.C.alpha.h.T3.k.C4', 'COH.C.alpha.h.T3.l.T4', 'COH.C.alpha.h.T3.m.T5', 'COH.C.alpha.h.T3.n.P3', 'COH.C.alpha.h.T3.o.Pz', 'COH.C.alpha.h.T3.p.P4', 'COH.C.alpha.h.T3.q.T6', 'COH.C.alpha.h.T3.r.O1', 'COH.C.alpha.h.T3.s.O2', 'COH.C.alpha.i.C3.j.Cz', 'COH.C.alpha.i.C3.k.C4', 'COH.C.alpha.i.C3.l.T4', 'COH.C.alpha.i.C3.m.T5', 'COH.C.alpha.i.C3.n.P3', 'COH.C.alpha.i.C3.o.Pz', 'COH.C.alpha.i.C3.p.P4', 'COH.C.alpha.i.C3.q.T6', 'COH.C.alpha.i.C3.r.O1', 'COH.C.alpha.i.C3.s.O2', 'COH.C.alpha.j.Cz.k.C4', 'COH.C.alpha.j.Cz.l.T4', 'COH.C.alpha.j.Cz.m.T5', 'COH.C.alpha.j.Cz.n.P3', 'COH.C.alpha.j.Cz.o.Pz', 'COH.C.alpha.j.Cz.p.P4', 'COH.C.alpha.j.Cz.q.T6', 'COH.C.alpha.j.Cz.r.O1', 'COH.C.alpha.j.Cz.s.O2', 'COH.C.alpha.k.C4.l.T4', 'COH.C.alpha.k.C4.m.T5', 'COH.C.alpha.k.C4.n.P3', 'COH.C.alpha.k.C4.o.Pz', 'COH.C.alpha.k.C4.p.P4', 'COH.C.alpha.k.C4.q.T6', 'COH.C.alpha.k.C4.r.O1', 'COH.C.alpha.k.C4.s.O2', 'COH.C.alpha.l.T4.m.T5', 'COH.C.alpha.l.T4.n.P3', 'COH.C.alpha.l.T4.o.Pz', 'COH.C.alpha.l.T4.p.P4', 'COH.C.alpha.l.T4.q.T6', 'COH.C.alpha.l.T4.r.O1', 'COH.C.alpha.l.T4.s.O2', 'COH.C.alpha.m.T5.n.P3', 'COH.C.alpha.m.T5.o.Pz', 'COH.C.alpha.m.T5.p.P4', 'COH.C.alpha.m.T5.q.T6', 'COH.C.alpha.m.T5.r.O1', 'COH.C.alpha.m.T5.s.O2', 'COH.C.alpha.n.P3.o.Pz', 'COH.C.alpha.n.P3.p.P4', 'COH.C.alpha.n.P3.q.T6', 'COH.C.alpha.n.P3.r.O1', 'COH.C.alpha.n.P3.s.O2', 'COH.C.alpha.o.Pz.p.P4', 'COH.C.alpha.o.Pz.q.T6', 'COH.C.alpha.o.Pz.r.O1', 'COH.C.alpha.o.Pz.s.O2', 'COH.C.alpha.p.P4.q.T6', 'COH.C.alpha.p.P4.r.O1', 'COH.C.alpha.p.P4.s.O2', 'COH.C.alpha.q.T6.r.O1', 'COH.C.alpha.q.T6.s.O2', 'COH.C.alpha.r.O1.s.O2', 'COH.D.beta.a.FP1.b.FP2', 'COH.D.beta.a.FP1.c.F7', 'COH.D.beta.a.FP1.d.F3', 'COH.D.beta.a.FP1.e.Fz', 'COH.D.beta.a.FP1.f.F4', 'COH.D.beta.a.FP1.g.F8', 'COH.D.beta.a.FP1.h.T3', 'COH.D.beta.a.FP1.i.C3', 'COH.D.beta.a.FP1.j.Cz', 'COH.D.beta.a.FP1.k.C4', 'COH.D.beta.a.FP1.l.T4', 'COH.D.beta.a.FP1.m.T5', 'COH.D.beta.a.FP1.n.P3', 'COH.D.beta.a.FP1.o.Pz', 'COH.D.beta.a.FP1.p.P4', 'COH.D.beta.a.FP1.q.T6', 'COH.D.beta.a.FP1.r.O1', 'COH.D.beta.a.FP1.s.O2', 'COH.D.beta.b.FP2.c.F7', 'COH.D.beta.b.FP2.d.F3', 'COH.D.beta.b.FP2.e.Fz', 'COH.D.beta.b.FP2.f.F4', 'COH.D.beta.b.FP2.g.F8', 'COH.D.beta.b.FP2.h.T3', 'COH.D.beta.b.FP2.i.C3', 'COH.D.beta.b.FP2.j.Cz', 'COH.D.beta.b.FP2.k.C4', 'COH.D.beta.b.FP2.l.T4', 'COH.D.beta.b.FP2.m.T5', 'COH.D.beta.b.FP2.n.P3', 'COH.D.beta.b.FP2.o.Pz', 'COH.D.beta.b.FP2.p.P4', 'COH.D.beta.b.FP2.q.T6', 'COH.D.beta.b.FP2.r.O1', 'COH.D.beta.b.FP2.s.O2', 'COH.D.beta.c.F7.d.F3', 'COH.D.beta.c.F7.e.Fz', 'COH.D.beta.c.F7.f.F4', 'COH.D.beta.c.F7.g.F8', 'COH.D.beta.c.F7.h.T3', 'COH.D.beta.c.F7.i.C3', 'COH.D.beta.c.F7.j.Cz', 'COH.D.beta.c.F7.k.C4', 'COH.D.beta.c.F7.l.T4', 'COH.D.beta.c.F7.m.T5', 'COH.D.beta.c.F7.n.P3', 'COH.D.beta.c.F7.o.Pz', 'COH.D.beta.c.F7.p.P4', 'COH.D.beta.c.F7.q.T6', 'COH.D.beta.c.F7.r.O1', 'COH.D.beta.c.F7.s.O2', 'COH.D.beta.d.F3.e.Fz', 'COH.D.beta.d.F3.f.F4', 'COH.D.beta.d.F3.g.F8', 'COH.D.beta.d.F3.h.T3', 'COH.D.beta.d.F3.i.C3', 'COH.D.beta.d.F3.j.Cz', 'COH.D.beta.d.F3.k.C4', 'COH.D.beta.d.F3.l.T4', 'COH.D.beta.d.F3.m.T5', 'COH.D.beta.d.F3.n.P3', 'COH.D.beta.d.F3.o.Pz', 'COH.D.beta.d.F3.p.P4', 'COH.D.beta.d.F3.q.T6', 'COH.D.beta.d.F3.r.O1', 'COH.D.beta.d.F3.s.O2', 'COH.D.beta.e.Fz.f.F4', 'COH.D.beta.e.Fz.g.F8', 'COH.D.beta.e.Fz.h.T3', 'COH.D.beta.e.Fz.i.C3', 'COH.D.beta.e.Fz.j.Cz', 'COH.D.beta.e.Fz.k.C4', 'COH.D.beta.e.Fz.l.T4', 'COH.D.beta.e.Fz.m.T5', 'COH.D.beta.e.Fz.n.P3', 'COH.D.beta.e.Fz.o.Pz', 'COH.D.beta.e.Fz.p.P4', 'COH.D.beta.e.Fz.q.T6', 'COH.D.beta.e.Fz.r.O1', 'COH.D.beta.e.Fz.s.O2', 'COH.D.beta.f.F4.g.F8', 'COH.D.beta.f.F4.h.T3', 'COH.D.beta.f.F4.i.C3', 'COH.D.beta.f.F4.j.Cz', 'COH.D.beta.f.F4.k.C4', 'COH.D.beta.f.F4.l.T4', 'COH.D.beta.f.F4.m.T5', 'COH.D.beta.f.F4.n.P3', 'COH.D.beta.f.F4.o.Pz', 'COH.D.beta.f.F4.p.P4', 'COH.D.beta.f.F4.q.T6', 'COH.D.beta.f.F4.r.O1', 'COH.D.beta.f.F4.s.O2', 'COH.D.beta.g.F8.h.T3', 'COH.D.beta.g.F8.i.C3', 'COH.D.beta.g.F8.j.Cz', 'COH.D.beta.g.F8.k.C4', 'COH.D.beta.g.F8.l.T4', 'COH.D.beta.g.F8.m.T5', 'COH.D.beta.g.F8.n.P3', 'COH.D.beta.g.F8.o.Pz', 'COH.D.beta.g.F8.p.P4', 'COH.D.beta.g.F8.q.T6', 'COH.D.beta.g.F8.r.O1', 'COH.D.beta.g.F8.s.O2', 'COH.D.beta.h.T3.i.C3', 'COH.D.beta.h.T3.j.Cz', 'COH.D.beta.h.T3.k.C4', 'COH.D.beta.h.T3.l.T4', 'COH.D.beta.h.T3.m.T5', 'COH.D.beta.h.T3.n.P3', 'COH.D.beta.h.T3.o.Pz', 'COH.D.beta.h.T3.p.P4', 'COH.D.beta.h.T3.q.T6', 'COH.D.beta.h.T3.r.O1', 'COH.D.beta.h.T3.s.O2', 'COH.D.beta.i.C3.j.Cz', 'COH.D.beta.i.C3.k.C4', 'COH.D.beta.i.C3.l.T4', 'COH.D.beta.i.C3.m.T5', 'COH.D.beta.i.C3.n.P3', 'COH.D.beta.i.C3.o.Pz', 'COH.D.beta.i.C3.p.P4', 'COH.D.beta.i.C3.q.T6', 'COH.D.beta.i.C3.r.O1', 'COH.D.beta.i.C3.s.O2', 'COH.D.beta.j.Cz.k.C4', 'COH.D.beta.j.Cz.l.T4', 'COH.D.beta.j.Cz.m.T5', 'COH.D.beta.j.Cz.n.P3', 'COH.D.beta.j.Cz.o.Pz', 'COH.D.beta.j.Cz.p.P4', 'COH.D.beta.j.Cz.q.T6', 'COH.D.beta.j.Cz.r.O1', 'COH.D.beta.j.Cz.s.O2', 'COH.D.beta.k.C4.l.T4', 'COH.D.beta.k.C4.m.T5', 'COH.D.beta.k.C4.n.P3', 'COH.D.beta.k.C4.o.Pz', 'COH.D.beta.k.C4.p.P4', 'COH.D.beta.k.C4.q.T6', 'COH.D.beta.k.C4.r.O1', 'COH.D.beta.k.C4.s.O2', 'COH.D.beta.l.T4.m.T5', 'COH.D.beta.l.T4.n.P3', 'COH.D.beta.l.T4.o.Pz', 'COH.D.beta.l.T4.p.P4', 'COH.D.beta.l.T4.q.T6', 'COH.D.beta.l.T4.r.O1', 'COH.D.beta.l.T4.s.O2', 'COH.D.beta.m.T5.n.P3', 'COH.D.beta.m.T5.o.Pz', 'COH.D.beta.m.T5.p.P4', 'COH.D.beta.m.T5.q.T6', 'COH.D.beta.m.T5.r.O1', 'COH.D.beta.m.T5.s.O2', 'COH.D.beta.n.P3.o.Pz', 'COH.D.beta.n.P3.p.P4', 'COH.D.beta.n.P3.q.T6', 'COH.D.beta.n.P3.r.O1', 'COH.D.beta.n.P3.s.O2', 'COH.D.beta.o.Pz.p.P4', 'COH.D.beta.o.Pz.q.T6', 'COH.D.beta.o.Pz.r.O1', 'COH.D.beta.o.Pz.s.O2', 'COH.D.beta.p.P4.q.T6', 'COH.D.beta.p.P4.r.O1', 'COH.D.beta.p.P4.s.O2', 'COH.D.beta.q.T6.r.O1', 'COH.D.beta.q.T6.s.O2', 'COH.D.beta.r.O1.s.O2', 'COH.E.highbeta.a.FP1.b.FP2', 'COH.E.highbeta.a.FP1.c.F7', 'COH.E.highbeta.a.FP1.d.F3', 'COH.E.highbeta.a.FP1.e.Fz', 'COH.E.highbeta.a.FP1.f.F4', 'COH.E.highbeta.a.FP1.g.F8', 'COH.E.highbeta.a.FP1.h.T3', 'COH.E.highbeta.a.FP1.i.C3', 'COH.E.highbeta.a.FP1.j.Cz', 'COH.E.highbeta.a.FP1.k.C4', 'COH.E.highbeta.a.FP1.l.T4', 'COH.E.highbeta.a.FP1.m.T5', 'COH.E.highbeta.a.FP1.n.P3', 'COH.E.highbeta.a.FP1.o.Pz', 'COH.E.highbeta.a.FP1.p.P4', 'COH.E.highbeta.a.FP1.q.T6', 'COH.E.highbeta.a.FP1.r.O1', 'COH.E.highbeta.a.FP1.s.O2', 'COH.E.highbeta.b.FP2.c.F7', 'COH.E.highbeta.b.FP2.d.F3', 'COH.E.highbeta.b.FP2.e.Fz', 'COH.E.highbeta.b.FP2.f.F4', 'COH.E.highbeta.b.FP2.g.F8', 'COH.E.highbeta.b.FP2.h.T3', 'COH.E.highbeta.b.FP2.i.C3', 'COH.E.highbeta.b.FP2.j.Cz', 'COH.E.highbeta.b.FP2.k.C4', 'COH.E.highbeta.b.FP2.l.T4', 'COH.E.highbeta.b.FP2.m.T5', 'COH.E.highbeta.b.FP2.n.P3', 'COH.E.highbeta.b.FP2.o.Pz', 'COH.E.highbeta.b.FP2.p.P4', 'COH.E.highbeta.b.FP2.q.T6', 'COH.E.highbeta.b.FP2.r.O1', 'COH.E.highbeta.b.FP2.s.O2', 'COH.E.highbeta.c.F7.d.F3', 'COH.E.highbeta.c.F7.e.Fz', 'COH.E.highbeta.c.F7.f.F4', 'COH.E.highbeta.c.F7.g.F8', 'COH.E.highbeta.c.F7.h.T3', 'COH.E.highbeta.c.F7.i.C3', 'COH.E.highbeta.c.F7.j.Cz', 'COH.E.highbeta.c.F7.k.C4', 'COH.E.highbeta.c.F7.l.T4', 'COH.E.highbeta.c.F7.m.T5', 'COH.E.highbeta.c.F7.n.P3', 'COH.E.highbeta.c.F7.o.Pz', 'COH.E.highbeta.c.F7.p.P4', 'COH.E.highbeta.c.F7.q.T6', 'COH.E.highbeta.c.F7.r.O1', 'COH.E.highbeta.c.F7.s.O2', 'COH.E.highbeta.d.F3.e.Fz', 'COH.E.highbeta.d.F3.f.F4', 'COH.E.highbeta.d.F3.g.F8', 'COH.E.highbeta.d.F3.h.T3', 'COH.E.highbeta.d.F3.i.C3', 'COH.E.highbeta.d.F3.j.Cz', 'COH.E.highbeta.d.F3.k.C4', 'COH.E.highbeta.d.F3.l.T4', 'COH.E.highbeta.d.F3.m.T5', 'COH.E.highbeta.d.F3.n.P3', 'COH.E.highbeta.d.F3.o.Pz', 'COH.E.highbeta.d.F3.p.P4', 'COH.E.highbeta.d.F3.q.T6', 'COH.E.highbeta.d.F3.r.O1', 'COH.E.highbeta.d.F3.s.O2', 'COH.E.highbeta.e.Fz.f.F4', 'COH.E.highbeta.e.Fz.g.F8', 'COH.E.highbeta.e.Fz.h.T3', 'COH.E.highbeta.e.Fz.i.C3', 'COH.E.highbeta.e.Fz.j.Cz', 'COH.E.highbeta.e.Fz.k.C4', 'COH.E.highbeta.e.Fz.l.T4', 'COH.E.highbeta.e.Fz.m.T5', 'COH.E.highbeta.e.Fz.n.P3', 'COH.E.highbeta.e.Fz.o.Pz', 'COH.E.highbeta.e.Fz.p.P4', 'COH.E.highbeta.e.Fz.q.T6', 'COH.E.highbeta.e.Fz.r.O1', 'COH.E.highbeta.e.Fz.s.O2', 'COH.E.highbeta.f.F4.g.F8', 'COH.E.highbeta.f.F4.h.T3', 'COH.E.highbeta.f.F4.i.C3', 'COH.E.highbeta.f.F4.j.Cz', 'COH.E.highbeta.f.F4.k.C4', 'COH.E.highbeta.f.F4.l.T4', 'COH.E.highbeta.f.F4.m.T5', 'COH.E.highbeta.f.F4.n.P3', 'COH.E.highbeta.f.F4.o.Pz', 'COH.E.highbeta.f.F4.p.P4', 'COH.E.highbeta.f.F4.q.T6', 'COH.E.highbeta.f.F4.r.O1', 'COH.E.highbeta.f.F4.s.O2', 'COH.E.highbeta.g.F8.h.T3', 'COH.E.highbeta.g.F8.i.C3', 'COH.E.highbeta.g.F8.j.Cz', 'COH.E.highbeta.g.F8.k.C4', 'COH.E.highbeta.g.F8.l.T4', 'COH.E.highbeta.g.F8.m.T5', 'COH.E.highbeta.g.F8.n.P3', 'COH.E.highbeta.g.F8.o.Pz', 'COH.E.highbeta.g.F8.p.P4', 'COH.E.highbeta.g.F8.q.T6', 'COH.E.highbeta.g.F8.r.O1', 'COH.E.highbeta.g.F8.s.O2', 'COH.E.highbeta.h.T3.i.C3', 'COH.E.highbeta.h.T3.j.Cz', 'COH.E.highbeta.h.T3.k.C4', 'COH.E.highbeta.h.T3.l.T4', 'COH.E.highbeta.h.T3.m.T5', 'COH.E.highbeta.h.T3.n.P3', 'COH.E.highbeta.h.T3.o.Pz', 'COH.E.highbeta.h.T3.p.P4', 'COH.E.highbeta.h.T3.q.T6', 'COH.E.highbeta.h.T3.r.O1', 'COH.E.highbeta.h.T3.s.O2', 'COH.E.highbeta.i.C3.j.Cz', 'COH.E.highbeta.i.C3.k.C4', 'COH.E.highbeta.i.C3.l.T4', 'COH.E.highbeta.i.C3.m.T5', 'COH.E.highbeta.i.C3.n.P3', 'COH.E.highbeta.i.C3.o.Pz', 'COH.E.highbeta.i.C3.p.P4', 'COH.E.highbeta.i.C3.q.T6', 'COH.E.highbeta.i.C3.r.O1', 'COH.E.highbeta.i.C3.s.O2', 'COH.E.highbeta.j.Cz.k.C4', 'COH.E.highbeta.j.Cz.l.T4', 'COH.E.highbeta.j.Cz.m.T5', 'COH.E.highbeta.j.Cz.n.P3', 'COH.E.highbeta.j.Cz.o.Pz', 'COH.E.highbeta.j.Cz.p.P4', 'COH.E.highbeta.j.Cz.q.T6', 'COH.E.highbeta.j.Cz.r.O1', 'COH.E.highbeta.j.Cz.s.O2', 'COH.E.highbeta.k.C4.l.T4', 'COH.E.highbeta.k.C4.m.T5', 'COH.E.highbeta.k.C4.n.P3', 'COH.E.highbeta.k.C4.o.Pz', 'COH.E.highbeta.k.C4.p.P4', 'COH.E.highbeta.k.C4.q.T6', 'COH.E.highbeta.k.C4.r.O1', 'COH.E.highbeta.k.C4.s.O2', 'COH.E.highbeta.l.T4.m.T5', 'COH.E.highbeta.l.T4.n.P3', 'COH.E.highbeta.l.T4.o.Pz', 'COH.E.highbeta.l.T4.p.P4', 'COH.E.highbeta.l.T4.q.T6', 'COH.E.highbeta.l.T4.r.O1', 'COH.E.highbeta.l.T4.s.O2', 'COH.E.highbeta.m.T5.n.P3', 'COH.E.highbeta.m.T5.o.Pz', 'COH.E.highbeta.m.T5.p.P4', 'COH.E.highbeta.m.T5.q.T6', 'COH.E.highbeta.m.T5.r.O1', 'COH.E.highbeta.m.T5.s.O2', 'COH.E.highbeta.n.P3.o.Pz', 'COH.E.highbeta.n.P3.p.P4', 'COH.E.highbeta.n.P3.q.T6', 'COH.E.highbeta.n.P3.r.O1', 'COH.E.highbeta.n.P3.s.O2', 'COH.E.highbeta.o.Pz.p.P4', 'COH.E.highbeta.o.Pz.q.T6', 'COH.E.highbeta.o.Pz.r.O1', 'COH.E.highbeta.o.Pz.s.O2', 'COH.E.highbeta.p.P4.q.T6', 'COH.E.highbeta.p.P4.r.O1', 'COH.E.highbeta.p.P4.s.O2', 'COH.E.highbeta.q.T6.r.O1', 'COH.E.highbeta.q.T6.s.O2', 'COH.E.highbeta.r.O1.s.O2', 'COH.F.gamma.a.FP1.b.FP2', 'COH.F.gamma.a.FP1.c.F7', 'COH.F.gamma.a.FP1.d.F3', 'COH.F.gamma.a.FP1.e.Fz', 'COH.F.gamma.a.FP1.f.F4', 'COH.F.gamma.a.FP1.g.F8', 'COH.F.gamma.a.FP1.h.T3', 'COH.F.gamma.a.FP1.i.C3', 'COH.F.gamma.a.FP1.j.Cz', 'COH.F.gamma.a.FP1.k.C4', 'COH.F.gamma.a.FP1.l.T4', 'COH.F.gamma.a.FP1.m.T5', 'COH.F.gamma.a.FP1.n.P3', 'COH.F.gamma.a.FP1.o.Pz', 'COH.F.gamma.a.FP1.p.P4', 'COH.F.gamma.a.FP1.q.T6', 'COH.F.gamma.a.FP1.r.O1', 'COH.F.gamma.a.FP1.s.O2', 'COH.F.gamma.b.FP2.c.F7', 'COH.F.gamma.b.FP2.d.F3', 'COH.F.gamma.b.FP2.e.Fz', 'COH.F.gamma.b.FP2.f.F4', 'COH.F.gamma.b.FP2.g.F8', 'COH.F.gamma.b.FP2.h.T3', 'COH.F.gamma.b.FP2.i.C3', 'COH.F.gamma.b.FP2.j.Cz', 'COH.F.gamma.b.FP2.k.C4', 'COH.F.gamma.b.FP2.l.T4', 'COH.F.gamma.b.FP2.m.T5', 'COH.F.gamma.b.FP2.n.P3', 'COH.F.gamma.b.FP2.o.Pz', 'COH.F.gamma.b.FP2.p.P4', 'COH.F.gamma.b.FP2.q.T6', 'COH.F.gamma.b.FP2.r.O1', 'COH.F.gamma.b.FP2.s.O2', 'COH.F.gamma.c.F7.d.F3', 'COH.F.gamma.c.F7.e.Fz', 'COH.F.gamma.c.F7.f.F4', 'COH.F.gamma.c.F7.g.F8', 'COH.F.gamma.c.F7.h.T3', 'COH.F.gamma.c.F7.i.C3', 'COH.F.gamma.c.F7.j.Cz', 'COH.F.gamma.c.F7.k.C4', 'COH.F.gamma.c.F7.l.T4', 'COH.F.gamma.c.F7.m.T5', 'COH.F.gamma.c.F7.n.P3', 'COH.F.gamma.c.F7.o.Pz', 'COH.F.gamma.c.F7.p.P4', 'COH.F.gamma.c.F7.q.T6', 'COH.F.gamma.c.F7.r.O1', 'COH.F.gamma.c.F7.s.O2', 'COH.F.gamma.d.F3.e.Fz', 'COH.F.gamma.d.F3.f.F4', 'COH.F.gamma.d.F3.g.F8', 'COH.F.gamma.d.F3.h.T3', 'COH.F.gamma.d.F3.i.C3', 'COH.F.gamma.d.F3.j.Cz', 'COH.F.gamma.d.F3.k.C4', 'COH.F.gamma.d.F3.l.T4', 'COH.F.gamma.d.F3.m.T5', 'COH.F.gamma.d.F3.n.P3', 'COH.F.gamma.d.F3.o.Pz', 'COH.F.gamma.d.F3.p.P4', 'COH.F.gamma.d.F3.q.T6', 'COH.F.gamma.d.F3.r.O1', 'COH.F.gamma.d.F3.s.O2', 'COH.F.gamma.e.Fz.f.F4', 'COH.F.gamma.e.Fz.g.F8', 'COH.F.gamma.e.Fz.h.T3', 'COH.F.gamma.e.Fz.i.C3', 'COH.F.gamma.e.Fz.j.Cz', 'COH.F.gamma.e.Fz.k.C4', 'COH.F.gamma.e.Fz.l.T4', 'COH.F.gamma.e.Fz.m.T5', 'COH.F.gamma.e.Fz.n.P3', 'COH.F.gamma.e.Fz.o.Pz', 'COH.F.gamma.e.Fz.p.P4', 'COH.F.gamma.e.Fz.q.T6', 'COH.F.gamma.e.Fz.r.O1', 'COH.F.gamma.e.Fz.s.O2', 'COH.F.gamma.f.F4.g.F8', 'COH.F.gamma.f.F4.h.T3', 'COH.F.gamma.f.F4.i.C3', 'COH.F.gamma.f.F4.j.Cz', 'COH.F.gamma.f.F4.k.C4', 'COH.F.gamma.f.F4.l.T4', 'COH.F.gamma.f.F4.m.T5', 'COH.F.gamma.f.F4.n.P3', 'COH.F.gamma.f.F4.o.Pz', 'COH.F.gamma.f.F4.p.P4', 'COH.F.gamma.f.F4.q.T6', 'COH.F.gamma.f.F4.r.O1', 'COH.F.gamma.f.F4.s.O2', 'COH.F.gamma.g.F8.h.T3', 'COH.F.gamma.g.F8.i.C3', 'COH.F.gamma.g.F8.j.Cz', 'COH.F.gamma.g.F8.k.C4', 'COH.F.gamma.g.F8.l.T4', 'COH.F.gamma.g.F8.m.T5', 'COH.F.gamma.g.F8.n.P3', 'COH.F.gamma.g.F8.o.Pz', 'COH.F.gamma.g.F8.p.P4', 'COH.F.gamma.g.F8.q.T6', 'COH.F.gamma.g.F8.r.O1', 'COH.F.gamma.g.F8.s.O2', 'COH.F.gamma.h.T3.i.C3', 'COH.F.gamma.h.T3.j.Cz', 'COH.F.gamma.h.T3.k.C4', 'COH.F.gamma.h.T3.l.T4', 'COH.F.gamma.h.T3.m.T5', 'COH.F.gamma.h.T3.n.P3', 'COH.F.gamma.h.T3.o.Pz', 'COH.F.gamma.h.T3.p.P4', 'COH.F.gamma.h.T3.q.T6', 'COH.F.gamma.h.T3.r.O1', 'COH.F.gamma.h.T3.s.O2', 'COH.F.gamma.i.C3.j.Cz', 'COH.F.gamma.i.C3.k.C4', 'COH.F.gamma.i.C3.l.T4', 'COH.F.gamma.i.C3.m.T5', 'COH.F.gamma.i.C3.n.P3', 'COH.F.gamma.i.C3.o.Pz', 'COH.F.gamma.i.C3.p.P4', 'COH.F.gamma.i.C3.q.T6', 'COH.F.gamma.i.C3.r.O1', 'COH.F.gamma.i.C3.s.O2', 'COH.F.gamma.j.Cz.k.C4', 'COH.F.gamma.j.Cz.l.T4', 'COH.F.gamma.j.Cz.m.T5', 'COH.F.gamma.j.Cz.n.P3', 'COH.F.gamma.j.Cz.o.Pz', 'COH.F.gamma.j.Cz.p.P4', 'COH.F.gamma.j.Cz.q.T6', 'COH.F.gamma.j.Cz.r.O1', 'COH.F.gamma.j.Cz.s.O2', 'COH.F.gamma.k.C4.l.T4', 'COH.F.gamma.k.C4.m.T5', 'COH.F.gamma.k.C4.n.P3', 'COH.F.gamma.k.C4.o.Pz', 'COH.F.gamma.k.C4.p.P4', 'COH.F.gamma.k.C4.q.T6', 'COH.F.gamma.k.C4.r.O1', 'COH.F.gamma.k.C4.s.O2', 'COH.F.gamma.l.T4.m.T5', 'COH.F.gamma.l.T4.n.P3', 'COH.F.gamma.l.T4.o.Pz', 'COH.F.gamma.l.T4.p.P4', 'COH.F.gamma.l.T4.q.T6', 'COH.F.gamma.l.T4.r.O1', 'COH.F.gamma.l.T4.s.O2', 'COH.F.gamma.m.T5.n.P3', 'COH.F.gamma.m.T5.o.Pz', 'COH.F.gamma.m.T5.p.P4', 'COH.F.gamma.m.T5.q.T6', 'COH.F.gamma.m.T5.r.O1', 'COH.F.gamma.m.T5.s.O2', 'COH.F.gamma.n.P3.o.Pz', 'COH.F.gamma.n.P3.p.P4', 'COH.F.gamma.n.P3.q.T6', 'COH.F.gamma.n.P3.r.O1', 'COH.F.gamma.n.P3.s.O2', 'COH.F.gamma.o.Pz.p.P4', 'COH.F.gamma.o.Pz.q.T6', 'COH.F.gamma.o.Pz.r.O1', 'COH.F.gamma.o.Pz.s.O2', 'COH.F.gamma.p.P4.q.T6', 'COH.F.gamma.p.P4.r.O1', 'COH.F.gamma.p.P4.s.O2', 'COH.F.gamma.q.T6.r.O1', 'COH.F.gamma.q.T6.s.O2', 'COH.F.gamma.r.O1.s.O2']\n"
          ]
        }
      ]
    },
    {
      "cell_type": "code",
      "source": [
        "import pandas as pd\n",
        "import numpy as np\n",
        "import matplotlib.pyplot as plt\n",
        "import seaborn as sns\n",
        "#to ignore warnings\n",
        "import warnings\n",
        "warnings.filterwarnings('ignore')"
      ],
      "metadata": {
        "execution": {
          "iopub.status.busy": "2024-09-03T23:46:56.574856Z",
          "iopub.status.idle": "2024-09-03T23:46:56.575607Z",
          "shell.execute_reply.started": "2024-09-03T23:46:56.575175Z",
          "shell.execute_reply": "2024-09-03T23:46:56.5752Z"
        },
        "trusted": true,
        "id": "OD9JqC-6j5P2"
      },
      "execution_count": 41,
      "outputs": []
    },
    {
      "cell_type": "code",
      "source": [
        "for col in num_cols:\n",
        "    print(col)\n",
        "    print('Skew :', round(data[col].skew(), 2))\n",
        "    plt.figure(figsize = (15, 4))\n",
        "    plt.subplot(1, 2, 1)\n",
        "    data[col].hist(grid=False)\n",
        "    plt.ylabel('count')\n",
        "    plt.subplot(1, 2, 2)\n",
        "    sns.boxplot(x=data[col])\n",
        "    plt.show()"
      ],
      "metadata": {
        "colab": {
          "base_uri": "https://localhost:8080/",
          "height": 1000
        },
        "id": "8yav1Qiuj5P3",
        "outputId": "ef853595-2fa9-4fcc-c660-eb67805c7a88"
      },
      "execution_count": 52,
      "outputs": [
        {
          "output_type": "stream",
          "name": "stdout",
          "text": [
            "age\n",
            "Skew : 1.27\n"
          ]
        },
        {
          "output_type": "display_data",
          "data": {
            "text/plain": [
              "<Figure size 1500x400 with 2 Axes>"
            ],
            "image/png": "[encoded data removed]"
          },
          "metadata": {}
        },
        {
          "output_type": "stream",
          "name": "stdout",
          "text": [
            "education\n",
            "Skew : -1.04\n"
          ]
        },
        {
          "output_type": "display_data",
          "data": {
            "text/plain": [
              "<Figure size 1500x400 with 2 Axes>"
            ],
            "image/png": "[encoded data removed]"
          },
          "metadata": {}
        },
        {
          "output_type": "stream",
          "name": "stdout",
          "text": [
            "IQ\n",
            "Skew : -0.29\n"
          ]
        },
        {
          "output_type": "display_data",
          "data": {
            "text/plain": [
              "<Figure size 1500x400 with 2 Axes>"
            ],
            "image/png": "[encoded data removed]"
          },
          "metadata": {}
        },
        {
          "output_type": "stream",
          "name": "stdout",
          "text": [
            "AB.A.delta.a.FP1\n",
            "Skew : 1.88\n"
          ]
        },
        {
          "output_type": "display_data",
          "data": {
            "text/plain": [
              "<Figure size 1500x400 with 2 Axes>"
            ],
            "image/png": "[encoded data removed]"
          },
          "metadata": {}
        },
        {
          "output_type": "stream",
          "name": "stdout",
          "text": [
            "AB.A.delta.b.FP2\n",
            "Skew : 2.05\n"
          ]
        },
        {
          "output_type": "display_data",
          "data": {
            "text/plain": [
              "<Figure size 1500x400 with 2 Axes>"
            ],
            "image/png": "[encoded data removed]"
          },
          "metadata": {}
        },
        {
          "output_type": "stream",
          "name": "stdout",
          "text": [
            "AB.A.delta.c.F7\n",
            "Skew : 1.98\n"
          ]
        },
        {
          "output_type": "display_data",
          "data": {
            "text/plain": [
              "<Figure size 1500x400 with 2 Axes>"
            ],
            "image/png": "[encoded data removed]"
          },
          "metadata": {}
        },
        {
          "output_type": "stream",
          "name": "stdout",
          "text": [
            "AB.A.delta.d.F3\n",
            "Skew : 1.65\n"
          ]
        },
        {
          "output_type": "display_data",
          "data": {
            "text/plain": [
              "<Figure size 1500x400 with 2 Axes>"
            ],
            "image/png": "[encoded data removed]"
          },
          "metadata": {}
        },
        {
          "output_type": "stream",
          "name": "stdout",
          "text": [
            "AB.A.delta.e.Fz\n",
            "Skew : 1.69\n"
          ]
        },
        {
          "output_type": "error",
          "ename": "KeyboardInterrupt",
          "evalue": "",
          "traceback": [
            "\u001b[0;31m---------------------------------------------------------------------------\u001b[0m",
            "\u001b[0;31mAttributeError\u001b[0m                            Traceback (most recent call last)",
            "\u001b[0;32m/usr/local/lib/python3.10/dist-packages/PIL/ImageFile.py\u001b[0m in \u001b[0;36m_save\u001b[0;34m(im, fp, tile, bufsize)\u001b[0m\n\u001b[1;32m    517\u001b[0m     \u001b[0;32mtry\u001b[0m\u001b[0;34m:\u001b[0m\u001b[0;34m\u001b[0m\u001b[0;34m\u001b[0m\u001b[0m\n\u001b[0;32m--> 518\u001b[0;31m         \u001b[0mfh\u001b[0m \u001b[0;34m=\u001b[0m \u001b[0mfp\u001b[0m\u001b[0;34m.\u001b[0m\u001b[0mfileno\u001b[0m\u001b[0;34m(\u001b[0m\u001b[0;34m)\u001b[0m\u001b[0;34m\u001b[0m\u001b[0;34m\u001b[0m\u001b[0m\n\u001b[0m\u001b[1;32m    519\u001b[0m         \u001b[0mfp\u001b[0m\u001b[0;34m.\u001b[0m\u001b[0mflush\u001b[0m\u001b[0;34m(\u001b[0m\u001b[0;34m)\u001b[0m\u001b[0;34m\u001b[0m\u001b[0;34m\u001b[0m\u001b[0m\n",
            "\u001b[0;31mAttributeError\u001b[0m: '_idat' object has no attribute 'fileno'",
            "\nDuring handling of the above exception, another exception occurred:\n",
            "\u001b[0;31mKeyboardInterrupt\u001b[0m                         Traceback (most recent call last)",
            "\u001b[0;32m<ipython-input-52-c77fb6dac749>\u001b[0m in \u001b[0;36m<cell line: 1>\u001b[0;34m()\u001b[0m\n\u001b[1;32m      8\u001b[0m     \u001b[0mplt\u001b[0m\u001b[0;34m.\u001b[0m\u001b[0msubplot\u001b[0m\u001b[0;34m(\u001b[0m\u001b[0;36m1\u001b[0m\u001b[0;34m,\u001b[0m \u001b[0;36m2\u001b[0m\u001b[0;34m,\u001b[0m \u001b[0;36m2\u001b[0m\u001b[0;34m)\u001b[0m\u001b[0;34m\u001b[0m\u001b[0;34m\u001b[0m\u001b[0m\n\u001b[1;32m      9\u001b[0m     \u001b[0msns\u001b[0m\u001b[0;34m.\u001b[0m\u001b[0mboxplot\u001b[0m\u001b[0;34m(\u001b[0m\u001b[0mx\u001b[0m\u001b[0;34m=\u001b[0m\u001b[0mdata\u001b[0m\u001b[0;34m[\u001b[0m\u001b[0mcol\u001b[0m\u001b[0;34m]\u001b[0m\u001b[0;34m)\u001b[0m\u001b[0;34m\u001b[0m\u001b[0;34m\u001b[0m\u001b[0m\n\u001b[0;32m---> 10\u001b[0;31m     \u001b[0mplt\u001b[0m\u001b[0;34m.\u001b[0m\u001b[0mshow\u001b[0m\u001b[0;34m(\u001b[0m\u001b[0;34m)\u001b[0m\u001b[0;34m\u001b[0m\u001b[0;34m\u001b[0m\u001b[0m\n\u001b[0m",
            "\u001b[0;32m/usr/local/lib/python3.10/dist-packages/matplotlib/pyplot.py\u001b[0m in \u001b[0;36mshow\u001b[0;34m(*args, **kwargs)\u001b[0m\n\u001b[1;32m    444\u001b[0m     \"\"\"\n\u001b[1;32m    445\u001b[0m     \u001b[0m_warn_if_gui_out_of_main_thread\u001b[0m\u001b[0;34m(\u001b[0m\u001b[0;34m)\u001b[0m\u001b[0;34m\u001b[0m\u001b[0;34m\u001b[0m\u001b[0m\n\u001b[0;32m--> 446\u001b[0;31m     \u001b[0;32mreturn\u001b[0m \u001b[0m_get_backend_mod\u001b[0m\u001b[0;34m(\u001b[0m\u001b[0;34m)\u001b[0m\u001b[0;34m.\u001b[0m\u001b[0mshow\u001b[0m\u001b[0;34m(\u001b[0m\u001b[0;34m*\u001b[0m\u001b[0margs\u001b[0m\u001b[0;34m,\u001b[0m \u001b[0;34m**\u001b[0m\u001b[0mkwargs\u001b[0m\u001b[0;34m)\u001b[0m\u001b[0;34m\u001b[0m\u001b[0;34m\u001b[0m\u001b[0m\n\u001b[0m\u001b[1;32m    447\u001b[0m \u001b[0;34m\u001b[0m\u001b[0m\n\u001b[1;32m    448\u001b[0m \u001b[0;34m\u001b[0m\u001b[0m\n",
            "\u001b[0;32m/usr/local/lib/python3.10/dist-packages/matplotlib_inline/backend_inline.py\u001b[0m in \u001b[0;36mshow\u001b[0;34m(close, block)\u001b[0m\n\u001b[1;32m     88\u001b[0m     \u001b[0;32mtry\u001b[0m\u001b[0;34m:\u001b[0m\u001b[0;34m\u001b[0m\u001b[0;34m\u001b[0m\u001b[0m\n\u001b[1;32m     89\u001b[0m         \u001b[0;32mfor\u001b[0m \u001b[0mfigure_manager\u001b[0m \u001b[0;32min\u001b[0m \u001b[0mGcf\u001b[0m\u001b[0;34m.\u001b[0m\u001b[0mget_all_fig_managers\u001b[0m\u001b[0;34m(\u001b[0m\u001b[0;34m)\u001b[0m\u001b[0;34m:\u001b[0m\u001b[0;34m\u001b[0m\u001b[0;34m\u001b[0m\u001b[0m\n\u001b[0;32m---> 90\u001b[0;31m             display(\n\u001b[0m\u001b[1;32m     91\u001b[0m                 \u001b[0mfigure_manager\u001b[0m\u001b[0;34m.\u001b[0m\u001b[0mcanvas\u001b[0m\u001b[0;34m.\u001b[0m\u001b[0mfigure\u001b[0m\u001b[0;34m,\u001b[0m\u001b[0;34m\u001b[0m\u001b[0;34m\u001b[0m\u001b[0m\n\u001b[1;32m     92\u001b[0m                 \u001b[0mmetadata\u001b[0m\u001b[0;34m=\u001b[0m\u001b[0m_fetch_figure_metadata\u001b[0m\u001b[0;34m(\u001b[0m\u001b[0mfigure_manager\u001b[0m\u001b[0;34m.\u001b[0m\u001b[0mcanvas\u001b[0m\u001b[0;34m.\u001b[0m\u001b[0mfigure\u001b[0m\u001b[0;34m)\u001b[0m\u001b[0;34m\u001b[0m\u001b[0;34m\u001b[0m\u001b[0m\n",
            "\u001b[0;32m/usr/local/lib/python3.10/dist-packages/IPython/core/display.py\u001b[0m in \u001b[0;36mdisplay\u001b[0;34m(include, exclude, metadata, transient, display_id, *objs, **kwargs)\u001b[0m\n\u001b[1;32m    318\u001b[0m             \u001b[0mpublish_display_data\u001b[0m\u001b[0;34m(\u001b[0m\u001b[0mdata\u001b[0m\u001b[0;34m=\u001b[0m\u001b[0mobj\u001b[0m\u001b[0;34m,\u001b[0m \u001b[0mmetadata\u001b[0m\u001b[0;34m=\u001b[0m\u001b[0mmetadata\u001b[0m\u001b[0;34m,\u001b[0m \u001b[0;34m**\u001b[0m\u001b[0mkwargs\u001b[0m\u001b[0;34m)\u001b[0m\u001b[0;34m\u001b[0m\u001b[0;34m\u001b[0m\u001b[0m\n\u001b[1;32m    319\u001b[0m         \u001b[0;32melse\u001b[0m\u001b[0;34m:\u001b[0m\u001b[0;34m\u001b[0m\u001b[0;34m\u001b[0m\u001b[0m\n\u001b[0;32m--> 320\u001b[0;31m             \u001b[0mformat_dict\u001b[0m\u001b[0;34m,\u001b[0m \u001b[0mmd_dict\u001b[0m \u001b[0;34m=\u001b[0m \u001b[0mformat\u001b[0m\u001b[0;34m(\u001b[0m\u001b[0mobj\u001b[0m\u001b[0;34m,\u001b[0m \u001b[0minclude\u001b[0m\u001b[0;34m=\u001b[0m\u001b[0minclude\u001b[0m\u001b[0;34m,\u001b[0m \u001b[0mexclude\u001b[0m\u001b[0;34m=\u001b[0m\u001b[0mexclude\u001b[0m\u001b[0;34m)\u001b[0m\u001b[0;34m\u001b[0m\u001b[0;34m\u001b[0m\u001b[0m\n\u001b[0m\u001b[1;32m    321\u001b[0m             \u001b[0;32mif\u001b[0m \u001b[0;32mnot\u001b[0m \u001b[0mformat_dict\u001b[0m\u001b[0;34m:\u001b[0m\u001b[0;34m\u001b[0m\u001b[0;34m\u001b[0m\u001b[0m\n\u001b[1;32m    322\u001b[0m                 \u001b[0;31m# nothing to display (e.g. _ipython_display_ took over)\u001b[0m\u001b[0;34m\u001b[0m\u001b[0;34m\u001b[0m\u001b[0m\n",
            "\u001b[0;32m/usr/local/lib/python3.10/dist-packages/IPython/core/formatters.py\u001b[0m in \u001b[0;36mformat\u001b[0;34m(self, obj, include, exclude)\u001b[0m\n\u001b[1;32m    178\u001b[0m             \u001b[0mmd\u001b[0m \u001b[0;34m=\u001b[0m \u001b[0;32mNone\u001b[0m\u001b[0;34m\u001b[0m\u001b[0;34m\u001b[0m\u001b[0m\n\u001b[1;32m    179\u001b[0m             \u001b[0;32mtry\u001b[0m\u001b[0;34m:\u001b[0m\u001b[0;34m\u001b[0m\u001b[0;34m\u001b[0m\u001b[0m\n\u001b[0;32m--> 180\u001b[0;31m                 \u001b[0mdata\u001b[0m \u001b[0;34m=\u001b[0m \u001b[0mformatter\u001b[0m\u001b[0;34m(\u001b[0m\u001b[0mobj\u001b[0m\u001b[0;34m)\u001b[0m\u001b[0;34m\u001b[0m\u001b[0;34m\u001b[0m\u001b[0m\n\u001b[0m\u001b[1;32m    181\u001b[0m             \u001b[0;32mexcept\u001b[0m\u001b[0;34m:\u001b[0m\u001b[0;34m\u001b[0m\u001b[0;34m\u001b[0m\u001b[0m\n\u001b[1;32m    182\u001b[0m                 \u001b[0;31m# FIXME: log the exception\u001b[0m\u001b[0;34m\u001b[0m\u001b[0;34m\u001b[0m\u001b[0m\n",
            "\u001b[0;32m<decorator-gen-2>\u001b[0m in \u001b[0;36m__call__\u001b[0;34m(self, obj)\u001b[0m\n",
            "\u001b[0;32m/usr/local/lib/python3.10/dist-packages/IPython/core/formatters.py\u001b[0m in \u001b[0;36mcatch_format_error\u001b[0;34m(method, self, *args, **kwargs)\u001b[0m\n\u001b[1;32m    222\u001b[0m     \u001b[0;34m\"\"\"show traceback on failed format call\"\"\"\u001b[0m\u001b[0;34m\u001b[0m\u001b[0;34m\u001b[0m\u001b[0m\n\u001b[1;32m    223\u001b[0m     \u001b[0;32mtry\u001b[0m\u001b[0;34m:\u001b[0m\u001b[0;34m\u001b[0m\u001b[0;34m\u001b[0m\u001b[0m\n\u001b[0;32m--> 224\u001b[0;31m         \u001b[0mr\u001b[0m \u001b[0;34m=\u001b[0m \u001b[0mmethod\u001b[0m\u001b[0;34m(\u001b[0m\u001b[0mself\u001b[0m\u001b[0;34m,\u001b[0m \u001b[0;34m*\u001b[0m\u001b[0margs\u001b[0m\u001b[0;34m,\u001b[0m \u001b[0;34m**\u001b[0m\u001b[0mkwargs\u001b[0m\u001b[0;34m)\u001b[0m\u001b[0;34m\u001b[0m\u001b[0;34m\u001b[0m\u001b[0m\n\u001b[0m\u001b[1;32m    225\u001b[0m     \u001b[0;32mexcept\u001b[0m \u001b[0mNotImplementedError\u001b[0m\u001b[0;34m:\u001b[0m\u001b[0;34m\u001b[0m\u001b[0;34m\u001b[0m\u001b[0m\n\u001b[1;32m    226\u001b[0m         \u001b[0;31m# don't warn on NotImplementedErrors\u001b[0m\u001b[0;34m\u001b[0m\u001b[0;34m\u001b[0m\u001b[0m\n",
            "\u001b[0;32m/usr/local/lib/python3.10/dist-packages/IPython/core/formatters.py\u001b[0m in \u001b[0;36m__call__\u001b[0;34m(self, obj)\u001b[0m\n\u001b[1;32m    339\u001b[0m                 \u001b[0;32mpass\u001b[0m\u001b[0;34m\u001b[0m\u001b[0;34m\u001b[0m\u001b[0m\n\u001b[1;32m    340\u001b[0m             \u001b[0;32melse\u001b[0m\u001b[0;34m:\u001b[0m\u001b[0;34m\u001b[0m\u001b[0;34m\u001b[0m\u001b[0m\n\u001b[0;32m--> 341\u001b[0;31m                 \u001b[0;32mreturn\u001b[0m \u001b[0mprinter\u001b[0m\u001b[0;34m(\u001b[0m\u001b[0mobj\u001b[0m\u001b[0;34m)\u001b[0m\u001b[0;34m\u001b[0m\u001b[0;34m\u001b[0m\u001b[0m\n\u001b[0m\u001b[1;32m    342\u001b[0m             \u001b[0;31m# Finally look for special method names\u001b[0m\u001b[0;34m\u001b[0m\u001b[0;34m\u001b[0m\u001b[0m\n\u001b[1;32m    343\u001b[0m             \u001b[0mmethod\u001b[0m \u001b[0;34m=\u001b[0m \u001b[0mget_real_method\u001b[0m\u001b[0;34m(\u001b[0m\u001b[0mobj\u001b[0m\u001b[0;34m,\u001b[0m \u001b[0mself\u001b[0m\u001b[0;34m.\u001b[0m\u001b[0mprint_method\u001b[0m\u001b[0;34m)\u001b[0m\u001b[0;34m\u001b[0m\u001b[0;34m\u001b[0m\u001b[0m\n",
            "\u001b[0;32m/usr/local/lib/python3.10/dist-packages/IPython/core/pylabtools.py\u001b[0m in \u001b[0;36mprint_figure\u001b[0;34m(fig, fmt, bbox_inches, base64, **kwargs)\u001b[0m\n\u001b[1;32m    149\u001b[0m         \u001b[0mFigureCanvasBase\u001b[0m\u001b[0;34m(\u001b[0m\u001b[0mfig\u001b[0m\u001b[0;34m)\u001b[0m\u001b[0;34m\u001b[0m\u001b[0;34m\u001b[0m\u001b[0m\n\u001b[1;32m    150\u001b[0m \u001b[0;34m\u001b[0m\u001b[0m\n\u001b[0;32m--> 151\u001b[0;31m     \u001b[0mfig\u001b[0m\u001b[0;34m.\u001b[0m\u001b[0mcanvas\u001b[0m\u001b[0;34m.\u001b[0m\u001b[0mprint_figure\u001b[0m\u001b[0;34m(\u001b[0m\u001b[0mbytes_io\u001b[0m\u001b[0;34m,\u001b[0m \u001b[0;34m**\u001b[0m\u001b[0mkw\u001b[0m\u001b[0;34m)\u001b[0m\u001b[0;34m\u001b[0m\u001b[0;34m\u001b[0m\u001b[0m\n\u001b[0m\u001b[1;32m    152\u001b[0m     \u001b[0mdata\u001b[0m \u001b[0;34m=\u001b[0m \u001b[0mbytes_io\u001b[0m\u001b[0;34m.\u001b[0m\u001b[0mgetvalue\u001b[0m\u001b[0;34m(\u001b[0m\u001b[0;34m)\u001b[0m\u001b[0;34m\u001b[0m\u001b[0;34m\u001b[0m\u001b[0m\n\u001b[1;32m    153\u001b[0m     \u001b[0;32mif\u001b[0m \u001b[0mfmt\u001b[0m \u001b[0;34m==\u001b[0m \u001b[0;34m'svg'\u001b[0m\u001b[0;34m:\u001b[0m\u001b[0;34m\u001b[0m\u001b[0;34m\u001b[0m\u001b[0m\n",
            "\u001b[0;32m/usr/local/lib/python3.10/dist-packages/matplotlib/backend_bases.py\u001b[0m in \u001b[0;36mprint_figure\u001b[0;34m(self, filename, dpi, facecolor, edgecolor, orientation, format, bbox_inches, pad_inches, bbox_extra_artists, backend, **kwargs)\u001b[0m\n\u001b[1;32m   2364\u001b[0m                 \u001b[0;31m# force the figure dpi to 72), so we need to set it again here.\u001b[0m\u001b[0;34m\u001b[0m\u001b[0;34m\u001b[0m\u001b[0m\n\u001b[1;32m   2365\u001b[0m                 \u001b[0;32mwith\u001b[0m \u001b[0mcbook\u001b[0m\u001b[0;34m.\u001b[0m\u001b[0m_setattr_cm\u001b[0m\u001b[0;34m(\u001b[0m\u001b[0mself\u001b[0m\u001b[0;34m.\u001b[0m\u001b[0mfigure\u001b[0m\u001b[0;34m,\u001b[0m \u001b[0mdpi\u001b[0m\u001b[0;34m=\u001b[0m\u001b[0mdpi\u001b[0m\u001b[0;34m)\u001b[0m\u001b[0;34m:\u001b[0m\u001b[0;34m\u001b[0m\u001b[0;34m\u001b[0m\u001b[0m\n\u001b[0;32m-> 2366\u001b[0;31m                     result = print_method(\n\u001b[0m\u001b[1;32m   2367\u001b[0m                         \u001b[0mfilename\u001b[0m\u001b[0;34m,\u001b[0m\u001b[0;34m\u001b[0m\u001b[0;34m\u001b[0m\u001b[0m\n\u001b[1;32m   2368\u001b[0m                         \u001b[0mfacecolor\u001b[0m\u001b[0;34m=\u001b[0m\u001b[0mfacecolor\u001b[0m\u001b[0;34m,\u001b[0m\u001b[0;34m\u001b[0m\u001b[0;34m\u001b[0m\u001b[0m\n",
            "\u001b[0;32m/usr/local/lib/python3.10/dist-packages/matplotlib/backend_bases.py\u001b[0m in \u001b[0;36m<lambda>\u001b[0;34m(*args, **kwargs)\u001b[0m\n\u001b[1;32m   2230\u001b[0m                 \"bbox_inches_restore\"}\n\u001b[1;32m   2231\u001b[0m             \u001b[0mskip\u001b[0m \u001b[0;34m=\u001b[0m \u001b[0moptional_kws\u001b[0m \u001b[0;34m-\u001b[0m \u001b[0;34m{\u001b[0m\u001b[0;34m*\u001b[0m\u001b[0minspect\u001b[0m\u001b[0;34m.\u001b[0m\u001b[0msignature\u001b[0m\u001b[0;34m(\u001b[0m\u001b[0mmeth\u001b[0m\u001b[0;34m)\u001b[0m\u001b[0;34m.\u001b[0m\u001b[0mparameters\u001b[0m\u001b[0;34m}\u001b[0m\u001b[0;34m\u001b[0m\u001b[0;34m\u001b[0m\u001b[0m\n\u001b[0;32m-> 2232\u001b[0;31m             print_method = functools.wraps(meth)(lambda *args, **kwargs: meth(\n\u001b[0m\u001b[1;32m   2233\u001b[0m                 *args, **{k: v for k, v in kwargs.items() if k not in skip}))\n\u001b[1;32m   2234\u001b[0m         \u001b[0;32melse\u001b[0m\u001b[0;34m:\u001b[0m  \u001b[0;31m# Let third-parties do as they see fit.\u001b[0m\u001b[0;34m\u001b[0m\u001b[0;34m\u001b[0m\u001b[0m\n",
            "\u001b[0;32m/usr/local/lib/python3.10/dist-packages/matplotlib/backends/backend_agg.py\u001b[0m in \u001b[0;36mprint_png\u001b[0;34m(self, filename_or_obj, metadata, pil_kwargs)\u001b[0m\n\u001b[1;32m    507\u001b[0m             \u001b[0;34m*\u001b[0m\u001b[0mmetadata\u001b[0m\u001b[0;34m*\u001b[0m\u001b[0;34m,\u001b[0m \u001b[0mincluding\u001b[0m \u001b[0mthe\u001b[0m \u001b[0mdefault\u001b[0m \u001b[0;34m'Software'\u001b[0m \u001b[0mkey\u001b[0m\u001b[0;34m.\u001b[0m\u001b[0;34m\u001b[0m\u001b[0;34m\u001b[0m\u001b[0m\n\u001b[1;32m    508\u001b[0m         \"\"\"\n\u001b[0;32m--> 509\u001b[0;31m         \u001b[0mself\u001b[0m\u001b[0;34m.\u001b[0m\u001b[0m_print_pil\u001b[0m\u001b[0;34m(\u001b[0m\u001b[0mfilename_or_obj\u001b[0m\u001b[0;34m,\u001b[0m \u001b[0;34m\"png\"\u001b[0m\u001b[0;34m,\u001b[0m \u001b[0mpil_kwargs\u001b[0m\u001b[0;34m,\u001b[0m \u001b[0mmetadata\u001b[0m\u001b[0;34m)\u001b[0m\u001b[0;34m\u001b[0m\u001b[0;34m\u001b[0m\u001b[0m\n\u001b[0m\u001b[1;32m    510\u001b[0m \u001b[0;34m\u001b[0m\u001b[0m\n\u001b[1;32m    511\u001b[0m     \u001b[0;32mdef\u001b[0m \u001b[0mprint_to_buffer\u001b[0m\u001b[0;34m(\u001b[0m\u001b[0mself\u001b[0m\u001b[0;34m)\u001b[0m\u001b[0;34m:\u001b[0m\u001b[0;34m\u001b[0m\u001b[0;34m\u001b[0m\u001b[0m\n",
            "\u001b[0;32m/usr/local/lib/python3.10/dist-packages/matplotlib/backends/backend_agg.py\u001b[0m in \u001b[0;36m_print_pil\u001b[0;34m(self, filename_or_obj, fmt, pil_kwargs, metadata)\u001b[0m\n\u001b[1;32m    456\u001b[0m         \"\"\"\n\u001b[1;32m    457\u001b[0m         \u001b[0mFigureCanvasAgg\u001b[0m\u001b[0;34m.\u001b[0m\u001b[0mdraw\u001b[0m\u001b[0;34m(\u001b[0m\u001b[0mself\u001b[0m\u001b[0;34m)\u001b[0m\u001b[0;34m\u001b[0m\u001b[0;34m\u001b[0m\u001b[0m\n\u001b[0;32m--> 458\u001b[0;31m         mpl.image.imsave(\n\u001b[0m\u001b[1;32m    459\u001b[0m             \u001b[0mfilename_or_obj\u001b[0m\u001b[0;34m,\u001b[0m \u001b[0mself\u001b[0m\u001b[0;34m.\u001b[0m\u001b[0mbuffer_rgba\u001b[0m\u001b[0;34m(\u001b[0m\u001b[0;34m)\u001b[0m\u001b[0;34m,\u001b[0m \u001b[0mformat\u001b[0m\u001b[0;34m=\u001b[0m\u001b[0mfmt\u001b[0m\u001b[0;34m,\u001b[0m \u001b[0morigin\u001b[0m\u001b[0;34m=\u001b[0m\u001b[0;34m\"upper\"\u001b[0m\u001b[0;34m,\u001b[0m\u001b[0;34m\u001b[0m\u001b[0;34m\u001b[0m\u001b[0m\n\u001b[1;32m    460\u001b[0m             dpi=self.figure.dpi, metadata=metadata, pil_kwargs=pil_kwargs)\n",
            "\u001b[0;32m/usr/local/lib/python3.10/dist-packages/matplotlib/image.py\u001b[0m in \u001b[0;36mimsave\u001b[0;34m(fname, arr, vmin, vmax, cmap, format, origin, dpi, metadata, pil_kwargs)\u001b[0m\n\u001b[1;32m   1687\u001b[0m         \u001b[0mpil_kwargs\u001b[0m\u001b[0;34m.\u001b[0m\u001b[0msetdefault\u001b[0m\u001b[0;34m(\u001b[0m\u001b[0;34m\"format\"\u001b[0m\u001b[0;34m,\u001b[0m \u001b[0mformat\u001b[0m\u001b[0;34m)\u001b[0m\u001b[0;34m\u001b[0m\u001b[0;34m\u001b[0m\u001b[0m\n\u001b[1;32m   1688\u001b[0m         \u001b[0mpil_kwargs\u001b[0m\u001b[0;34m.\u001b[0m\u001b[0msetdefault\u001b[0m\u001b[0;34m(\u001b[0m\u001b[0;34m\"dpi\"\u001b[0m\u001b[0;34m,\u001b[0m \u001b[0;34m(\u001b[0m\u001b[0mdpi\u001b[0m\u001b[0;34m,\u001b[0m \u001b[0mdpi\u001b[0m\u001b[0;34m)\u001b[0m\u001b[0;34m)\u001b[0m\u001b[0;34m\u001b[0m\u001b[0;34m\u001b[0m\u001b[0m\n\u001b[0;32m-> 1689\u001b[0;31m         \u001b[0mimage\u001b[0m\u001b[0;34m.\u001b[0m\u001b[0msave\u001b[0m\u001b[0;34m(\u001b[0m\u001b[0mfname\u001b[0m\u001b[0;34m,\u001b[0m \u001b[0;34m**\u001b[0m\u001b[0mpil_kwargs\u001b[0m\u001b[0;34m)\u001b[0m\u001b[0;34m\u001b[0m\u001b[0;34m\u001b[0m\u001b[0m\n\u001b[0m\u001b[1;32m   1690\u001b[0m \u001b[0;34m\u001b[0m\u001b[0m\n\u001b[1;32m   1691\u001b[0m \u001b[0;34m\u001b[0m\u001b[0m\n",
            "\u001b[0;32m/usr/local/lib/python3.10/dist-packages/PIL/Image.py\u001b[0m in \u001b[0;36msave\u001b[0;34m(self, fp, format, **params)\u001b[0m\n\u001b[1;32m   2429\u001b[0m \u001b[0;34m\u001b[0m\u001b[0m\n\u001b[1;32m   2430\u001b[0m         \u001b[0;32mtry\u001b[0m\u001b[0;34m:\u001b[0m\u001b[0;34m\u001b[0m\u001b[0;34m\u001b[0m\u001b[0m\n\u001b[0;32m-> 2431\u001b[0;31m             \u001b[0msave_handler\u001b[0m\u001b[0;34m(\u001b[0m\u001b[0mself\u001b[0m\u001b[0;34m,\u001b[0m \u001b[0mfp\u001b[0m\u001b[0;34m,\u001b[0m \u001b[0mfilename\u001b[0m\u001b[0;34m)\u001b[0m\u001b[0;34m\u001b[0m\u001b[0;34m\u001b[0m\u001b[0m\n\u001b[0m\u001b[1;32m   2432\u001b[0m         \u001b[0;32mexcept\u001b[0m \u001b[0mException\u001b[0m\u001b[0;34m:\u001b[0m\u001b[0;34m\u001b[0m\u001b[0;34m\u001b[0m\u001b[0m\n\u001b[1;32m   2433\u001b[0m             \u001b[0;32mif\u001b[0m \u001b[0mopen_fp\u001b[0m\u001b[0;34m:\u001b[0m\u001b[0;34m\u001b[0m\u001b[0;34m\u001b[0m\u001b[0m\n",
            "\u001b[0;32m/usr/local/lib/python3.10/dist-packages/PIL/PngImagePlugin.py\u001b[0m in \u001b[0;36m_save\u001b[0;34m(im, fp, filename, chunk, save_all)\u001b[0m\n\u001b[1;32m   1418\u001b[0m         \u001b[0m_write_multiple_frames\u001b[0m\u001b[0;34m(\u001b[0m\u001b[0mim\u001b[0m\u001b[0;34m,\u001b[0m \u001b[0mfp\u001b[0m\u001b[0;34m,\u001b[0m \u001b[0mchunk\u001b[0m\u001b[0;34m,\u001b[0m \u001b[0mrawmode\u001b[0m\u001b[0;34m,\u001b[0m \u001b[0mdefault_image\u001b[0m\u001b[0;34m,\u001b[0m \u001b[0mappend_images\u001b[0m\u001b[0;34m)\u001b[0m\u001b[0;34m\u001b[0m\u001b[0;34m\u001b[0m\u001b[0m\n\u001b[1;32m   1419\u001b[0m     \u001b[0;32melse\u001b[0m\u001b[0;34m:\u001b[0m\u001b[0;34m\u001b[0m\u001b[0;34m\u001b[0m\u001b[0m\n\u001b[0;32m-> 1420\u001b[0;31m         \u001b[0mImageFile\u001b[0m\u001b[0;34m.\u001b[0m\u001b[0m_save\u001b[0m\u001b[0;34m(\u001b[0m\u001b[0mim\u001b[0m\u001b[0;34m,\u001b[0m \u001b[0m_idat\u001b[0m\u001b[0;34m(\u001b[0m\u001b[0mfp\u001b[0m\u001b[0;34m,\u001b[0m \u001b[0mchunk\u001b[0m\u001b[0;34m)\u001b[0m\u001b[0;34m,\u001b[0m \u001b[0;34m[\u001b[0m\u001b[0;34m(\u001b[0m\u001b[0;34m\"zip\"\u001b[0m\u001b[0;34m,\u001b[0m \u001b[0;34m(\u001b[0m\u001b[0;36m0\u001b[0m\u001b[0;34m,\u001b[0m \u001b[0;36m0\u001b[0m\u001b[0;34m)\u001b[0m \u001b[0;34m+\u001b[0m \u001b[0mim\u001b[0m\u001b[0;34m.\u001b[0m\u001b[0msize\u001b[0m\u001b[0;34m,\u001b[0m \u001b[0;36m0\u001b[0m\u001b[0;34m,\u001b[0m \u001b[0mrawmode\u001b[0m\u001b[0;34m)\u001b[0m\u001b[0;34m]\u001b[0m\u001b[0;34m)\u001b[0m\u001b[0;34m\u001b[0m\u001b[0;34m\u001b[0m\u001b[0m\n\u001b[0m\u001b[1;32m   1421\u001b[0m \u001b[0;34m\u001b[0m\u001b[0m\n\u001b[1;32m   1422\u001b[0m     \u001b[0;32mif\u001b[0m \u001b[0minfo\u001b[0m\u001b[0;34m:\u001b[0m\u001b[0;34m\u001b[0m\u001b[0;34m\u001b[0m\u001b[0m\n",
            "\u001b[0;32m/usr/local/lib/python3.10/dist-packages/PIL/ImageFile.py\u001b[0m in \u001b[0;36m_save\u001b[0;34m(im, fp, tile, bufsize)\u001b[0m\n\u001b[1;32m    520\u001b[0m         \u001b[0m_encode_tile\u001b[0m\u001b[0;34m(\u001b[0m\u001b[0mim\u001b[0m\u001b[0;34m,\u001b[0m \u001b[0mfp\u001b[0m\u001b[0;34m,\u001b[0m \u001b[0mtile\u001b[0m\u001b[0;34m,\u001b[0m \u001b[0mbufsize\u001b[0m\u001b[0;34m,\u001b[0m \u001b[0mfh\u001b[0m\u001b[0;34m)\u001b[0m\u001b[0;34m\u001b[0m\u001b[0;34m\u001b[0m\u001b[0m\n\u001b[1;32m    521\u001b[0m     \u001b[0;32mexcept\u001b[0m \u001b[0;34m(\u001b[0m\u001b[0mAttributeError\u001b[0m\u001b[0;34m,\u001b[0m \u001b[0mio\u001b[0m\u001b[0;34m.\u001b[0m\u001b[0mUnsupportedOperation\u001b[0m\u001b[0;34m)\u001b[0m \u001b[0;32mas\u001b[0m \u001b[0mexc\u001b[0m\u001b[0;34m:\u001b[0m\u001b[0;34m\u001b[0m\u001b[0;34m\u001b[0m\u001b[0m\n\u001b[0;32m--> 522\u001b[0;31m         \u001b[0m_encode_tile\u001b[0m\u001b[0;34m(\u001b[0m\u001b[0mim\u001b[0m\u001b[0;34m,\u001b[0m \u001b[0mfp\u001b[0m\u001b[0;34m,\u001b[0m \u001b[0mtile\u001b[0m\u001b[0;34m,\u001b[0m \u001b[0mbufsize\u001b[0m\u001b[0;34m,\u001b[0m \u001b[0;32mNone\u001b[0m\u001b[0;34m,\u001b[0m \u001b[0mexc\u001b[0m\u001b[0;34m)\u001b[0m\u001b[0;34m\u001b[0m\u001b[0;34m\u001b[0m\u001b[0m\n\u001b[0m\u001b[1;32m    523\u001b[0m     \u001b[0;32mif\u001b[0m \u001b[0mhasattr\u001b[0m\u001b[0;34m(\u001b[0m\u001b[0mfp\u001b[0m\u001b[0;34m,\u001b[0m \u001b[0;34m\"flush\"\u001b[0m\u001b[0;34m)\u001b[0m\u001b[0;34m:\u001b[0m\u001b[0;34m\u001b[0m\u001b[0;34m\u001b[0m\u001b[0m\n\u001b[1;32m    524\u001b[0m         \u001b[0mfp\u001b[0m\u001b[0;34m.\u001b[0m\u001b[0mflush\u001b[0m\u001b[0;34m(\u001b[0m\u001b[0;34m)\u001b[0m\u001b[0;34m\u001b[0m\u001b[0;34m\u001b[0m\u001b[0m\n",
            "\u001b[0;32m/usr/local/lib/python3.10/dist-packages/PIL/ImageFile.py\u001b[0m in \u001b[0;36m_encode_tile\u001b[0;34m(im, fp, tile, bufsize, fh, exc)\u001b[0m\n\u001b[1;32m    539\u001b[0m                     \u001b[0;31m# compress to Python file-compatible object\u001b[0m\u001b[0;34m\u001b[0m\u001b[0;34m\u001b[0m\u001b[0m\n\u001b[1;32m    540\u001b[0m                     \u001b[0;32mwhile\u001b[0m \u001b[0;32mTrue\u001b[0m\u001b[0;34m:\u001b[0m\u001b[0;34m\u001b[0m\u001b[0;34m\u001b[0m\u001b[0m\n\u001b[0;32m--> 541\u001b[0;31m                         \u001b[0ml\u001b[0m\u001b[0;34m,\u001b[0m \u001b[0ms\u001b[0m\u001b[0;34m,\u001b[0m \u001b[0md\u001b[0m \u001b[0;34m=\u001b[0m \u001b[0mencoder\u001b[0m\u001b[0;34m.\u001b[0m\u001b[0mencode\u001b[0m\u001b[0;34m(\u001b[0m\u001b[0mbufsize\u001b[0m\u001b[0;34m)\u001b[0m\u001b[0;34m\u001b[0m\u001b[0;34m\u001b[0m\u001b[0m\n\u001b[0m\u001b[1;32m    542\u001b[0m                         \u001b[0mfp\u001b[0m\u001b[0;34m.\u001b[0m\u001b[0mwrite\u001b[0m\u001b[0;34m(\u001b[0m\u001b[0md\u001b[0m\u001b[0;34m)\u001b[0m\u001b[0;34m\u001b[0m\u001b[0;34m\u001b[0m\u001b[0m\n\u001b[1;32m    543\u001b[0m                         \u001b[0;32mif\u001b[0m \u001b[0ms\u001b[0m\u001b[0;34m:\u001b[0m\u001b[0;34m\u001b[0m\u001b[0;34m\u001b[0m\u001b[0m\n",
            "\u001b[0;31mKeyboardInterrupt\u001b[0m: "
          ]
        }
      ]
    }
  ]
}