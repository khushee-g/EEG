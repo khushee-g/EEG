{
  "cells": [
    {
      "cell_type": "markdown",
      "metadata": {
        "id": "view-in-github",
        "colab_type": "text"
      },
      "source": [
        "<a href=\"https://colab.research.google.com/github/khushee-g/EEG/blob/main/Improving_Random_Forest_Part_2.ipynb\" target=\"_parent\"><img src=\"https://colab.research.google.com/assets/colab-badge.svg\" alt=\"Open In Colab\"/></a>"
      ]
    },
    {
      "cell_type": "markdown",
      "metadata": {
        "id": "4YSUxhfpXPuZ"
      },
      "source": [
        "# Load in Data"
      ]
    },
    {
      "cell_type": "code",
      "execution_count": 1,
      "metadata": {
        "collapsed": true,
        "id": "M4FI5AxRXPue"
      },
      "outputs": [],
      "source": [
        "# Pandas is used for data manipulation\n",
        "import pandas as pd\n",
        "\n",
        "# Read in data as a dataframe\n",
        "features = pd.read_csv('/content/Sheet 1-1-EEG.psychiatric control & behvaior.csv')"
      ]
    },
    {
      "cell_type": "markdown",
      "metadata": {
        "id": "TJi4IJwxXPuh"
      },
      "source": [
        "# Data Preparation"
      ]
    },
    {
      "cell_type": "code",
      "execution_count": 2,
      "metadata": {
        "collapsed": true,
        "id": "aAIjkulYXPuh"
      },
      "outputs": [],
      "source": [
        "# One Hot Encoding\n",
        "features = pd.get_dummies(features)\n",
        "\n",
        "# Extract features and labels\n",
        "labels = features['specific_disorder']\n",
        "features = features.drop('specific_disorder', axis = 1)"
      ]
    },
    {
      "cell_type": "markdown",
      "metadata": {
        "id": "KdVW-EvTXPui"
      },
      "source": [
        "### Restrict to the Most Important Features\n",
        "\n",
        "These were the six features required to reach a total feature importance of 95% in the first improving random forest notebook.\n",
        "We will use only these features in order to speed up the model."
      ]
    },
    {
      "cell_type": "code",
      "execution_count": 3,
      "metadata": {
        "colab": {
          "base_uri": "https://localhost:8080/",
          "height": 270
        },
        "id": "WizqYYe1XPui",
        "outputId": "e2e4dd2b-8a56-403d-89d2-835a5e5d03cc"
      },
      "outputs": [
        {
          "output_type": "execute_result",
          "data": {
            "text/plain": [
              "   AB.A.delta.e.Fz  AB.A.delta.f.F4  AB.A.delta.g.F8  AB.A.delta.h.T3  \\\n",
              "0        69.447900        69.042085        57.324333        41.658465   \n",
              "1        22.461115        23.616729        50.770251        14.458573   \n",
              "2        16.792161        16.887329        27.237218        10.324034   \n",
              "3        17.029861        13.545934        11.612536        13.578299   \n",
              "4        26.128217        26.002065        16.649180         7.972443   \n",
              "\n",
              "   AB.A.delta.i.C3  AB.A.delta.j.Cz  AB.A.delta.k.C4  AB.A.delta.l.T4  \\\n",
              "0        55.851042        56.265661        53.905350        42.953339   \n",
              "1        13.843582        19.761720        17.926815        18.240048   \n",
              "2        16.298826        19.518705        17.802851        14.068761   \n",
              "3        13.790407        14.739175        13.077751         8.364132   \n",
              "4        24.789548        21.259534        18.664022        13.062918   \n",
              "\n",
              "   AB.A.delta.m.T5  AB.A.delta.n.P3  ...  eeg.date_2018.9.20  \\\n",
              "0        20.835076        39.310861  ...               False   \n",
              "1         5.551248        13.156196  ...               False   \n",
              "2         7.938156        12.294077  ...               False   \n",
              "3        12.401455        11.919676  ...               False   \n",
              "4         8.586322        12.832026  ...               False   \n",
              "\n",
              "   eeg.date_2019.1.8  eeg.date_2019.2.14  eeg.date_2019.2.23  \\\n",
              "0              False               False               False   \n",
              "1              False               False               False   \n",
              "2              False               False               False   \n",
              "3              False               False               False   \n",
              "4              False               False               False   \n",
              "\n",
              "   eeg.date_2019.2.28  eeg.date_2019.3.22  eeg.date_2019.3.7  \\\n",
              "0               False               False              False   \n",
              "1               False               False              False   \n",
              "2               False               False              False   \n",
              "3               False               False              False   \n",
              "4               False               False              False   \n",
              "\n",
              "   eeg.date_2019.6.11  main_disorder_4  main_disorder_Addictive disorder  \n",
              "0               False             True                             False  \n",
              "1               False             True                             False  \n",
              "2               False             True                             False  \n",
              "3               False             True                             False  \n",
              "4               False             True                             False  \n",
              "\n",
              "[5 rows x 416 columns]"
            ],
            "text/html": [
              "\n",
              "  <div id=\"df-85c51eb8-3e4d-4ad5-a5f1-0cac6539ff00\" class=\"colab-df-container\">\n",
              "    <div>\n",
              "<style scoped>\n",
              "    .dataframe tbody tr th:only-of-type {\n",
              "        vertical-align: middle;\n",
              "    }\n",
              "\n",
              "    .dataframe tbody tr th {\n",
              "        vertical-align: top;\n",
              "    }\n",
              "\n",
              "    .dataframe thead th {\n",
              "        text-align: right;\n",
              "    }\n",
              "</style>\n",
              "<table border=\"1\" class=\"dataframe\">\n",
              "  <thead>\n",
              "    <tr style=\"text-align: right;\">\n",
              "      <th></th>\n",
              "      <th>AB.A.delta.e.Fz</th>\n",
              "      <th>AB.A.delta.f.F4</th>\n",
              "      <th>AB.A.delta.g.F8</th>\n",
              "      <th>AB.A.delta.h.T3</th>\n",
              "      <th>AB.A.delta.i.C3</th>\n",
              "      <th>AB.A.delta.j.Cz</th>\n",
              "      <th>AB.A.delta.k.C4</th>\n",
              "      <th>AB.A.delta.l.T4</th>\n",
              "      <th>AB.A.delta.m.T5</th>\n",
              "      <th>AB.A.delta.n.P3</th>\n",
              "      <th>...</th>\n",
              "      <th>eeg.date_2018.9.20</th>\n",
              "      <th>eeg.date_2019.1.8</th>\n",
              "      <th>eeg.date_2019.2.14</th>\n",
              "      <th>eeg.date_2019.2.23</th>\n",
              "      <th>eeg.date_2019.2.28</th>\n",
              "      <th>eeg.date_2019.3.22</th>\n",
              "      <th>eeg.date_2019.3.7</th>\n",
              "      <th>eeg.date_2019.6.11</th>\n",
              "      <th>main_disorder_4</th>\n",
              "      <th>main_disorder_Addictive disorder</th>\n",
              "    </tr>\n",
              "  </thead>\n",
              "  <tbody>\n",
              "    <tr>\n",
              "      <th>0</th>\n",
              "      <td>69.447900</td>\n",
              "      <td>69.042085</td>\n",
              "      <td>57.324333</td>\n",
              "      <td>41.658465</td>\n",
              "      <td>55.851042</td>\n",
              "      <td>56.265661</td>\n",
              "      <td>53.905350</td>\n",
              "      <td>42.953339</td>\n",
              "      <td>20.835076</td>\n",
              "      <td>39.310861</td>\n",
              "      <td>...</td>\n",
              "      <td>False</td>\n",
              "      <td>False</td>\n",
              "      <td>False</td>\n",
              "      <td>False</td>\n",
              "      <td>False</td>\n",
              "      <td>False</td>\n",
              "      <td>False</td>\n",
              "      <td>False</td>\n",
              "      <td>True</td>\n",
              "      <td>False</td>\n",
              "    </tr>\n",
              "    <tr>\n",
              "      <th>1</th>\n",
              "      <td>22.461115</td>\n",
              "      <td>23.616729</td>\n",
              "      <td>50.770251</td>\n",
              "      <td>14.458573</td>\n",
              "      <td>13.843582</td>\n",
              "      <td>19.761720</td>\n",
              "      <td>17.926815</td>\n",
              "      <td>18.240048</td>\n",
              "      <td>5.551248</td>\n",
              "      <td>13.156196</td>\n",
              "      <td>...</td>\n",
              "      <td>False</td>\n",
              "      <td>False</td>\n",
              "      <td>False</td>\n",
              "      <td>False</td>\n",
              "      <td>False</td>\n",
              "      <td>False</td>\n",
              "      <td>False</td>\n",
              "      <td>False</td>\n",
              "      <td>True</td>\n",
              "      <td>False</td>\n",
              "    </tr>\n",
              "    <tr>\n",
              "      <th>2</th>\n",
              "      <td>16.792161</td>\n",
              "      <td>16.887329</td>\n",
              "      <td>27.237218</td>\n",
              "      <td>10.324034</td>\n",
              "      <td>16.298826</td>\n",
              "      <td>19.518705</td>\n",
              "      <td>17.802851</td>\n",
              "      <td>14.068761</td>\n",
              "      <td>7.938156</td>\n",
              "      <td>12.294077</td>\n",
              "      <td>...</td>\n",
              "      <td>False</td>\n",
              "      <td>False</td>\n",
              "      <td>False</td>\n",
              "      <td>False</td>\n",
              "      <td>False</td>\n",
              "      <td>False</td>\n",
              "      <td>False</td>\n",
              "      <td>False</td>\n",
              "      <td>True</td>\n",
              "      <td>False</td>\n",
              "    </tr>\n",
              "    <tr>\n",
              "      <th>3</th>\n",
              "      <td>17.029861</td>\n",
              "      <td>13.545934</td>\n",
              "      <td>11.612536</td>\n",
              "      <td>13.578299</td>\n",
              "      <td>13.790407</td>\n",
              "      <td>14.739175</td>\n",
              "      <td>13.077751</td>\n",
              "      <td>8.364132</td>\n",
              "      <td>12.401455</td>\n",
              "      <td>11.919676</td>\n",
              "      <td>...</td>\n",
              "      <td>False</td>\n",
              "      <td>False</td>\n",
              "      <td>False</td>\n",
              "      <td>False</td>\n",
              "      <td>False</td>\n",
              "      <td>False</td>\n",
              "      <td>False</td>\n",
              "      <td>False</td>\n",
              "      <td>True</td>\n",
              "      <td>False</td>\n",
              "    </tr>\n",
              "    <tr>\n",
              "      <th>4</th>\n",
              "      <td>26.128217</td>\n",
              "      <td>26.002065</td>\n",
              "      <td>16.649180</td>\n",
              "      <td>7.972443</td>\n",
              "      <td>24.789548</td>\n",
              "      <td>21.259534</td>\n",
              "      <td>18.664022</td>\n",
              "      <td>13.062918</td>\n",
              "      <td>8.586322</td>\n",
              "      <td>12.832026</td>\n",
              "      <td>...</td>\n",
              "      <td>False</td>\n",
              "      <td>False</td>\n",
              "      <td>False</td>\n",
              "      <td>False</td>\n",
              "      <td>False</td>\n",
              "      <td>False</td>\n",
              "      <td>False</td>\n",
              "      <td>False</td>\n",
              "      <td>True</td>\n",
              "      <td>False</td>\n",
              "    </tr>\n",
              "  </tbody>\n",
              "</table>\n",
              "<p>5 rows × 416 columns</p>\n",
              "</div>\n",
              "    <div class=\"colab-df-buttons\">\n",
              "\n",
              "  <div class=\"colab-df-container\">\n",
              "    <button class=\"colab-df-convert\" onclick=\"convertToInteractive('df-85c51eb8-3e4d-4ad5-a5f1-0cac6539ff00')\"\n",
              "            title=\"Convert this dataframe to an interactive table.\"\n",
              "            style=\"display:none;\">\n",
              "\n",
              "  <svg xmlns=\"http://www.w3.org/2000/svg\" height=\"24px\" viewBox=\"0 -960 960 960\">\n",
              "    <path d=\"M120-120v-720h720v720H120Zm60-500h600v-160H180v160Zm220 220h160v-160H400v160Zm0 220h160v-160H400v160ZM180-400h160v-160H180v160Zm440 0h160v-160H620v160ZM180-180h160v-160H180v160Zm440 0h160v-160H620v160Z\"/>\n",
              "  </svg>\n",
              "    </button>\n",
              "\n",
              "  <style>\n",
              "    .colab-df-container {\n",
              "      display:flex;\n",
              "      gap: 12px;\n",
              "    }\n",
              "\n",
              "    .colab-df-convert {\n",
              "      background-color: #E8F0FE;\n",
              "      border: none;\n",
              "      border-radius: 50%;\n",
              "      cursor: pointer;\n",
              "      display: none;\n",
              "      fill: #1967D2;\n",
              "      height: 32px;\n",
              "      padding: 0 0 0 0;\n",
              "      width: 32px;\n",
              "    }\n",
              "\n",
              "    .colab-df-convert:hover {\n",
              "      background-color: #E2EBFA;\n",
              "      box-shadow: 0px 1px 2px rgba(60, 64, 67, 0.3), 0px 1px 3px 1px rgba(60, 64, 67, 0.15);\n",
              "      fill: #174EA6;\n",
              "    }\n",
              "\n",
              "    .colab-df-buttons div {\n",
              "      margin-bottom: 4px;\n",
              "    }\n",
              "\n",
              "    [theme=dark] .colab-df-convert {\n",
              "      background-color: #3B4455;\n",
              "      fill: #D2E3FC;\n",
              "    }\n",
              "\n",
              "    [theme=dark] .colab-df-convert:hover {\n",
              "      background-color: #434B5C;\n",
              "      box-shadow: 0px 1px 3px 1px rgba(0, 0, 0, 0.15);\n",
              "      filter: drop-shadow(0px 1px 2px rgba(0, 0, 0, 0.3));\n",
              "      fill: #FFFFFF;\n",
              "    }\n",
              "  </style>\n",
              "\n",
              "    <script>\n",
              "      const buttonEl =\n",
              "        document.querySelector('#df-85c51eb8-3e4d-4ad5-a5f1-0cac6539ff00 button.colab-df-convert');\n",
              "      buttonEl.style.display =\n",
              "        google.colab.kernel.accessAllowed ? 'block' : 'none';\n",
              "\n",
              "      async function convertToInteractive(key) {\n",
              "        const element = document.querySelector('#df-85c51eb8-3e4d-4ad5-a5f1-0cac6539ff00');\n",
              "        const dataTable =\n",
              "          await google.colab.kernel.invokeFunction('convertToInteractive',\n",
              "                                                    [key], {});\n",
              "        if (!dataTable) return;\n",
              "\n",
              "        const docLinkHtml = 'Like what you see? Visit the ' +\n",
              "          '<a target=\"_blank\" href=https://colab.research.google.com/notebooks/data_table.ipynb>data table notebook</a>'\n",
              "          + ' to learn more about interactive tables.';\n",
              "        element.innerHTML = '';\n",
              "        dataTable['output_type'] = 'display_data';\n",
              "        await google.colab.output.renderOutput(dataTable, element);\n",
              "        const docLink = document.createElement('div');\n",
              "        docLink.innerHTML = docLinkHtml;\n",
              "        element.appendChild(docLink);\n",
              "      }\n",
              "    </script>\n",
              "  </div>\n",
              "\n",
              "\n",
              "<div id=\"df-83b22247-a5fa-4684-b0e7-870cef788fd0\">\n",
              "  <button class=\"colab-df-quickchart\" onclick=\"quickchart('df-83b22247-a5fa-4684-b0e7-870cef788fd0')\"\n",
              "            title=\"Suggest charts\"\n",
              "            style=\"display:none;\">\n",
              "\n",
              "<svg xmlns=\"http://www.w3.org/2000/svg\" height=\"24px\"viewBox=\"0 0 24 24\"\n",
              "     width=\"24px\">\n",
              "    <g>\n",
              "        <path d=\"M19 3H5c-1.1 0-2 .9-2 2v14c0 1.1.9 2 2 2h14c1.1 0 2-.9 2-2V5c0-1.1-.9-2-2-2zM9 17H7v-7h2v7zm4 0h-2V7h2v10zm4 0h-2v-4h2v4z\"/>\n",
              "    </g>\n",
              "</svg>\n",
              "  </button>\n",
              "\n",
              "<style>\n",
              "  .colab-df-quickchart {\n",
              "      --bg-color: #E8F0FE;\n",
              "      --fill-color: #1967D2;\n",
              "      --hover-bg-color: #E2EBFA;\n",
              "      --hover-fill-color: #174EA6;\n",
              "      --disabled-fill-color: #AAA;\n",
              "      --disabled-bg-color: #DDD;\n",
              "  }\n",
              "\n",
              "  [theme=dark] .colab-df-quickchart {\n",
              "      --bg-color: #3B4455;\n",
              "      --fill-color: #D2E3FC;\n",
              "      --hover-bg-color: #434B5C;\n",
              "      --hover-fill-color: #FFFFFF;\n",
              "      --disabled-bg-color: #3B4455;\n",
              "      --disabled-fill-color: #666;\n",
              "  }\n",
              "\n",
              "  .colab-df-quickchart {\n",
              "    background-color: var(--bg-color);\n",
              "    border: none;\n",
              "    border-radius: 50%;\n",
              "    cursor: pointer;\n",
              "    display: none;\n",
              "    fill: var(--fill-color);\n",
              "    height: 32px;\n",
              "    padding: 0;\n",
              "    width: 32px;\n",
              "  }\n",
              "\n",
              "  .colab-df-quickchart:hover {\n",
              "    background-color: var(--hover-bg-color);\n",
              "    box-shadow: 0 1px 2px rgba(60, 64, 67, 0.3), 0 1px 3px 1px rgba(60, 64, 67, 0.15);\n",
              "    fill: var(--button-hover-fill-color);\n",
              "  }\n",
              "\n",
              "  .colab-df-quickchart-complete:disabled,\n",
              "  .colab-df-quickchart-complete:disabled:hover {\n",
              "    background-color: var(--disabled-bg-color);\n",
              "    fill: var(--disabled-fill-color);\n",
              "    box-shadow: none;\n",
              "  }\n",
              "\n",
              "  .colab-df-spinner {\n",
              "    border: 2px solid var(--fill-color);\n",
              "    border-color: transparent;\n",
              "    border-bottom-color: var(--fill-color);\n",
              "    animation:\n",
              "      spin 1s steps(1) infinite;\n",
              "  }\n",
              "\n",
              "  @keyframes spin {\n",
              "    0% {\n",
              "      border-color: transparent;\n",
              "      border-bottom-color: var(--fill-color);\n",
              "      border-left-color: var(--fill-color);\n",
              "    }\n",
              "    20% {\n",
              "      border-color: transparent;\n",
              "      border-left-color: var(--fill-color);\n",
              "      border-top-color: var(--fill-color);\n",
              "    }\n",
              "    30% {\n",
              "      border-color: transparent;\n",
              "      border-left-color: var(--fill-color);\n",
              "      border-top-color: var(--fill-color);\n",
              "      border-right-color: var(--fill-color);\n",
              "    }\n",
              "    40% {\n",
              "      border-color: transparent;\n",
              "      border-right-color: var(--fill-color);\n",
              "      border-top-color: var(--fill-color);\n",
              "    }\n",
              "    60% {\n",
              "      border-color: transparent;\n",
              "      border-right-color: var(--fill-color);\n",
              "    }\n",
              "    80% {\n",
              "      border-color: transparent;\n",
              "      border-right-color: var(--fill-color);\n",
              "      border-bottom-color: var(--fill-color);\n",
              "    }\n",
              "    90% {\n",
              "      border-color: transparent;\n",
              "      border-bottom-color: var(--fill-color);\n",
              "    }\n",
              "  }\n",
              "</style>\n",
              "\n",
              "  <script>\n",
              "    async function quickchart(key) {\n",
              "      const quickchartButtonEl =\n",
              "        document.querySelector('#' + key + ' button');\n",
              "      quickchartButtonEl.disabled = true;  // To prevent multiple clicks.\n",
              "      quickchartButtonEl.classList.add('colab-df-spinner');\n",
              "      try {\n",
              "        const charts = await google.colab.kernel.invokeFunction(\n",
              "            'suggestCharts', [key], {});\n",
              "      } catch (error) {\n",
              "        console.error('Error during call to suggestCharts:', error);\n",
              "      }\n",
              "      quickchartButtonEl.classList.remove('colab-df-spinner');\n",
              "      quickchartButtonEl.classList.add('colab-df-quickchart-complete');\n",
              "    }\n",
              "    (() => {\n",
              "      let quickchartButtonEl =\n",
              "        document.querySelector('#df-83b22247-a5fa-4684-b0e7-870cef788fd0 button');\n",
              "      quickchartButtonEl.style.display =\n",
              "        google.colab.kernel.accessAllowed ? 'block' : 'none';\n",
              "    })();\n",
              "  </script>\n",
              "</div>\n",
              "\n",
              "    </div>\n",
              "  </div>\n"
            ],
            "application/vnd.google.colaboratory.intrinsic+json": {
              "type": "dataframe",
              "variable_name": "features"
            }
          },
          "metadata": {},
          "execution_count": 3
        }
      ],
      "source": [
        "# Names of six features accounting for 95% of total importance\n",
        "important_feature_names = features.columns[8:].tolist()\n",
        "\n",
        "\n",
        "features = features[important_feature_names]\n",
        "features.head(5)"
      ]
    },
    {
      "cell_type": "code",
      "execution_count": 4,
      "metadata": {
        "colab": {
          "base_uri": "https://localhost:8080/",
          "height": 238
        },
        "id": "rkETmsg_XPuk",
        "outputId": "6e0586c0-488f-4936-d5a6-a77eac39319e"
      },
      "outputs": [
        {
          "output_type": "execute_result",
          "data": {
            "text/plain": [
              "1    4\n",
              "2    4\n",
              "3    4\n",
              "4    4\n",
              "5    4\n",
              "Name: specific_disorder, dtype: int64"
            ],
            "text/html": [
              "<div>\n",
              "<style scoped>\n",
              "    .dataframe tbody tr th:only-of-type {\n",
              "        vertical-align: middle;\n",
              "    }\n",
              "\n",
              "    .dataframe tbody tr th {\n",
              "        vertical-align: top;\n",
              "    }\n",
              "\n",
              "    .dataframe thead th {\n",
              "        text-align: right;\n",
              "    }\n",
              "</style>\n",
              "<table border=\"1\" class=\"dataframe\">\n",
              "  <thead>\n",
              "    <tr style=\"text-align: right;\">\n",
              "      <th></th>\n",
              "      <th>specific_disorder</th>\n",
              "    </tr>\n",
              "  </thead>\n",
              "  <tbody>\n",
              "    <tr>\n",
              "      <th>1</th>\n",
              "      <td>4</td>\n",
              "    </tr>\n",
              "    <tr>\n",
              "      <th>2</th>\n",
              "      <td>4</td>\n",
              "    </tr>\n",
              "    <tr>\n",
              "      <th>3</th>\n",
              "      <td>4</td>\n",
              "    </tr>\n",
              "    <tr>\n",
              "      <th>4</th>\n",
              "      <td>4</td>\n",
              "    </tr>\n",
              "    <tr>\n",
              "      <th>5</th>\n",
              "      <td>4</td>\n",
              "    </tr>\n",
              "  </tbody>\n",
              "</table>\n",
              "</div><br><label><b>dtype:</b> int64</label>"
            ]
          },
          "metadata": {},
          "execution_count": 4
        }
      ],
      "source": [
        "labels[1:6]"
      ]
    },
    {
      "cell_type": "code",
      "execution_count": 5,
      "metadata": {
        "collapsed": true,
        "id": "wffQSq71XPul"
      },
      "outputs": [],
      "source": [
        "# Convert to numpy arrays\n",
        "import numpy as np\n",
        "\n",
        "features = np.array(features)\n",
        "labels = np.array(labels)\n",
        "\n",
        "# Training and Testing Sets\n",
        "from sklearn.model_selection import train_test_split\n",
        "\n",
        "train_features, test_features, train_labels, test_labels = train_test_split(features, labels,\n",
        "                                                                            test_size = 0.25, random_state = 42)"
      ]
    },
    {
      "cell_type": "code",
      "execution_count": 6,
      "metadata": {
        "colab": {
          "base_uri": "https://localhost:8080/"
        },
        "id": "MZynbUnDXPul",
        "outputId": "47cf1e9e-8c71-4b49-9fa1-2e30f1c279a3"
      },
      "outputs": [
        {
          "output_type": "stream",
          "name": "stdout",
          "text": [
            "Training Features Shape: (141, 416)\n",
            "Training Labels Shape: (141,)\n",
            "Testing Features Shape: (47, 416)\n",
            "Testing Labels Shape: (47,)\n"
          ]
        }
      ],
      "source": [
        "print('Training Features Shape:', train_features.shape)\n",
        "print('Training Labels Shape:', train_labels.shape)\n",
        "print('Testing Features Shape:', test_features.shape)\n",
        "print('Testing Labels Shape:', test_labels.shape)"
      ]
    },
    {
      "cell_type": "markdown",
      "metadata": {
        "id": "x7R_taKaXPun"
      },
      "source": [
        "### Examine the Default Random Forest to Determine Parameters\n",
        "\n",
        "We will use these parameters as a starting point. I relied on the [sklearn random forest documentation](http://scikit-learn.org/stable/modules/generated/sklearn.ensemble.RandomForestClassifier.html) to determine which features to change and the available options."
      ]
    },
    {
      "cell_type": "code",
      "execution_count": 8,
      "metadata": {
        "colab": {
          "base_uri": "https://localhost:8080/"
        },
        "id": "EBxU9mihXPun",
        "outputId": "3256a0fa-6d3a-48c4-8963-3e0f7932e48a"
      },
      "outputs": [
        {
          "output_type": "stream",
          "name": "stdout",
          "text": [
            "Parameters currently in use:\n",
            "\n",
            "{'bootstrap': True,\n",
            " 'ccp_alpha': 0.0,\n",
            " 'criterion': 'squared_error',\n",
            " 'max_depth': None,\n",
            " 'max_features': 1.0,\n",
            " 'max_leaf_nodes': None,\n",
            " 'max_samples': None,\n",
            " 'min_impurity_decrease': 0.0,\n",
            " 'min_samples_leaf': 1,\n",
            " 'min_samples_split': 2,\n",
            " 'min_weight_fraction_leaf': 0.0,\n",
            " 'monotonic_cst': None,\n",
            " 'n_estimators': 100,\n",
            " 'n_jobs': None,\n",
            " 'oob_score': False,\n",
            " 'random_state': 42,\n",
            " 'verbose': 0,\n",
            " 'warm_start': False}\n"
          ]
        }
      ],
      "source": [
        "from sklearn.ensemble import RandomForestRegressor\n",
        "\n",
        "rf = RandomForestRegressor(random_state = 42)\n",
        "\n",
        "from pprint import pprint\n",
        "\n",
        "# Look at parameters used by our current forest\n",
        "print('Parameters currently in use:\\n')\n",
        "pprint(rf.get_params())"
      ]
    },
    {
      "cell_type": "markdown",
      "metadata": {
        "id": "HrOVvfPuXPuo"
      },
      "source": [
        "# Random Search with Cross Validation"
      ]
    },
    {
      "cell_type": "code",
      "execution_count": 9,
      "metadata": {
        "colab": {
          "base_uri": "https://localhost:8080/"
        },
        "id": "J4VW31H3XPuo",
        "outputId": "93243a0c-6a33-4127-9e32-c522ffba954b"
      },
      "outputs": [
        {
          "output_type": "stream",
          "name": "stdout",
          "text": [
            "{'bootstrap': [True, False],\n",
            " 'max_depth': [10, 20, 30, 40, 50, 60, 70, 80, 90, 100, 110, None],\n",
            " 'max_features': ['auto', 'sqrt'],\n",
            " 'min_samples_leaf': [1, 2, 4],\n",
            " 'min_samples_split': [2, 5, 10],\n",
            " 'n_estimators': [200, 400, 600, 800, 1000, 1200, 1400, 1600, 1800, 2000]}\n"
          ]
        }
      ],
      "source": [
        "from sklearn.model_selection import RandomizedSearchCV\n",
        "\n",
        "# Number of trees in random forest\n",
        "n_estimators = [int(x) for x in np.linspace(start = 200, stop = 2000, num = 10)]\n",
        "# Number of features to consider at every split\n",
        "max_features = ['auto', 'sqrt']\n",
        "# Maximum number of levels in tree\n",
        "max_depth = [int(x) for x in np.linspace(10, 110, num = 11)]\n",
        "max_depth.append(None)\n",
        "# Minimum number of samples required to split a node\n",
        "min_samples_split = [2, 5, 10]\n",
        "# Minimum number of samples required at each leaf node\n",
        "min_samples_leaf = [1, 2, 4]\n",
        "# Method of selecting samples for training each tree\n",
        "bootstrap = [True, False]\n",
        "\n",
        "# Create the random grid\n",
        "random_grid = {'n_estimators': n_estimators,\n",
        "               'max_features': max_features,\n",
        "               'max_depth': max_depth,\n",
        "               'min_samples_split': min_samples_split,\n",
        "               'min_samples_leaf': min_samples_leaf,\n",
        "               'bootstrap': bootstrap}\n",
        "\n",
        "pprint(random_grid)"
      ]
    },
    {
      "cell_type": "code",
      "execution_count": 10,
      "metadata": {
        "colab": {
          "base_uri": "https://localhost:8080/"
        },
        "id": "o0pTOuXIXPup",
        "outputId": "cca4c9f0-a27c-4b88-fb63-9a913d366b8b"
      },
      "outputs": [
        {
          "output_type": "stream",
          "name": "stdout",
          "text": [
            "Fitting 3 folds for each of 100 candidates, totalling 300 fits\n"
          ]
        },
        {
          "output_type": "stream",
          "name": "stderr",
          "text": [
            "/usr/local/lib/python3.10/dist-packages/sklearn/model_selection/_validation.py:540: FitFailedWarning: \n",
            "123 fits failed out of a total of 300.\n",
            "The score on these train-test partitions for these parameters will be set to nan.\n",
            "If these failures are not expected, you can try to debug them by setting error_score='raise'.\n",
            "\n",
            "Below are more details about the failures:\n",
            "--------------------------------------------------------------------------------\n",
            "123 fits failed with the following error:\n",
            "Traceback (most recent call last):\n",
            "  File \"/usr/local/lib/python3.10/dist-packages/sklearn/model_selection/_validation.py\", line 888, in _fit_and_score\n",
            "    estimator.fit(X_train, y_train, **fit_params)\n",
            "  File \"/usr/local/lib/python3.10/dist-packages/sklearn/base.py\", line 1466, in wrapper\n",
            "    estimator._validate_params()\n",
            "  File \"/usr/local/lib/python3.10/dist-packages/sklearn/base.py\", line 666, in _validate_params\n",
            "    validate_parameter_constraints(\n",
            "  File \"/usr/local/lib/python3.10/dist-packages/sklearn/utils/_param_validation.py\", line 95, in validate_parameter_constraints\n",
            "    raise InvalidParameterError(\n",
            "sklearn.utils._param_validation.InvalidParameterError: The 'max_features' parameter of RandomForestRegressor must be an int in the range [1, inf), a float in the range (0.0, 1.0], a str among {'log2', 'sqrt'} or None. Got 'auto' instead.\n",
            "\n",
            "  warnings.warn(some_fits_failed_message, FitFailedWarning)\n",
            "/usr/local/lib/python3.10/dist-packages/sklearn/model_selection/_search.py:1103: UserWarning: One or more of the test scores are non-finite: [-0.32190984 -0.32160731 -0.30350377         nan -0.35924888 -0.32469637\n",
            " -0.30250473 -0.28990839         nan         nan         nan -0.29320626\n",
            " -0.29865582 -0.30224684 -0.30891825         nan         nan -0.32357447\n",
            "         nan         nan -0.29862625 -0.29288785 -0.35958879         nan\n",
            " -0.29391464 -0.28666667         nan -0.33586138         nan -0.33469468\n",
            " -0.32758953 -0.3035461  -0.29320626 -0.36227763 -0.35817522 -0.30891825\n",
            " -0.33632096         nan         nan -0.33431945         nan -0.33949635\n",
            " -0.36039636 -0.36189063         nan -0.32357447         nan -0.32687256\n",
            " -0.32507631 -0.3018814          nan         nan         nan         nan\n",
            " -0.30358156 -0.32041973         nan         nan         nan -0.34061273\n",
            " -0.32815603 -0.35932232         nan         nan -0.32656375         nan\n",
            "         nan         nan -0.29954007         nan -0.32439685 -0.32469637\n",
            " -0.33454098         nan         nan -0.30676743 -0.32656375 -0.32159947\n",
            " -0.33586138         nan         nan         nan         nan         nan\n",
            " -0.32469637 -0.29570112 -0.32190984 -0.35924888 -0.36227763 -0.34148387\n",
            " -0.3247142  -0.3232355  -0.3223489          nan -0.32041973         nan\n",
            "         nan         nan -0.33438682         nan]\n",
            "  warnings.warn(\n",
            "/usr/local/lib/python3.10/dist-packages/sklearn/model_selection/_search.py:1103: UserWarning: One or more of the train scores are non-finite: [-0.13276357 -0.13091735 -0.04040371         nan -0.20777598 -0.09828073\n",
            " -0.04033097 -0.01996257         nan         nan         nan -0.02001699\n",
            " -0.06283369 -0.04004635 -0.08203088         nan         nan -0.11649645\n",
            "         nan         nan -0.06285689 -0.01979351 -0.20783112         nan\n",
            " -0.01995314  0.                 nan -0.15445899         nan -0.14808293\n",
            " -0.11097525 -0.03321217 -0.02001699 -0.21651796 -0.20733261 -0.08203088\n",
            " -0.15436996         nan         nan -0.14829412         nan -0.18363844\n",
            " -0.2076771  -0.21613583         nan -0.11649645         nan -0.1116428\n",
            " -0.09849371 -0.03271868         nan         nan         nan         nan\n",
            " -0.04022881 -0.0972413          nan         nan         nan -0.18519002\n",
            " -0.11822695 -0.20739704         nan         nan -0.16307755         nan\n",
            "         nan         nan -0.06356257         nan -0.09821183 -0.09828073\n",
            " -0.15411793         nan         nan -0.08194689 -0.16307755 -0.13090875\n",
            " -0.15445899         nan         nan         nan         nan         nan\n",
            " -0.09828073 -0.06332206 -0.13276357 -0.20777598 -0.21651796 -0.18569855\n",
            " -0.16213556 -0.09796198 -0.13202768         nan -0.0972413          nan\n",
            "         nan         nan -0.14871336         nan]\n",
            "  warnings.warn(\n"
          ]
        }
      ],
      "source": [
        "# Use the random grid to search for best hyperparameters\n",
        "# First create the base model to tune\n",
        "rf = RandomForestRegressor(random_state = 42)\n",
        "# Random search of parameters, using 3 fold cross validation,\n",
        "# search across 100 different combinations, and use all available cores\n",
        "rf_random = RandomizedSearchCV(estimator=rf, param_distributions=random_grid,\n",
        "                              n_iter = 100, scoring='neg_mean_absolute_error',\n",
        "                              cv = 3, verbose=2, random_state=42, n_jobs=-1,\n",
        "                              return_train_score=True)\n",
        "\n",
        "# Fit the random search model\n",
        "rf_random.fit(train_features, train_labels);"
      ]
    },
    {
      "cell_type": "code",
      "execution_count": 11,
      "metadata": {
        "colab": {
          "base_uri": "https://localhost:8080/"
        },
        "id": "beyRszI2XPuq",
        "outputId": "add24fef-1858-4033-c481-5b5191e671f0"
      },
      "outputs": [
        {
          "output_type": "execute_result",
          "data": {
            "text/plain": [
              "{'n_estimators': 400,\n",
              " 'min_samples_split': 2,\n",
              " 'min_samples_leaf': 1,\n",
              " 'max_features': 'sqrt',\n",
              " 'max_depth': None,\n",
              " 'bootstrap': False}"
            ]
          },
          "metadata": {},
          "execution_count": 11
        }
      ],
      "source": [
        "rf_random.best_params_"
      ]
    },
    {
      "cell_type": "code",
      "execution_count": 12,
      "metadata": {
        "colab": {
          "base_uri": "https://localhost:8080/"
        },
        "id": "Q_PMsfG2XPuq",
        "outputId": "591e1ebd-7a64-47f0-9f80-78fdc9fe507d",
        "collapsed": true
      },
      "outputs": [
        {
          "output_type": "execute_result",
          "data": {
            "text/plain": [
              "{'mean_fit_time': array([1.90766772e+00, 5.33578881e+00, 2.95812829e+00, 3.40167681e-03,\n",
              "        9.23552362e+00, 3.26091758e+00, 3.28485950e+00, 1.35257045e+00,\n",
              "        3.15197309e-03, 1.09195709e-03, 1.30375226e-03, 2.64054052e+00,\n",
              "        4.33877881e+00, 3.45584734e+00, 2.77538912e+00, 1.27911568e-03,\n",
              "        5.03420830e-03, 2.61208057e+00, 3.04373105e-03, 2.10404396e-03,\n",
              "        3.87681667e+00, 4.83780265e+00, 3.31232500e+00, 2.60066986e-03,\n",
              "        4.06518650e+00, 1.14056603e+00, 1.02639198e-03, 2.44722581e+00,\n",
              "        9.82284546e-04, 2.93763200e+00, 3.73559650e+00, 1.73203818e+00,\n",
              "        1.60067447e+00, 1.90869649e+00, 6.00532230e+00, 1.65522877e+00,\n",
              "        3.09359487e+00, 2.75270144e-03, 9.94920731e-04, 4.18621023e+00,\n",
              "        1.00882848e-03, 2.08356524e+00, 1.90724087e+00, 9.66357787e-01,\n",
              "        9.72032547e-04, 3.64231491e+00, 3.48536174e-03, 1.06446346e+00,\n",
              "        2.30344454e+00, 1.42483107e+00, 1.10912323e-03, 7.34663010e-03,\n",
              "        1.03370349e-03, 4.05152639e-03, 4.05030926e+00, 1.59635242e+00,\n",
              "        3.43092283e-03, 1.09322866e-03, 1.18947029e-03, 3.40622918e+00,\n",
              "        4.87923543e-01, 9.68002955e-01, 9.84827677e-04, 9.66707865e-04,\n",
              "        5.73324434e+00, 1.13169352e-03, 1.10745430e-03, 1.07304255e-03,\n",
              "        1.97289109e+00, 4.00980314e-03, 2.74028738e+00, 2.43798860e+00,\n",
              "        4.65721154e+00, 1.04594231e-03, 3.34318479e-03, 7.69879421e-01,\n",
              "        5.43308187e+00, 4.94206373e+00, 3.71403726e+00, 2.78504690e-03,\n",
              "        3.50308418e-03, 1.08098984e-03, 1.05500221e-03, 1.51920319e-03,\n",
              "        1.67154503e+00, 1.19288929e+00, 1.00137130e+00, 4.82630261e+00,\n",
              "        2.57049863e+00, 2.39228344e+00, 1.47514725e+00, 5.31001973e+00,\n",
              "        2.08422081e+00, 1.33434931e-03, 1.14136155e+00, 9.40004985e-04,\n",
              "        9.71078873e-04, 1.01057688e-03, 5.28830409e+00, 1.16650263e-03]),\n",
              " 'std_fit_time': array([1.50431290e-01, 4.28908018e-01, 6.99353641e-01, 2.50577992e-03,\n",
              "        8.53430768e-01, 9.98295943e-01, 4.90356079e-01, 1.92229660e-01,\n",
              "        2.38677601e-03, 6.02977508e-05, 3.26355780e-04, 2.73113942e-01,\n",
              "        4.85928450e-01, 2.55643459e-01, 2.61090868e-01, 8.68971671e-05,\n",
              "        4.53794518e-03, 1.05053348e-01, 2.55587924e-03, 1.56112812e-03,\n",
              "        4.33804235e-01, 1.19691236e+00, 2.22113519e-02, 2.08881959e-03,\n",
              "        9.53314984e-01, 2.56180139e-01, 6.75452921e-05, 1.29664200e-02,\n",
              "        6.69349280e-05, 6.83521211e-03, 3.26001596e-01, 1.98454451e-01,\n",
              "        8.73453230e-03, 2.84016471e-02, 1.05076941e+00, 1.74042131e-01,\n",
              "        1.59020493e-01, 2.57989407e-03, 3.75779751e-05, 2.36338330e-01,\n",
              "        4.70908717e-05, 6.09106550e-01, 1.17593229e-02, 2.25206578e-02,\n",
              "        3.02657025e-05, 5.12495158e-02, 3.16253907e-03, 2.17512124e-01,\n",
              "        2.28369052e-02, 3.43192536e-01, 3.99648143e-05, 4.56022948e-03,\n",
              "        6.03474846e-05, 1.59283159e-03, 1.04897716e+00, 3.22913947e-01,\n",
              "        3.41294293e-03, 4.22861338e-05, 1.68510163e-04, 2.53556925e-02,\n",
              "        8.53794704e-04, 1.00043192e-02, 6.48663109e-05, 5.35366370e-05,\n",
              "        1.29559580e+00, 7.29652612e-05, 8.48857200e-05, 6.47496559e-06,\n",
              "        1.54948515e-02, 2.13818072e-03, 1.36810680e-01, 5.40646097e-02,\n",
              "        2.10644178e-01, 3.67566916e-05, 3.21305095e-03, 1.14985724e-02,\n",
              "        7.21416690e-01, 4.13966621e-02, 9.20074067e-01, 2.13902345e-03,\n",
              "        3.43565861e-03, 1.99541775e-05, 2.11812690e-05, 6.18468119e-04,\n",
              "        9.61693603e-02, 1.53676990e-02, 1.04385564e-02, 1.27613360e+00,\n",
              "        4.47405391e-01, 4.84857803e-03, 3.28358815e-02, 5.90096335e-01,\n",
              "        1.82927372e-01, 2.91207666e-04, 1.36601939e-02, 5.20376731e-05,\n",
              "        2.09781255e-05, 2.09666816e-05, 7.03873552e-01, 1.85151877e-04]),\n",
              " 'mean_score_time': array([0.04514519, 0.14698068, 0.15948168, 0.        , 0.25142527,\n",
              "        0.10220989, 0.1375552 , 0.05380257, 0.        , 0.        ,\n",
              "        0.        , 0.08053915, 0.16110841, 0.17755405, 0.10047197,\n",
              "        0.        , 0.        , 0.07717403, 0.        , 0.        ,\n",
              "        0.15141042, 0.15980832, 0.10601012, 0.        , 0.18601211,\n",
              "        0.0333817 , 0.        , 0.07623061, 0.        , 0.08895898,\n",
              "        0.13322075, 0.07113417, 0.06225912, 0.06475115, 0.19117149,\n",
              "        0.06093256, 0.11544816, 0.        , 0.        , 0.08140461,\n",
              "        0.        , 0.04593976, 0.06179929, 0.03805383, 0.        ,\n",
              "        0.11738316, 0.        , 0.04250971, 0.09364883, 0.05284476,\n",
              "        0.        , 0.        , 0.        , 0.        , 0.14277204,\n",
              "        0.07015626, 0.        , 0.        , 0.        , 0.11240307,\n",
              "        0.01803096, 0.03398911, 0.        , 0.        , 0.12521807,\n",
              "        0.        , 0.        , 0.        , 0.08593162, 0.        ,\n",
              "        0.12406143, 0.10600098, 0.13516339, 0.        , 0.        ,\n",
              "        0.03253476, 0.16252597, 0.15374136, 0.13455908, 0.        ,\n",
              "        0.        , 0.        , 0.        , 0.        , 0.06446838,\n",
              "        0.04603092, 0.03283   , 0.14996592, 0.08243187, 0.07803893,\n",
              "        0.0517029 , 0.22182075, 0.0599002 , 0.        , 0.04828993,\n",
              "        0.        , 0.        , 0.        , 0.1683325 , 0.        ]),\n",
              " 'std_score_time': array([0.01529752, 0.00606094, 0.04907348, 0.        , 0.0808134 ,\n",
              "        0.05356898, 0.06368599, 0.01018447, 0.        , 0.        ,\n",
              "        0.        , 0.02625511, 0.01360769, 0.03427261, 0.02645498,\n",
              "        0.        , 0.        , 0.00372781, 0.        , 0.        ,\n",
              "        0.03015719, 0.05625222, 0.00258792, 0.        , 0.04214207,\n",
              "        0.00181547, 0.        , 0.00197798, 0.        , 0.00217333,\n",
              "        0.03506552, 0.00510114, 0.00372695, 0.00368802, 0.05921782,\n",
              "        0.00170567, 0.03791457, 0.        , 0.        , 0.00966112,\n",
              "        0.        , 0.0009547 , 0.00071293, 0.00595176, 0.        ,\n",
              "        0.05412431, 0.        , 0.01139152, 0.00489949, 0.00718062,\n",
              "        0.        , 0.        , 0.        , 0.        , 0.02294785,\n",
              "        0.02913107, 0.        , 0.        , 0.        , 0.00845565,\n",
              "        0.00060463, 0.00181749, 0.        , 0.        , 0.00704368,\n",
              "        0.        , 0.        , 0.        , 0.01201947, 0.        ,\n",
              "        0.03403589, 0.01407986, 0.0069646 , 0.        , 0.        ,\n",
              "        0.0004686 , 0.05575793, 0.01309414, 0.04390345, 0.        ,\n",
              "        0.        , 0.        , 0.        , 0.        , 0.00410401,\n",
              "        0.00216597, 0.00112864, 0.04615113, 0.03182106, 0.00141262,\n",
              "        0.00433464, 0.05728595, 0.00148966, 0.        , 0.00364943,\n",
              "        0.        , 0.        , 0.        , 0.07789275, 0.        ]),\n",
              " 'param_n_estimators': masked_array(data=[400, 2000, 1200, 2000, 1600, 800, 1000, 600, 1000,\n",
              "                    1800, 400, 800, 2000, 1600, 800, 1800, 600, 1000, 1800,\n",
              "                    600, 1800, 1600, 1400, 1800, 1400, 400, 1400, 1000,\n",
              "                    2000, 1200, 1200, 800, 800, 800, 1800, 800, 1200, 800,\n",
              "                    800, 1000, 200, 600, 800, 400, 200, 1000, 2000, 400,\n",
              "                    1200, 600, 1800, 2000, 1000, 1000, 1400, 600, 1600,\n",
              "                    1800, 1400, 1400, 200, 400, 1000, 1200, 1600, 1600,\n",
              "                    1800, 1400, 1000, 2000, 1400, 800, 1800, 400, 1600,\n",
              "                    400, 1600, 2000, 1000, 200, 2000, 600, 1000, 800, 800,\n",
              "                    600, 400, 1600, 800, 1000, 600, 2000, 800, 600, 600,\n",
              "                    400, 1000, 200, 2000, 2000],\n",
              "              mask=[False, False, False, False, False, False, False, False,\n",
              "                    False, False, False, False, False, False, False, False,\n",
              "                    False, False, False, False, False, False, False, False,\n",
              "                    False, False, False, False, False, False, False, False,\n",
              "                    False, False, False, False, False, False, False, False,\n",
              "                    False, False, False, False, False, False, False, False,\n",
              "                    False, False, False, False, False, False, False, False,\n",
              "                    False, False, False, False, False, False, False, False,\n",
              "                    False, False, False, False, False, False, False, False,\n",
              "                    False, False, False, False, False, False, False, False,\n",
              "                    False, False, False, False, False, False, False, False,\n",
              "                    False, False, False, False, False, False, False, False,\n",
              "                    False, False, False, False],\n",
              "        fill_value=999999),\n",
              " 'param_min_samples_split': masked_array(data=[5, 5, 5, 2, 2, 5, 5, 5, 2, 5, 10, 5, 10, 5, 10, 2, 5,\n",
              "                    2, 10, 5, 10, 5, 5, 2, 5, 2, 2, 5, 10, 2, 10, 2, 5, 10,\n",
              "                    2, 10, 5, 2, 5, 2, 5, 10, 2, 10, 5, 2, 2, 10, 2, 2, 2,\n",
              "                    10, 10, 5, 5, 2, 5, 2, 2, 10, 2, 2, 10, 10, 10, 10, 2,\n",
              "                    2, 10, 10, 2, 2, 5, 5, 5, 10, 10, 5, 5, 5, 2, 10, 5,\n",
              "                    10, 5, 10, 5, 2, 10, 10, 10, 5, 5, 2, 2, 10, 2, 5, 2,\n",
              "                    10],\n",
              "              mask=[False, False, False, False, False, False, False, False,\n",
              "                    False, False, False, False, False, False, False, False,\n",
              "                    False, False, False, False, False, False, False, False,\n",
              "                    False, False, False, False, False, False, False, False,\n",
              "                    False, False, False, False, False, False, False, False,\n",
              "                    False, False, False, False, False, False, False, False,\n",
              "                    False, False, False, False, False, False, False, False,\n",
              "                    False, False, False, False, False, False, False, False,\n",
              "                    False, False, False, False, False, False, False, False,\n",
              "                    False, False, False, False, False, False, False, False,\n",
              "                    False, False, False, False, False, False, False, False,\n",
              "                    False, False, False, False, False, False, False, False,\n",
              "                    False, False, False, False],\n",
              "        fill_value=999999),\n",
              " 'param_min_samples_leaf': masked_array(data=[1, 1, 2, 4, 4, 4, 2, 1, 1, 4, 4, 1, 1, 2, 2, 4, 2, 1,\n",
              "                    2, 1, 1, 1, 4, 2, 1, 1, 1, 2, 4, 2, 4, 2, 1, 4, 4, 2,\n",
              "                    2, 1, 2, 2, 4, 2, 4, 4, 2, 1, 2, 4, 4, 2, 1, 2, 4, 4,\n",
              "                    2, 4, 1, 2, 1, 2, 1, 4, 4, 2, 1, 2, 4, 2, 1, 2, 4, 4,\n",
              "                    2, 1, 1, 2, 1, 1, 2, 4, 4, 2, 4, 2, 4, 1, 1, 4, 4, 2,\n",
              "                    1, 4, 1, 4, 4, 2, 1, 4, 2, 2],\n",
              "              mask=[False, False, False, False, False, False, False, False,\n",
              "                    False, False, False, False, False, False, False, False,\n",
              "                    False, False, False, False, False, False, False, False,\n",
              "                    False, False, False, False, False, False, False, False,\n",
              "                    False, False, False, False, False, False, False, False,\n",
              "                    False, False, False, False, False, False, False, False,\n",
              "                    False, False, False, False, False, False, False, False,\n",
              "                    False, False, False, False, False, False, False, False,\n",
              "                    False, False, False, False, False, False, False, False,\n",
              "                    False, False, False, False, False, False, False, False,\n",
              "                    False, False, False, False, False, False, False, False,\n",
              "                    False, False, False, False, False, False, False, False,\n",
              "                    False, False, False, False],\n",
              "        fill_value=999999),\n",
              " 'param_max_features': masked_array(data=['sqrt', 'sqrt', 'sqrt', 'auto', 'sqrt', 'sqrt', 'sqrt',\n",
              "                    'sqrt', 'auto', 'auto', 'auto', 'sqrt', 'sqrt', 'sqrt',\n",
              "                    'sqrt', 'auto', 'auto', 'sqrt', 'auto', 'auto', 'sqrt',\n",
              "                    'sqrt', 'sqrt', 'auto', 'sqrt', 'sqrt', 'auto', 'sqrt',\n",
              "                    'auto', 'sqrt', 'sqrt', 'sqrt', 'sqrt', 'sqrt', 'sqrt',\n",
              "                    'sqrt', 'sqrt', 'auto', 'auto', 'sqrt', 'auto', 'sqrt',\n",
              "                    'sqrt', 'sqrt', 'auto', 'sqrt', 'auto', 'sqrt', 'sqrt',\n",
              "                    'sqrt', 'auto', 'auto', 'auto', 'auto', 'sqrt', 'sqrt',\n",
              "                    'auto', 'auto', 'auto', 'sqrt', 'sqrt', 'sqrt', 'auto',\n",
              "                    'auto', 'sqrt', 'auto', 'auto', 'auto', 'sqrt', 'auto',\n",
              "                    'sqrt', 'sqrt', 'sqrt', 'auto', 'auto', 'sqrt', 'sqrt',\n",
              "                    'sqrt', 'sqrt', 'auto', 'auto', 'auto', 'auto', 'auto',\n",
              "                    'sqrt', 'sqrt', 'sqrt', 'sqrt', 'sqrt', 'sqrt', 'sqrt',\n",
              "                    'sqrt', 'sqrt', 'auto', 'sqrt', 'auto', 'auto', 'auto',\n",
              "                    'sqrt', 'auto'],\n",
              "              mask=[False, False, False, False, False, False, False, False,\n",
              "                    False, False, False, False, False, False, False, False,\n",
              "                    False, False, False, False, False, False, False, False,\n",
              "                    False, False, False, False, False, False, False, False,\n",
              "                    False, False, False, False, False, False, False, False,\n",
              "                    False, False, False, False, False, False, False, False,\n",
              "                    False, False, False, False, False, False, False, False,\n",
              "                    False, False, False, False, False, False, False, False,\n",
              "                    False, False, False, False, False, False, False, False,\n",
              "                    False, False, False, False, False, False, False, False,\n",
              "                    False, False, False, False, False, False, False, False,\n",
              "                    False, False, False, False, False, False, False, False,\n",
              "                    False, False, False, False],\n",
              "        fill_value='?',\n",
              "             dtype=object),\n",
              " 'param_max_depth': masked_array(data=[30, 10, 10, 30, 10, 30, 100, 60, 50, 10, 70, 90, 10,\n",
              "                    10, 30, 50, 70, 20, 110, 80, 30, 70, 80, None, 80,\n",
              "                    None, 40, 20, 100, 20, 20, 50, 100, 50, 90, 20, 20,\n",
              "                    100, None, 60, 10, 60, 90, 90, 90, 110, 90, 80, 70,\n",
              "                    110, 20, 50, 50, 30, None, 60, 10, 80, 100, 80, 50, 10,\n",
              "                    80, None, 20, None, 10, 70, 80, 60, 80, 20, 60, 90, 90,\n",
              "                    90, None, 100, 10, 80, 60, 100, 100, None, 70, 40, 100,\n",
              "                    80, 100, 10, 110, None, 40, 40, 30, 40, 10, 100, 20,\n",
              "                    40],\n",
              "              mask=[False, False, False, False, False, False, False, False,\n",
              "                    False, False, False, False, False, False, False, False,\n",
              "                    False, False, False, False, False, False, False, False,\n",
              "                    False, False, False, False, False, False, False, False,\n",
              "                    False, False, False, False, False, False, False, False,\n",
              "                    False, False, False, False, False, False, False, False,\n",
              "                    False, False, False, False, False, False, False, False,\n",
              "                    False, False, False, False, False, False, False, False,\n",
              "                    False, False, False, False, False, False, False, False,\n",
              "                    False, False, False, False, False, False, False, False,\n",
              "                    False, False, False, False, False, False, False, False,\n",
              "                    False, False, False, False, False, False, False, False,\n",
              "                    False, False, False, False],\n",
              "        fill_value='?',\n",
              "             dtype=object),\n",
              " 'param_bootstrap': masked_array(data=[True, True, False, False, True, False, False, False,\n",
              "                    False, False, True, False, False, False, False, False,\n",
              "                    False, True, False, True, False, False, True, True,\n",
              "                    False, False, False, True, False, True, False, False,\n",
              "                    False, True, True, False, True, True, True, True, True,\n",
              "                    True, True, True, False, True, True, False, False,\n",
              "                    False, False, False, False, False, False, False, True,\n",
              "                    True, True, True, True, True, False, False, True, True,\n",
              "                    False, True, False, False, False, False, True, False,\n",
              "                    True, False, True, True, True, True, False, True, True,\n",
              "                    False, False, False, True, True, True, True, True,\n",
              "                    False, True, True, False, False, False, False, True,\n",
              "                    True],\n",
              "              mask=[False, False, False, False, False, False, False, False,\n",
              "                    False, False, False, False, False, False, False, False,\n",
              "                    False, False, False, False, False, False, False, False,\n",
              "                    False, False, False, False, False, False, False, False,\n",
              "                    False, False, False, False, False, False, False, False,\n",
              "                    False, False, False, False, False, False, False, False,\n",
              "                    False, False, False, False, False, False, False, False,\n",
              "                    False, False, False, False, False, False, False, False,\n",
              "                    False, False, False, False, False, False, False, False,\n",
              "                    False, False, False, False, False, False, False, False,\n",
              "                    False, False, False, False, False, False, False, False,\n",
              "                    False, False, False, False, False, False, False, False,\n",
              "                    False, False, False, False],\n",
              "        fill_value=True),\n",
              " 'params': [{'n_estimators': 400,\n",
              "   'min_samples_split': 5,\n",
              "   'min_samples_leaf': 1,\n",
              "   'max_features': 'sqrt',\n",
              "   'max_depth': 30,\n",
              "   'bootstrap': True},\n",
              "  {'n_estimators': 2000,\n",
              "   'min_samples_split': 5,\n",
              "   'min_samples_leaf': 1,\n",
              "   'max_features': 'sqrt',\n",
              "   'max_depth': 10,\n",
              "   'bootstrap': True},\n",
              "  {'n_estimators': 1200,\n",
              "   'min_samples_split': 5,\n",
              "   'min_samples_leaf': 2,\n",
              "   'max_features': 'sqrt',\n",
              "   'max_depth': 10,\n",
              "   'bootstrap': False},\n",
              "  {'n_estimators': 2000,\n",
              "   'min_samples_split': 2,\n",
              "   'min_samples_leaf': 4,\n",
              "   'max_features': 'auto',\n",
              "   'max_depth': 30,\n",
              "   'bootstrap': False},\n",
              "  {'n_estimators': 1600,\n",
              "   'min_samples_split': 2,\n",
              "   'min_samples_leaf': 4,\n",
              "   'max_features': 'sqrt',\n",
              "   'max_depth': 10,\n",
              "   'bootstrap': True},\n",
              "  {'n_estimators': 800,\n",
              "   'min_samples_split': 5,\n",
              "   'min_samples_leaf': 4,\n",
              "   'max_features': 'sqrt',\n",
              "   'max_depth': 30,\n",
              "   'bootstrap': False},\n",
              "  {'n_estimators': 1000,\n",
              "   'min_samples_split': 5,\n",
              "   'min_samples_leaf': 2,\n",
              "   'max_features': 'sqrt',\n",
              "   'max_depth': 100,\n",
              "   'bootstrap': False},\n",
              "  {'n_estimators': 600,\n",
              "   'min_samples_split': 5,\n",
              "   'min_samples_leaf': 1,\n",
              "   'max_features': 'sqrt',\n",
              "   'max_depth': 60,\n",
              "   'bootstrap': False},\n",
              "  {'n_estimators': 1000,\n",
              "   'min_samples_split': 2,\n",
              "   'min_samples_leaf': 1,\n",
              "   'max_features': 'auto',\n",
              "   'max_depth': 50,\n",
              "   'bootstrap': False},\n",
              "  {'n_estimators': 1800,\n",
              "   'min_samples_split': 5,\n",
              "   'min_samples_leaf': 4,\n",
              "   'max_features': 'auto',\n",
              "   'max_depth': 10,\n",
              "   'bootstrap': False},\n",
              "  {'n_estimators': 400,\n",
              "   'min_samples_split': 10,\n",
              "   'min_samples_leaf': 4,\n",
              "   'max_features': 'auto',\n",
              "   'max_depth': 70,\n",
              "   'bootstrap': True},\n",
              "  {'n_estimators': 800,\n",
              "   'min_samples_split': 5,\n",
              "   'min_samples_leaf': 1,\n",
              "   'max_features': 'sqrt',\n",
              "   'max_depth': 90,\n",
              "   'bootstrap': False},\n",
              "  {'n_estimators': 2000,\n",
              "   'min_samples_split': 10,\n",
              "   'min_samples_leaf': 1,\n",
              "   'max_features': 'sqrt',\n",
              "   'max_depth': 10,\n",
              "   'bootstrap': False},\n",
              "  {'n_estimators': 1600,\n",
              "   'min_samples_split': 5,\n",
              "   'min_samples_leaf': 2,\n",
              "   'max_features': 'sqrt',\n",
              "   'max_depth': 10,\n",
              "   'bootstrap': False},\n",
              "  {'n_estimators': 800,\n",
              "   'min_samples_split': 10,\n",
              "   'min_samples_leaf': 2,\n",
              "   'max_features': 'sqrt',\n",
              "   'max_depth': 30,\n",
              "   'bootstrap': False},\n",
              "  {'n_estimators': 1800,\n",
              "   'min_samples_split': 2,\n",
              "   'min_samples_leaf': 4,\n",
              "   'max_features': 'auto',\n",
              "   'max_depth': 50,\n",
              "   'bootstrap': False},\n",
              "  {'n_estimators': 600,\n",
              "   'min_samples_split': 5,\n",
              "   'min_samples_leaf': 2,\n",
              "   'max_features': 'auto',\n",
              "   'max_depth': 70,\n",
              "   'bootstrap': False},\n",
              "  {'n_estimators': 1000,\n",
              "   'min_samples_split': 2,\n",
              "   'min_samples_leaf': 1,\n",
              "   'max_features': 'sqrt',\n",
              "   'max_depth': 20,\n",
              "   'bootstrap': True},\n",
              "  {'n_estimators': 1800,\n",
              "   'min_samples_split': 10,\n",
              "   'min_samples_leaf': 2,\n",
              "   'max_features': 'auto',\n",
              "   'max_depth': 110,\n",
              "   'bootstrap': False},\n",
              "  {'n_estimators': 600,\n",
              "   'min_samples_split': 5,\n",
              "   'min_samples_leaf': 1,\n",
              "   'max_features': 'auto',\n",
              "   'max_depth': 80,\n",
              "   'bootstrap': True},\n",
              "  {'n_estimators': 1800,\n",
              "   'min_samples_split': 10,\n",
              "   'min_samples_leaf': 1,\n",
              "   'max_features': 'sqrt',\n",
              "   'max_depth': 30,\n",
              "   'bootstrap': False},\n",
              "  {'n_estimators': 1600,\n",
              "   'min_samples_split': 5,\n",
              "   'min_samples_leaf': 1,\n",
              "   'max_features': 'sqrt',\n",
              "   'max_depth': 70,\n",
              "   'bootstrap': False},\n",
              "  {'n_estimators': 1400,\n",
              "   'min_samples_split': 5,\n",
              "   'min_samples_leaf': 4,\n",
              "   'max_features': 'sqrt',\n",
              "   'max_depth': 80,\n",
              "   'bootstrap': True},\n",
              "  {'n_estimators': 1800,\n",
              "   'min_samples_split': 2,\n",
              "   'min_samples_leaf': 2,\n",
              "   'max_features': 'auto',\n",
              "   'max_depth': None,\n",
              "   'bootstrap': True},\n",
              "  {'n_estimators': 1400,\n",
              "   'min_samples_split': 5,\n",
              "   'min_samples_leaf': 1,\n",
              "   'max_features': 'sqrt',\n",
              "   'max_depth': 80,\n",
              "   'bootstrap': False},\n",
              "  {'n_estimators': 400,\n",
              "   'min_samples_split': 2,\n",
              "   'min_samples_leaf': 1,\n",
              "   'max_features': 'sqrt',\n",
              "   'max_depth': None,\n",
              "   'bootstrap': False},\n",
              "  {'n_estimators': 1400,\n",
              "   'min_samples_split': 2,\n",
              "   'min_samples_leaf': 1,\n",
              "   'max_features': 'auto',\n",
              "   'max_depth': 40,\n",
              "   'bootstrap': False},\n",
              "  {'n_estimators': 1000,\n",
              "   'min_samples_split': 5,\n",
              "   'min_samples_leaf': 2,\n",
              "   'max_features': 'sqrt',\n",
              "   'max_depth': 20,\n",
              "   'bootstrap': True},\n",
              "  {'n_estimators': 2000,\n",
              "   'min_samples_split': 10,\n",
              "   'min_samples_leaf': 4,\n",
              "   'max_features': 'auto',\n",
              "   'max_depth': 100,\n",
              "   'bootstrap': False},\n",
              "  {'n_estimators': 1200,\n",
              "   'min_samples_split': 2,\n",
              "   'min_samples_leaf': 2,\n",
              "   'max_features': 'sqrt',\n",
              "   'max_depth': 20,\n",
              "   'bootstrap': True},\n",
              "  {'n_estimators': 1200,\n",
              "   'min_samples_split': 10,\n",
              "   'min_samples_leaf': 4,\n",
              "   'max_features': 'sqrt',\n",
              "   'max_depth': 20,\n",
              "   'bootstrap': False},\n",
              "  {'n_estimators': 800,\n",
              "   'min_samples_split': 2,\n",
              "   'min_samples_leaf': 2,\n",
              "   'max_features': 'sqrt',\n",
              "   'max_depth': 50,\n",
              "   'bootstrap': False},\n",
              "  {'n_estimators': 800,\n",
              "   'min_samples_split': 5,\n",
              "   'min_samples_leaf': 1,\n",
              "   'max_features': 'sqrt',\n",
              "   'max_depth': 100,\n",
              "   'bootstrap': False},\n",
              "  {'n_estimators': 800,\n",
              "   'min_samples_split': 10,\n",
              "   'min_samples_leaf': 4,\n",
              "   'max_features': 'sqrt',\n",
              "   'max_depth': 50,\n",
              "   'bootstrap': True},\n",
              "  {'n_estimators': 1800,\n",
              "   'min_samples_split': 2,\n",
              "   'min_samples_leaf': 4,\n",
              "   'max_features': 'sqrt',\n",
              "   'max_depth': 90,\n",
              "   'bootstrap': True},\n",
              "  {'n_estimators': 800,\n",
              "   'min_samples_split': 10,\n",
              "   'min_samples_leaf': 2,\n",
              "   'max_features': 'sqrt',\n",
              "   'max_depth': 20,\n",
              "   'bootstrap': False},\n",
              "  {'n_estimators': 1200,\n",
              "   'min_samples_split': 5,\n",
              "   'min_samples_leaf': 2,\n",
              "   'max_features': 'sqrt',\n",
              "   'max_depth': 20,\n",
              "   'bootstrap': True},\n",
              "  {'n_estimators': 800,\n",
              "   'min_samples_split': 2,\n",
              "   'min_samples_leaf': 1,\n",
              "   'max_features': 'auto',\n",
              "   'max_depth': 100,\n",
              "   'bootstrap': True},\n",
              "  {'n_estimators': 800,\n",
              "   'min_samples_split': 5,\n",
              "   'min_samples_leaf': 2,\n",
              "   'max_features': 'auto',\n",
              "   'max_depth': None,\n",
              "   'bootstrap': True},\n",
              "  {'n_estimators': 1000,\n",
              "   'min_samples_split': 2,\n",
              "   'min_samples_leaf': 2,\n",
              "   'max_features': 'sqrt',\n",
              "   'max_depth': 60,\n",
              "   'bootstrap': True},\n",
              "  {'n_estimators': 200,\n",
              "   'min_samples_split': 5,\n",
              "   'min_samples_leaf': 4,\n",
              "   'max_features': 'auto',\n",
              "   'max_depth': 10,\n",
              "   'bootstrap': True},\n",
              "  {'n_estimators': 600,\n",
              "   'min_samples_split': 10,\n",
              "   'min_samples_leaf': 2,\n",
              "   'max_features': 'sqrt',\n",
              "   'max_depth': 60,\n",
              "   'bootstrap': True},\n",
              "  {'n_estimators': 800,\n",
              "   'min_samples_split': 2,\n",
              "   'min_samples_leaf': 4,\n",
              "   'max_features': 'sqrt',\n",
              "   'max_depth': 90,\n",
              "   'bootstrap': True},\n",
              "  {'n_estimators': 400,\n",
              "   'min_samples_split': 10,\n",
              "   'min_samples_leaf': 4,\n",
              "   'max_features': 'sqrt',\n",
              "   'max_depth': 90,\n",
              "   'bootstrap': True},\n",
              "  {'n_estimators': 200,\n",
              "   'min_samples_split': 5,\n",
              "   'min_samples_leaf': 2,\n",
              "   'max_features': 'auto',\n",
              "   'max_depth': 90,\n",
              "   'bootstrap': False},\n",
              "  {'n_estimators': 1000,\n",
              "   'min_samples_split': 2,\n",
              "   'min_samples_leaf': 1,\n",
              "   'max_features': 'sqrt',\n",
              "   'max_depth': 110,\n",
              "   'bootstrap': True},\n",
              "  {'n_estimators': 2000,\n",
              "   'min_samples_split': 2,\n",
              "   'min_samples_leaf': 2,\n",
              "   'max_features': 'auto',\n",
              "   'max_depth': 90,\n",
              "   'bootstrap': True},\n",
              "  {'n_estimators': 400,\n",
              "   'min_samples_split': 10,\n",
              "   'min_samples_leaf': 4,\n",
              "   'max_features': 'sqrt',\n",
              "   'max_depth': 80,\n",
              "   'bootstrap': False},\n",
              "  {'n_estimators': 1200,\n",
              "   'min_samples_split': 2,\n",
              "   'min_samples_leaf': 4,\n",
              "   'max_features': 'sqrt',\n",
              "   'max_depth': 70,\n",
              "   'bootstrap': False},\n",
              "  {'n_estimators': 600,\n",
              "   'min_samples_split': 2,\n",
              "   'min_samples_leaf': 2,\n",
              "   'max_features': 'sqrt',\n",
              "   'max_depth': 110,\n",
              "   'bootstrap': False},\n",
              "  {'n_estimators': 1800,\n",
              "   'min_samples_split': 2,\n",
              "   'min_samples_leaf': 1,\n",
              "   'max_features': 'auto',\n",
              "   'max_depth': 20,\n",
              "   'bootstrap': False},\n",
              "  {'n_estimators': 2000,\n",
              "   'min_samples_split': 10,\n",
              "   'min_samples_leaf': 2,\n",
              "   'max_features': 'auto',\n",
              "   'max_depth': 50,\n",
              "   'bootstrap': False},\n",
              "  {'n_estimators': 1000,\n",
              "   'min_samples_split': 10,\n",
              "   'min_samples_leaf': 4,\n",
              "   'max_features': 'auto',\n",
              "   'max_depth': 50,\n",
              "   'bootstrap': False},\n",
              "  {'n_estimators': 1000,\n",
              "   'min_samples_split': 5,\n",
              "   'min_samples_leaf': 4,\n",
              "   'max_features': 'auto',\n",
              "   'max_depth': 30,\n",
              "   'bootstrap': False},\n",
              "  {'n_estimators': 1400,\n",
              "   'min_samples_split': 5,\n",
              "   'min_samples_leaf': 2,\n",
              "   'max_features': 'sqrt',\n",
              "   'max_depth': None,\n",
              "   'bootstrap': False},\n",
              "  {'n_estimators': 600,\n",
              "   'min_samples_split': 2,\n",
              "   'min_samples_leaf': 4,\n",
              "   'max_features': 'sqrt',\n",
              "   'max_depth': 60,\n",
              "   'bootstrap': False},\n",
              "  {'n_estimators': 1600,\n",
              "   'min_samples_split': 5,\n",
              "   'min_samples_leaf': 1,\n",
              "   'max_features': 'auto',\n",
              "   'max_depth': 10,\n",
              "   'bootstrap': True},\n",
              "  {'n_estimators': 1800,\n",
              "   'min_samples_split': 2,\n",
              "   'min_samples_leaf': 2,\n",
              "   'max_features': 'auto',\n",
              "   'max_depth': 80,\n",
              "   'bootstrap': True},\n",
              "  {'n_estimators': 1400,\n",
              "   'min_samples_split': 2,\n",
              "   'min_samples_leaf': 1,\n",
              "   'max_features': 'auto',\n",
              "   'max_depth': 100,\n",
              "   'bootstrap': True},\n",
              "  {'n_estimators': 1400,\n",
              "   'min_samples_split': 10,\n",
              "   'min_samples_leaf': 2,\n",
              "   'max_features': 'sqrt',\n",
              "   'max_depth': 80,\n",
              "   'bootstrap': True},\n",
              "  {'n_estimators': 200,\n",
              "   'min_samples_split': 2,\n",
              "   'min_samples_leaf': 1,\n",
              "   'max_features': 'sqrt',\n",
              "   'max_depth': 50,\n",
              "   'bootstrap': True},\n",
              "  {'n_estimators': 400,\n",
              "   'min_samples_split': 2,\n",
              "   'min_samples_leaf': 4,\n",
              "   'max_features': 'sqrt',\n",
              "   'max_depth': 10,\n",
              "   'bootstrap': True},\n",
              "  {'n_estimators': 1000,\n",
              "   'min_samples_split': 10,\n",
              "   'min_samples_leaf': 4,\n",
              "   'max_features': 'auto',\n",
              "   'max_depth': 80,\n",
              "   'bootstrap': False},\n",
              "  {'n_estimators': 1200,\n",
              "   'min_samples_split': 10,\n",
              "   'min_samples_leaf': 2,\n",
              "   'max_features': 'auto',\n",
              "   'max_depth': None,\n",
              "   'bootstrap': False},\n",
              "  {'n_estimators': 1600,\n",
              "   'min_samples_split': 10,\n",
              "   'min_samples_leaf': 1,\n",
              "   'max_features': 'sqrt',\n",
              "   'max_depth': 20,\n",
              "   'bootstrap': True},\n",
              "  {'n_estimators': 1600,\n",
              "   'min_samples_split': 10,\n",
              "   'min_samples_leaf': 2,\n",
              "   'max_features': 'auto',\n",
              "   'max_depth': None,\n",
              "   'bootstrap': True},\n",
              "  {'n_estimators': 1800,\n",
              "   'min_samples_split': 2,\n",
              "   'min_samples_leaf': 4,\n",
              "   'max_features': 'auto',\n",
              "   'max_depth': 10,\n",
              "   'bootstrap': False},\n",
              "  {'n_estimators': 1400,\n",
              "   'min_samples_split': 2,\n",
              "   'min_samples_leaf': 2,\n",
              "   'max_features': 'auto',\n",
              "   'max_depth': 70,\n",
              "   'bootstrap': True},\n",
              "  {'n_estimators': 1000,\n",
              "   'min_samples_split': 10,\n",
              "   'min_samples_leaf': 1,\n",
              "   'max_features': 'sqrt',\n",
              "   'max_depth': 80,\n",
              "   'bootstrap': False},\n",
              "  {'n_estimators': 2000,\n",
              "   'min_samples_split': 10,\n",
              "   'min_samples_leaf': 2,\n",
              "   'max_features': 'auto',\n",
              "   'max_depth': 60,\n",
              "   'bootstrap': False},\n",
              "  {'n_estimators': 1400,\n",
              "   'min_samples_split': 2,\n",
              "   'min_samples_leaf': 4,\n",
              "   'max_features': 'sqrt',\n",
              "   'max_depth': 80,\n",
              "   'bootstrap': False},\n",
              "  {'n_estimators': 800,\n",
              "   'min_samples_split': 2,\n",
              "   'min_samples_leaf': 4,\n",
              "   'max_features': 'sqrt',\n",
              "   'max_depth': 20,\n",
              "   'bootstrap': False},\n",
              "  {'n_estimators': 1800,\n",
              "   'min_samples_split': 5,\n",
              "   'min_samples_leaf': 2,\n",
              "   'max_features': 'sqrt',\n",
              "   'max_depth': 60,\n",
              "   'bootstrap': True},\n",
              "  {'n_estimators': 400,\n",
              "   'min_samples_split': 5,\n",
              "   'min_samples_leaf': 1,\n",
              "   'max_features': 'auto',\n",
              "   'max_depth': 90,\n",
              "   'bootstrap': False},\n",
              "  {'n_estimators': 1600,\n",
              "   'min_samples_split': 5,\n",
              "   'min_samples_leaf': 1,\n",
              "   'max_features': 'auto',\n",
              "   'max_depth': 90,\n",
              "   'bootstrap': True},\n",
              "  {'n_estimators': 400,\n",
              "   'min_samples_split': 10,\n",
              "   'min_samples_leaf': 2,\n",
              "   'max_features': 'sqrt',\n",
              "   'max_depth': 90,\n",
              "   'bootstrap': False},\n",
              "  {'n_estimators': 1600,\n",
              "   'min_samples_split': 10,\n",
              "   'min_samples_leaf': 1,\n",
              "   'max_features': 'sqrt',\n",
              "   'max_depth': None,\n",
              "   'bootstrap': True},\n",
              "  {'n_estimators': 2000,\n",
              "   'min_samples_split': 5,\n",
              "   'min_samples_leaf': 1,\n",
              "   'max_features': 'sqrt',\n",
              "   'max_depth': 100,\n",
              "   'bootstrap': True},\n",
              "  {'n_estimators': 1000,\n",
              "   'min_samples_split': 5,\n",
              "   'min_samples_leaf': 2,\n",
              "   'max_features': 'sqrt',\n",
              "   'max_depth': 10,\n",
              "   'bootstrap': True},\n",
              "  {'n_estimators': 200,\n",
              "   'min_samples_split': 5,\n",
              "   'min_samples_leaf': 4,\n",
              "   'max_features': 'auto',\n",
              "   'max_depth': 80,\n",
              "   'bootstrap': True},\n",
              "  {'n_estimators': 2000,\n",
              "   'min_samples_split': 2,\n",
              "   'min_samples_leaf': 4,\n",
              "   'max_features': 'auto',\n",
              "   'max_depth': 60,\n",
              "   'bootstrap': False},\n",
              "  {'n_estimators': 600,\n",
              "   'min_samples_split': 10,\n",
              "   'min_samples_leaf': 2,\n",
              "   'max_features': 'auto',\n",
              "   'max_depth': 100,\n",
              "   'bootstrap': True},\n",
              "  {'n_estimators': 1000,\n",
              "   'min_samples_split': 5,\n",
              "   'min_samples_leaf': 4,\n",
              "   'max_features': 'auto',\n",
              "   'max_depth': 100,\n",
              "   'bootstrap': True},\n",
              "  {'n_estimators': 800,\n",
              "   'min_samples_split': 10,\n",
              "   'min_samples_leaf': 2,\n",
              "   'max_features': 'auto',\n",
              "   'max_depth': None,\n",
              "   'bootstrap': False},\n",
              "  {'n_estimators': 800,\n",
              "   'min_samples_split': 5,\n",
              "   'min_samples_leaf': 4,\n",
              "   'max_features': 'sqrt',\n",
              "   'max_depth': 70,\n",
              "   'bootstrap': False},\n",
              "  {'n_estimators': 600,\n",
              "   'min_samples_split': 10,\n",
              "   'min_samples_leaf': 1,\n",
              "   'max_features': 'sqrt',\n",
              "   'max_depth': 40,\n",
              "   'bootstrap': False},\n",
              "  {'n_estimators': 400,\n",
              "   'min_samples_split': 5,\n",
              "   'min_samples_leaf': 1,\n",
              "   'max_features': 'sqrt',\n",
              "   'max_depth': 100,\n",
              "   'bootstrap': True},\n",
              "  {'n_estimators': 1600,\n",
              "   'min_samples_split': 2,\n",
              "   'min_samples_leaf': 4,\n",
              "   'max_features': 'sqrt',\n",
              "   'max_depth': 80,\n",
              "   'bootstrap': True},\n",
              "  {'n_estimators': 800,\n",
              "   'min_samples_split': 10,\n",
              "   'min_samples_leaf': 4,\n",
              "   'max_features': 'sqrt',\n",
              "   'max_depth': 100,\n",
              "   'bootstrap': True},\n",
              "  {'n_estimators': 1000,\n",
              "   'min_samples_split': 10,\n",
              "   'min_samples_leaf': 2,\n",
              "   'max_features': 'sqrt',\n",
              "   'max_depth': 10,\n",
              "   'bootstrap': True},\n",
              "  {'n_estimators': 600,\n",
              "   'min_samples_split': 10,\n",
              "   'min_samples_leaf': 1,\n",
              "   'max_features': 'sqrt',\n",
              "   'max_depth': 110,\n",
              "   'bootstrap': True},\n",
              "  {'n_estimators': 2000,\n",
              "   'min_samples_split': 5,\n",
              "   'min_samples_leaf': 4,\n",
              "   'max_features': 'sqrt',\n",
              "   'max_depth': None,\n",
              "   'bootstrap': False},\n",
              "  {'n_estimators': 800,\n",
              "   'min_samples_split': 5,\n",
              "   'min_samples_leaf': 1,\n",
              "   'max_features': 'sqrt',\n",
              "   'max_depth': 40,\n",
              "   'bootstrap': True},\n",
              "  {'n_estimators': 600,\n",
              "   'min_samples_split': 2,\n",
              "   'min_samples_leaf': 4,\n",
              "   'max_features': 'auto',\n",
              "   'max_depth': 40,\n",
              "   'bootstrap': True},\n",
              "  {'n_estimators': 600,\n",
              "   'min_samples_split': 2,\n",
              "   'min_samples_leaf': 4,\n",
              "   'max_features': 'sqrt',\n",
              "   'max_depth': 30,\n",
              "   'bootstrap': False},\n",
              "  {'n_estimators': 400,\n",
              "   'min_samples_split': 10,\n",
              "   'min_samples_leaf': 2,\n",
              "   'max_features': 'auto',\n",
              "   'max_depth': 40,\n",
              "   'bootstrap': False},\n",
              "  {'n_estimators': 1000,\n",
              "   'min_samples_split': 2,\n",
              "   'min_samples_leaf': 1,\n",
              "   'max_features': 'auto',\n",
              "   'max_depth': 10,\n",
              "   'bootstrap': False},\n",
              "  {'n_estimators': 200,\n",
              "   'min_samples_split': 5,\n",
              "   'min_samples_leaf': 4,\n",
              "   'max_features': 'auto',\n",
              "   'max_depth': 100,\n",
              "   'bootstrap': False},\n",
              "  {'n_estimators': 2000,\n",
              "   'min_samples_split': 2,\n",
              "   'min_samples_leaf': 2,\n",
              "   'max_features': 'sqrt',\n",
              "   'max_depth': 20,\n",
              "   'bootstrap': True},\n",
              "  {'n_estimators': 2000,\n",
              "   'min_samples_split': 10,\n",
              "   'min_samples_leaf': 2,\n",
              "   'max_features': 'auto',\n",
              "   'max_depth': 40,\n",
              "   'bootstrap': True}],\n",
              " 'split0_test_score': array([-0.33242439, -0.32783118, -0.30910668,         nan, -0.36989326,\n",
              "        -0.33449715, -0.30837234, -0.29599882,         nan,         nan,\n",
              "                nan, -0.2977305 , -0.3020975 , -0.30399424, -0.31414515,\n",
              "                nan,         nan, -0.3293617 ,         nan,         nan,\n",
              "        -0.30190146, -0.29273715, -0.37213224,         nan, -0.2956155 ,\n",
              "        -0.2912766 ,         nan, -0.34233242,         nan, -0.34349702,\n",
              "        -0.33143443, -0.3112367 , -0.2977305 , -0.3714103 , -0.3672383 ,\n",
              "        -0.31414515, -0.34387578,         nan,         nan, -0.34137352,\n",
              "                nan, -0.34810507, -0.37368848, -0.37388938,         nan,\n",
              "        -0.3293617 ,         nan, -0.3313948 , -0.33275979, -0.31091017,\n",
              "                nan,         nan,         nan,         nan, -0.30654129,\n",
              "        -0.32879762,         nan,         nan,         nan, -0.34791312,\n",
              "        -0.34191489, -0.37660916,         nan,         nan, -0.33093032,\n",
              "                nan,         nan,         nan, -0.30456802,         nan,\n",
              "        -0.33087021, -0.33449715, -0.34016021,         nan,         nan,\n",
              "        -0.31579194, -0.33093032, -0.32780767, -0.34233242,         nan,\n",
              "                nan,         nan,         nan,         nan, -0.33449715,\n",
              "        -0.30526797, -0.33242439, -0.36989326, -0.3714103 , -0.34692838,\n",
              "        -0.33168536, -0.32924217, -0.32841302,         nan, -0.32879762,\n",
              "                nan,         nan,         nan, -0.34309262,         nan]),\n",
              " 'split1_test_score': array([-0.31920477, -0.32465982, -0.3054897 ,         nan, -0.35884956,\n",
              "        -0.32967522, -0.30387234, -0.29475177,         nan,         nan,\n",
              "                nan, -0.29547429, -0.30299091, -0.30475779, -0.3076198 ,\n",
              "                nan,         nan, -0.32155319,         nan,         nan,\n",
              "        -0.30339894, -0.29686835, -0.35795548,         nan, -0.29821175,\n",
              "        -0.29478723,         nan, -0.33340323,         nan, -0.33294295,\n",
              "        -0.3324467 , -0.30380762, -0.29547429, -0.35511501, -0.35919006,\n",
              "        -0.3076198 , -0.33649448,         nan,         nan, -0.33037789,\n",
              "                nan, -0.33889706, -0.35333775, -0.3546904 ,         nan,\n",
              "        -0.32155319,         nan, -0.33731527, -0.32925346, -0.30479314,\n",
              "                nan,         nan,         nan,         nan, -0.3070542 ,\n",
              "        -0.32792916,         nan,         nan,         nan, -0.34332235,\n",
              "        -0.31840426, -0.35044661,         nan,         nan, -0.32982219,\n",
              "                nan,         nan,         nan, -0.29983844,         nan,\n",
              "        -0.32939123, -0.32967522, -0.33705269,         nan,         nan,\n",
              "        -0.31291133, -0.32982219, -0.32465982, -0.33340323,         nan,\n",
              "                nan,         nan,         nan,         nan, -0.32967522,\n",
              "        -0.30019453, -0.31920477, -0.35884956, -0.35511501, -0.34125053,\n",
              "        -0.32435037, -0.32696522, -0.3189    ,         nan, -0.32792916,\n",
              "                nan,         nan,         nan, -0.33625384,         nan]),\n",
              " 'split2_test_score': array([-0.31410037, -0.31233093, -0.29591494,         nan, -0.34900383,\n",
              "        -0.30991673, -0.2952695 , -0.27897459,         nan,         nan,\n",
              "                nan, -0.28641401, -0.29087906, -0.29798851, -0.30498979,\n",
              "                nan,         nan, -0.31980851,         nan,         nan,\n",
              "        -0.29057836, -0.28905807, -0.34867865,         nan, -0.28791667,\n",
              "        -0.27393617,         nan, -0.33184848,         nan, -0.32764408,\n",
              "        -0.31888747, -0.29559397, -0.28641401, -0.36030757, -0.3480973 ,\n",
              "        -0.30498979, -0.32859263,         nan,         nan, -0.33120694,\n",
              "                nan, -0.33148691, -0.35416284, -0.35709211,         nan,\n",
              "        -0.31980851,         nan, -0.31190761, -0.31321568, -0.2899409 ,\n",
              "                nan,         nan,         nan,         nan, -0.29714919,\n",
              "        -0.30453242,         nan,         nan,         nan, -0.33060271,\n",
              "        -0.32414894, -0.35091118,         nan,         nan, -0.31893874,\n",
              "                nan,         nan,         nan, -0.29421375,         nan,\n",
              "        -0.31292911, -0.30991673, -0.32641004,         nan,         nan,\n",
              "        -0.29159902, -0.31893874, -0.31233093, -0.33184848,         nan,\n",
              "                nan,         nan,         nan,         nan, -0.30991673,\n",
              "        -0.28164086, -0.31410037, -0.34900383, -0.36030757, -0.3362727 ,\n",
              "        -0.31810687, -0.31349911, -0.31973368,         nan, -0.30453242,\n",
              "                nan,         nan,         nan, -0.32381401,         nan]),\n",
              " 'mean_test_score': array([-0.32190984, -0.32160731, -0.30350377,         nan, -0.35924888,\n",
              "        -0.32469637, -0.30250473, -0.28990839,         nan,         nan,\n",
              "                nan, -0.29320626, -0.29865582, -0.30224684, -0.30891825,\n",
              "                nan,         nan, -0.32357447,         nan,         nan,\n",
              "        -0.29862625, -0.29288785, -0.35958879,         nan, -0.29391464,\n",
              "        -0.28666667,         nan, -0.33586138,         nan, -0.33469468,\n",
              "        -0.32758953, -0.3035461 , -0.29320626, -0.36227763, -0.35817522,\n",
              "        -0.30891825, -0.33632096,         nan,         nan, -0.33431945,\n",
              "                nan, -0.33949635, -0.36039636, -0.36189063,         nan,\n",
              "        -0.32357447,         nan, -0.32687256, -0.32507631, -0.3018814 ,\n",
              "                nan,         nan,         nan,         nan, -0.30358156,\n",
              "        -0.32041973,         nan,         nan,         nan, -0.34061273,\n",
              "        -0.32815603, -0.35932232,         nan,         nan, -0.32656375,\n",
              "                nan,         nan,         nan, -0.29954007,         nan,\n",
              "        -0.32439685, -0.32469637, -0.33454098,         nan,         nan,\n",
              "        -0.30676743, -0.32656375, -0.32159947, -0.33586138,         nan,\n",
              "                nan,         nan,         nan,         nan, -0.32469637,\n",
              "        -0.29570112, -0.32190984, -0.35924888, -0.36227763, -0.34148387,\n",
              "        -0.3247142 , -0.3232355 , -0.3223489 ,         nan, -0.32041973,\n",
              "                nan,         nan,         nan, -0.33438682,         nan]),\n",
              " 'std_test_score': array([0.00772142, 0.00668594, 0.00556558,        nan, 0.00853274,\n",
              "        0.01063457, 0.00543592, 0.00774811,        nan,        nan,\n",
              "               nan, 0.00489038, 0.00551109, 0.00302719, 0.00384877,\n",
              "               nan,        nan, 0.00415372,        nan,        nan,\n",
              "        0.00572347, 0.00319032, 0.00964429,        nan, 0.00437164,\n",
              "        0.0091152 ,        nan, 0.00461953,        nan, 0.0065894 ,\n",
              "        0.00616715, 0.00638879, 0.00489038, 0.00679681, 0.00784716,\n",
              "        0.00384877, 0.00624052,        nan,        nan, 0.00499945,\n",
              "               nan, 0.00679755, 0.00940499, 0.00854086,        nan,\n",
              "        0.00415372,        nan, 0.01085435, 0.00850802, 0.00880478,\n",
              "               nan,        nan,        nan,        nan, 0.00455319,\n",
              "        0.01123962,        nan,        nan,        nan, 0.00732207,\n",
              "        0.01000767, 0.01222512,        nan,        nan, 0.00541064,\n",
              "               nan,        nan,        nan, 0.00423237,        nan,\n",
              "        0.00813136, 0.01063457, 0.00588774,        nan,        nan,\n",
              "        0.01078997, 0.00541064, 0.00667865, 0.00461953,        nan,\n",
              "               nan,        nan,        nan,        nan, 0.01063457,\n",
              "        0.01015556, 0.00772142, 0.00853274, 0.00679681, 0.00435329,\n",
              "        0.00554936, 0.00694714, 0.00430146,        nan, 0.01123962,\n",
              "               nan,        nan,        nan, 0.00798042,        nan]),\n",
              " 'rank_test_score': array([24, 23, 14, 60, 52, 31, 13,  2, 60, 60, 60,  4,  9, 12, 18, 60, 60,\n",
              "        28, 60, 60,  8,  3, 55, 60,  6,  1, 60, 45, 60, 44, 39, 15,  4, 58,\n",
              "        51, 18, 47, 60, 60, 41, 60, 48, 56, 57, 60, 28, 60, 38, 35, 11, 60,\n",
              "        60, 60, 60, 16, 20, 60, 60, 60, 49, 40, 54, 60, 60, 36, 60, 60, 60,\n",
              "        10, 60, 30, 31, 43, 60, 60, 17, 36, 22, 45, 60, 60, 60, 60, 60, 31,\n",
              "         7, 24, 52, 58, 50, 34, 27, 26, 60, 20, 60, 60, 60, 42, 60],\n",
              "       dtype=int32),\n",
              " 'split0_train_score': array([-0.13362127, -0.13033495, -0.04029108,         nan, -0.20584736,\n",
              "        -0.09921669, -0.04035993, -0.02048168,         nan,         nan,\n",
              "                nan, -0.02074468, -0.06391681, -0.03919659, -0.08382227,\n",
              "                nan,         nan, -0.11405319,         nan,         nan,\n",
              "        -0.06396126, -0.02016512, -0.20741062,         nan, -0.02062057,\n",
              "        -0.        ,         nan, -0.15214383,         nan, -0.14638922,\n",
              "        -0.11112883, -0.03340426, -0.02074468, -0.21492899, -0.20506777,\n",
              "        -0.08382227, -0.15278836,         nan,         nan, -0.14524629,\n",
              "                nan, -0.18394226, -0.20710719, -0.21593222,         nan,\n",
              "        -0.11405319,         nan, -0.11225127, -0.09902562, -0.03332151,\n",
              "                nan,         nan,         nan,         nan, -0.03981636,\n",
              "        -0.09819723,         nan,         nan,         nan, -0.18482485,\n",
              "        -0.12      , -0.20979351,         nan,         nan, -0.16172969,\n",
              "                nan,         nan,         nan, -0.06550296,         nan,\n",
              "        -0.09835323, -0.09921669, -0.15176897,         nan,         nan,\n",
              "        -0.08407113, -0.16172969, -0.13030915, -0.15214383,         nan,\n",
              "                nan,         nan,         nan,         nan, -0.09921669,\n",
              "        -0.06530647, -0.13362127, -0.20584736, -0.21492899, -0.18406721,\n",
              "        -0.1611494 , -0.09756251, -0.13114973,         nan, -0.09819723,\n",
              "                nan,         nan,         nan, -0.14736063,         nan]),\n",
              " 'split1_train_score': array([-0.13335382, -0.13219574, -0.04143638,         nan, -0.20979164,\n",
              "        -0.10067724, -0.0413156 , -0.01956265,         nan,         nan,\n",
              "                nan, -0.01962323, -0.06511367, -0.04119364, -0.08367867,\n",
              "                nan,         nan, -0.11592553,         nan,         nan,\n",
              "        -0.06538884, -0.01945479, -0.20933307,         nan, -0.01971125,\n",
              "        -0.        ,         nan, -0.15467039,         nan, -0.14802514,\n",
              "        -0.11306436, -0.03425089, -0.01962323, -0.21432477, -0.20950298,\n",
              "        -0.08367867, -0.15494859,         nan,         nan, -0.14801836,\n",
              "                nan, -0.18464166, -0.2067414 , -0.21280889,         nan,\n",
              "        -0.11592553,         nan, -0.11618003, -0.10050308, -0.03359929,\n",
              "                nan,         nan,         nan,         nan, -0.04155648,\n",
              "        -0.09985512,         nan,         nan,         nan, -0.18750172,\n",
              "        -0.11617021, -0.20400982,         nan,         nan, -0.16548669,\n",
              "                nan,         nan,         nan, -0.06499794,         nan,\n",
              "        -0.10064901, -0.10067724, -0.15556089,         nan,         nan,\n",
              "        -0.08592245, -0.16548669, -0.13219574, -0.15467039,         nan,\n",
              "                nan,         nan,         nan,         nan, -0.10067724,\n",
              "        -0.06557361, -0.13335382, -0.20979164, -0.21432477, -0.18644255,\n",
              "        -0.16298359, -0.10000458, -0.13162185,         nan, -0.09985512,\n",
              "                nan,         nan,         nan, -0.14947918,         nan]),\n",
              " 'split2_train_score': array([-0.1313156 , -0.13022136, -0.03948366,         nan, -0.20768894,\n",
              "        -0.09494826, -0.03931738, -0.01984338,         nan,         nan,\n",
              "                nan, -0.01968307, -0.05947059, -0.03974883, -0.0785917 ,\n",
              "                nan,         nan, -0.11951064,         nan,         nan,\n",
              "        -0.05922057, -0.01976064, -0.20674966,         nan, -0.01952761,\n",
              "        -0.        ,         nan, -0.15656275,         nan, -0.14983443,\n",
              "        -0.10873254, -0.03198138, -0.01968307, -0.22030012, -0.20742709,\n",
              "        -0.0785917 , -0.15537292,         nan,         nan, -0.15161771,\n",
              "                nan, -0.18233142, -0.20918271, -0.21966638,         nan,\n",
              "        -0.11951064,         nan, -0.10649711, -0.09595242, -0.03123522,\n",
              "                nan,         nan,         nan,         nan, -0.03931358,\n",
              "        -0.09367156,         nan,         nan,         nan, -0.1832435 ,\n",
              "        -0.11851064, -0.2083878 ,         nan,         nan, -0.16201628,\n",
              "                nan,         nan,         nan, -0.0601868 ,         nan,\n",
              "        -0.09563323, -0.09494826, -0.15502395,         nan,         nan,\n",
              "        -0.0758471 , -0.16201628, -0.13022136, -0.15656275,         nan,\n",
              "                nan,         nan,         nan,         nan, -0.09494826,\n",
              "        -0.05908609, -0.1313156 , -0.20768894, -0.22030012, -0.18658589,\n",
              "        -0.16227368, -0.09631884, -0.13331145,         nan, -0.09367156,\n",
              "                nan,         nan,         nan, -0.14930027,         nan]),\n",
              " 'mean_train_score': array([-0.13276357, -0.13091735, -0.04040371,         nan, -0.20777598,\n",
              "        -0.09828073, -0.04033097, -0.01996257,         nan,         nan,\n",
              "                nan, -0.02001699, -0.06283369, -0.04004635, -0.08203088,\n",
              "                nan,         nan, -0.11649645,         nan,         nan,\n",
              "        -0.06285689, -0.01979351, -0.20783112,         nan, -0.01995314,\n",
              "         0.        ,         nan, -0.15445899,         nan, -0.14808293,\n",
              "        -0.11097525, -0.03321217, -0.02001699, -0.21651796, -0.20733261,\n",
              "        -0.08203088, -0.15436996,         nan,         nan, -0.14829412,\n",
              "                nan, -0.18363844, -0.2076771 , -0.21613583,         nan,\n",
              "        -0.11649645,         nan, -0.1116428 , -0.09849371, -0.03271868,\n",
              "                nan,         nan,         nan,         nan, -0.04022881,\n",
              "        -0.0972413 ,         nan,         nan,         nan, -0.18519002,\n",
              "        -0.11822695, -0.20739704,         nan,         nan, -0.16307755,\n",
              "                nan,         nan,         nan, -0.06356257,         nan,\n",
              "        -0.09821183, -0.09828073, -0.15411793,         nan,         nan,\n",
              "        -0.08194689, -0.16307755, -0.13090875, -0.15445899,         nan,\n",
              "                nan,         nan,         nan,         nan, -0.09828073,\n",
              "        -0.06332206, -0.13276357, -0.20777598, -0.21651796, -0.18569855,\n",
              "        -0.16213556, -0.09796198, -0.13202768,         nan, -0.0972413 ,\n",
              "                nan,         nan,         nan, -0.14871336,         nan]),\n",
              " 'std_train_score': array([0.00102967, 0.00090515, 0.00080116,        nan, 0.00161142,\n",
              "        0.00243068, 0.00081603, 0.00038454,        nan,        nan,\n",
              "               nan, 0.00051513, 0.00242775, 0.000842  , 0.00243257,\n",
              "               nan,        nan, 0.00226427,        nan,        nan,\n",
              "        0.00263649, 0.00029092, 0.00109578,        nan, 0.00047786,\n",
              "        0.        ,        nan, 0.0018102 ,        nan, 0.0014071 ,\n",
              "        0.00177179, 0.00093642, 0.00051513, 0.00268574, 0.0018119 ,\n",
              "        0.00243257, 0.00113169,        nan,        nan, 0.00260842,\n",
              "               nan, 0.00096731, 0.00107505, 0.00280326,        nan,\n",
              "        0.00226427,        nan, 0.00397638, 0.00189549, 0.00105507,\n",
              "               nan,        nan,        nan,        nan, 0.00096099,\n",
              "        0.00261335,        nan,        nan,        nan, 0.00175748,\n",
              "        0.00157632, 0.00246292,        nan,        nan, 0.00170753,\n",
              "               nan,        nan,        nan, 0.00239592,        nan,\n",
              "        0.00205012, 0.00243068, 0.00167537,        nan,        nan,\n",
              "        0.00437893, 0.00170753, 0.00091074, 0.0018102 ,        nan,\n",
              "               nan,        nan,        nan,        nan, 0.00243068,\n",
              "        0.00299726, 0.00102967, 0.00161142, 0.00268574, 0.00115501,\n",
              "        0.00075515, 0.00153098, 0.000928  ,        nan, 0.00261335,\n",
              "               nan,        nan,        nan, 0.00095931,        nan])}"
            ]
          },
          "metadata": {},
          "execution_count": 12
        }
      ],
      "source": [
        "rf_random.cv_results_"
      ]
    },
    {
      "cell_type": "markdown",
      "metadata": {
        "id": "hw9MtVT0XPur"
      },
      "source": [
        "## Evaluation Function"
      ]
    },
    {
      "cell_type": "code",
      "execution_count": 13,
      "metadata": {
        "collapsed": true,
        "id": "HZbpz704XPur"
      },
      "outputs": [],
      "source": [
        "def evaluate(model, test_features, test_labels):\n",
        "    predictions = model.predict(test_features)\n",
        "    errors = abs(predictions - test_labels)\n",
        "    mape = 100 * np.mean(errors / test_labels)\n",
        "    accuracy = 100 - mape\n",
        "    print('Model Performance')\n",
        "    print('Average Error: {:0.4f} degrees.'.format(np.mean(errors)))\n",
        "    print('Accuracy = {:0.2f}%.'.format(accuracy))\n",
        "\n",
        "    return accuracy"
      ]
    },
    {
      "cell_type": "markdown",
      "metadata": {
        "id": "tC42o415XPus"
      },
      "source": [
        "#### Evaluate the Default Model"
      ]
    },
    {
      "cell_type": "code",
      "execution_count": 14,
      "metadata": {
        "colab": {
          "base_uri": "https://localhost:8080/"
        },
        "id": "Tfzk4a1AXPus",
        "outputId": "b2261326-c151-4d29-a044-9f14d2b1cf18"
      },
      "outputs": [
        {
          "output_type": "stream",
          "name": "stdout",
          "text": [
            "Model Performance\n",
            "Average Error: 0.0000 degrees.\n",
            "Accuracy = 100.00%.\n"
          ]
        }
      ],
      "source": [
        "base_model = RandomForestRegressor(n_estimators = 10, random_state = 42)\n",
        "base_model.fit(train_features, train_labels)\n",
        "base_accuracy = evaluate(base_model, test_features, test_labels)"
      ]
    },
    {
      "cell_type": "markdown",
      "metadata": {
        "id": "xOzbfZ33XPut"
      },
      "source": [
        "#### Evaluate the Best Random Search Model"
      ]
    },
    {
      "cell_type": "code",
      "execution_count": 15,
      "metadata": {
        "colab": {
          "base_uri": "https://localhost:8080/"
        },
        "id": "_nFVNMr-XPut",
        "outputId": "755c23ff-f27d-4d6f-b575-806b95cbdcd8"
      },
      "outputs": [
        {
          "output_type": "stream",
          "name": "stdout",
          "text": [
            "Model Performance\n",
            "Average Error: 0.2724 degrees.\n",
            "Accuracy = 93.92%.\n"
          ]
        }
      ],
      "source": [
        "best_random = rf_random.best_estimator_\n",
        "random_accuracy = evaluate(best_random, test_features, test_labels)"
      ]
    },
    {
      "cell_type": "code",
      "execution_count": 16,
      "metadata": {
        "colab": {
          "base_uri": "https://localhost:8080/"
        },
        "id": "7QtAqvr2XPut",
        "outputId": "58da74bd-640e-4f14-b086-97ca9f6b04a2"
      },
      "outputs": [
        {
          "output_type": "stream",
          "name": "stdout",
          "text": [
            "Improvement of -6.08%.\n"
          ]
        }
      ],
      "source": [
        "print('Improvement of {:0.2f}%.'.format( 100 * (random_accuracy - base_accuracy) / base_accuracy))"
      ]
    },
    {
      "cell_type": "markdown",
      "metadata": {
        "id": "kunHlBYuXPuu"
      },
      "source": [
        "# Grid Search\n",
        "\n",
        "We can now perform grid search building on the result from the random search.\n",
        "We will test a range of hyperparameters around the best values returned by random search."
      ]
    },
    {
      "cell_type": "code",
      "execution_count": 21,
      "metadata": {
        "id": "xXyXcSXHXPuu"
      },
      "outputs": [],
      "source": [
        "from sklearn.model_selection import GridSearchCV\n",
        "\n",
        "# Create the parameter grid based on the results of random search\n",
        "param_grid = {\n",
        "    'bootstrap': [False],\n",
        "    'max_depth': [None],\n",
        "    'max_features': [2,3],\n",
        "    'min_samples_leaf': [1],\n",
        "    'min_samples_split': [2],\n",
        "    'n_estimators': [400]\n",
        "}\n",
        "\n",
        "# Create a base model\n",
        "rf = RandomForestRegressor(random_state = 42)\n",
        "\n",
        "# Instantiate the grid search model\n",
        "grid_search = GridSearchCV(estimator = rf, param_grid = param_grid,\n",
        "                          cv = 3, n_jobs = -1, verbose = 2, return_train_score=True)"
      ]
    },
    {
      "cell_type": "code",
      "execution_count": 22,
      "metadata": {
        "colab": {
          "base_uri": "https://localhost:8080/"
        },
        "id": "2uInea2PXPuv",
        "outputId": "f2b29bc2-23ae-42d6-b197-527e0cfd6978"
      },
      "outputs": [
        {
          "output_type": "stream",
          "name": "stdout",
          "text": [
            "Fitting 3 folds for each of 2 candidates, totalling 6 fits\n"
          ]
        }
      ],
      "source": [
        "# Fit the grid search to the data\n",
        "grid_search.fit(train_features, train_labels);"
      ]
    },
    {
      "cell_type": "code",
      "execution_count": 23,
      "metadata": {
        "colab": {
          "base_uri": "https://localhost:8080/"
        },
        "id": "z6TeiWxOXPuv",
        "outputId": "9feacfd2-e682-428d-8b1f-beafb560efaa"
      },
      "outputs": [
        {
          "output_type": "execute_result",
          "data": {
            "text/plain": [
              "{'bootstrap': False,\n",
              " 'max_depth': None,\n",
              " 'max_features': 3,\n",
              " 'min_samples_leaf': 1,\n",
              " 'min_samples_split': 2,\n",
              " 'n_estimators': 400}"
            ]
          },
          "metadata": {},
          "execution_count": 23
        }
      ],
      "source": [
        "grid_search.best_params_"
      ]
    },
    {
      "cell_type": "markdown",
      "metadata": {
        "id": "DVRNmO8RXPuw"
      },
      "source": [
        "#### Evaluate the Best Model from Grid Search"
      ]
    },
    {
      "cell_type": "code",
      "execution_count": 24,
      "metadata": {
        "colab": {
          "base_uri": "https://localhost:8080/"
        },
        "id": "nbx5YW0rXPuw",
        "outputId": "b95a652d-e644-4500-9402-7404eb9b87f5"
      },
      "outputs": [
        {
          "output_type": "stream",
          "name": "stdout",
          "text": [
            "Model Performance\n",
            "Average Error: 0.4166 degrees.\n",
            "Accuracy = 90.64%.\n"
          ]
        }
      ],
      "source": [
        "best_grid = grid_search.best_estimator_\n",
        "grid_accuracy = evaluate(best_grid, test_features, test_labels)"
      ]
    },
    {
      "cell_type": "code",
      "execution_count": 25,
      "metadata": {
        "colab": {
          "base_uri": "https://localhost:8080/"
        },
        "id": "xQXILn6cXPux",
        "outputId": "9f3923fa-b761-442b-ec7b-8d31a4aad883"
      },
      "outputs": [
        {
          "output_type": "stream",
          "name": "stdout",
          "text": [
            "Improvement of -9.36%.\n"
          ]
        }
      ],
      "source": [
        "print('Improvement of {:0.2f}%.'.format( 100 * (grid_accuracy - base_accuracy) / base_accuracy))"
      ]
    },
    {
      "cell_type": "markdown",
      "metadata": {
        "id": "olhMrGwxXPuy"
      },
      "source": [
        "## Another Round of Grid Search"
      ]
    },
    {
      "cell_type": "code",
      "execution_count": 26,
      "metadata": {
        "colab": {
          "base_uri": "https://localhost:8080/"
        },
        "id": "8_rKUGjLXPuy",
        "outputId": "48f728d7-debf-4f0c-9d8b-1dc9585c58ec"
      },
      "outputs": [
        {
          "output_type": "stream",
          "name": "stdout",
          "text": [
            "Fitting 3 folds for each of 54 candidates, totalling 162 fits\n"
          ]
        }
      ],
      "source": [
        "param_grid = {\n",
        "    'bootstrap': [True],\n",
        "    'max_depth': [110, 120, None],\n",
        "    'max_features': [3, 4],\n",
        "    'min_samples_leaf': [5, 6, 7],\n",
        "    'min_samples_split': [10],\n",
        "    'n_estimators': [75, 100, 125]\n",
        "}\n",
        "\n",
        "# Create a base model\n",
        "rf = RandomForestRegressor(random_state = 42)\n",
        "\n",
        "# Instantiate the grid search model\n",
        "grid_search_final = GridSearchCV(estimator = rf, param_grid = param_grid,\n",
        "                                 cv = 3, n_jobs = -1, verbose = 2, return_train_score=True)\n",
        "\n",
        "grid_search_final.fit(train_features, train_labels);"
      ]
    },
    {
      "cell_type": "code",
      "execution_count": null,
      "metadata": {
        "colab": {
          "base_uri": "https://localhost:8080/"
        },
        "id": "3dXIkeY3XPuz",
        "outputId": "8ead4752-3f28-48a2-c6f0-0bb7c4d54caf"
      },
      "outputs": [
        {
          "output_type": "execute_result",
          "data": {
            "text/plain": [
              "{'bootstrap': True,\n",
              " 'max_depth': 110,\n",
              " 'max_features': 3,\n",
              " 'min_samples_leaf': 6,\n",
              " 'min_samples_split': 10,\n",
              " 'n_estimators': 75}"
            ]
          },
          "metadata": {},
          "execution_count": 24
        }
      ],
      "source": [
        "grid_search_final.best_params_"
      ]
    },
    {
      "cell_type": "code",
      "execution_count": null,
      "metadata": {
        "colab": {
          "base_uri": "https://localhost:8080/"
        },
        "id": "wBPfvDOJXPu0",
        "outputId": "e20052ba-0641-451f-f1ef-057d6eff2581"
      },
      "outputs": [
        {
          "output_type": "stream",
          "name": "stdout",
          "text": [
            "Model Performance\n",
            "Average Error: 0.4490 degrees.\n",
            "Accuracy = 89.92%.\n"
          ]
        }
      ],
      "source": [
        "best_grid_final = grid_search_final.best_estimator_\n",
        "grid_final_accuracy = evaluate(best_grid_final, test_features, test_labels)"
      ]
    },
    {
      "cell_type": "code",
      "execution_count": null,
      "metadata": {
        "colab": {
          "base_uri": "https://localhost:8080/"
        },
        "id": "x7etfiWEXPu1",
        "outputId": "caf23417-a46f-4243-e82a-661f3e022163"
      },
      "outputs": [
        {
          "output_type": "stream",
          "name": "stdout",
          "text": [
            "Improvement of -10.08%.\n"
          ]
        }
      ],
      "source": [
        "print('Improvement of {:0.2f}%.'.format( 100 * (grid_final_accuracy - base_accuracy) / base_accuracy))"
      ]
    },
    {
      "cell_type": "markdown",
      "metadata": {
        "id": "K4Vi8EsWXPu2"
      },
      "source": [
        "A very slight improvement in accuracy means we have reached the point of diminishing returns from tuning. We will stop here and use this as our final model."
      ]
    },
    {
      "cell_type": "markdown",
      "metadata": {
        "id": "MC8NgUT0XPu2"
      },
      "source": [
        "## Final Model\n",
        "\n",
        "The final model from hyperparameter tuning is as follows."
      ]
    },
    {
      "cell_type": "code",
      "execution_count": 57,
      "metadata": {
        "colab": {
          "base_uri": "https://localhost:8080/"
        },
        "id": "h_oYZJadXPu3",
        "outputId": "9f5b18e9-70d3-4582-e271-89368986b2d5"
      },
      "outputs": [
        {
          "output_type": "stream",
          "name": "stdout",
          "text": [
            "Final Model Parameters:\n",
            "\n",
            "{'bootstrap': False,\n",
            " 'ccp_alpha': 0.0,\n",
            " 'criterion': 'squared_error',\n",
            " 'max_depth': None,\n",
            " 'max_features': 3,\n",
            " 'max_leaf_nodes': None,\n",
            " 'max_samples': None,\n",
            " 'min_impurity_decrease': 0.0,\n",
            " 'min_samples_leaf': 1,\n",
            " 'min_samples_split': 2,\n",
            " 'min_weight_fraction_leaf': 0.0,\n",
            " 'monotonic_cst': None,\n",
            " 'n_estimators': 400,\n",
            " 'n_jobs': None,\n",
            " 'oob_score': False,\n",
            " 'random_state': 42,\n",
            " 'verbose': 0,\n",
            " 'warm_start': False}\n",
            "\n",
            "\n",
            "Model Performance\n",
            "Average Error: 0.4166 degrees.\n",
            "Accuracy = 90.64%.\n"
          ]
        }
      ],
      "source": [
        "final_model = grid_search.best_estimator_\n",
        "\n",
        "print('Final Model Parameters:\\n')\n",
        "pprint(final_model.get_params())\n",
        "print('\\n')\n",
        "grid_final_accuracy = evaluate(final_model, test_features, test_labels)"
      ]
    },
    {
      "cell_type": "markdown",
      "metadata": {
        "collapsed": true,
        "id": "EdVonnQ5XPu4"
      },
      "source": [
        "## Comparison of All Improvement Techniques\n",
        "\n",
        "Finally, we can make comparisons between the improvement techniques to determine which ones were most effective."
      ]
    },
    {
      "cell_type": "code",
      "execution_count": 27,
      "metadata": {
        "collapsed": true,
        "id": "8CyjuG5KXPu5"
      },
      "outputs": [],
      "source": [
        "# Time used for evaluating model run times\n",
        "import time"
      ]
    },
    {
      "cell_type": "code",
      "execution_count": 28,
      "metadata": {
        "collapsed": true,
        "id": "2rDNlW-PXPu6"
      },
      "outputs": [],
      "source": [
        "# Evaluate run time and prediction accuracy\n",
        "def evaluate_model(model, x_train, y_train, x_test, y_test):\n",
        "    n_trees = model.get_params()['n_estimators']\n",
        "    n_features = x_train.shape[1]\n",
        "\n",
        "    # Train and predict 10 times to evaluate time and accuracy\n",
        "    predictions = []\n",
        "    run_times = []\n",
        "    for _ in range(10):\n",
        "        start_time = time.time()\n",
        "        model.fit(x_train, y_train)\n",
        "        predictions.append(model.predict(x_test))\n",
        "\n",
        "        end_time = time.time()\n",
        "        run_times.append(end_time - start_time)\n",
        "\n",
        "    # Run time and predictions need to be averaged\n",
        "    run_time = np.mean(run_times)\n",
        "    predictions = np.mean(np.array(predictions), axis = 0)\n",
        "\n",
        "    # Calculate performance metrics\n",
        "    errors = abs(predictions - y_test)\n",
        "    mean_error = np.mean(errors)\n",
        "    mape = 100 * np.mean(errors / y_test)\n",
        "    accuracy = 100 - mape\n",
        "\n",
        "    # Return results in a dictionary\n",
        "    results = {'time': run_time, 'error': mean_error, 'accuracy': accuracy, 'n_trees': n_trees, 'n_features': n_features}\n",
        "    print(results)\n"
      ]
    },
    {
      "cell_type": "markdown",
      "metadata": {
        "id": "9rsjBnp-XPvC"
      },
      "source": [
        "### Random Search Best Model"
      ]
    },
    {
      "cell_type": "code",
      "execution_count": 29,
      "metadata": {
        "colab": {
          "base_uri": "https://localhost:8080/"
        },
        "id": "ErVroNfiXPvC",
        "outputId": "715e15d5-8c0a-4a31-d279-bd67d69f6e7a"
      },
      "outputs": [
        {
          "output_type": "stream",
          "name": "stdout",
          "text": [
            "{'time': 0.8338524103164673, 'error': 0.27244680851063846, 'accuracy': 93.91968085106383, 'n_trees': 400, 'n_features': 416}\n"
          ]
        }
      ],
      "source": [
        "random_results = evaluate_model(best_random, train_features, train_labels, test_features, test_labels)"
      ]
    },
    {
      "cell_type": "code",
      "source": [
        "original_features = pd.read_csv('/content/Sheet 1-1-EEG.psychiatric control & behvaior.csv')\n",
        "original_features = pd.get_dummies(original_features)\n",
        "\n",
        "original_labels = np.array(original_features['specific_disorder'])\n",
        "original_features= original_features.drop('specific_disorder', axis = 1)\n",
        "\n",
        "original_feature_list = list(original_features.columns)\n",
        "original_features = np.array(original_features)\n",
        "\n",
        "original_train_features, original_test_features, original_train_labels, original_test_labels = train_test_split(original_features, original_labels, test_size = 0.25, random_state = 42)\n",
        "\n",
        "# Need to keep only those features the one year model was trained on\n",
        "one_test_features = full_features_test[original_feature_list]\n",
        "one_test_features = np.array(one_test_features)\n",
        "\n",
        "full_labels_test = np.array(full_labels_test)\n",
        "\n",
        "# Default model\n",
        "rf = RandomForestRegressor(n_estimators= 10, random_state=42)\n",
        "\n",
        "# Results for model trained on one year of data\n"
      ],
      "metadata": {
        "id": "vvt8PD8ZpCYa"
      },
      "execution_count": 43,
      "outputs": []
    },
    {
      "cell_type": "code",
      "execution_count": 45,
      "metadata": {
        "id": "Dw1wWT-MXPvD"
      },
      "outputs": [],
      "source": [
        "random_results"
      ]
    },
    {
      "cell_type": "markdown",
      "metadata": {
        "id": "ofS8eaQBXPvD"
      },
      "source": [
        "### First Grid Search Best Model"
      ]
    },
    {
      "cell_type": "code",
      "execution_count": 47,
      "metadata": {
        "collapsed": true,
        "colab": {
          "base_uri": "https://localhost:8080/"
        },
        "id": "xDKAnPWSXPvE",
        "outputId": "6c44b883-c11a-40ba-d5ad-77251d9b5cdb"
      },
      "outputs": [
        {
          "output_type": "stream",
          "name": "stdout",
          "text": [
            "{'time': 0.5647247314453125, 'error': 0.4166489361702128, 'accuracy': 90.63962765957447, 'n_trees': 400, 'n_features': 416}\n"
          ]
        }
      ],
      "source": [
        "first_grid_results = evaluate_model(best_grid, train_features, train_labels, test_features, test_labels)\n"
      ]
    },
    {
      "cell_type": "code",
      "execution_count": 48,
      "metadata": {
        "id": "Agw-3gumXPvE"
      },
      "outputs": [],
      "source": [
        "first_grid_results"
      ]
    },
    {
      "cell_type": "markdown",
      "metadata": {
        "id": "e_Bq4_zHXPvE"
      },
      "source": [
        "### Second Grid Search Best Model"
      ]
    },
    {
      "cell_type": "markdown",
      "metadata": {
        "id": "jykPcFE-XPvF"
      },
      "source": [
        "# Comparison"
      ]
    },
    {
      "cell_type": "markdown",
      "metadata": {
        "id": "l5mJdOlLXPvI"
      },
      "source": [
        "## Plotting"
      ]
    },
    {
      "cell_type": "code",
      "execution_count": 52,
      "metadata": {
        "collapsed": true,
        "id": "wnc55TrdXPvI"
      },
      "outputs": [],
      "source": [
        "import matplotlib.pyplot as plt\n",
        "import seaborn as sns\n",
        "%matplotlib inline\n",
        "\n",
        "plt.style.use('fivethirtyeight')"
      ]
    },
    {
      "cell_type": "markdown",
      "metadata": {
        "id": "OHZuEcJbXPvI"
      },
      "source": [
        "### Model Comparison Plot"
      ]
    },
    {
      "cell_type": "code",
      "execution_count": 58,
      "metadata": {
        "colab": {
          "base_uri": "https://localhost:8080/",
          "height": 766
        },
        "id": "kU5mTviBXPvJ",
        "outputId": "ca0f136d-956f-47d0-cb75-971042555cf3"
      },
      "outputs": [
        {
          "output_type": "error",
          "ename": "TypeError",
          "evalue": "list indices must be integers or slices, not str",
          "traceback": [
            "\u001b[0;31m---------------------------------------------------------------------------\u001b[0m",
            "\u001b[0;31mTypeError\u001b[0m                                 Traceback (most recent call last)",
            "\u001b[0;32m<ipython-input-58-2822ec9fc2ee>\u001b[0m in \u001b[0;36m<cell line: 5>\u001b[0;34m()\u001b[0m\n\u001b[1;32m      3\u001b[0m \u001b[0mplt\u001b[0m\u001b[0;34m.\u001b[0m\u001b[0msubplot\u001b[0m\u001b[0;34m(\u001b[0m\u001b[0;36m121\u001b[0m\u001b[0;34m)\u001b[0m\u001b[0;34m\u001b[0m\u001b[0;34m\u001b[0m\u001b[0m\n\u001b[1;32m      4\u001b[0m \u001b[0mplt\u001b[0m\u001b[0;34m.\u001b[0m\u001b[0mbar\u001b[0m\u001b[0;34m(\u001b[0m\u001b[0mxvalues\u001b[0m\u001b[0;34m,\u001b[0m \u001b[0;34m[\u001b[0m\u001b[0;34m'accuracy'\u001b[0m\u001b[0;34m]\u001b[0m\u001b[0;34m,\u001b[0m \u001b[0mcolor\u001b[0m \u001b[0;34m=\u001b[0m \u001b[0;34m'g'\u001b[0m\u001b[0;34m,\u001b[0m \u001b[0medgecolor\u001b[0m \u001b[0;34m=\u001b[0m \u001b[0;34m'k'\u001b[0m\u001b[0;34m,\u001b[0m \u001b[0mlinewidth\u001b[0m \u001b[0;34m=\u001b[0m \u001b[0;36m1.8\u001b[0m\u001b[0;34m)\u001b[0m\u001b[0;34m\u001b[0m\u001b[0;34m\u001b[0m\u001b[0m\n\u001b[0;32m----> 5\u001b[0;31m \u001b[0mplt\u001b[0m\u001b[0;34m.\u001b[0m\u001b[0mxticks\u001b[0m\u001b[0;34m(\u001b[0m\u001b[0mxvalues\u001b[0m\u001b[0;34m,\u001b[0m \u001b[0mfinal_model\u001b[0m\u001b[0;34m[\u001b[0m\u001b[0;34m'model'\u001b[0m\u001b[0;34m]\u001b[0m\u001b[0;34m,\u001b[0m \u001b[0mrotation\u001b[0m \u001b[0;34m=\u001b[0m \u001b[0;36m45\u001b[0m\u001b[0;34m,\u001b[0m \u001b[0mfontsize\u001b[0m \u001b[0;34m=\u001b[0m \u001b[0;36m12\u001b[0m\u001b[0;34m)\u001b[0m\u001b[0;34m\u001b[0m\u001b[0;34m\u001b[0m\u001b[0m\n\u001b[0m\u001b[1;32m      6\u001b[0m \u001b[0mplt\u001b[0m\u001b[0;34m.\u001b[0m\u001b[0mylim\u001b[0m\u001b[0;34m(\u001b[0m\u001b[0mymin\u001b[0m \u001b[0;34m=\u001b[0m \u001b[0;36m91\u001b[0m\u001b[0;34m,\u001b[0m \u001b[0mymax\u001b[0m \u001b[0;34m=\u001b[0m \u001b[0;36m94\u001b[0m\u001b[0;34m)\u001b[0m\u001b[0;34m\u001b[0m\u001b[0;34m\u001b[0m\u001b[0m\n\u001b[1;32m      7\u001b[0m \u001b[0mplt\u001b[0m\u001b[0;34m.\u001b[0m\u001b[0mxlabel\u001b[0m\u001b[0;34m(\u001b[0m\u001b[0;34m'model'\u001b[0m\u001b[0;34m)\u001b[0m\u001b[0;34m;\u001b[0m \u001b[0mplt\u001b[0m\u001b[0;34m.\u001b[0m\u001b[0mylabel\u001b[0m\u001b[0;34m(\u001b[0m\u001b[0;34m'Accuracy (%)'\u001b[0m\u001b[0;34m)\u001b[0m\u001b[0;34m;\u001b[0m \u001b[0mplt\u001b[0m\u001b[0;34m.\u001b[0m\u001b[0mtitle\u001b[0m\u001b[0;34m(\u001b[0m\u001b[0;34m'Accuracy Comparison'\u001b[0m\u001b[0;34m)\u001b[0m\u001b[0;34m;\u001b[0m\u001b[0;34m\u001b[0m\u001b[0;34m\u001b[0m\u001b[0m\n",
            "\u001b[0;32m/usr/local/lib/python3.10/dist-packages/sklearn/ensemble/_base.py\u001b[0m in \u001b[0;36m__getitem__\u001b[0;34m(self, index)\u001b[0m\n\u001b[1;32m    160\u001b[0m     \u001b[0;32mdef\u001b[0m \u001b[0m__getitem__\u001b[0m\u001b[0;34m(\u001b[0m\u001b[0mself\u001b[0m\u001b[0;34m,\u001b[0m \u001b[0mindex\u001b[0m\u001b[0;34m)\u001b[0m\u001b[0;34m:\u001b[0m\u001b[0;34m\u001b[0m\u001b[0;34m\u001b[0m\u001b[0m\n\u001b[1;32m    161\u001b[0m         \u001b[0;34m\"\"\"Return the index'th estimator in the ensemble.\"\"\"\u001b[0m\u001b[0;34m\u001b[0m\u001b[0;34m\u001b[0m\u001b[0m\n\u001b[0;32m--> 162\u001b[0;31m         \u001b[0;32mreturn\u001b[0m \u001b[0mself\u001b[0m\u001b[0;34m.\u001b[0m\u001b[0mestimators_\u001b[0m\u001b[0;34m[\u001b[0m\u001b[0mindex\u001b[0m\u001b[0;34m]\u001b[0m\u001b[0;34m\u001b[0m\u001b[0;34m\u001b[0m\u001b[0m\n\u001b[0m\u001b[1;32m    163\u001b[0m \u001b[0;34m\u001b[0m\u001b[0m\n\u001b[1;32m    164\u001b[0m     \u001b[0;32mdef\u001b[0m \u001b[0m__iter__\u001b[0m\u001b[0;34m(\u001b[0m\u001b[0mself\u001b[0m\u001b[0;34m)\u001b[0m\u001b[0;34m:\u001b[0m\u001b[0;34m\u001b[0m\u001b[0;34m\u001b[0m\u001b[0m\n",
            "\u001b[0;31mTypeError\u001b[0m: list indices must be integers or slices, not str"
          ]
        },
        {
          "output_type": "display_data",
          "data": {
            "text/plain": [
              "<Figure size 1000x600 with 2 Axes>"
            ],
            "image/png": "[encoded data removed]"
          },
          "metadata": {}
        }
      ],
      "source": [
        "xvalues = list(range(len(final_model)))\n",
        "plt.subplots(1, 2, figsize=(10, 6))\n",
        "plt.subplot(121)\n",
        "plt.bar(xvalues, ['accuracy'], color = 'g', edgecolor = 'k', linewidth = 1.8)\n",
        "plt.xticks(xvalues, final_model['model'], rotation = 45, fontsize = 12)\n",
        "plt.ylim(ymin = 91, ymax = 94)\n",
        "plt.xlabel('model'); plt.ylabel('Accuracy (%)'); plt.title('Accuracy Comparison');\n",
        "\n",
        "plt.subplot(122)\n",
        "plt.bar(xvalues, final_model['error'], color = 'r', edgecolor = 'k', linewidth = 1.8)\n",
        "plt.xticks(xvalues, final_model['model'], rotation = 45)\n",
        "plt.ylim(ymin = 3.5, ymax = 4.8)\n",
        "plt.xlabel('model'); plt.ylabel('Error (deg)'); plt.title('Error Comparison');\n",
        "plt.show();"
      ]
    },
    {
      "cell_type": "markdown",
      "metadata": {
        "id": "NBQxLEnpXPvJ"
      },
      "source": [
        "# Training Curves\n",
        "\n",
        "We can perform grid search over only one parameter to observe the effects of changing that parameter on performance. We will look at training time, training set accuracy, and testing set accuracy."
      ]
    },
    {
      "cell_type": "markdown",
      "metadata": {
        "id": "7B1URrk6XPvJ"
      },
      "source": [
        "#### Number of Trees"
      ]
    },
    {
      "cell_type": "code",
      "execution_count": 64,
      "metadata": {
        "colab": {
          "base_uri": "https://localhost:8080/"
        },
        "id": "xgPT9YocXPvK",
        "outputId": "ec4b0f65-7e47-40c7-89be-fd6ca660e33b"
      },
      "outputs": [
        {
          "output_type": "stream",
          "name": "stdout",
          "text": [
            "Fitting 3 folds for each of 30 candidates, totalling 90 fits\n"
          ]
        }
      ],
      "source": [
        "# Grid with only the number of trees changed\n",
        "tree_grid = {'n_estimators': [int(x) for x in np.linspace(1, 301, 30)]}\n",
        "\n",
        "# Create the grid search model and fit to the training data\n",
        "tree_grid_search = GridSearchCV(final_model, param_grid=tree_grid, verbose = 2, n_jobs=-1, cv = 3,\n",
        "                                scoring = 'neg_mean_absolute_error', return_train_score=True)\n",
        "tree_grid_search.fit(train_features, train_labels);"
      ]
    },
    {
      "cell_type": "code",
      "execution_count": 65,
      "metadata": {
        "colab": {
          "base_uri": "https://localhost:8080/"
        },
        "id": "r2VHRpSeXPvK",
        "outputId": "6c27c945-46b6-421c-c706-40535afb36bc"
      },
      "outputs": [
        {
          "output_type": "execute_result",
          "data": {
            "text/plain": [
              "{'mean_fit_time': array([0.01608157, 0.09204014, 0.072028  , 0.18522127, 0.12369959,\n",
              "        0.19185766, 0.27765147, 0.16591175, 0.38761592, 0.59165605,\n",
              "        0.63280551, 0.6634833 , 0.6142629 , 0.61976234, 0.49094017,\n",
              "        0.46073763, 0.54389159, 0.28079343, 0.30662807, 0.31743526,\n",
              "        0.33226283, 0.35277788, 0.36025111, 0.38197271, 0.40472086,\n",
              "        0.41001781, 0.46676358, 0.57098579, 1.40410129, 0.7849009 ]),\n",
              " 'std_fit_time': array([0.00613123, 0.02407057, 0.02634578, 0.002877  , 0.04146037,\n",
              "        0.05131535, 0.03400012, 0.04254972, 0.02045559, 0.06258334,\n",
              "        0.04647569, 0.12349949, 0.01490874, 0.15203084, 0.06948748,\n",
              "        0.0687576 , 0.20042509, 0.00678643, 0.0068739 , 0.0195113 ,\n",
              "        0.00820614, 0.01909782, 0.00632593, 0.00986019, 0.01283518,\n",
              "        0.01081609, 0.0106139 , 0.10577986, 0.4293488 , 0.08159331]),\n",
              " 'mean_score_time': array([0.01427611, 0.01545636, 0.00973018, 0.01980718, 0.00879661,\n",
              "        0.01288621, 0.01332291, 0.01616359, 0.03163195, 0.04900344,\n",
              "        0.02625791, 0.0396951 , 0.04696584, 0.04487236, 0.02137327,\n",
              "        0.0207781 , 0.01942595, 0.01872977, 0.01920382, 0.02095318,\n",
              "        0.01947228, 0.02105745, 0.02106261, 0.02278558, 0.02313312,\n",
              "        0.02417318, 0.02476549, 0.03302773, 0.07246065, 0.04793191]),\n",
              " 'std_score_time': array([0.00866467, 0.01253113, 0.00668462, 0.00461671, 0.0027425 ,\n",
              "        0.00405083, 0.00457031, 0.01059087, 0.00871258, 0.00793882,\n",
              "        0.00458363, 0.00711226, 0.01236532, 0.00325963, 0.01028833,\n",
              "        0.00562578, 0.00470567, 0.00241869, 0.00241296, 0.00280313,\n",
              "        0.00036397, 0.0001796 , 0.00049305, 0.00147423, 0.00040404,\n",
              "        0.00081492, 0.00048019, 0.01200134, 0.04677188, 0.01226483]),\n",
              " 'param_n_estimators': masked_array(data=[1, 11, 21, 32, 42, 52, 63, 73, 83, 94, 104, 114, 125,\n",
              "                    135, 145, 156, 166, 176, 187, 197, 207, 218, 228, 238,\n",
              "                    249, 259, 269, 280, 290, 301],\n",
              "              mask=[False, False, False, False, False, False, False, False,\n",
              "                    False, False, False, False, False, False, False, False,\n",
              "                    False, False, False, False, False, False, False, False,\n",
              "                    False, False, False, False, False, False],\n",
              "        fill_value=999999),\n",
              " 'params': [{'n_estimators': 1},\n",
              "  {'n_estimators': 11},\n",
              "  {'n_estimators': 21},\n",
              "  {'n_estimators': 32},\n",
              "  {'n_estimators': 42},\n",
              "  {'n_estimators': 52},\n",
              "  {'n_estimators': 63},\n",
              "  {'n_estimators': 73},\n",
              "  {'n_estimators': 83},\n",
              "  {'n_estimators': 94},\n",
              "  {'n_estimators': 104},\n",
              "  {'n_estimators': 114},\n",
              "  {'n_estimators': 125},\n",
              "  {'n_estimators': 135},\n",
              "  {'n_estimators': 145},\n",
              "  {'n_estimators': 156},\n",
              "  {'n_estimators': 166},\n",
              "  {'n_estimators': 176},\n",
              "  {'n_estimators': 187},\n",
              "  {'n_estimators': 197},\n",
              "  {'n_estimators': 207},\n",
              "  {'n_estimators': 218},\n",
              "  {'n_estimators': 228},\n",
              "  {'n_estimators': 238},\n",
              "  {'n_estimators': 249},\n",
              "  {'n_estimators': 259},\n",
              "  {'n_estimators': 269},\n",
              "  {'n_estimators': 280},\n",
              "  {'n_estimators': 290},\n",
              "  {'n_estimators': 301}],\n",
              " 'split0_test_score': array([-0.53191489, -0.4622824 , -0.45896657, -0.45212766, -0.44934144,\n",
              "        -0.43821604, -0.44343127, -0.44418537, -0.4403999 , -0.43956541,\n",
              "        -0.44230769, -0.44214259, -0.44170213, -0.44113475, -0.44108584,\n",
              "        -0.44244408, -0.44424507, -0.44136847, -0.44225737, -0.44022033,\n",
              "        -0.44115531, -0.44212376, -0.44298246, -0.44242804, -0.44552679,\n",
              "        -0.44491908, -0.44293285, -0.44399696, -0.44497432, -0.44058811]),\n",
              " 'split1_test_score': array([-0.36170213, -0.39071567, -0.44174265, -0.45678191, -0.44478217,\n",
              "        -0.42839607, -0.4224924 , -0.42057709, -0.42168675, -0.42530557,\n",
              "        -0.42266776, -0.42310564, -0.42178723, -0.4250591 , -0.42362436,\n",
              "        -0.42539553, -0.42348116, -0.42444391, -0.42632837, -0.42628794,\n",
              "        -0.42789598, -0.42767909, -0.43038447, -0.43071697, -0.4333077 ,\n",
              "        -0.43325392, -0.43423238, -0.4362462 , -0.43639032, -0.4391037 ]),\n",
              " 'split2_test_score': array([-0.46808511, -0.41972921, -0.4154002 , -0.43218085, -0.41134752,\n",
              "        -0.41448445, -0.41303614, -0.40046634, -0.39912843, -0.40153916,\n",
              "        -0.4056874 , -0.40742814, -0.41293617, -0.41560284, -0.41438004,\n",
              "        -0.41721222, -0.42040502, -0.41888298, -0.42200478, -0.42077978,\n",
              "        -0.42388735, -0.42533672, -0.42693169, -0.42544252, -0.42587371,\n",
              "        -0.42495687, -0.42608558, -0.42515198, -0.42523844, -0.42114936]),\n",
              " 'mean_test_score': array([-0.45390071, -0.42424242, -0.43870314, -0.44703014, -0.43515704,\n",
              "        -0.42703219, -0.42631994, -0.42174293, -0.42040502, -0.42213671,\n",
              "        -0.42355428, -0.42422546, -0.42547518, -0.42726556, -0.42636341,\n",
              "        -0.42835061, -0.42937708, -0.42823179, -0.43019684, -0.42909601,\n",
              "        -0.43097955, -0.43171319, -0.43343287, -0.43286251, -0.43490273,\n",
              "        -0.43437663, -0.43441694, -0.43513171, -0.43553436, -0.43361372]),\n",
              " 'std_test_score': array([0.07020918, 0.02939077, 0.01791528, 0.01067057, 0.01693845,\n",
              "        0.00973626, 0.01270049, 0.01786725, 0.01687336, 0.01568503,\n",
              "        0.01496331, 0.01419422, 0.01202971, 0.01053948, 0.01107329,\n",
              "        0.01051066, 0.01058799, 0.00956244, 0.00870883, 0.00818118,\n",
              "        0.00737911, 0.00742323, 0.00689813, 0.00709833, 0.00810222,\n",
              "        0.00818811, 0.00687911, 0.00773369, 0.00807984, 0.00883444]),\n",
              " 'rank_test_score': array([30,  6, 28, 29, 26, 10,  8,  2,  1,  3,  4,  5,  7, 11,  9, 13, 15,\n",
              "        12, 16, 14, 17, 18, 20, 19, 24, 22, 23, 25, 27, 21], dtype=int32),\n",
              " 'split0_train_score': array([-0., -0., -0., -0., -0., -0., -0., -0., -0., -0., -0., -0., -0.,\n",
              "        -0., -0., -0., -0., -0., -0., -0., -0., -0., -0., -0., -0., -0.,\n",
              "        -0., -0., -0., -0.]),\n",
              " 'split1_train_score': array([-0., -0., -0., -0., -0., -0., -0., -0., -0., -0., -0., -0., -0.,\n",
              "        -0., -0., -0., -0., -0., -0., -0., -0., -0., -0., -0., -0., -0.,\n",
              "        -0., -0., -0., -0.]),\n",
              " 'split2_train_score': array([-0., -0., -0., -0., -0., -0., -0., -0., -0., -0., -0., -0., -0.,\n",
              "        -0., -0., -0., -0., -0., -0., -0., -0., -0., -0., -0., -0., -0.,\n",
              "        -0., -0., -0., -0.]),\n",
              " 'mean_train_score': array([0., 0., 0., 0., 0., 0., 0., 0., 0., 0., 0., 0., 0., 0., 0., 0., 0.,\n",
              "        0., 0., 0., 0., 0., 0., 0., 0., 0., 0., 0., 0., 0.]),\n",
              " 'std_train_score': array([0., 0., 0., 0., 0., 0., 0., 0., 0., 0., 0., 0., 0., 0., 0., 0., 0.,\n",
              "        0., 0., 0., 0., 0., 0., 0., 0., 0., 0., 0., 0., 0.])}"
            ]
          },
          "metadata": {},
          "execution_count": 65
        }
      ],
      "source": [
        "tree_grid_search.cv_results_"
      ]
    },
    {
      "cell_type": "code",
      "execution_count": 66,
      "metadata": {
        "collapsed": true,
        "id": "cN7LelF5XPvK"
      },
      "outputs": [],
      "source": [
        "def plot_results(model, param = 'n_estimators', name = 'Num Trees'):\n",
        "    param_name = 'param_%s' % param\n",
        "\n",
        "    # Extract information from the cross validation model\n",
        "    train_scores = model.cv_results_['mean_train_score']\n",
        "    test_scores = model.cv_results_['mean_test_score']\n",
        "    train_time = model.cv_results_['mean_fit_time']\n",
        "    param_values = list(model.cv_results_[param_name])\n",
        "\n",
        "    # Plot the scores over the parameter\n",
        "    plt.subplots(1, 2, figsize=(10, 6))\n",
        "    plt.subplot(121)\n",
        "    plt.plot(param_values, train_scores, 'bo-', label = 'train')\n",
        "    plt.plot(param_values, test_scores, 'go-', label = 'test')\n",
        "    plt.ylim(ymin = -10, ymax = 0)\n",
        "    plt.legend()\n",
        "    plt.xlabel(name)\n",
        "    plt.ylabel('Neg Mean Absolute Error')\n",
        "    plt.title('Score vs %s' % name)\n",
        "\n",
        "    plt.subplot(122)\n",
        "    plt.plot(param_values, train_time, 'ro-')\n",
        "    plt.ylim(ymin = 0.0, ymax = 2.0)\n",
        "    plt.xlabel(name)\n",
        "    plt.ylabel('Train Time (sec)')\n",
        "    plt.title('Training Time vs %s' % name)\n",
        "\n",
        "\n",
        "    plt.tight_layout(pad = 4)"
      ]
    },
    {
      "cell_type": "code",
      "execution_count": 67,
      "metadata": {
        "colab": {
          "base_uri": "https://localhost:8080/",
          "height": 340
        },
        "id": "b7m7vkQcXPvL",
        "outputId": "a0d5ced9-0dd7-4edf-b6c0-539b6ef803ef"
      },
      "outputs": [
        {
          "output_type": "display_data",
          "data": {
            "text/plain": [
              "<Figure size 1000x600 with 2 Axes>"
            ],
            "image/png": "[encoded data removed]"
          },
          "metadata": {}
        }
      ],
      "source": [
        "plot_results(tree_grid_search)"
      ]
    },
    {
      "cell_type": "markdown",
      "metadata": {
        "id": "hhFInxTtXPvL"
      },
      "source": [
        "### Number of Features at Each Split"
      ]
    },
    {
      "cell_type": "code",
      "execution_count": null,
      "metadata": {
        "id": "X3jsLAo7XPvL"
      },
      "outputs": [],
      "source": [
        "# Define a grid over only the maximum number of features\n",
        "feature_grid = {'max_features': list(range(1, train_features.shape[1] + 1))}"
      ]
    },
    {
      "cell_type": "code",
      "execution_count": null,
      "metadata": {
        "id": "ZRwqtAMBXPvM"
      },
      "outputs": [],
      "source": [
        "# Create the grid search and fit on the training data\n",
        "feature_grid_search = GridSearchCV(final_model, param_grid=feature_grid, cv = 3, n_jobs=-1, verbose= 2,\n",
        "                                  scoring = 'neg_mean_absolute_error')\n",
        "feature_grid_search.fit(train_features, train_labels);"
      ]
    },
    {
      "cell_type": "code",
      "execution_count": null,
      "metadata": {
        "id": "89GrcrGFXPvM"
      },
      "outputs": [],
      "source": [
        "plot_results(feature_grid_search, param='max_features', name = 'Max Features')"
      ]
    },
    {
      "cell_type": "markdown",
      "metadata": {
        "id": "8S0hX019XPvN"
      },
      "source": [
        "## Visualizing One Tree in the Forest\n",
        "\n",
        "My favorite part about the random forest in scikit-learn may be that you can actually look at any tree in the forest.\n",
        "I'll pick one tree and visualize it as an image."
      ]
    },
    {
      "cell_type": "code",
      "execution_count": null,
      "metadata": {
        "collapsed": true,
        "id": "-yyMk3JpXPvN"
      },
      "outputs": [],
      "source": [
        "# Use sklearn to export the tree\n",
        "from sklearn.tree import export_graphviz\n",
        "\n",
        "# Write the decision tree as a dot file\n",
        "visual_tree = final_model.estimators_[12]\n",
        "export_graphviz(visual_tree, out_file = 'images/best_tree.dot', feature_names = important_feature_names,\n",
        "                precision = 2, filled = True, rounded = True, max_depth = None)"
      ]
    },
    {
      "cell_type": "code",
      "execution_count": null,
      "metadata": {
        "id": "TDaTRby1XPvO",
        "outputId": "f869e9fc-3bb0-4de6-816d-0f512b262939"
      },
      "outputs": [
        {
          "data": {
            "text/plain": [
              "True"
            ]
          },
          "execution_count": 61,
          "metadata": {},
          "output_type": "execute_result"
        }
      ],
      "source": [
        "# Use pydot for converting to an image file\n",
        "import pydot\n",
        "\n",
        "# Import the dot file to a graph and then convert to a png\n",
        "(graph, ) = pydot.graph_from_dot_file('images/best_tree.dot')\n",
        "graph.write_png('images/best_tree.png')"
      ]
    },
    {
      "cell_type": "markdown",
      "metadata": {
        "id": "nK6OlBPzXPvO"
      },
      "source": [
        "![Best Tree](images/best_tree.png)"
      ]
    },
    {
      "cell_type": "code",
      "execution_count": null,
      "metadata": {
        "collapsed": true,
        "id": "x-gYma--XPvP"
      },
      "outputs": [],
      "source": []
    }
  ],
  "metadata": {
    "kernelspec": {
      "display_name": "Python 3",
      "language": "python",
      "name": "python3"
    },
    "language_info": {
      "codemirror_mode": {
        "name": "ipython",
        "version": 3
      },
      "file_extension": ".py",
      "mimetype": "text/x-python",
      "name": "python",
      "nbconvert_exporter": "python",
      "pygments_lexer": "ipython3",
      "version": "3.6.0"
    },
    "colab": {
      "provenance": [],
      "include_colab_link": true
    }
  },
  "nbformat": 4,
  "nbformat_minor": 0
}