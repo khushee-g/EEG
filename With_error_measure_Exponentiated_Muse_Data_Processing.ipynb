{
  "nbformat": 4,
  "nbformat_minor": 0,
  "metadata": {
    "colab": {
      "provenance": [],
      "authorship_tag": "ABX9TyM/a6Km6S5VC7fLSRaBcNsd",
      "include_colab_link": true
    },
    "kernelspec": {
      "name": "python3",
      "display_name": "Python 3"
    },
    "language_info": {
      "name": "python"
    }
  },
  "cells": [
    {
      "cell_type": "markdown",
      "metadata": {
        "id": "view-in-github",
        "colab_type": "text"
      },
      "source": [
        "<a href=\"https://colab.research.google.com/github/khushee-g/EEG/blob/main/With_error_measure_Exponentiated_Muse_Data_Processing.ipynb\" target=\"_parent\"><img src=\"https://colab.research.google.com/assets/colab-badge.svg\" alt=\"Open In Colab\"/></a>"
      ]
    },
    {
      "cell_type": "code",
      "source": [
        "import numpy as np # Linear algebra\n",
        "import pandas as pd\n",
        "# ModelLing\n",
        "from sklearn.ensemble import RandomForestClassifier\n",
        "from sklearn.metrics import accuracy_score, confusion_matrix, precision_score, recall_score, ConfusionMatrixDisplay\n",
        "from sklearn.model_selection import RandomizedSearchCV, train_test_split\n",
        "from scipy.stats import randint\n",
        "\n",
        "# Tree Visualisation\n",
        "from sklearn.tree import export_graphviz\n",
        "from IPython.display import Image\n",
        "from sklearn.tree import DecisionTreeClassifier # Import Decision Tree Classifier\n",
        "from sklearn.model_selection import train_test_split # Import train_test_split function\n",
        "from sklearn import metrics"
      ],
      "metadata": {
        "id": "fjTzf4JaRN4z"
      },
      "execution_count": null,
      "outputs": []
    },
    {
      "cell_type": "code",
      "execution_count": null,
      "metadata": {
        "colab": {
          "base_uri": "https://localhost:8080/"
        },
        "id": "vR96xsrbL5LV",
        "outputId": "e05b938d-7d40-4b85-b06a-28a39df8edab"
      },
      "outputs": [
        {
          "output_type": "stream",
          "name": "stdout",
          "text": [
            "13.365575864956632\n"
          ]
        },
        {
          "output_type": "stream",
          "name": "stderr",
          "text": [
            "<ipython-input-7-ed74ef2684ad>:5: DtypeWarning: Columns (39) have mixed types. Specify dtype option on import or set low_memory=False.\n",
            "  data = pd.read_csv('/content/mindMonitor_2024-11-15--21-52-00.csv')\n"
          ]
        }
      ],
      "source": [
        "#Delta AF7-AF8 coherence - corresponds to COH.A.delta.a.FP1.b.FP2\n",
        "\n",
        "from scipy import signal\n",
        "\n",
        "data = pd.read_csv('/content/mindMonitor_2024-11-15--21-52-00.csv')\n",
        "\n",
        "channel_1 = data['Delta_AF8'].values\n",
        "channel_2 = data['Delta_AF7'].values\n",
        "\n",
        "channel_1 = np.nan_to_num(channel_1, nan=np.nanmean(channel_1))\n",
        "channel_2 = np.nan_to_num(channel_2, nan=np.nanmean(channel_2))\n",
        "\n",
        "fs = 256\n",
        "f, Cxy = signal.coherence(channel_1, channel_2, fs=fs, nperseg=1024)  # fs is sampling frequency\n",
        "\n",
        "coherence_data = pd.DataFrame({'Frequency': f, 'Coherence DeltaAF7DeltaAF8': Cxy})\n",
        "\n",
        "coherence_AF8_AF7 = coherence_data['Coherence DeltaAF7DeltaAF8'].mean()\n",
        "coherence_AF8_AF7 *=100\n",
        "print(coherence_AF8_AF7)\n"
      ]
    },
    {
      "cell_type": "code",
      "source": [
        "#Delta AF8-TP9 coherence - corresponds to COH.A.delta.f.F4.h.T3\n",
        "\n",
        "\n",
        "\n",
        "from scipy import signal\n",
        "\n",
        "data = pd.read_csv('/content/mindMonitor_2024-11-15--21-52-00.csv')\n",
        "\n",
        "channel_1 = data['Delta_AF8'].values\n",
        "channel_2 = data['Delta_TP9'].values\n",
        "\n",
        "channel_1 = np.nan_to_num(channel_1, nan=np.nanmean(channel_1))\n",
        "channel_2 = np.nan_to_num(channel_2, nan=np.nanmean(channel_2))\n",
        "\n",
        "fs = 256\n",
        "f, Cxy = signal.coherence(channel_1, channel_2, fs=fs, nperseg=1024)  # fs is sampling frequency\n",
        "\n",
        "coherence_data = pd.DataFrame({'Frequency': f, 'Coherence DeltaAF8DeltaTP9': Cxy})\n",
        "\n",
        "coherence_AF8_TP9 = coherence_data['Coherence DeltaAF8DeltaTP9'].mean()\n",
        "coherence_AF8_TP9 *=100\n",
        "print(coherence_AF8_TP9)"
      ],
      "metadata": {
        "colab": {
          "base_uri": "https://localhost:8080/"
        },
        "id": "pcmpB3JWRtI1",
        "outputId": "7ca7caa0-e3b4-4b69-9870-a11c4fad036f"
      },
      "execution_count": null,
      "outputs": [
        {
          "output_type": "stream",
          "name": "stdout",
          "text": [
            "13.916182133081339\n"
          ]
        },
        {
          "output_type": "stream",
          "name": "stderr",
          "text": [
            "<ipython-input-6-c0e952f15780>:7: DtypeWarning: Columns (39) have mixed types. Specify dtype option on import or set low_memory=False.\n",
            "  data = pd.read_csv('/content/mindMonitor_2024-11-15--21-52-00.csv')\n"
          ]
        }
      ]
    },
    {
      "cell_type": "code",
      "source": [
        "risk = 0\n",
        "error_max = 0\n",
        "error_min = 0\n",
        "#coeff intercept + coeff channel val * (coherence*100)\n",
        "#e^x\n",
        "\n",
        "\n",
        "#COH.A.delta.a.FP1.b.FP2\n",
        "AF7_AF8 = 0.0246*(coherence_AF8_AF7) - 1.7527\n",
        "AF7_AF8 = np.exp(AF7_AF8)\n",
        "AF7_AF8 -=1\n",
        "risk += AF7_AF8\n",
        "\n",
        "AF7_AF8_error_max = AF7_AF8 + (coherence_AF8_AF7*(0.0246+0.008)+(0.629-1.7527))\n",
        "AF7_AF8_error_max = np.exp(AF7_AF8_error_max)\n",
        "AF7_AF8_error_max -=1\n",
        "error_max += AF7_AF8_error_max\n",
        "\n",
        "AF7_AF8_error_min = AF7_AF8 - (coherence_AF8_AF7*(0.0246+0.008)+(0.629-1.7527))\n",
        "AF7_AF8_error_min = np.exp(AF7_AF8_error_min)\n",
        "AF7_AF8_error_min -=1\n",
        "error_min += AF7_AF8_error_min\n",
        "\n",
        "\n",
        "\n",
        "#COH.A.delta.f.F4.h.T3\n",
        "AF8_TP9 = -0.0040*(coherence_AF8_TP9) + 0.1324\n",
        "AF8_TP9 = np.exp(AF8_TP9)\n",
        "AF8_TP9 -=1\n",
        "risk += AF8_TP9\n",
        "\n",
        "AF8_TP9_error_max = AF8_TP9 + (coherence_AF8_TP9*(-0.004+0.01)+(0.310+0.1324))\n",
        "AF8_TP9_error_max = np.exp(AF8_TP9_error_max)\n",
        "AF8_TP9_error_max -=1\n",
        "error_max += AF8_TP9_error_max\n",
        "\n",
        "AF8_TP9_error_min = AF8_TP9 - (coherence_AF8_TP9*(-0.004+0.01)+(0.310+0.1324))\n",
        "AF8_TP9_error_min = np.exp(AF8_TP9_error_min)\n",
        "AF8_TP9_error_min -=1\n",
        "error_max += AF8_TP9_error_min\n",
        "\n",
        "\n",
        "\n",
        "#AB.C.alpha.q.T6\n",
        "TP10 = 0.0097*data['Delta_TP10'].mean() - 0.1531\n",
        "TP10 = np.exp(TP10)\n",
        "TP10 -=1\n",
        "risk += TP10\n",
        "TP10_error_max = TP10 + ((0.0097+0.007)*data['Delta_TP10'].mean() - (0.188+0.1531))\n",
        "TP10_error_max = np.exp(TP10_error_max)\n",
        "TP10_error_max -=1\n",
        "error_max += TP10_error_max\n",
        "\n",
        "TP10_error_min = TP10 - ((0.0097+0.007)*data['Delta_TP10'].mean() - (0.188+0.1531))\n",
        "TP10_error_min = np.exp(TP10_error_min)\n",
        "TP10_error_min -=1\n",
        "error_max += TP10_error_min\n",
        "\n",
        "\n",
        "\n",
        "#AB.B.theta.c.F7\n",
        "AF7 = -0.0152 *data['Theta_AF7'].mean() + 0.2759\n",
        "AF7 = np.exp(AF7)\n",
        "AF7 -=1\n",
        "risk += AF7\n",
        "\n",
        "AF7_error_max = AF7 + ((-0.0152+0.382)*data['Delta_TP10'].mean() + (0.2759+0.024))\n",
        "AF7_error_max = np.exp(AF7_error_max)\n",
        "AF7_error_max -=1\n",
        "error_max += AF7_error_max\n",
        "\n",
        "AF7_error_min = AF7 - ((-0.0152+0.382)*data['Delta_TP10'].mean() + (0.2759+0.024))\n",
        "AF7_error_min = np.exp(AF7_error_min)\n",
        "AF7_error_min -=1\n",
        "error_max += AF7_error_min\n",
        "\n",
        "\n",
        "print(\"Error Min: \" + str(error_min))\n",
        "print(\"Error Max: \" + str(error_max))\n",
        "print(risk)\n",
        "\n",
        "if risk > 0:\n",
        "  prediction_val = (risk-1)*100\n",
        "  print(\"You are \" + str(prediction_val) + \"% more likely to have behavioral disorder\")\n",
        "\n",
        "else:\n",
        "  prediction_val = (1-(risk*-1))*100\n",
        "  print(\"You are \" + str(prediction_val) + \" % less likely to have behavioral disorder\")\n",
        "\n",
        "\n"
      ],
      "metadata": {
        "colab": {
          "base_uri": "https://localhost:8080/"
        },
        "id": "cjGg_T81SHTn",
        "outputId": "f701338c-fa93-4afe-e302-bdcd8337ea19"
      },
      "execution_count": null,
      "outputs": [
        {
          "output_type": "stream",
          "name": "stdout",
          "text": [
            "Error Min: -0.06876745258049421\n",
            "Error Max: 0.6535867950929523\n",
            "-0.5020968357564883\n",
            "You are 49.79031642435117 % less likely to have behavioral disorder\n"
          ]
        }
      ]
    }
  ]
}